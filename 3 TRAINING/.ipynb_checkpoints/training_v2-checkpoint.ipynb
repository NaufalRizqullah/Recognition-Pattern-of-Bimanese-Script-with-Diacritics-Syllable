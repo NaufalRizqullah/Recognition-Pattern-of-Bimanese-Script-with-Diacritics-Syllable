{
 "cells": [
  {
   "cell_type": "code",
   "execution_count": 1,
   "metadata": {},
   "outputs": [],
   "source": [
    "import numpy as np\n",
    "import pandas as pd\n",
    "import matplotlib.pyplot as plt\n",
    "from sklearn.model_selection import train_test_split, KFold\n",
    "from sklearn.preprocessing import LabelEncoder, StandardScaler, MinMaxScaler, RobustScaler\n",
    "from sklearn.metrics import accuracy_score, classification_report\n",
    "from sklearn.model_selection import train_test_split\n",
    "from sklearn.metrics import ConfusionMatrixDisplay, plot_confusion_matrix, confusion_matrix, accuracy_score, recall_score, precision_score, classification_report\n",
    "import seaborn as sns\n",
    "import tensorflow as tf\n",
    "from tensorflow.keras import layers\n",
    "from tensorflow.keras.models import Sequential\n",
    "from tensorflow.keras.layers import Dense, Dropout\n",
    "from tensorflow.keras.utils import normalize, to_categorical\n",
    "from tensorflow.keras.optimizers import RMSprop, SGD\n",
    "import os\n"
   ]
  },
  {
   "cell_type": "code",
   "execution_count": 2,
   "metadata": {},
   "outputs": [
    {
     "name": "stdout",
     "output_type": "stream",
     "text": [
      "Num GPUs Available: 1, and its: [PhysicalDevice(name='/physical_device:GPU:0', device_type='GPU')]\n"
     ]
    }
   ],
   "source": [
    "physical_devices = tf.config.experimental.list_physical_devices('GPU')\n",
    "print(\"Num GPUs Available: {}, and its: {}\".format(len(physical_devices), physical_devices) )\n",
    "tf.config.experimental.set_memory_growth(physical_devices[0], True)"
   ]
  },
  {
   "cell_type": "markdown",
   "metadata": {},
   "source": [
    "# Load Data"
   ]
  },
  {
   "cell_type": "code",
   "execution_count": 3,
   "metadata": {},
   "outputs": [],
   "source": [
    "data = pd.read_csv('./9000_feature.csv')"
   ]
  },
  {
   "cell_type": "markdown",
   "metadata": {},
   "source": [
    "# Preprocessing Data"
   ]
  },
  {
   "cell_type": "code",
   "execution_count": 4,
   "metadata": {},
   "outputs": [],
   "source": [
    "X = data.drop(columns=['label'])\n",
    "y = data['label'].values"
   ]
  },
  {
   "cell_type": "code",
   "execution_count": 5,
   "metadata": {},
   "outputs": [],
   "source": [
    "# robust scaler\n",
    "scalerRobust = RobustScaler()\n",
    "X = scalerRobust.fit_transform(X)"
   ]
  },
  {
   "cell_type": "code",
   "execution_count": 6,
   "metadata": {},
   "outputs": [],
   "source": [
    "# Encode to int label\n",
    "labelencoder = LabelEncoder()\n",
    "y = labelencoder.fit_transform(y)"
   ]
  },
  {
   "cell_type": "code",
   "execution_count": 7,
   "metadata": {},
   "outputs": [],
   "source": [
    "# Split dataset\n",
    "X_train, X_test, y_train, y_test = train_test_split(X, y, test_size = 0.2, random_state = 47, stratify=y)"
   ]
  },
  {
   "cell_type": "code",
   "execution_count": 8,
   "metadata": {},
   "outputs": [],
   "source": [
    "# To categorical Label\n",
    "y_train = to_categorical(y_train)\n",
    "y_test = to_categorical(y_test)"
   ]
  },
  {
   "cell_type": "code",
   "execution_count": 9,
   "metadata": {},
   "outputs": [
    {
     "name": "stdout",
     "output_type": "stream",
     "text": [
      "X_train shape: (7200, 7)\n",
      "y_train shape: (7200, 90)\n",
      "X_test shape: (1800, 7)\n",
      "y_test shape: (1800, 90)\n"
     ]
    }
   ],
   "source": [
    "print(\"X_train shape: {}\".format(X_train.shape))\n",
    "print(\"y_train shape: {}\".format(y_train.shape))\n",
    "print(\"X_test shape: {}\".format(X_test.shape))\n",
    "print(\"y_test shape: {}\".format(y_test.shape))"
   ]
  },
  {
   "cell_type": "markdown",
   "metadata": {},
   "source": [
    "# Building Model"
   ]
  },
  {
   "cell_type": "code",
   "execution_count": 10,
   "metadata": {},
   "outputs": [],
   "source": [
    "adam = tf.keras.optimizers.Adam(learning_rate=0.01)"
   ]
  },
  {
   "cell_type": "code",
   "execution_count": 11,
   "metadata": {},
   "outputs": [],
   "source": [
    "# function create model untuk encoded label [0,1,0,...] (pakai CategoricalCrossentropy)\n",
    "def create_model(opt):\n",
    "    model = Sequential()\n",
    "    model.add(Dense(128, activation='sigmoid', input_dim=X_train.shape[1], name=\"hidden_layer_1\"))\n",
    "    model.add(Dense(256, activation='sigmoid', input_dim=X_train.shape[1], name=\"hidden_layer_2\"))\n",
    "    model.add(Dense(y_train.shape[1], activation='softmax', name='output'))\n",
    "    \n",
    "    model.compile(\n",
    "    loss = tf.keras.losses.CategoricalCrossentropy(),\n",
    "    optimizer = opt,\n",
    "    metrics = ['accuracy']\n",
    "    )\n",
    "    \n",
    "    return model"
   ]
  },
  {
   "cell_type": "code",
   "execution_count": 12,
   "metadata": {},
   "outputs": [],
   "source": [
    "# Using kFold cross validation\n",
    "n_split = 10\n",
    "\n",
    "def kfold(n_split):\n",
    "    for train_index, test_index in KFold(n_split).split(X_train):\n",
    "        xtrain, xtest= X_train[train_index], X_train[test_index]\n",
    "        ytrain, ytest= y_train[train_index], y_train[test_index]\n",
    "\n",
    "        model = create_model(adam)\n",
    "        model.fit(xtrain, ytrain, batch_size=32, epochs=1000, verbose=0)\n",
    "\n",
    "        print('Model evaluation ',model.evaluate(xtest, ytest))"
   ]
  },
  {
   "cell_type": "code",
   "execution_count": 13,
   "metadata": {},
   "outputs": [],
   "source": [
    "# kfold(10)"
   ]
  },
  {
   "cell_type": "code",
   "execution_count": null,
   "metadata": {},
   "outputs": [],
   "source": [
    "model = create_model(adam)\n",
    "hist = model.fit(X_train, y_train, batch_size=32, epochs=500, verbose=2)"
   ]
  },
  {
   "cell_type": "code",
   "execution_count": 15,
   "metadata": {},
   "outputs": [],
   "source": [
    "# Model save\n",
    "# model.save('model/training_v2')\n",
    "\n",
    "# Load Model\n",
    "\n",
    "# savedModel = tf.keras.models.load_model('model/training_v2')\n",
    "# savedModel.summary()\n",
    "\n",
    "\n",
    "\n",
    "# savedModel.evaluate(X_test, y_test)\n",
    "\n",
    "# y_pred = savedModel.predict(X_test)"
   ]
  },
  {
   "cell_type": "code",
   "execution_count": 16,
   "metadata": {},
   "outputs": [
    {
     "name": "stdout",
     "output_type": "stream",
     "text": [
      "57/57 [==============================] - 1s 9ms/step - loss: 3.7531 - accuracy: 0.6861\n"
     ]
    },
    {
     "data": {
      "text/plain": [
       "[3.7530739307403564, 0.6861110925674438]"
      ]
     },
     "execution_count": 16,
     "metadata": {},
     "output_type": "execute_result"
    }
   ],
   "source": [
    "model.evaluate(X_test, y_test)"
   ]
  },
  {
   "cell_type": "code",
   "execution_count": 17,
   "metadata": {},
   "outputs": [],
   "source": [
    "y_pred = model.predict(X_test)"
   ]
  },
  {
   "cell_type": "code",
   "execution_count": 18,
   "metadata": {},
   "outputs": [],
   "source": [
    "def classification_report_categorical(y_test, y_pred):\n",
    "    matrix = classification_report(y_test, y_pred)\n",
    "    print('Classification report : \\n',matrix)\n",
    "    result_dict = classification_report(y_test, y_pred, output_dict=True)\n",
    "    return result_dict"
   ]
  },
  {
   "cell_type": "code",
   "execution_count": 19,
   "metadata": {},
   "outputs": [],
   "source": [
    "max_ytest = np.argmax(y_test, axis=1)\n",
    "max_ypred = np.argmax(y_pred, axis=1)\n",
    "\n",
    "# how to inverted back\n",
    "y_test_inverted = labelencoder.inverse_transform(max_ytest)\n",
    "y_pred_inverted = labelencoder.inverse_transform(max_ypred)"
   ]
  },
  {
   "cell_type": "code",
   "execution_count": 20,
   "metadata": {},
   "outputs": [
    {
     "name": "stdout",
     "output_type": "stream",
     "text": [
      "Classification report : \n",
      "               precision    recall  f1-score   support\n",
      "\n",
      "           a       0.81      0.65      0.72        20\n",
      "          ba       0.81      0.85      0.83        20\n",
      "          be       0.65      0.65      0.65        20\n",
      "          bi       0.68      0.65      0.67        20\n",
      "          bo       0.47      0.40      0.43        20\n",
      "          bu       0.75      0.75      0.75        20\n",
      "          ca       0.62      0.40      0.48        20\n",
      "          ce       0.61      0.70      0.65        20\n",
      "          ci       0.69      0.55      0.61        20\n",
      "          co       0.60      0.45      0.51        20\n",
      "          cu       0.88      0.75      0.81        20\n",
      "          da       0.63      0.60      0.62        20\n",
      "          de       0.93      0.65      0.76        20\n",
      "          di       0.75      0.75      0.75        20\n",
      "          do       0.81      0.65      0.72        20\n",
      "          du       0.71      0.50      0.59        20\n",
      "           e       0.72      0.65      0.68        20\n",
      "          fa       0.74      0.70      0.72        20\n",
      "          fe       0.68      0.75      0.71        20\n",
      "          fi       0.55      0.60      0.57        20\n",
      "          fo       0.53      0.45      0.49        20\n",
      "          fu       0.75      0.75      0.75        20\n",
      "          ga       0.65      0.55      0.59        20\n",
      "          ge       0.69      0.55      0.61        20\n",
      "          gi       0.70      0.70      0.70        20\n",
      "          go       0.78      0.70      0.74        20\n",
      "          gu       0.52      0.65      0.58        20\n",
      "          ha       0.45      0.65      0.53        20\n",
      "          he       0.67      0.60      0.63        20\n",
      "          hi       0.70      0.70      0.70        20\n",
      "          ho       0.62      1.00      0.77        20\n",
      "          hu       0.81      0.65      0.72        20\n",
      "           i       0.65      0.75      0.70        20\n",
      "          ja       0.62      0.90      0.73        20\n",
      "          je       0.68      0.95      0.79        20\n",
      "          ji       0.82      0.90      0.86        20\n",
      "          jo       0.61      0.55      0.58        20\n",
      "          ju       0.68      0.75      0.71        20\n",
      "          ka       0.78      0.70      0.74        20\n",
      "          ke       0.65      0.75      0.70        20\n",
      "          ki       0.93      0.70      0.80        20\n",
      "          ko       0.75      0.60      0.67        20\n",
      "          ku       0.81      0.85      0.83        20\n",
      "          la       0.65      0.65      0.65        20\n",
      "          le       0.50      0.50      0.50        20\n",
      "          li       0.80      0.80      0.80        20\n",
      "          lo       0.59      0.80      0.68        20\n",
      "          lu       0.93      0.65      0.76        20\n",
      "          ma       0.69      0.55      0.61        20\n",
      "          me       0.52      0.65      0.58        20\n",
      "          mi       0.75      0.90      0.82        20\n",
      "          mo       0.58      0.75      0.65        20\n",
      "          mu       0.89      0.85      0.87        20\n",
      "          na       0.79      0.75      0.77        20\n",
      "          ne       0.84      0.80      0.82        20\n",
      "          ni       0.78      0.90      0.84        20\n",
      "          no       0.82      0.70      0.76        20\n",
      "          nu       0.94      0.85      0.89        20\n",
      "           o       0.58      0.55      0.56        20\n",
      "          pa       0.57      0.60      0.59        20\n",
      "          pe       0.76      0.65      0.70        20\n",
      "          pi       0.68      0.75      0.71        20\n",
      "          po       0.67      0.70      0.68        20\n",
      "          pu       0.68      0.65      0.67        20\n",
      "          ra       0.83      0.75      0.79        20\n",
      "          re       0.62      0.65      0.63        20\n",
      "          ri       0.65      0.65      0.65        20\n",
      "          ro       0.75      0.90      0.82        20\n",
      "          ru       0.82      0.90      0.86        20\n",
      "          sa       0.60      0.30      0.40        20\n",
      "          se       0.77      0.50      0.61        20\n",
      "          si       0.65      0.75      0.70        20\n",
      "          so       0.64      0.45      0.53        20\n",
      "          su       0.48      0.60      0.53        20\n",
      "          ta       0.70      0.70      0.70        20\n",
      "          te       0.75      0.45      0.56        20\n",
      "          ti       1.00      0.85      0.92        20\n",
      "          to       0.57      0.85      0.68        20\n",
      "          tu       0.58      0.95      0.72        20\n",
      "           u       0.68      0.65      0.67        20\n",
      "          wa       0.47      0.45      0.46        20\n",
      "          we       0.67      0.80      0.73        20\n",
      "          wi       0.68      0.65      0.67        20\n",
      "          wo       0.77      0.50      0.61        20\n",
      "          wu       0.54      0.75      0.63        20\n",
      "          ya       0.85      0.85      0.85        20\n",
      "          ye       0.62      0.80      0.70        20\n",
      "          yi       0.71      0.60      0.65        20\n",
      "          yo       0.70      0.70      0.70        20\n",
      "          yu       0.65      0.75      0.70        20\n",
      "\n",
      "    accuracy                           0.69      1800\n",
      "   macro avg       0.70      0.69      0.68      1800\n",
      "weighted avg       0.70      0.69      0.68      1800\n",
      "\n"
     ]
    }
   ],
   "source": [
    "report_data = classification_report_categorical(y_test_inverted, y_pred_inverted)"
   ]
  },
  {
   "cell_type": "code",
   "execution_count": 21,
   "metadata": {},
   "outputs": [],
   "source": [
    "# df = pd.DataFrame(report_data).T\n",
    "# df.to_excel('no_augment.xlsx')"
   ]
  },
  {
   "cell_type": "code",
   "execution_count": 22,
   "metadata": {},
   "outputs": [],
   "source": [
    "# Confusion Matrix\n",
    "cm = confusion_matrix(y_test_inverted, y_pred_inverted, labels=labelencoder.classes_) \n",
    "# labels digunakan untuk order confusion matrix berdasarkan input labels yang diberikan, jadi untuk plotnya nanti bisa di ketahui \n",
    "# https://stackoverflow.com/questions/63653161/how-to-correctly-label-confusion-matrix\n",
    "\n",
    "# perhitungan confusion matrix multiclass\n",
    "# https://www.analyticsvidhya.com/blog/2021/06/confusion-matrix-for-multi-class-classification/"
   ]
  },
  {
   "cell_type": "code",
   "execution_count": 23,
   "metadata": {},
   "outputs": [],
   "source": [
    "# label, pakai cara remove duplicate, tetapi order nya tetap\n",
    "# xlabel = list(dict.fromkeys(y_test_inverted))\n",
    "# ylabel = list(dict.fromkeys(y_pred_inverted))\n",
    "\n",
    "# confusion matrix ordered by y_true(in this case y_test)\n",
    "# https://stackoverflow.com/questions/63649660/how-to-know-scikit-learn-confusion-matrixs-label-order-and-change-it"
   ]
  },
  {
   "cell_type": "code",
   "execution_count": 24,
   "metadata": {},
   "outputs": [],
   "source": [
    "# fig, ax = plt.subplots(figsize=(30,30))\n",
    "# plot = sns.heatmap(cm, annot=True, ax=ax, xticklabels=labelencoder.classes_, yticklabels=labelencoder.classes_, cmap=\"Blues\")\n",
    "\n",
    "# # title\n",
    "# plt.title('Confusion Matrix', fontsize = 20) # title with fontsize 20\n",
    "# plt.xlabel('Predicted Values', fontsize = 15) # x-axis label with fontsize 15\n",
    "# plt.ylabel('Actual Values', fontsize = 15) # y-axis label with fontsize 15"
   ]
  },
  {
   "cell_type": "code",
   "execution_count": 25,
   "metadata": {},
   "outputs": [],
   "source": [
    "# # save image\n",
    "# figure = plot.get_figure()  \n",
    "\n",
    "# # bg white\n",
    "# figure.set_facecolor(\"white\")\n",
    "\n",
    "# figure.savefig('no_augment.png', dpi=400, facecolor=figure.get_facecolor())"
   ]
  },
  {
   "cell_type": "code",
   "execution_count": null,
   "metadata": {},
   "outputs": [],
   "source": []
  }
 ],
 "metadata": {
  "kernelspec": {
   "display_name": "Python 3",
   "language": "python",
   "name": "python3"
  },
  "language_info": {
   "codemirror_mode": {
    "name": "ipython",
    "version": 3
   },
   "file_extension": ".py",
   "mimetype": "text/x-python",
   "name": "python",
   "nbconvert_exporter": "python",
   "pygments_lexer": "ipython3",
   "version": "3.8.8"
  }
 },
 "nbformat": 4,
 "nbformat_minor": 4
}
