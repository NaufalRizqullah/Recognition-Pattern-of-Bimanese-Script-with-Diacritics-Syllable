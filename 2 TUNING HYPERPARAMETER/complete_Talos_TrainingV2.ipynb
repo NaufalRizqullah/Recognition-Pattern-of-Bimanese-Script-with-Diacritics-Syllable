{
 "cells": [
  {
   "cell_type": "markdown",
   "id": "c147e5a7-6eeb-41d9-b3d5-bab4c014fb06",
   "metadata": {
    "tags": []
   },
   "source": [
    "# Library"
   ]
  },
  {
   "cell_type": "code",
   "execution_count": 1,
   "id": "53f94a4f-59f8-41f3-8a98-b11e6af90a17",
   "metadata": {
    "tags": []
   },
   "outputs": [],
   "source": [
    "import talos\n",
    "import numpy as np\n",
    "import pandas as pd\n",
    "import matplotlib.pyplot as plt\n",
    "from sklearn.model_selection import train_test_split, KFold\n",
    "from sklearn.preprocessing import LabelEncoder, StandardScaler, MinMaxScaler, RobustScaler\n",
    "from sklearn.metrics import accuracy_score, classification_report\n",
    "from sklearn.model_selection import train_test_split\n",
    "from sklearn.metrics import confusion_matrix, accuracy_score, recall_score, precision_score, classification_report\n",
    "import seaborn as sns\n",
    "import tensorflow as tf\n",
    "from tensorflow.keras import layers\n",
    "from tensorflow.keras.models import Sequential\n",
    "from tensorflow.keras.layers import Input,Dense, Dropout\n",
    "from tensorflow.keras.utils import normalize, to_categorical\n",
    "from tensorflow.keras.optimizers import RMSprop, SGD\n",
    "from tensorflow.keras.callbacks import ModelCheckpoint\n",
    "import os"
   ]
  },
  {
   "cell_type": "markdown",
   "id": "48c3ab0d-a17b-417d-b710-71e120402b61",
   "metadata": {
    "tags": []
   },
   "source": [
    "# Function"
   ]
  },
  {
   "cell_type": "code",
   "execution_count": 2,
   "id": "1856530d-d56c-4387-8542-61a5ab12ca2c",
   "metadata": {},
   "outputs": [],
   "source": [
    "# add input parameters to the function\n",
    "def h1(x_train, y_train, x_val, y_val, params):\n",
    "    \n",
    "    model = Sequential()\n",
    "    model.add(Input(shape=(x_train.shape[1],))) # input\n",
    "    \n",
    "    model.add(Dense(params['first_neuron'], activation='relu')) # hidden layer 1\n",
    "    # model.add(Dense(params['second_neuron'], activation='sigmoid')) # hidden layer 2\n",
    "    # model.add(Dense(params['third_neuron'], activation='sigmoid')) # hidden layer 3\n",
    "    \n",
    "    model.add(Dense(y_train.shape[1], activation='softmax')) # output\n",
    "    \n",
    "    adam = tf.keras.optimizers.Adam(learning_rate=params['lr'])\n",
    "    \n",
    "    cbModelHL1 = ModelCheckpoint('./model/HL1', save_best_only=True, monitor=\"val_loss\")\n",
    "    \n",
    "    model.compile(loss='categorical_crossentropy', optimizer=adam, metrics=['accuracy'])\n",
    "    \n",
    "    out = model.fit(x_train,\n",
    "                    y_train,\n",
    "                    validation_data=[x_val, y_val],\n",
    "                    epochs=params['epochs'],\n",
    "                    batch_size=32,\n",
    "                    callbacks=[cbModelHL1],\n",
    "                    verbose=0)\n",
    "    \n",
    "    # modify the output model\n",
    "    return out, model"
   ]
  },
  {
   "cell_type": "code",
   "execution_count": 3,
   "id": "324013ce-c9ce-452b-9723-0d000d47780a",
   "metadata": {},
   "outputs": [],
   "source": [
    "# add input parameters to the function\n",
    "def h2(x_train, y_train, x_val, y_val, params):\n",
    "    \n",
    "    model = Sequential()\n",
    "    model.add(Input(shape=(x_train.shape[1],))) # input\n",
    "    \n",
    "    model.add(Dense(params['first_neuron'], activation='relu')) # hidden layer 1\n",
    "    model.add(Dense(params['second_neuron'], activation='relu')) # hidden layer 2\n",
    "    # model.add(Dense(params['third_neuron'], activation='sigmoid')) # hidden layer 3\n",
    "    \n",
    "    model.add(Dense(y_train.shape[1], activation='softmax')) # output\n",
    "    \n",
    "    adam = tf.keras.optimizers.Adam(learning_rate=params['lr'])\n",
    "    \n",
    "    model.compile(loss='categorical_crossentropy', optimizer=adam, metrics=['accuracy'])\n",
    "    \n",
    "    cbModelHL2 = ModelCheckpoint('./model/HL2', save_best_only=True, monitor=\"val_loss\")\n",
    "    \n",
    "    out = model.fit(x_train,\n",
    "                    y_train,\n",
    "                    validation_data=[x_val, y_val],\n",
    "                    epochs=params['epochs'],\n",
    "                    batch_size=32,\n",
    "                    callbacks=[cbModelHL2],\n",
    "                    verbose=0)\n",
    "    \n",
    "    # modify the output model\n",
    "    return out, model"
   ]
  },
  {
   "cell_type": "code",
   "execution_count": 4,
   "id": "1fd3e470-7163-4121-8922-8fb5d93f8945",
   "metadata": {},
   "outputs": [],
   "source": [
    "# add input parameters to the function\n",
    "def h3(x_train, y_train, x_val, y_val, params):\n",
    "    \n",
    "    model = Sequential()\n",
    "    model.add(Input(shape=(x_train.shape[1],))) # input\n",
    "    \n",
    "    model.add(Dense(params['first_neuron'], activation='relu')) # hidden layer 1\n",
    "    model.add(Dense(params['second_neuron'], activation='relu')) # hidden layer 2\n",
    "    model.add(Dense(params['third_neuron'], activation='relu')) # hidden layer 3\n",
    "    \n",
    "    model.add(Dense(y_train.shape[1], activation='softmax')) # output\n",
    "    \n",
    "    adam = tf.keras.optimizers.Adam(learning_rate=params['lr'])\n",
    "    \n",
    "    model.compile(loss='categorical_crossentropy', optimizer=adam, metrics=['accuracy'])\n",
    "    \n",
    "    cbModelHL3 = ModelCheckpoint('./model/HL3', save_best_only=True, monitor=\"val_loss\")\n",
    "    \n",
    "    out = model.fit(x_train,\n",
    "                    y_train,\n",
    "                    validation_data=[x_val, y_val],\n",
    "                    epochs=params['epochs'],\n",
    "                    batch_size=32,\n",
    "                    callbacks=[cbModelHL3],\n",
    "                    verbose=0)\n",
    "    \n",
    "    # modify the output model\n",
    "    return out, model"
   ]
  },
  {
   "cell_type": "code",
   "execution_count": 5,
   "id": "88475630-f547-4312-9f4f-3388ab8d6158",
   "metadata": {},
   "outputs": [],
   "source": [
    "p1 = {\n",
    "    'first_neuron': [64, 128, 256],\n",
    "    'lr': [0.01, 0.05, 0.1],\n",
    "    'epochs': [500, 1000, 1500]\n",
    "}"
   ]
  },
  {
   "cell_type": "code",
   "execution_count": 6,
   "id": "e0edc5bf-058c-43fb-b2e5-8cb5d2d24dd1",
   "metadata": {},
   "outputs": [],
   "source": [
    "p2 = {\n",
    "    'first_neuron': [64, 128, 256],\n",
    "    'second_neuron': [64, 128, 256],\n",
    "    'lr': [0.01, 0.05, 0.1],\n",
    "    'epochs': [500, 1000, 1500]\n",
    "}"
   ]
  },
  {
   "cell_type": "code",
   "execution_count": 7,
   "id": "12684461-5c6c-41b2-aaaf-c934afe874a9",
   "metadata": {},
   "outputs": [],
   "source": [
    "p3 = {\n",
    "    'first_neuron': [64, 128, 256],\n",
    "    'second_neuron': [64, 128, 256],\n",
    "    'third_neuron': [64, 128, 256],\n",
    "    'lr': [0.01, 0.05, 0.1],\n",
    "    'epochs': [500, 1000, 1500]\n",
    "}"
   ]
  },
  {
   "cell_type": "markdown",
   "id": "96c6b470-7a29-415f-b476-54372d9e5cf2",
   "metadata": {
    "tags": []
   },
   "source": [
    "# Load Data"
   ]
  },
  {
   "cell_type": "code",
   "execution_count": 8,
   "id": "ba5c9769-2ac2-4abb-9868-a414392a3c25",
   "metadata": {},
   "outputs": [],
   "source": [
    "data = pd.read_csv('./13-01-2022_05-47-39_feature.csv')"
   ]
  },
  {
   "cell_type": "code",
   "execution_count": 9,
   "id": "07de2d09-09fa-4ac2-9700-2e239934dce3",
   "metadata": {},
   "outputs": [],
   "source": [
    "X = data.drop(columns=['label'])\n",
    "y = data['label'].values"
   ]
  },
  {
   "cell_type": "code",
   "execution_count": 10,
   "id": "f5d02e85-1173-49c6-8051-fdc0dcfcdcb2",
   "metadata": {},
   "outputs": [],
   "source": [
    "# robust scaler\n",
    "scalerRobust = RobustScaler()\n",
    "X = scalerRobust.fit_transform(X)"
   ]
  },
  {
   "cell_type": "code",
   "execution_count": 11,
   "id": "8f03b3bb-989c-42eb-b5ed-fd72cf85fa99",
   "metadata": {},
   "outputs": [],
   "source": [
    "# Encode to int label\n",
    "labelencoder = LabelEncoder()\n",
    "y = labelencoder.fit_transform(y)\n",
    "\n",
    "# To categorical Label\n",
    "y = to_categorical(y)"
   ]
  },
  {
   "cell_type": "markdown",
   "id": "2b32a40b-8a78-4e17-a137-199e2342e566",
   "metadata": {},
   "source": [
    "# Talos Training"
   ]
  },
  {
   "cell_type": "code",
   "execution_count": 12,
   "id": "9d9ce04b-e608-41f0-ac24-3a6bbf8470ba",
   "metadata": {},
   "outputs": [
    {
     "name": "stderr",
     "output_type": "stream",
     "text": [
      "  0%|                                                                                           | 0/27 [00:00<?, ?it/s]"
     ]
    },
    {
     "name": "stdout",
     "output_type": "stream",
     "text": [
      "INFO:tensorflow:Assets written to: ./model\\HL1\\assets\n",
      "INFO:tensorflow:Assets written to: ./model\\HL1\\assets\n",
      "INFO:tensorflow:Assets written to: ./model\\HL1\\assets\n",
      "INFO:tensorflow:Assets written to: ./model\\HL1\\assets\n",
      "INFO:tensorflow:Assets written to: ./model\\HL1\\assets\n",
      "INFO:tensorflow:Assets written to: ./model\\HL1\\assets\n",
      "INFO:tensorflow:Assets written to: ./model\\HL1\\assets\n",
      "INFO:tensorflow:Assets written to: ./model\\HL1\\assets\n",
      "INFO:tensorflow:Assets written to: ./model\\HL1\\assets\n",
      "INFO:tensorflow:Assets written to: ./model\\HL1\\assets\n",
      "INFO:tensorflow:Assets written to: ./model\\HL1\\assets\n",
      "INFO:tensorflow:Assets written to: ./model\\HL1\\assets\n",
      "INFO:tensorflow:Assets written to: ./model\\HL1\\assets\n",
      "INFO:tensorflow:Assets written to: ./model\\HL1\\assets\n"
     ]
    },
    {
     "name": "stderr",
     "output_type": "stream",
     "text": [
      "  4%|███                                                                               | 1/27 [01:48<46:57, 108.35s/it]"
     ]
    },
    {
     "name": "stdout",
     "output_type": "stream",
     "text": [
      "INFO:tensorflow:Assets written to: ./model\\HL1\\assets\n",
      "INFO:tensorflow:Assets written to: ./model\\HL1\\assets\n",
      "INFO:tensorflow:Assets written to: ./model\\HL1\\assets\n",
      "INFO:tensorflow:Assets written to: ./model\\HL1\\assets\n",
      "INFO:tensorflow:Assets written to: ./model\\HL1\\assets\n",
      "INFO:tensorflow:Assets written to: ./model\\HL1\\assets\n"
     ]
    },
    {
     "name": "stderr",
     "output_type": "stream",
     "text": [
      "  7%|██████                                                                            | 2/27 [03:33<44:16, 106.26s/it]"
     ]
    },
    {
     "name": "stdout",
     "output_type": "stream",
     "text": [
      "INFO:tensorflow:Assets written to: ./model\\HL1\\assets\n",
      "INFO:tensorflow:Assets written to: ./model\\HL1\\assets\n",
      "INFO:tensorflow:Assets written to: ./model\\HL1\\assets\n",
      "INFO:tensorflow:Assets written to: ./model\\HL1\\assets\n",
      "INFO:tensorflow:Assets written to: ./model\\HL1\\assets\n",
      "INFO:tensorflow:Assets written to: ./model\\HL1\\assets\n"
     ]
    },
    {
     "name": "stderr",
     "output_type": "stream",
     "text": [
      " 11%|█████████                                                                         | 3/27 [05:22<43:04, 107.67s/it]"
     ]
    },
    {
     "name": "stdout",
     "output_type": "stream",
     "text": [
      "INFO:tensorflow:Assets written to: ./model\\HL1\\assets\n",
      "INFO:tensorflow:Assets written to: ./model\\HL1\\assets\n",
      "INFO:tensorflow:Assets written to: ./model\\HL1\\assets\n",
      "INFO:tensorflow:Assets written to: ./model\\HL1\\assets\n",
      "INFO:tensorflow:Assets written to: ./model\\HL1\\assets\n",
      "INFO:tensorflow:Assets written to: ./model\\HL1\\assets\n",
      "INFO:tensorflow:Assets written to: ./model\\HL1\\assets\n",
      "INFO:tensorflow:Assets written to: ./model\\HL1\\assets\n",
      "INFO:tensorflow:Assets written to: ./model\\HL1\\assets\n",
      "INFO:tensorflow:Assets written to: ./model\\HL1\\assets\n",
      "INFO:tensorflow:Assets written to: ./model\\HL1\\assets\n"
     ]
    },
    {
     "name": "stderr",
     "output_type": "stream",
     "text": [
      " 15%|████████████▏                                                                     | 4/27 [07:26<43:42, 114.03s/it]"
     ]
    },
    {
     "name": "stdout",
     "output_type": "stream",
     "text": [
      "INFO:tensorflow:Assets written to: ./model\\HL1\\assets\n",
      "INFO:tensorflow:Assets written to: ./model\\HL1\\assets\n",
      "INFO:tensorflow:Assets written to: ./model\\HL1\\assets\n",
      "INFO:tensorflow:Assets written to: ./model\\HL1\\assets\n",
      "INFO:tensorflow:Assets written to: ./model\\HL1\\assets\n",
      "INFO:tensorflow:Assets written to: ./model\\HL1\\assets\n",
      "INFO:tensorflow:Assets written to: ./model\\HL1\\assets\n"
     ]
    },
    {
     "name": "stderr",
     "output_type": "stream",
     "text": [
      " 19%|███████████████▏                                                                  | 5/27 [09:24<42:22, 115.56s/it]"
     ]
    },
    {
     "name": "stdout",
     "output_type": "stream",
     "text": [
      "INFO:tensorflow:Assets written to: ./model\\HL1\\assets\n",
      "INFO:tensorflow:Assets written to: ./model\\HL1\\assets\n",
      "INFO:tensorflow:Assets written to: ./model\\HL1\\assets\n",
      "INFO:tensorflow:Assets written to: ./model\\HL1\\assets\n",
      "INFO:tensorflow:Assets written to: ./model\\HL1\\assets\n",
      "INFO:tensorflow:Assets written to: ./model\\HL1\\assets\n",
      "INFO:tensorflow:Assets written to: ./model\\HL1\\assets\n",
      "INFO:tensorflow:Assets written to: ./model\\HL1\\assets\n",
      "INFO:tensorflow:Assets written to: ./model\\HL1\\assets\n",
      "INFO:tensorflow:Assets written to: ./model\\HL1\\assets\n",
      "INFO:tensorflow:Assets written to: ./model\\HL1\\assets\n",
      "INFO:tensorflow:Assets written to: ./model\\HL1\\assets\n",
      "INFO:tensorflow:Assets written to: ./model\\HL1\\assets\n",
      "INFO:tensorflow:Assets written to: ./model\\HL1\\assets\n",
      "INFO:tensorflow:Assets written to: ./model\\HL1\\assets\n"
     ]
    },
    {
     "name": "stderr",
     "output_type": "stream",
     "text": [
      " 22%|██████████████████▏                                                               | 6/27 [11:23<40:47, 116.56s/it]"
     ]
    },
    {
     "name": "stdout",
     "output_type": "stream",
     "text": [
      "INFO:tensorflow:Assets written to: ./model\\HL1\\assets\n",
      "INFO:tensorflow:Assets written to: ./model\\HL1\\assets\n",
      "INFO:tensorflow:Assets written to: ./model\\HL1\\assets\n",
      "INFO:tensorflow:Assets written to: ./model\\HL1\\assets\n",
      "INFO:tensorflow:Assets written to: ./model\\HL1\\assets\n",
      "INFO:tensorflow:Assets written to: ./model\\HL1\\assets\n",
      "INFO:tensorflow:Assets written to: ./model\\HL1\\assets\n"
     ]
    },
    {
     "name": "stderr",
     "output_type": "stream",
     "text": [
      " 26%|█████████████████████▎                                                            | 7/27 [13:27<39:39, 118.98s/it]"
     ]
    },
    {
     "name": "stdout",
     "output_type": "stream",
     "text": [
      "INFO:tensorflow:Assets written to: ./model\\HL1\\assets\n",
      "INFO:tensorflow:Assets written to: ./model\\HL1\\assets\n",
      "INFO:tensorflow:Assets written to: ./model\\HL1\\assets\n",
      "INFO:tensorflow:Assets written to: ./model\\HL1\\assets\n",
      "INFO:tensorflow:Assets written to: ./model\\HL1\\assets\n",
      "INFO:tensorflow:Assets written to: ./model\\HL1\\assets\n",
      "INFO:tensorflow:Assets written to: ./model\\HL1\\assets\n",
      "INFO:tensorflow:Assets written to: ./model\\HL1\\assets\n",
      "INFO:tensorflow:Assets written to: ./model\\HL1\\assets\n",
      "INFO:tensorflow:Assets written to: ./model\\HL1\\assets\n",
      "INFO:tensorflow:Assets written to: ./model\\HL1\\assets\n",
      "INFO:tensorflow:Assets written to: ./model\\HL1\\assets\n",
      "INFO:tensorflow:Assets written to: ./model\\HL1\\assets\n",
      "INFO:tensorflow:Assets written to: ./model\\HL1\\assets\n",
      "INFO:tensorflow:Assets written to: ./model\\HL1\\assets\n",
      "INFO:tensorflow:Assets written to: ./model\\HL1\\assets\n",
      "INFO:tensorflow:Assets written to: ./model\\HL1\\assets\n",
      "INFO:tensorflow:Assets written to: ./model\\HL1\\assets\n",
      "INFO:tensorflow:Assets written to: ./model\\HL1\\assets\n",
      "INFO:tensorflow:Assets written to: ./model\\HL1\\assets\n",
      "INFO:tensorflow:Assets written to: ./model\\HL1\\assets\n",
      "INFO:tensorflow:Assets written to: ./model\\HL1\\assets\n"
     ]
    },
    {
     "name": "stderr",
     "output_type": "stream",
     "text": [
      " 30%|████████████████████████▎                                                         | 8/27 [15:36<38:41, 122.18s/it]"
     ]
    },
    {
     "name": "stdout",
     "output_type": "stream",
     "text": [
      "INFO:tensorflow:Assets written to: ./model\\HL1\\assets\n",
      "INFO:tensorflow:Assets written to: ./model\\HL1\\assets\n",
      "INFO:tensorflow:Assets written to: ./model\\HL1\\assets\n",
      "INFO:tensorflow:Assets written to: ./model\\HL1\\assets\n",
      "INFO:tensorflow:Assets written to: ./model\\HL1\\assets\n",
      "INFO:tensorflow:Assets written to: ./model\\HL1\\assets\n",
      "INFO:tensorflow:Assets written to: ./model\\HL1\\assets\n",
      "INFO:tensorflow:Assets written to: ./model\\HL1\\assets\n",
      "INFO:tensorflow:Assets written to: ./model\\HL1\\assets\n",
      "INFO:tensorflow:Assets written to: ./model\\HL1\\assets\n",
      "INFO:tensorflow:Assets written to: ./model\\HL1\\assets\n"
     ]
    },
    {
     "name": "stderr",
     "output_type": "stream",
     "text": [
      " 33%|███████████████████████████▎                                                      | 9/27 [17:39<36:46, 122.58s/it]"
     ]
    },
    {
     "name": "stdout",
     "output_type": "stream",
     "text": [
      "INFO:tensorflow:Assets written to: ./model\\HL1\\assets\n",
      "INFO:tensorflow:Assets written to: ./model\\HL1\\assets\n",
      "INFO:tensorflow:Assets written to: ./model\\HL1\\assets\n",
      "INFO:tensorflow:Assets written to: ./model\\HL1\\assets\n",
      "INFO:tensorflow:Assets written to: ./model\\HL1\\assets\n",
      "INFO:tensorflow:Assets written to: ./model\\HL1\\assets\n",
      "INFO:tensorflow:Assets written to: ./model\\HL1\\assets\n",
      "INFO:tensorflow:Assets written to: ./model\\HL1\\assets\n"
     ]
    },
    {
     "name": "stderr",
     "output_type": "stream",
     "text": [
      " 37%|██████████████████████████████                                                   | 10/27 [21:07<42:11, 148.89s/it]"
     ]
    },
    {
     "name": "stdout",
     "output_type": "stream",
     "text": [
      "INFO:tensorflow:Assets written to: ./model\\HL1\\assets\n",
      "INFO:tensorflow:Assets written to: ./model\\HL1\\assets\n",
      "INFO:tensorflow:Assets written to: ./model\\HL1\\assets\n",
      "INFO:tensorflow:Assets written to: ./model\\HL1\\assets\n",
      "INFO:tensorflow:Assets written to: ./model\\HL1\\assets\n",
      "INFO:tensorflow:Assets written to: ./model\\HL1\\assets\n"
     ]
    },
    {
     "name": "stderr",
     "output_type": "stream",
     "text": [
      " 41%|█████████████████████████████████                                                | 11/27 [24:33<44:24, 166.53s/it]"
     ]
    },
    {
     "name": "stdout",
     "output_type": "stream",
     "text": [
      "INFO:tensorflow:Assets written to: ./model\\HL1\\assets\n",
      "INFO:tensorflow:Assets written to: ./model\\HL1\\assets\n",
      "INFO:tensorflow:Assets written to: ./model\\HL1\\assets\n",
      "INFO:tensorflow:Assets written to: ./model\\HL1\\assets\n",
      "INFO:tensorflow:Assets written to: ./model\\HL1\\assets\n",
      "INFO:tensorflow:Assets written to: ./model\\HL1\\assets\n",
      "INFO:tensorflow:Assets written to: ./model\\HL1\\assets\n"
     ]
    },
    {
     "name": "stderr",
     "output_type": "stream",
     "text": [
      " 44%|████████████████████████████████████                                             | 12/27 [27:59<44:38, 178.54s/it]"
     ]
    },
    {
     "name": "stdout",
     "output_type": "stream",
     "text": [
      "INFO:tensorflow:Assets written to: ./model\\HL1\\assets\n",
      "INFO:tensorflow:Assets written to: ./model\\HL1\\assets\n",
      "INFO:tensorflow:Assets written to: ./model\\HL1\\assets\n",
      "INFO:tensorflow:Assets written to: ./model\\HL1\\assets\n",
      "INFO:tensorflow:Assets written to: ./model\\HL1\\assets\n",
      "INFO:tensorflow:Assets written to: ./model\\HL1\\assets\n",
      "INFO:tensorflow:Assets written to: ./model\\HL1\\assets\n",
      "INFO:tensorflow:Assets written to: ./model\\HL1\\assets\n",
      "INFO:tensorflow:Assets written to: ./model\\HL1\\assets\n",
      "INFO:tensorflow:Assets written to: ./model\\HL1\\assets\n",
      "INFO:tensorflow:Assets written to: ./model\\HL1\\assets\n"
     ]
    },
    {
     "name": "stderr",
     "output_type": "stream",
     "text": [
      " 48%|███████████████████████████████████████                                          | 13/27 [31:34<44:12, 189.48s/it]"
     ]
    },
    {
     "name": "stdout",
     "output_type": "stream",
     "text": [
      "INFO:tensorflow:Assets written to: ./model\\HL1\\assets\n",
      "INFO:tensorflow:Assets written to: ./model\\HL1\\assets\n",
      "INFO:tensorflow:Assets written to: ./model\\HL1\\assets\n",
      "INFO:tensorflow:Assets written to: ./model\\HL1\\assets\n",
      "INFO:tensorflow:Assets written to: ./model\\HL1\\assets\n",
      "INFO:tensorflow:Assets written to: ./model\\HL1\\assets\n",
      "INFO:tensorflow:Assets written to: ./model\\HL1\\assets\n",
      "INFO:tensorflow:Assets written to: ./model\\HL1\\assets\n",
      "INFO:tensorflow:Assets written to: ./model\\HL1\\assets\n",
      "INFO:tensorflow:Assets written to: ./model\\HL1\\assets\n",
      "INFO:tensorflow:Assets written to: ./model\\HL1\\assets\n",
      "INFO:tensorflow:Assets written to: ./model\\HL1\\assets\n",
      "INFO:tensorflow:Assets written to: ./model\\HL1\\assets\n",
      "INFO:tensorflow:Assets written to: ./model\\HL1\\assets\n",
      "INFO:tensorflow:Assets written to: ./model\\HL1\\assets\n"
     ]
    },
    {
     "name": "stderr",
     "output_type": "stream",
     "text": [
      " 52%|██████████████████████████████████████████                                       | 14/27 [35:12<42:56, 198.21s/it]"
     ]
    },
    {
     "name": "stdout",
     "output_type": "stream",
     "text": [
      "INFO:tensorflow:Assets written to: ./model\\HL1\\assets\n",
      "INFO:tensorflow:Assets written to: ./model\\HL1\\assets\n",
      "INFO:tensorflow:Assets written to: ./model\\HL1\\assets\n",
      "INFO:tensorflow:Assets written to: ./model\\HL1\\assets\n",
      "INFO:tensorflow:Assets written to: ./model\\HL1\\assets\n",
      "INFO:tensorflow:Assets written to: ./model\\HL1\\assets\n",
      "INFO:tensorflow:Assets written to: ./model\\HL1\\assets\n",
      "INFO:tensorflow:Assets written to: ./model\\HL1\\assets\n"
     ]
    },
    {
     "name": "stderr",
     "output_type": "stream",
     "text": [
      " 56%|█████████████████████████████████████████████                                    | 15/27 [38:48<40:42, 203.53s/it]"
     ]
    },
    {
     "name": "stdout",
     "output_type": "stream",
     "text": [
      "INFO:tensorflow:Assets written to: ./model\\HL1\\assets\n",
      "INFO:tensorflow:Assets written to: ./model\\HL1\\assets\n",
      "INFO:tensorflow:Assets written to: ./model\\HL1\\assets\n",
      "INFO:tensorflow:Assets written to: ./model\\HL1\\assets\n",
      "INFO:tensorflow:Assets written to: ./model\\HL1\\assets\n",
      "INFO:tensorflow:Assets written to: ./model\\HL1\\assets\n",
      "INFO:tensorflow:Assets written to: ./model\\HL1\\assets\n",
      "INFO:tensorflow:Assets written to: ./model\\HL1\\assets\n",
      "INFO:tensorflow:Assets written to: ./model\\HL1\\assets\n"
     ]
    },
    {
     "name": "stderr",
     "output_type": "stream",
     "text": [
      " 59%|████████████████████████████████████████████████                                 | 16/27 [42:53<39:36, 216.04s/it]"
     ]
    },
    {
     "name": "stdout",
     "output_type": "stream",
     "text": [
      "INFO:tensorflow:Assets written to: ./model\\HL1\\assets\n",
      "INFO:tensorflow:Assets written to: ./model\\HL1\\assets\n",
      "INFO:tensorflow:Assets written to: ./model\\HL1\\assets\n",
      "INFO:tensorflow:Assets written to: ./model\\HL1\\assets\n",
      "INFO:tensorflow:Assets written to: ./model\\HL1\\assets\n",
      "INFO:tensorflow:Assets written to: ./model\\HL1\\assets\n",
      "INFO:tensorflow:Assets written to: ./model\\HL1\\assets\n"
     ]
    },
    {
     "name": "stderr",
     "output_type": "stream",
     "text": [
      " 63%|███████████████████████████████████████████████████                              | 17/27 [46:57<37:24, 224.49s/it]"
     ]
    },
    {
     "name": "stdout",
     "output_type": "stream",
     "text": [
      "INFO:tensorflow:Assets written to: ./model\\HL1\\assets\n",
      "INFO:tensorflow:Assets written to: ./model\\HL1\\assets\n",
      "INFO:tensorflow:Assets written to: ./model\\HL1\\assets\n",
      "INFO:tensorflow:Assets written to: ./model\\HL1\\assets\n",
      "INFO:tensorflow:Assets written to: ./model\\HL1\\assets\n",
      "INFO:tensorflow:Assets written to: ./model\\HL1\\assets\n",
      "INFO:tensorflow:Assets written to: ./model\\HL1\\assets\n",
      "INFO:tensorflow:Assets written to: ./model\\HL1\\assets\n"
     ]
    },
    {
     "name": "stderr",
     "output_type": "stream",
     "text": [
      " 67%|██████████████████████████████████████████████████████                           | 18/27 [51:02<34:34, 230.47s/it]"
     ]
    },
    {
     "name": "stdout",
     "output_type": "stream",
     "text": [
      "INFO:tensorflow:Assets written to: ./model\\HL1\\assets\n",
      "INFO:tensorflow:Assets written to: ./model\\HL1\\assets\n",
      "INFO:tensorflow:Assets written to: ./model\\HL1\\assets\n",
      "INFO:tensorflow:Assets written to: ./model\\HL1\\assets\n",
      "INFO:tensorflow:Assets written to: ./model\\HL1\\assets\n",
      "INFO:tensorflow:Assets written to: ./model\\HL1\\assets\n",
      "INFO:tensorflow:Assets written to: ./model\\HL1\\assets\n",
      "INFO:tensorflow:Assets written to: ./model\\HL1\\assets\n",
      "INFO:tensorflow:Assets written to: ./model\\HL1\\assets\n",
      "INFO:tensorflow:Assets written to: ./model\\HL1\\assets\n",
      "INFO:tensorflow:Assets written to: ./model\\HL1\\assets\n",
      "INFO:tensorflow:Assets written to: ./model\\HL1\\assets\n",
      "INFO:tensorflow:Assets written to: ./model\\HL1\\assets\n"
     ]
    },
    {
     "name": "stderr",
     "output_type": "stream",
     "text": [
      " 70%|█████████████████████████████████████████████████████████                        | 19/27 [56:13<33:57, 254.75s/it]"
     ]
    },
    {
     "name": "stdout",
     "output_type": "stream",
     "text": [
      "INFO:tensorflow:Assets written to: ./model\\HL1\\assets\n",
      "INFO:tensorflow:Assets written to: ./model\\HL1\\assets\n",
      "INFO:tensorflow:Assets written to: ./model\\HL1\\assets\n",
      "INFO:tensorflow:Assets written to: ./model\\HL1\\assets\n",
      "INFO:tensorflow:Assets written to: ./model\\HL1\\assets\n",
      "INFO:tensorflow:Assets written to: ./model\\HL1\\assets\n",
      "INFO:tensorflow:Assets written to: ./model\\HL1\\assets\n",
      "INFO:tensorflow:Assets written to: ./model\\HL1\\assets\n",
      "INFO:tensorflow:Assets written to: ./model\\HL1\\assets\n"
     ]
    },
    {
     "name": "stderr",
     "output_type": "stream",
     "text": [
      " 74%|██████████████████████████████████████████████████████████▌                    | 20/27 [1:01:19<31:30, 270.11s/it]"
     ]
    },
    {
     "name": "stdout",
     "output_type": "stream",
     "text": [
      "INFO:tensorflow:Assets written to: ./model\\HL1\\assets\n",
      "INFO:tensorflow:Assets written to: ./model\\HL1\\assets\n",
      "INFO:tensorflow:Assets written to: ./model\\HL1\\assets\n",
      "INFO:tensorflow:Assets written to: ./model\\HL1\\assets\n",
      "INFO:tensorflow:Assets written to: ./model\\HL1\\assets\n",
      "INFO:tensorflow:Assets written to: ./model\\HL1\\assets\n",
      "INFO:tensorflow:Assets written to: ./model\\HL1\\assets\n"
     ]
    },
    {
     "name": "stderr",
     "output_type": "stream",
     "text": [
      " 78%|█████████████████████████████████████████████████████████████▍                 | 21/27 [1:06:35<28:23, 284.00s/it]"
     ]
    },
    {
     "name": "stdout",
     "output_type": "stream",
     "text": [
      "INFO:tensorflow:Assets written to: ./model\\HL1\\assets\n",
      "INFO:tensorflow:Assets written to: ./model\\HL1\\assets\n",
      "INFO:tensorflow:Assets written to: ./model\\HL1\\assets\n",
      "INFO:tensorflow:Assets written to: ./model\\HL1\\assets\n",
      "INFO:tensorflow:Assets written to: ./model\\HL1\\assets\n",
      "INFO:tensorflow:Assets written to: ./model\\HL1\\assets\n",
      "INFO:tensorflow:Assets written to: ./model\\HL1\\assets\n",
      "INFO:tensorflow:Assets written to: ./model\\HL1\\assets\n",
      "INFO:tensorflow:Assets written to: ./model\\HL1\\assets\n",
      "INFO:tensorflow:Assets written to: ./model\\HL1\\assets\n"
     ]
    },
    {
     "name": "stderr",
     "output_type": "stream",
     "text": [
      " 81%|████████████████████████████████████████████████████████████████▎              | 22/27 [1:11:57<24:36, 295.33s/it]"
     ]
    },
    {
     "name": "stdout",
     "output_type": "stream",
     "text": [
      "INFO:tensorflow:Assets written to: ./model\\HL1\\assets\n",
      "INFO:tensorflow:Assets written to: ./model\\HL1\\assets\n",
      "INFO:tensorflow:Assets written to: ./model\\HL1\\assets\n",
      "INFO:tensorflow:Assets written to: ./model\\HL1\\assets\n",
      "INFO:tensorflow:Assets written to: ./model\\HL1\\assets\n",
      "INFO:tensorflow:Assets written to: ./model\\HL1\\assets\n",
      "INFO:tensorflow:Assets written to: ./model\\HL1\\assets\n",
      "INFO:tensorflow:Assets written to: ./model\\HL1\\assets\n",
      "INFO:tensorflow:Assets written to: ./model\\HL1\\assets\n",
      "INFO:tensorflow:Assets written to: ./model\\HL1\\assets\n"
     ]
    },
    {
     "name": "stderr",
     "output_type": "stream",
     "text": [
      " 85%|███████████████████████████████████████████████████████████████████▎           | 23/27 [1:17:23<20:17, 304.34s/it]"
     ]
    },
    {
     "name": "stdout",
     "output_type": "stream",
     "text": [
      "INFO:tensorflow:Assets written to: ./model\\HL1\\assets\n",
      "INFO:tensorflow:Assets written to: ./model\\HL1\\assets\n",
      "INFO:tensorflow:Assets written to: ./model\\HL1\\assets\n",
      "INFO:tensorflow:Assets written to: ./model\\HL1\\assets\n",
      "INFO:tensorflow:Assets written to: ./model\\HL1\\assets\n",
      "INFO:tensorflow:Assets written to: ./model\\HL1\\assets\n",
      "INFO:tensorflow:Assets written to: ./model\\HL1\\assets\n",
      "INFO:tensorflow:Assets written to: ./model\\HL1\\assets\n",
      "INFO:tensorflow:Assets written to: ./model\\HL1\\assets\n",
      "INFO:tensorflow:Assets written to: ./model\\HL1\\assets\n",
      "INFO:tensorflow:Assets written to: ./model\\HL1\\assets\n",
      "INFO:tensorflow:Assets written to: ./model\\HL1\\assets\n",
      "INFO:tensorflow:Assets written to: ./model\\HL1\\assets\n",
      "INFO:tensorflow:Assets written to: ./model\\HL1\\assets\n",
      "INFO:tensorflow:Assets written to: ./model\\HL1\\assets\n",
      "INFO:tensorflow:Assets written to: ./model\\HL1\\assets\n",
      "INFO:tensorflow:Assets written to: ./model\\HL1\\assets\n",
      "INFO:tensorflow:Assets written to: ./model\\HL1\\assets\n",
      "INFO:tensorflow:Assets written to: ./model\\HL1\\assets\n"
     ]
    },
    {
     "name": "stderr",
     "output_type": "stream",
     "text": [
      " 89%|██████████████████████████████████████████████████████████████████████▏        | 24/27 [1:22:54<15:37, 312.37s/it]"
     ]
    },
    {
     "name": "stdout",
     "output_type": "stream",
     "text": [
      "INFO:tensorflow:Assets written to: ./model\\HL1\\assets\n",
      "INFO:tensorflow:Assets written to: ./model\\HL1\\assets\n",
      "INFO:tensorflow:Assets written to: ./model\\HL1\\assets\n",
      "INFO:tensorflow:Assets written to: ./model\\HL1\\assets\n",
      "INFO:tensorflow:Assets written to: ./model\\HL1\\assets\n"
     ]
    },
    {
     "name": "stderr",
     "output_type": "stream",
     "text": [
      " 93%|█████████████████████████████████████████████████████████████████████████▏     | 25/27 [1:29:02<10:58, 329.25s/it]"
     ]
    },
    {
     "name": "stdout",
     "output_type": "stream",
     "text": [
      "INFO:tensorflow:Assets written to: ./model\\HL1\\assets\n",
      "INFO:tensorflow:Assets written to: ./model\\HL1\\assets\n",
      "INFO:tensorflow:Assets written to: ./model\\HL1\\assets\n",
      "INFO:tensorflow:Assets written to: ./model\\HL1\\assets\n",
      "INFO:tensorflow:Assets written to: ./model\\HL1\\assets\n",
      "INFO:tensorflow:Assets written to: ./model\\HL1\\assets\n",
      "INFO:tensorflow:Assets written to: ./model\\HL1\\assets\n",
      "INFO:tensorflow:Assets written to: ./model\\HL1\\assets\n",
      "INFO:tensorflow:Assets written to: ./model\\HL1\\assets\n",
      "INFO:tensorflow:Assets written to: ./model\\HL1\\assets\n",
      "INFO:tensorflow:Assets written to: ./model\\HL1\\assets\n",
      "INFO:tensorflow:Assets written to: ./model\\HL1\\assets\n",
      "INFO:tensorflow:Assets written to: ./model\\HL1\\assets\n",
      "INFO:tensorflow:Assets written to: ./model\\HL1\\assets\n",
      "INFO:tensorflow:Assets written to: ./model\\HL1\\assets\n",
      "INFO:tensorflow:Assets written to: ./model\\HL1\\assets\n",
      "INFO:tensorflow:Assets written to: ./model\\HL1\\assets\n",
      "INFO:tensorflow:Assets written to: ./model\\HL1\\assets\n",
      "INFO:tensorflow:Assets written to: ./model\\HL1\\assets\n",
      "INFO:tensorflow:Assets written to: ./model\\HL1\\assets\n",
      "INFO:tensorflow:Assets written to: ./model\\HL1\\assets\n",
      "INFO:tensorflow:Assets written to: ./model\\HL1\\assets\n",
      "INFO:tensorflow:Assets written to: ./model\\HL1\\assets\n",
      "INFO:tensorflow:Assets written to: ./model\\HL1\\assets\n",
      "INFO:tensorflow:Assets written to: ./model\\HL1\\assets\n",
      "INFO:tensorflow:Assets written to: ./model\\HL1\\assets\n"
     ]
    },
    {
     "name": "stderr",
     "output_type": "stream",
     "text": [
      " 96%|████████████████████████████████████████████████████████████████████████████   | 26/27 [1:35:13<05:41, 341.65s/it]"
     ]
    },
    {
     "name": "stdout",
     "output_type": "stream",
     "text": [
      "INFO:tensorflow:Assets written to: ./model\\HL1\\assets\n",
      "INFO:tensorflow:Assets written to: ./model\\HL1\\assets\n",
      "INFO:tensorflow:Assets written to: ./model\\HL1\\assets\n",
      "INFO:tensorflow:Assets written to: ./model\\HL1\\assets\n",
      "INFO:tensorflow:Assets written to: ./model\\HL1\\assets\n",
      "INFO:tensorflow:Assets written to: ./model\\HL1\\assets\n",
      "INFO:tensorflow:Assets written to: ./model\\HL1\\assets\n",
      "INFO:tensorflow:Assets written to: ./model\\HL1\\assets\n",
      "INFO:tensorflow:Assets written to: ./model\\HL1\\assets\n",
      "INFO:tensorflow:Assets written to: ./model\\HL1\\assets\n",
      "INFO:tensorflow:Assets written to: ./model\\HL1\\assets\n",
      "INFO:tensorflow:Assets written to: ./model\\HL1\\assets\n",
      "INFO:tensorflow:Assets written to: ./model\\HL1\\assets\n",
      "INFO:tensorflow:Assets written to: ./model\\HL1\\assets\n",
      "INFO:tensorflow:Assets written to: ./model\\HL1\\assets\n",
      "INFO:tensorflow:Assets written to: ./model\\HL1\\assets\n"
     ]
    },
    {
     "name": "stderr",
     "output_type": "stream",
     "text": [
      "100%|███████████████████████████████████████████████████████████████████████████████| 27/27 [1:41:22<00:00, 225.28s/it]\n"
     ]
    }
   ],
   "source": [
    "t1 = talos.Scan(x = X, y = y, params = p1, model = h1, experiment_name = '1_hidden_layer')\n",
    "analyze_object1 = talos.Analyze(t1)\n",
    "analyze_object1.data.to_excel(\"hidden_layer1.xlsx\")"
   ]
  },
  {
   "cell_type": "code",
   "execution_count": 13,
   "id": "ba52105c-2765-4b7b-a1fe-56c7d6e82e4b",
   "metadata": {},
   "outputs": [
    {
     "name": "stderr",
     "output_type": "stream",
     "text": [
      "  0%|                                                                                           | 0/81 [00:00<?, ?it/s]"
     ]
    },
    {
     "name": "stdout",
     "output_type": "stream",
     "text": [
      "INFO:tensorflow:Assets written to: ./model\\HL2\\assets\n",
      "INFO:tensorflow:Assets written to: ./model\\HL2\\assets\n",
      "INFO:tensorflow:Assets written to: ./model\\HL2\\assets\n",
      "INFO:tensorflow:Assets written to: ./model\\HL2\\assets\n",
      "INFO:tensorflow:Assets written to: ./model\\HL2\\assets\n",
      "INFO:tensorflow:Assets written to: ./model\\HL2\\assets\n",
      "INFO:tensorflow:Assets written to: ./model\\HL2\\assets\n",
      "INFO:tensorflow:Assets written to: ./model\\HL2\\assets\n",
      "INFO:tensorflow:Assets written to: ./model\\HL2\\assets\n",
      "INFO:tensorflow:Assets written to: ./model\\HL2\\assets\n",
      "INFO:tensorflow:Assets written to: ./model\\HL2\\assets\n",
      "INFO:tensorflow:Assets written to: ./model\\HL2\\assets\n",
      "INFO:tensorflow:Assets written to: ./model\\HL2\\assets\n",
      "INFO:tensorflow:Assets written to: ./model\\HL2\\assets\n"
     ]
    },
    {
     "name": "stderr",
     "output_type": "stream",
     "text": [
      "  1%|▉                                                                               | 1/81 [01:57<2:37:11, 117.89s/it]"
     ]
    },
    {
     "name": "stdout",
     "output_type": "stream",
     "text": [
      "INFO:tensorflow:Assets written to: ./model\\HL2\\assets\n",
      "INFO:tensorflow:Assets written to: ./model\\HL2\\assets\n",
      "INFO:tensorflow:Assets written to: ./model\\HL2\\assets\n",
      "INFO:tensorflow:Assets written to: ./model\\HL2\\assets\n",
      "INFO:tensorflow:Assets written to: ./model\\HL2\\assets\n",
      "INFO:tensorflow:Assets written to: ./model\\HL2\\assets\n",
      "INFO:tensorflow:Assets written to: ./model\\HL2\\assets\n",
      "INFO:tensorflow:Assets written to: ./model\\HL2\\assets\n",
      "INFO:tensorflow:Assets written to: ./model\\HL2\\assets\n",
      "INFO:tensorflow:Assets written to: ./model\\HL2\\assets\n",
      "INFO:tensorflow:Assets written to: ./model\\HL2\\assets\n",
      "INFO:tensorflow:Assets written to: ./model\\HL2\\assets\n",
      "INFO:tensorflow:Assets written to: ./model\\HL2\\assets\n",
      "INFO:tensorflow:Assets written to: ./model\\HL2\\assets\n",
      "INFO:tensorflow:Assets written to: ./model\\HL2\\assets\n",
      "INFO:tensorflow:Assets written to: ./model\\HL2\\assets\n",
      "INFO:tensorflow:Assets written to: ./model\\HL2\\assets\n",
      "INFO:tensorflow:Assets written to: ./model\\HL2\\assets\n",
      "INFO:tensorflow:Assets written to: ./model\\HL2\\assets\n"
     ]
    },
    {
     "name": "stderr",
     "output_type": "stream",
     "text": [
      "  2%|█▉                                                                              | 2/81 [04:03<2:41:13, 122.45s/it]"
     ]
    },
    {
     "name": "stdout",
     "output_type": "stream",
     "text": [
      "INFO:tensorflow:Assets written to: ./model\\HL2\\assets\n",
      "INFO:tensorflow:Assets written to: ./model\\HL2\\assets\n",
      "INFO:tensorflow:Assets written to: ./model\\HL2\\assets\n",
      "INFO:tensorflow:Assets written to: ./model\\HL2\\assets\n",
      "INFO:tensorflow:Assets written to: ./model\\HL2\\assets\n",
      "INFO:tensorflow:Assets written to: ./model\\HL2\\assets\n",
      "INFO:tensorflow:Assets written to: ./model\\HL2\\assets\n",
      "INFO:tensorflow:Assets written to: ./model\\HL2\\assets\n",
      "INFO:tensorflow:Assets written to: ./model\\HL2\\assets\n",
      "INFO:tensorflow:Assets written to: ./model\\HL2\\assets\n",
      "INFO:tensorflow:Assets written to: ./model\\HL2\\assets\n",
      "INFO:tensorflow:Assets written to: ./model\\HL2\\assets\n",
      "INFO:tensorflow:Assets written to: ./model\\HL2\\assets\n",
      "INFO:tensorflow:Assets written to: ./model\\HL2\\assets\n",
      "INFO:tensorflow:Assets written to: ./model\\HL2\\assets\n",
      "INFO:tensorflow:Assets written to: ./model\\HL2\\assets\n"
     ]
    },
    {
     "name": "stderr",
     "output_type": "stream",
     "text": [
      "  4%|██▉                                                                             | 3/81 [06:25<2:50:50, 131.41s/it]"
     ]
    },
    {
     "name": "stdout",
     "output_type": "stream",
     "text": [
      "INFO:tensorflow:Assets written to: ./model\\HL2\\assets\n",
      "INFO:tensorflow:Assets written to: ./model\\HL2\\assets\n",
      "INFO:tensorflow:Assets written to: ./model\\HL2\\assets\n",
      "INFO:tensorflow:Assets written to: ./model\\HL2\\assets\n",
      "INFO:tensorflow:Assets written to: ./model\\HL2\\assets\n",
      "INFO:tensorflow:Assets written to: ./model\\HL2\\assets\n",
      "INFO:tensorflow:Assets written to: ./model\\HL2\\assets\n",
      "INFO:tensorflow:Assets written to: ./model\\HL2\\assets\n"
     ]
    },
    {
     "name": "stderr",
     "output_type": "stream",
     "text": [
      "  5%|███▉                                                                            | 4/81 [08:16<2:38:28, 123.49s/it]"
     ]
    },
    {
     "name": "stdout",
     "output_type": "stream",
     "text": [
      "INFO:tensorflow:Assets written to: ./model\\HL2\\assets\n",
      "INFO:tensorflow:Assets written to: ./model\\HL2\\assets\n",
      "INFO:tensorflow:Assets written to: ./model\\HL2\\assets\n",
      "INFO:tensorflow:Assets written to: ./model\\HL2\\assets\n",
      "INFO:tensorflow:Assets written to: ./model\\HL2\\assets\n",
      "INFO:tensorflow:Assets written to: ./model\\HL2\\assets\n",
      "INFO:tensorflow:Assets written to: ./model\\HL2\\assets\n",
      "INFO:tensorflow:Assets written to: ./model\\HL2\\assets\n"
     ]
    },
    {
     "name": "stderr",
     "output_type": "stream",
     "text": [
      "  6%|████▉                                                                           | 5/81 [10:19<2:35:50, 123.03s/it]"
     ]
    },
    {
     "name": "stdout",
     "output_type": "stream",
     "text": [
      "INFO:tensorflow:Assets written to: ./model\\HL2\\assets\n",
      "INFO:tensorflow:Assets written to: ./model\\HL2\\assets\n",
      "INFO:tensorflow:Assets written to: ./model\\HL2\\assets\n",
      "INFO:tensorflow:Assets written to: ./model\\HL2\\assets\n",
      "INFO:tensorflow:Assets written to: ./model\\HL2\\assets\n",
      "INFO:tensorflow:Assets written to: ./model\\HL2\\assets\n",
      "INFO:tensorflow:Assets written to: ./model\\HL2\\assets\n",
      "INFO:tensorflow:Assets written to: ./model\\HL2\\assets\n"
     ]
    },
    {
     "name": "stderr",
     "output_type": "stream",
     "text": [
      "  7%|█████▉                                                                          | 6/81 [12:39<2:41:04, 128.86s/it]"
     ]
    },
    {
     "name": "stdout",
     "output_type": "stream",
     "text": [
      "INFO:tensorflow:Assets written to: ./model\\HL2\\assets\n",
      "INFO:tensorflow:Assets written to: ./model\\HL2\\assets\n",
      "INFO:tensorflow:Assets written to: ./model\\HL2\\assets\n",
      "INFO:tensorflow:Assets written to: ./model\\HL2\\assets\n",
      "INFO:tensorflow:Assets written to: ./model\\HL2\\assets\n",
      "INFO:tensorflow:Assets written to: ./model\\HL2\\assets\n",
      "INFO:tensorflow:Assets written to: ./model\\HL2\\assets\n",
      "INFO:tensorflow:Assets written to: ./model\\HL2\\assets\n",
      "INFO:tensorflow:Assets written to: ./model\\HL2\\assets\n",
      "INFO:tensorflow:Assets written to: ./model\\HL2\\assets\n",
      "INFO:tensorflow:Assets written to: ./model\\HL2\\assets\n",
      "INFO:tensorflow:Assets written to: ./model\\HL2\\assets\n",
      "INFO:tensorflow:Assets written to: ./model\\HL2\\assets\n",
      "INFO:tensorflow:Assets written to: ./model\\HL2\\assets\n",
      "INFO:tensorflow:Assets written to: ./model\\HL2\\assets\n",
      "INFO:tensorflow:Assets written to: ./model\\HL2\\assets\n"
     ]
    },
    {
     "name": "stderr",
     "output_type": "stream",
     "text": [
      "  9%|██████▉                                                                         | 7/81 [14:35<2:33:40, 124.60s/it]"
     ]
    },
    {
     "name": "stdout",
     "output_type": "stream",
     "text": [
      "INFO:tensorflow:Assets written to: ./model\\HL2\\assets\n",
      "INFO:tensorflow:Assets written to: ./model\\HL2\\assets\n",
      "INFO:tensorflow:Assets written to: ./model\\HL2\\assets\n",
      "INFO:tensorflow:Assets written to: ./model\\HL2\\assets\n",
      "INFO:tensorflow:Assets written to: ./model\\HL2\\assets\n",
      "INFO:tensorflow:Assets written to: ./model\\HL2\\assets\n",
      "INFO:tensorflow:Assets written to: ./model\\HL2\\assets\n",
      "INFO:tensorflow:Assets written to: ./model\\HL2\\assets\n",
      "INFO:tensorflow:Assets written to: ./model\\HL2\\assets\n",
      "INFO:tensorflow:Assets written to: ./model\\HL2\\assets\n"
     ]
    },
    {
     "name": "stderr",
     "output_type": "stream",
     "text": [
      " 10%|███████▉                                                                        | 8/81 [16:36<2:30:18, 123.55s/it]"
     ]
    },
    {
     "name": "stdout",
     "output_type": "stream",
     "text": [
      "INFO:tensorflow:Assets written to: ./model\\HL2\\assets\n",
      "INFO:tensorflow:Assets written to: ./model\\HL2\\assets\n",
      "INFO:tensorflow:Assets written to: ./model\\HL2\\assets\n",
      "INFO:tensorflow:Assets written to: ./model\\HL2\\assets\n",
      "INFO:tensorflow:Assets written to: ./model\\HL2\\assets\n",
      "INFO:tensorflow:Assets written to: ./model\\HL2\\assets\n",
      "INFO:tensorflow:Assets written to: ./model\\HL2\\assets\n",
      "INFO:tensorflow:Assets written to: ./model\\HL2\\assets\n",
      "INFO:tensorflow:Assets written to: ./model\\HL2\\assets\n",
      "INFO:tensorflow:Assets written to: ./model\\HL2\\assets\n"
     ]
    },
    {
     "name": "stderr",
     "output_type": "stream",
     "text": [
      " 11%|████████▉                                                                       | 9/81 [18:58<2:35:00, 129.18s/it]"
     ]
    },
    {
     "name": "stdout",
     "output_type": "stream",
     "text": [
      "INFO:tensorflow:Assets written to: ./model\\HL2\\assets\n",
      "INFO:tensorflow:Assets written to: ./model\\HL2\\assets\n",
      "INFO:tensorflow:Assets written to: ./model\\HL2\\assets\n",
      "INFO:tensorflow:Assets written to: ./model\\HL2\\assets\n",
      "INFO:tensorflow:Assets written to: ./model\\HL2\\assets\n",
      "INFO:tensorflow:Assets written to: ./model\\HL2\\assets\n",
      "INFO:tensorflow:Assets written to: ./model\\HL2\\assets\n",
      "INFO:tensorflow:Assets written to: ./model\\HL2\\assets\n",
      "INFO:tensorflow:Assets written to: ./model\\HL2\\assets\n",
      "INFO:tensorflow:Assets written to: ./model\\HL2\\assets\n",
      "INFO:tensorflow:Assets written to: ./model\\HL2\\assets\n",
      "INFO:tensorflow:Assets written to: ./model\\HL2\\assets\n",
      "INFO:tensorflow:Assets written to: ./model\\HL2\\assets\n",
      "INFO:tensorflow:Assets written to: ./model\\HL2\\assets\n",
      "INFO:tensorflow:Assets written to: ./model\\HL2\\assets\n",
      "INFO:tensorflow:Assets written to: ./model\\HL2\\assets\n"
     ]
    },
    {
     "name": "stderr",
     "output_type": "stream",
     "text": [
      " 12%|█████████▊                                                                     | 10/81 [20:59<2:29:52, 126.65s/it]"
     ]
    },
    {
     "name": "stdout",
     "output_type": "stream",
     "text": [
      "INFO:tensorflow:Assets written to: ./model\\HL2\\assets\n",
      "INFO:tensorflow:Assets written to: ./model\\HL2\\assets\n",
      "INFO:tensorflow:Assets written to: ./model\\HL2\\assets\n",
      "INFO:tensorflow:Assets written to: ./model\\HL2\\assets\n",
      "INFO:tensorflow:Assets written to: ./model\\HL2\\assets\n",
      "INFO:tensorflow:Assets written to: ./model\\HL2\\assets\n",
      "INFO:tensorflow:Assets written to: ./model\\HL2\\assets\n",
      "INFO:tensorflow:Assets written to: ./model\\HL2\\assets\n",
      "INFO:tensorflow:Assets written to: ./model\\HL2\\assets\n",
      "INFO:tensorflow:Assets written to: ./model\\HL2\\assets\n",
      "INFO:tensorflow:Assets written to: ./model\\HL2\\assets\n",
      "INFO:tensorflow:Assets written to: ./model\\HL2\\assets\n",
      "INFO:tensorflow:Assets written to: ./model\\HL2\\assets\n",
      "INFO:tensorflow:Assets written to: ./model\\HL2\\assets\n",
      "INFO:tensorflow:Assets written to: ./model\\HL2\\assets\n",
      "INFO:tensorflow:Assets written to: ./model\\HL2\\assets\n"
     ]
    },
    {
     "name": "stderr",
     "output_type": "stream",
     "text": [
      " 14%|██████████▋                                                                    | 11/81 [23:09<2:29:17, 127.97s/it]"
     ]
    },
    {
     "name": "stdout",
     "output_type": "stream",
     "text": [
      "INFO:tensorflow:Assets written to: ./model\\HL2\\assets\n",
      "INFO:tensorflow:Assets written to: ./model\\HL2\\assets\n",
      "INFO:tensorflow:Assets written to: ./model\\HL2\\assets\n",
      "INFO:tensorflow:Assets written to: ./model\\HL2\\assets\n",
      "INFO:tensorflow:Assets written to: ./model\\HL2\\assets\n",
      "INFO:tensorflow:Assets written to: ./model\\HL2\\assets\n",
      "INFO:tensorflow:Assets written to: ./model\\HL2\\assets\n",
      "INFO:tensorflow:Assets written to: ./model\\HL2\\assets\n",
      "INFO:tensorflow:Assets written to: ./model\\HL2\\assets\n",
      "INFO:tensorflow:Assets written to: ./model\\HL2\\assets\n",
      "INFO:tensorflow:Assets written to: ./model\\HL2\\assets\n",
      "INFO:tensorflow:Assets written to: ./model\\HL2\\assets\n"
     ]
    },
    {
     "name": "stderr",
     "output_type": "stream",
     "text": [
      " 15%|███████████▋                                                                   | 12/81 [25:41<2:35:15, 135.01s/it]"
     ]
    },
    {
     "name": "stdout",
     "output_type": "stream",
     "text": [
      "INFO:tensorflow:Assets written to: ./model\\HL2\\assets\n",
      "INFO:tensorflow:Assets written to: ./model\\HL2\\assets\n",
      "INFO:tensorflow:Assets written to: ./model\\HL2\\assets\n",
      "INFO:tensorflow:Assets written to: ./model\\HL2\\assets\n",
      "INFO:tensorflow:Assets written to: ./model\\HL2\\assets\n",
      "INFO:tensorflow:Assets written to: ./model\\HL2\\assets\n",
      "INFO:tensorflow:Assets written to: ./model\\HL2\\assets\n",
      "INFO:tensorflow:Assets written to: ./model\\HL2\\assets\n",
      "INFO:tensorflow:Assets written to: ./model\\HL2\\assets\n",
      "INFO:tensorflow:Assets written to: ./model\\HL2\\assets\n",
      "INFO:tensorflow:Assets written to: ./model\\HL2\\assets\n",
      "INFO:tensorflow:Assets written to: ./model\\HL2\\assets\n",
      "INFO:tensorflow:Assets written to: ./model\\HL2\\assets\n"
     ]
    },
    {
     "name": "stderr",
     "output_type": "stream",
     "text": [
      " 16%|████████████▋                                                                  | 13/81 [27:42<2:28:23, 130.93s/it]"
     ]
    },
    {
     "name": "stdout",
     "output_type": "stream",
     "text": [
      "INFO:tensorflow:Assets written to: ./model\\HL2\\assets\n",
      "INFO:tensorflow:Assets written to: ./model\\HL2\\assets\n",
      "INFO:tensorflow:Assets written to: ./model\\HL2\\assets\n",
      "INFO:tensorflow:Assets written to: ./model\\HL2\\assets\n",
      "INFO:tensorflow:Assets written to: ./model\\HL2\\assets\n",
      "INFO:tensorflow:Assets written to: ./model\\HL2\\assets\n",
      "INFO:tensorflow:Assets written to: ./model\\HL2\\assets\n",
      "INFO:tensorflow:Assets written to: ./model\\HL2\\assets\n",
      "INFO:tensorflow:Assets written to: ./model\\HL2\\assets\n",
      "INFO:tensorflow:Assets written to: ./model\\HL2\\assets\n"
     ]
    },
    {
     "name": "stderr",
     "output_type": "stream",
     "text": [
      " 17%|█████████████▋                                                                 | 14/81 [29:50<2:25:02, 129.89s/it]"
     ]
    },
    {
     "name": "stdout",
     "output_type": "stream",
     "text": [
      "INFO:tensorflow:Assets written to: ./model\\HL2\\assets\n",
      "INFO:tensorflow:Assets written to: ./model\\HL2\\assets\n",
      "INFO:tensorflow:Assets written to: ./model\\HL2\\assets\n",
      "INFO:tensorflow:Assets written to: ./model\\HL2\\assets\n",
      "INFO:tensorflow:Assets written to: ./model\\HL2\\assets\n",
      "INFO:tensorflow:Assets written to: ./model\\HL2\\assets\n",
      "INFO:tensorflow:Assets written to: ./model\\HL2\\assets\n",
      "INFO:tensorflow:Assets written to: ./model\\HL2\\assets\n"
     ]
    },
    {
     "name": "stderr",
     "output_type": "stream",
     "text": [
      " 19%|██████████████▋                                                                | 15/81 [32:19<2:29:15, 135.69s/it]"
     ]
    },
    {
     "name": "stdout",
     "output_type": "stream",
     "text": [
      "INFO:tensorflow:Assets written to: ./model\\HL2\\assets\n",
      "INFO:tensorflow:Assets written to: ./model\\HL2\\assets\n",
      "INFO:tensorflow:Assets written to: ./model\\HL2\\assets\n",
      "INFO:tensorflow:Assets written to: ./model\\HL2\\assets\n",
      "INFO:tensorflow:Assets written to: ./model\\HL2\\assets\n"
     ]
    },
    {
     "name": "stderr",
     "output_type": "stream",
     "text": [
      " 20%|███████████████▌                                                               | 16/81 [34:14<2:20:21, 129.57s/it]"
     ]
    },
    {
     "name": "stdout",
     "output_type": "stream",
     "text": [
      "INFO:tensorflow:Assets written to: ./model\\HL2\\assets\n",
      "INFO:tensorflow:Assets written to: ./model\\HL2\\assets\n",
      "INFO:tensorflow:Assets written to: ./model\\HL2\\assets\n"
     ]
    },
    {
     "name": "stderr",
     "output_type": "stream",
     "text": [
      " 21%|████████████████▌                                                              | 17/81 [36:17<2:16:10, 127.66s/it]"
     ]
    },
    {
     "name": "stdout",
     "output_type": "stream",
     "text": [
      "INFO:tensorflow:Assets written to: ./model\\HL2\\assets\n",
      "INFO:tensorflow:Assets written to: ./model\\HL2\\assets\n",
      "INFO:tensorflow:Assets written to: ./model\\HL2\\assets\n",
      "INFO:tensorflow:Assets written to: ./model\\HL2\\assets\n",
      "INFO:tensorflow:Assets written to: ./model\\HL2\\assets\n",
      "INFO:tensorflow:Assets written to: ./model\\HL2\\assets\n",
      "INFO:tensorflow:Assets written to: ./model\\HL2\\assets\n",
      "INFO:tensorflow:Assets written to: ./model\\HL2\\assets\n"
     ]
    },
    {
     "name": "stderr",
     "output_type": "stream",
     "text": [
      " 22%|█████████████████▌                                                             | 18/81 [38:47<2:21:03, 134.34s/it]"
     ]
    },
    {
     "name": "stdout",
     "output_type": "stream",
     "text": [
      "INFO:tensorflow:Assets written to: ./model\\HL2\\assets\n",
      "INFO:tensorflow:Assets written to: ./model\\HL2\\assets\n",
      "INFO:tensorflow:Assets written to: ./model\\HL2\\assets\n",
      "INFO:tensorflow:Assets written to: ./model\\HL2\\assets\n",
      "INFO:tensorflow:Assets written to: ./model\\HL2\\assets\n",
      "INFO:tensorflow:Assets written to: ./model\\HL2\\assets\n",
      "INFO:tensorflow:Assets written to: ./model\\HL2\\assets\n",
      "INFO:tensorflow:Assets written to: ./model\\HL2\\assets\n",
      "INFO:tensorflow:Assets written to: ./model\\HL2\\assets\n",
      "INFO:tensorflow:Assets written to: ./model\\HL2\\assets\n",
      "INFO:tensorflow:Assets written to: ./model\\HL2\\assets\n",
      "INFO:tensorflow:Assets written to: ./model\\HL2\\assets\n",
      "INFO:tensorflow:Assets written to: ./model\\HL2\\assets\n",
      "INFO:tensorflow:Assets written to: ./model\\HL2\\assets\n",
      "INFO:tensorflow:Assets written to: ./model\\HL2\\assets\n",
      "INFO:tensorflow:Assets written to: ./model\\HL2\\assets\n",
      "INFO:tensorflow:Assets written to: ./model\\HL2\\assets\n"
     ]
    },
    {
     "name": "stderr",
     "output_type": "stream",
     "text": [
      " 23%|██████████████████▌                                                            | 19/81 [40:58<2:17:36, 133.17s/it]"
     ]
    },
    {
     "name": "stdout",
     "output_type": "stream",
     "text": [
      "INFO:tensorflow:Assets written to: ./model\\HL2\\assets\n",
      "INFO:tensorflow:Assets written to: ./model\\HL2\\assets\n",
      "INFO:tensorflow:Assets written to: ./model\\HL2\\assets\n",
      "INFO:tensorflow:Assets written to: ./model\\HL2\\assets\n",
      "INFO:tensorflow:Assets written to: ./model\\HL2\\assets\n",
      "INFO:tensorflow:Assets written to: ./model\\HL2\\assets\n",
      "INFO:tensorflow:Assets written to: ./model\\HL2\\assets\n",
      "INFO:tensorflow:Assets written to: ./model\\HL2\\assets\n",
      "INFO:tensorflow:Assets written to: ./model\\HL2\\assets\n",
      "INFO:tensorflow:Assets written to: ./model\\HL2\\assets\n"
     ]
    },
    {
     "name": "stderr",
     "output_type": "stream",
     "text": [
      " 25%|███████████████████▌                                                           | 20/81 [43:23<2:19:09, 136.88s/it]"
     ]
    },
    {
     "name": "stdout",
     "output_type": "stream",
     "text": [
      "INFO:tensorflow:Assets written to: ./model\\HL2\\assets\n",
      "INFO:tensorflow:Assets written to: ./model\\HL2\\assets\n",
      "INFO:tensorflow:Assets written to: ./model\\HL2\\assets\n",
      "INFO:tensorflow:Assets written to: ./model\\HL2\\assets\n",
      "INFO:tensorflow:Assets written to: ./model\\HL2\\assets\n",
      "INFO:tensorflow:Assets written to: ./model\\HL2\\assets\n",
      "INFO:tensorflow:Assets written to: ./model\\HL2\\assets\n",
      "INFO:tensorflow:Assets written to: ./model\\HL2\\assets\n",
      "INFO:tensorflow:Assets written to: ./model\\HL2\\assets\n",
      "INFO:tensorflow:Assets written to: ./model\\HL2\\assets\n",
      "INFO:tensorflow:Assets written to: ./model\\HL2\\assets\n",
      "INFO:tensorflow:Assets written to: ./model\\HL2\\assets\n",
      "INFO:tensorflow:Assets written to: ./model\\HL2\\assets\n"
     ]
    },
    {
     "name": "stderr",
     "output_type": "stream",
     "text": [
      " 26%|████████████████████▍                                                          | 21/81 [46:13<2:26:40, 146.67s/it]"
     ]
    },
    {
     "name": "stdout",
     "output_type": "stream",
     "text": [
      "INFO:tensorflow:Assets written to: ./model\\HL2\\assets\n",
      "INFO:tensorflow:Assets written to: ./model\\HL2\\assets\n",
      "INFO:tensorflow:Assets written to: ./model\\HL2\\assets\n",
      "INFO:tensorflow:Assets written to: ./model\\HL2\\assets\n",
      "INFO:tensorflow:Assets written to: ./model\\HL2\\assets\n",
      "INFO:tensorflow:Assets written to: ./model\\HL2\\assets\n",
      "INFO:tensorflow:Assets written to: ./model\\HL2\\assets\n",
      "INFO:tensorflow:Assets written to: ./model\\HL2\\assets\n",
      "INFO:tensorflow:Assets written to: ./model\\HL2\\assets\n",
      "INFO:tensorflow:Assets written to: ./model\\HL2\\assets\n",
      "INFO:tensorflow:Assets written to: ./model\\HL2\\assets\n",
      "INFO:tensorflow:Assets written to: ./model\\HL2\\assets\n",
      "INFO:tensorflow:Assets written to: ./model\\HL2\\assets\n"
     ]
    },
    {
     "name": "stderr",
     "output_type": "stream",
     "text": [
      " 27%|█████████████████████▍                                                         | 22/81 [48:20<2:18:31, 140.87s/it]"
     ]
    },
    {
     "name": "stdout",
     "output_type": "stream",
     "text": [
      "INFO:tensorflow:Assets written to: ./model\\HL2\\assets\n",
      "INFO:tensorflow:Assets written to: ./model\\HL2\\assets\n",
      "INFO:tensorflow:Assets written to: ./model\\HL2\\assets\n",
      "INFO:tensorflow:Assets written to: ./model\\HL2\\assets\n",
      "INFO:tensorflow:Assets written to: ./model\\HL2\\assets\n",
      "INFO:tensorflow:Assets written to: ./model\\HL2\\assets\n",
      "INFO:tensorflow:Assets written to: ./model\\HL2\\assets\n",
      "INFO:tensorflow:Assets written to: ./model\\HL2\\assets\n",
      "INFO:tensorflow:Assets written to: ./model\\HL2\\assets\n",
      "INFO:tensorflow:Assets written to: ./model\\HL2\\assets\n",
      "INFO:tensorflow:Assets written to: ./model\\HL2\\assets\n",
      "INFO:tensorflow:Assets written to: ./model\\HL2\\assets\n",
      "INFO:tensorflow:Assets written to: ./model\\HL2\\assets\n",
      "INFO:tensorflow:Assets written to: ./model\\HL2\\assets\n",
      "INFO:tensorflow:Assets written to: ./model\\HL2\\assets\n",
      "INFO:tensorflow:Assets written to: ./model\\HL2\\assets\n",
      "INFO:tensorflow:Assets written to: ./model\\HL2\\assets\n",
      "INFO:tensorflow:Assets written to: ./model\\HL2\\assets\n",
      "INFO:tensorflow:Assets written to: ./model\\HL2\\assets\n",
      "INFO:tensorflow:Assets written to: ./model\\HL2\\assets\n",
      "INFO:tensorflow:Assets written to: ./model\\HL2\\assets\n"
     ]
    },
    {
     "name": "stderr",
     "output_type": "stream",
     "text": [
      " 28%|██████████████████████▍                                                        | 23/81 [50:50<2:18:55, 143.72s/it]"
     ]
    },
    {
     "name": "stdout",
     "output_type": "stream",
     "text": [
      "INFO:tensorflow:Assets written to: ./model\\HL2\\assets\n",
      "INFO:tensorflow:Assets written to: ./model\\HL2\\assets\n",
      "INFO:tensorflow:Assets written to: ./model\\HL2\\assets\n",
      "INFO:tensorflow:Assets written to: ./model\\HL2\\assets\n",
      "INFO:tensorflow:Assets written to: ./model\\HL2\\assets\n",
      "INFO:tensorflow:Assets written to: ./model\\HL2\\assets\n",
      "INFO:tensorflow:Assets written to: ./model\\HL2\\assets\n",
      "INFO:tensorflow:Assets written to: ./model\\HL2\\assets\n",
      "INFO:tensorflow:Assets written to: ./model\\HL2\\assets\n",
      "INFO:tensorflow:Assets written to: ./model\\HL2\\assets\n",
      "INFO:tensorflow:Assets written to: ./model\\HL2\\assets\n",
      "INFO:tensorflow:Assets written to: ./model\\HL2\\assets\n",
      "INFO:tensorflow:Assets written to: ./model\\HL2\\assets\n",
      "INFO:tensorflow:Assets written to: ./model\\HL2\\assets\n",
      "INFO:tensorflow:Assets written to: ./model\\HL2\\assets\n"
     ]
    },
    {
     "name": "stderr",
     "output_type": "stream",
     "text": [
      " 30%|███████████████████████▍                                                       | 24/81 [53:40<2:23:58, 151.55s/it]"
     ]
    },
    {
     "name": "stdout",
     "output_type": "stream",
     "text": [
      "INFO:tensorflow:Assets written to: ./model\\HL2\\assets\n",
      "INFO:tensorflow:Assets written to: ./model\\HL2\\assets\n",
      "INFO:tensorflow:Assets written to: ./model\\HL2\\assets\n",
      "INFO:tensorflow:Assets written to: ./model\\HL2\\assets\n",
      "INFO:tensorflow:Assets written to: ./model\\HL2\\assets\n",
      "INFO:tensorflow:Assets written to: ./model\\HL2\\assets\n",
      "INFO:tensorflow:Assets written to: ./model\\HL2\\assets\n",
      "INFO:tensorflow:Assets written to: ./model\\HL2\\assets\n"
     ]
    },
    {
     "name": "stderr",
     "output_type": "stream",
     "text": [
      " 31%|████████████████████████▍                                                      | 25/81 [55:45<2:13:51, 143.42s/it]"
     ]
    },
    {
     "name": "stdout",
     "output_type": "stream",
     "text": [
      "INFO:tensorflow:Assets written to: ./model\\HL2\\assets\n",
      "INFO:tensorflow:Assets written to: ./model\\HL2\\assets\n",
      "INFO:tensorflow:Assets written to: ./model\\HL2\\assets\n",
      "INFO:tensorflow:Assets written to: ./model\\HL2\\assets\n",
      "INFO:tensorflow:Assets written to: ./model\\HL2\\assets\n"
     ]
    },
    {
     "name": "stderr",
     "output_type": "stream",
     "text": [
      " 32%|█████████████████████████▎                                                     | 26/81 [58:06<2:10:47, 142.69s/it]"
     ]
    },
    {
     "name": "stdout",
     "output_type": "stream",
     "text": [
      "INFO:tensorflow:Assets written to: ./model\\HL2\\assets\n",
      "INFO:tensorflow:Assets written to: ./model\\HL2\\assets\n"
     ]
    },
    {
     "name": "stderr",
     "output_type": "stream",
     "text": [
      " 33%|█████████████████████████▋                                                   | 27/81 [1:00:50<2:14:22, 149.31s/it]"
     ]
    },
    {
     "name": "stdout",
     "output_type": "stream",
     "text": [
      "INFO:tensorflow:Assets written to: ./model\\HL2\\assets\n",
      "INFO:tensorflow:Assets written to: ./model\\HL2\\assets\n",
      "INFO:tensorflow:Assets written to: ./model\\HL2\\assets\n",
      "INFO:tensorflow:Assets written to: ./model\\HL2\\assets\n",
      "INFO:tensorflow:Assets written to: ./model\\HL2\\assets\n",
      "INFO:tensorflow:Assets written to: ./model\\HL2\\assets\n",
      "INFO:tensorflow:Assets written to: ./model\\HL2\\assets\n",
      "INFO:tensorflow:Assets written to: ./model\\HL2\\assets\n",
      "INFO:tensorflow:Assets written to: ./model\\HL2\\assets\n",
      "INFO:tensorflow:Assets written to: ./model\\HL2\\assets\n",
      "INFO:tensorflow:Assets written to: ./model\\HL2\\assets\n"
     ]
    },
    {
     "name": "stderr",
     "output_type": "stream",
     "text": [
      " 35%|██████████████████████████▌                                                  | 28/81 [1:04:33<2:31:13, 171.19s/it]"
     ]
    },
    {
     "name": "stdout",
     "output_type": "stream",
     "text": [
      "INFO:tensorflow:Assets written to: ./model\\HL2\\assets\n",
      "INFO:tensorflow:Assets written to: ./model\\HL2\\assets\n",
      "INFO:tensorflow:Assets written to: ./model\\HL2\\assets\n",
      "INFO:tensorflow:Assets written to: ./model\\HL2\\assets\n",
      "INFO:tensorflow:Assets written to: ./model\\HL2\\assets\n",
      "INFO:tensorflow:Assets written to: ./model\\HL2\\assets\n",
      "INFO:tensorflow:Assets written to: ./model\\HL2\\assets\n",
      "INFO:tensorflow:Assets written to: ./model\\HL2\\assets\n",
      "INFO:tensorflow:Assets written to: ./model\\HL2\\assets\n",
      "INFO:tensorflow:Assets written to: ./model\\HL2\\assets\n",
      "INFO:tensorflow:Assets written to: ./model\\HL2\\assets\n",
      "INFO:tensorflow:Assets written to: ./model\\HL2\\assets\n"
     ]
    },
    {
     "name": "stderr",
     "output_type": "stream",
     "text": [
      " 36%|███████████████████████████▌                                                 | 29/81 [1:08:28<2:45:08, 190.55s/it]"
     ]
    },
    {
     "name": "stdout",
     "output_type": "stream",
     "text": [
      "INFO:tensorflow:Assets written to: ./model\\HL2\\assets\n",
      "INFO:tensorflow:Assets written to: ./model\\HL2\\assets\n",
      "INFO:tensorflow:Assets written to: ./model\\HL2\\assets\n",
      "INFO:tensorflow:Assets written to: ./model\\HL2\\assets\n",
      "INFO:tensorflow:Assets written to: ./model\\HL2\\assets\n",
      "INFO:tensorflow:Assets written to: ./model\\HL2\\assets\n",
      "INFO:tensorflow:Assets written to: ./model\\HL2\\assets\n",
      "INFO:tensorflow:Assets written to: ./model\\HL2\\assets\n",
      "INFO:tensorflow:Assets written to: ./model\\HL2\\assets\n",
      "INFO:tensorflow:Assets written to: ./model\\HL2\\assets\n",
      "INFO:tensorflow:Assets written to: ./model\\HL2\\assets\n",
      "INFO:tensorflow:Assets written to: ./model\\HL2\\assets\n",
      "INFO:tensorflow:Assets written to: ./model\\HL2\\assets\n",
      "INFO:tensorflow:Assets written to: ./model\\HL2\\assets\n",
      "INFO:tensorflow:Assets written to: ./model\\HL2\\assets\n",
      "INFO:tensorflow:Assets written to: ./model\\HL2\\assets\n",
      "INFO:tensorflow:Assets written to: ./model\\HL2\\assets\n",
      "INFO:tensorflow:Assets written to: ./model\\HL2\\assets\n"
     ]
    },
    {
     "name": "stderr",
     "output_type": "stream",
     "text": [
      " 37%|████████████████████████████▌                                                | 30/81 [1:13:07<3:04:32, 217.11s/it]"
     ]
    },
    {
     "name": "stdout",
     "output_type": "stream",
     "text": [
      "INFO:tensorflow:Assets written to: ./model\\HL2\\assets\n",
      "INFO:tensorflow:Assets written to: ./model\\HL2\\assets\n",
      "INFO:tensorflow:Assets written to: ./model\\HL2\\assets\n",
      "INFO:tensorflow:Assets written to: ./model\\HL2\\assets\n",
      "INFO:tensorflow:Assets written to: ./model\\HL2\\assets\n",
      "INFO:tensorflow:Assets written to: ./model\\HL2\\assets\n",
      "INFO:tensorflow:Assets written to: ./model\\HL2\\assets\n",
      "INFO:tensorflow:Assets written to: ./model\\HL2\\assets\n",
      "INFO:tensorflow:Assets written to: ./model\\HL2\\assets\n",
      "INFO:tensorflow:Assets written to: ./model\\HL2\\assets\n"
     ]
    },
    {
     "name": "stderr",
     "output_type": "stream",
     "text": [
      " 38%|█████████████████████████████▍                                               | 31/81 [1:16:51<3:02:28, 218.97s/it]"
     ]
    },
    {
     "name": "stdout",
     "output_type": "stream",
     "text": [
      "INFO:tensorflow:Assets written to: ./model\\HL2\\assets\n",
      "INFO:tensorflow:Assets written to: ./model\\HL2\\assets\n",
      "INFO:tensorflow:Assets written to: ./model\\HL2\\assets\n",
      "INFO:tensorflow:Assets written to: ./model\\HL2\\assets\n",
      "INFO:tensorflow:Assets written to: ./model\\HL2\\assets\n",
      "INFO:tensorflow:Assets written to: ./model\\HL2\\assets\n"
     ]
    },
    {
     "name": "stderr",
     "output_type": "stream",
     "text": [
      " 40%|██████████████████████████████▍                                              | 32/81 [1:20:46<3:02:48, 223.84s/it]"
     ]
    },
    {
     "name": "stdout",
     "output_type": "stream",
     "text": [
      "INFO:tensorflow:Assets written to: ./model\\HL2\\assets\n",
      "INFO:tensorflow:Assets written to: ./model\\HL2\\assets\n",
      "INFO:tensorflow:Assets written to: ./model\\HL2\\assets\n",
      "INFO:tensorflow:Assets written to: ./model\\HL2\\assets\n",
      "INFO:tensorflow:Assets written to: ./model\\HL2\\assets\n",
      "INFO:tensorflow:Assets written to: ./model\\HL2\\assets\n",
      "INFO:tensorflow:Assets written to: ./model\\HL2\\assets\n",
      "INFO:tensorflow:Assets written to: ./model\\HL2\\assets\n",
      "INFO:tensorflow:Assets written to: ./model\\HL2\\assets\n",
      "INFO:tensorflow:Assets written to: ./model\\HL2\\assets\n",
      "INFO:tensorflow:Assets written to: ./model\\HL2\\assets\n",
      "INFO:tensorflow:Assets written to: ./model\\HL2\\assets\n"
     ]
    },
    {
     "name": "stderr",
     "output_type": "stream",
     "text": [
      " 41%|███████████████████████████████▎                                             | 33/81 [1:25:19<3:10:54, 238.64s/it]"
     ]
    },
    {
     "name": "stdout",
     "output_type": "stream",
     "text": [
      "INFO:tensorflow:Assets written to: ./model\\HL2\\assets\n",
      "INFO:tensorflow:Assets written to: ./model\\HL2\\assets\n",
      "INFO:tensorflow:Assets written to: ./model\\HL2\\assets\n",
      "INFO:tensorflow:Assets written to: ./model\\HL2\\assets\n"
     ]
    },
    {
     "name": "stderr",
     "output_type": "stream",
     "text": [
      " 42%|████████████████████████████████▎                                            | 34/81 [1:28:56<3:01:54, 232.22s/it]"
     ]
    },
    {
     "name": "stdout",
     "output_type": "stream",
     "text": [
      "INFO:tensorflow:Assets written to: ./model\\HL2\\assets\n",
      "INFO:tensorflow:Assets written to: ./model\\HL2\\assets\n",
      "INFO:tensorflow:Assets written to: ./model\\HL2\\assets\n",
      "INFO:tensorflow:Assets written to: ./model\\HL2\\assets\n",
      "INFO:tensorflow:Assets written to: ./model\\HL2\\assets\n",
      "INFO:tensorflow:Assets written to: ./model\\HL2\\assets\n",
      "INFO:tensorflow:Assets written to: ./model\\HL2\\assets\n",
      "INFO:tensorflow:Assets written to: ./model\\HL2\\assets\n"
     ]
    },
    {
     "name": "stderr",
     "output_type": "stream",
     "text": [
      " 43%|█████████████████████████████████▎                                           | 35/81 [1:32:54<2:59:21, 233.94s/it]"
     ]
    },
    {
     "name": "stdout",
     "output_type": "stream",
     "text": [
      "INFO:tensorflow:Assets written to: ./model\\HL2\\assets\n",
      "INFO:tensorflow:Assets written to: ./model\\HL2\\assets\n",
      "INFO:tensorflow:Assets written to: ./model\\HL2\\assets\n",
      "INFO:tensorflow:Assets written to: ./model\\HL2\\assets\n",
      "INFO:tensorflow:Assets written to: ./model\\HL2\\assets\n",
      "INFO:tensorflow:Assets written to: ./model\\HL2\\assets\n",
      "INFO:tensorflow:Assets written to: ./model\\HL2\\assets\n"
     ]
    },
    {
     "name": "stderr",
     "output_type": "stream",
     "text": [
      " 44%|██████████████████████████████████▏                                          | 36/81 [1:37:29<3:04:39, 246.21s/it]"
     ]
    },
    {
     "name": "stdout",
     "output_type": "stream",
     "text": [
      "INFO:tensorflow:Assets written to: ./model\\HL2\\assets\n",
      "INFO:tensorflow:Assets written to: ./model\\HL2\\assets\n",
      "INFO:tensorflow:Assets written to: ./model\\HL2\\assets\n",
      "INFO:tensorflow:Assets written to: ./model\\HL2\\assets\n",
      "INFO:tensorflow:Assets written to: ./model\\HL2\\assets\n",
      "INFO:tensorflow:Assets written to: ./model\\HL2\\assets\n",
      "INFO:tensorflow:Assets written to: ./model\\HL2\\assets\n",
      "INFO:tensorflow:Assets written to: ./model\\HL2\\assets\n",
      "INFO:tensorflow:Assets written to: ./model\\HL2\\assets\n",
      "INFO:tensorflow:Assets written to: ./model\\HL2\\assets\n",
      "INFO:tensorflow:Assets written to: ./model\\HL2\\assets\n",
      "INFO:tensorflow:Assets written to: ./model\\HL2\\assets\n",
      "INFO:tensorflow:Assets written to: ./model\\HL2\\assets\n",
      "INFO:tensorflow:Assets written to: ./model\\HL2\\assets\n",
      "INFO:tensorflow:Assets written to: ./model\\HL2\\assets\n",
      "INFO:tensorflow:Assets written to: ./model\\HL2\\assets\n",
      "INFO:tensorflow:Assets written to: ./model\\HL2\\assets\n",
      "INFO:tensorflow:Assets written to: ./model\\HL2\\assets\n",
      "INFO:tensorflow:Assets written to: ./model\\HL2\\assets\n",
      "INFO:tensorflow:Assets written to: ./model\\HL2\\assets\n",
      "INFO:tensorflow:Assets written to: ./model\\HL2\\assets\n",
      "INFO:tensorflow:Assets written to: ./model\\HL2\\assets\n",
      "INFO:tensorflow:Assets written to: ./model\\HL2\\assets\n",
      "INFO:tensorflow:Assets written to: ./model\\HL2\\assets\n"
     ]
    },
    {
     "name": "stderr",
     "output_type": "stream",
     "text": [
      " 46%|███████████████████████████████████▏                                         | 37/81 [1:41:32<2:59:52, 245.29s/it]"
     ]
    },
    {
     "name": "stdout",
     "output_type": "stream",
     "text": [
      "INFO:tensorflow:Assets written to: ./model\\HL2\\assets\n",
      "INFO:tensorflow:Assets written to: ./model\\HL2\\assets\n",
      "INFO:tensorflow:Assets written to: ./model\\HL2\\assets\n",
      "INFO:tensorflow:Assets written to: ./model\\HL2\\assets\n",
      "INFO:tensorflow:Assets written to: ./model\\HL2\\assets\n",
      "INFO:tensorflow:Assets written to: ./model\\HL2\\assets\n",
      "INFO:tensorflow:Assets written to: ./model\\HL2\\assets\n",
      "INFO:tensorflow:Assets written to: ./model\\HL2\\assets\n",
      "INFO:tensorflow:Assets written to: ./model\\HL2\\assets\n",
      "INFO:tensorflow:Assets written to: ./model\\HL2\\assets\n",
      "INFO:tensorflow:Assets written to: ./model\\HL2\\assets\n",
      "INFO:tensorflow:Assets written to: ./model\\HL2\\assets\n",
      "INFO:tensorflow:Assets written to: ./model\\HL2\\assets\n",
      "INFO:tensorflow:Assets written to: ./model\\HL2\\assets\n",
      "INFO:tensorflow:Assets written to: ./model\\HL2\\assets\n",
      "INFO:tensorflow:Assets written to: ./model\\HL2\\assets\n",
      "INFO:tensorflow:Assets written to: ./model\\HL2\\assets\n",
      "INFO:tensorflow:Assets written to: ./model\\HL2\\assets\n"
     ]
    },
    {
     "name": "stderr",
     "output_type": "stream",
     "text": [
      " 47%|████████████████████████████████████                                         | 38/81 [1:45:52<2:58:53, 249.62s/it]"
     ]
    },
    {
     "name": "stdout",
     "output_type": "stream",
     "text": [
      "INFO:tensorflow:Assets written to: ./model\\HL2\\assets\n",
      "INFO:tensorflow:Assets written to: ./model\\HL2\\assets\n",
      "INFO:tensorflow:Assets written to: ./model\\HL2\\assets\n",
      "INFO:tensorflow:Assets written to: ./model\\HL2\\assets\n",
      "INFO:tensorflow:Assets written to: ./model\\HL2\\assets\n",
      "INFO:tensorflow:Assets written to: ./model\\HL2\\assets\n",
      "INFO:tensorflow:Assets written to: ./model\\HL2\\assets\n",
      "INFO:tensorflow:Assets written to: ./model\\HL2\\assets\n",
      "INFO:tensorflow:Assets written to: ./model\\HL2\\assets\n",
      "INFO:tensorflow:Assets written to: ./model\\HL2\\assets\n",
      "INFO:tensorflow:Assets written to: ./model\\HL2\\assets\n",
      "INFO:tensorflow:Assets written to: ./model\\HL2\\assets\n",
      "INFO:tensorflow:Assets written to: ./model\\HL2\\assets\n",
      "INFO:tensorflow:Assets written to: ./model\\HL2\\assets\n",
      "INFO:tensorflow:Assets written to: ./model\\HL2\\assets\n",
      "INFO:tensorflow:Assets written to: ./model\\HL2\\assets\n"
     ]
    },
    {
     "name": "stderr",
     "output_type": "stream",
     "text": [
      " 48%|█████████████████████████████████████                                        | 39/81 [1:50:59<3:06:43, 266.76s/it]"
     ]
    },
    {
     "name": "stdout",
     "output_type": "stream",
     "text": [
      "INFO:tensorflow:Assets written to: ./model\\HL2\\assets\n",
      "INFO:tensorflow:Assets written to: ./model\\HL2\\assets\n",
      "INFO:tensorflow:Assets written to: ./model\\HL2\\assets\n",
      "INFO:tensorflow:Assets written to: ./model\\HL2\\assets\n",
      "INFO:tensorflow:Assets written to: ./model\\HL2\\assets\n",
      "INFO:tensorflow:Assets written to: ./model\\HL2\\assets\n",
      "INFO:tensorflow:Assets written to: ./model\\HL2\\assets\n",
      "INFO:tensorflow:Assets written to: ./model\\HL2\\assets\n",
      "INFO:tensorflow:Assets written to: ./model\\HL2\\assets\n",
      "INFO:tensorflow:Assets written to: ./model\\HL2\\assets\n",
      "INFO:tensorflow:Assets written to: ./model\\HL2\\assets\n"
     ]
    },
    {
     "name": "stderr",
     "output_type": "stream",
     "text": [
      " 49%|██████████████████████████████████████                                       | 40/81 [1:54:47<2:54:25, 255.25s/it]"
     ]
    },
    {
     "name": "stdout",
     "output_type": "stream",
     "text": [
      "INFO:tensorflow:Assets written to: ./model\\HL2\\assets\n",
      "INFO:tensorflow:Assets written to: ./model\\HL2\\assets\n",
      "INFO:tensorflow:Assets written to: ./model\\HL2\\assets\n",
      "INFO:tensorflow:Assets written to: ./model\\HL2\\assets\n",
      "INFO:tensorflow:Assets written to: ./model\\HL2\\assets\n",
      "INFO:tensorflow:Assets written to: ./model\\HL2\\assets\n",
      "INFO:tensorflow:Assets written to: ./model\\HL2\\assets\n",
      "INFO:tensorflow:Assets written to: ./model\\HL2\\assets\n",
      "INFO:tensorflow:Assets written to: ./model\\HL2\\assets\n"
     ]
    },
    {
     "name": "stderr",
     "output_type": "stream",
     "text": [
      " 51%|██████████████████████████████████████▉                                      | 41/81 [1:58:56<2:48:53, 253.34s/it]"
     ]
    },
    {
     "name": "stdout",
     "output_type": "stream",
     "text": [
      "INFO:tensorflow:Assets written to: ./model\\HL2\\assets\n",
      "INFO:tensorflow:Assets written to: ./model\\HL2\\assets\n",
      "INFO:tensorflow:Assets written to: ./model\\HL2\\assets\n",
      "INFO:tensorflow:Assets written to: ./model\\HL2\\assets\n",
      "INFO:tensorflow:Assets written to: ./model\\HL2\\assets\n",
      "INFO:tensorflow:Assets written to: ./model\\HL2\\assets\n",
      "INFO:tensorflow:Assets written to: ./model\\HL2\\assets\n",
      "INFO:tensorflow:Assets written to: ./model\\HL2\\assets\n",
      "INFO:tensorflow:Assets written to: ./model\\HL2\\assets\n"
     ]
    },
    {
     "name": "stderr",
     "output_type": "stream",
     "text": [
      " 52%|███████████████████████████████████████▉                                     | 42/81 [2:03:51<2:52:46, 265.81s/it]"
     ]
    },
    {
     "name": "stdout",
     "output_type": "stream",
     "text": [
      "INFO:tensorflow:Assets written to: ./model\\HL2\\assets\n",
      "INFO:tensorflow:Assets written to: ./model\\HL2\\assets\n",
      "INFO:tensorflow:Assets written to: ./model\\HL2\\assets\n",
      "INFO:tensorflow:Assets written to: ./model\\HL2\\assets\n",
      "INFO:tensorflow:Assets written to: ./model\\HL2\\assets\n",
      "INFO:tensorflow:Assets written to: ./model\\HL2\\assets\n",
      "INFO:tensorflow:Assets written to: ./model\\HL2\\assets\n",
      "INFO:tensorflow:Assets written to: ./model\\HL2\\assets\n",
      "INFO:tensorflow:Assets written to: ./model\\HL2\\assets\n",
      "INFO:tensorflow:Assets written to: ./model\\HL2\\assets\n",
      "INFO:tensorflow:Assets written to: ./model\\HL2\\assets\n",
      "INFO:tensorflow:Assets written to: ./model\\HL2\\assets\n",
      "INFO:tensorflow:Assets written to: ./model\\HL2\\assets\n",
      "INFO:tensorflow:Assets written to: ./model\\HL2\\assets\n",
      "INFO:tensorflow:Assets written to: ./model\\HL2\\assets\n",
      "INFO:tensorflow:Assets written to: ./model\\HL2\\assets\n"
     ]
    },
    {
     "name": "stderr",
     "output_type": "stream",
     "text": [
      " 53%|████████████████████████████████████████▉                                    | 43/81 [2:07:45<2:42:17, 256.26s/it]"
     ]
    },
    {
     "name": "stdout",
     "output_type": "stream",
     "text": [
      "INFO:tensorflow:Assets written to: ./model\\HL2\\assets\n",
      "INFO:tensorflow:Assets written to: ./model\\HL2\\assets\n"
     ]
    },
    {
     "name": "stderr",
     "output_type": "stream",
     "text": [
      " 54%|█████████████████████████████████████████▊                                   | 44/81 [2:11:49<2:35:45, 252.59s/it]"
     ]
    },
    {
     "name": "stdout",
     "output_type": "stream",
     "text": [
      "INFO:tensorflow:Assets written to: ./model\\HL2\\assets\n",
      "INFO:tensorflow:Assets written to: ./model\\HL2\\assets\n",
      "INFO:tensorflow:Assets written to: ./model\\HL2\\assets\n",
      "INFO:tensorflow:Assets written to: ./model\\HL2\\assets\n",
      "INFO:tensorflow:Assets written to: ./model\\HL2\\assets\n",
      "INFO:tensorflow:Assets written to: ./model\\HL2\\assets\n",
      "INFO:tensorflow:Assets written to: ./model\\HL2\\assets\n"
     ]
    },
    {
     "name": "stderr",
     "output_type": "stream",
     "text": [
      " 56%|██████████████████████████████████████████▊                                  | 45/81 [2:16:46<2:39:38, 266.06s/it]"
     ]
    },
    {
     "name": "stdout",
     "output_type": "stream",
     "text": [
      "INFO:tensorflow:Assets written to: ./model\\HL2\\assets\n",
      "INFO:tensorflow:Assets written to: ./model\\HL2\\assets\n",
      "INFO:tensorflow:Assets written to: ./model\\HL2\\assets\n",
      "INFO:tensorflow:Assets written to: ./model\\HL2\\assets\n",
      "INFO:tensorflow:Assets written to: ./model\\HL2\\assets\n",
      "INFO:tensorflow:Assets written to: ./model\\HL2\\assets\n",
      "INFO:tensorflow:Assets written to: ./model\\HL2\\assets\n",
      "INFO:tensorflow:Assets written to: ./model\\HL2\\assets\n",
      "INFO:tensorflow:Assets written to: ./model\\HL2\\assets\n",
      "INFO:tensorflow:Assets written to: ./model\\HL2\\assets\n",
      "INFO:tensorflow:Assets written to: ./model\\HL2\\assets\n",
      "INFO:tensorflow:Assets written to: ./model\\HL2\\assets\n",
      "INFO:tensorflow:Assets written to: ./model\\HL2\\assets\n",
      "INFO:tensorflow:Assets written to: ./model\\HL2\\assets\n",
      "INFO:tensorflow:Assets written to: ./model\\HL2\\assets\n",
      "INFO:tensorflow:Assets written to: ./model\\HL2\\assets\n",
      "INFO:tensorflow:Assets written to: ./model\\HL2\\assets\n",
      "INFO:tensorflow:Assets written to: ./model\\HL2\\assets\n",
      "INFO:tensorflow:Assets written to: ./model\\HL2\\assets\n",
      "INFO:tensorflow:Assets written to: ./model\\HL2\\assets\n"
     ]
    },
    {
     "name": "stderr",
     "output_type": "stream",
     "text": [
      " 57%|███████████████████████████████████████████▋                                 | 46/81 [2:21:03<2:33:27, 263.06s/it]"
     ]
    },
    {
     "name": "stdout",
     "output_type": "stream",
     "text": [
      "INFO:tensorflow:Assets written to: ./model\\HL2\\assets\n",
      "INFO:tensorflow:Assets written to: ./model\\HL2\\assets\n",
      "INFO:tensorflow:Assets written to: ./model\\HL2\\assets\n",
      "INFO:tensorflow:Assets written to: ./model\\HL2\\assets\n",
      "INFO:tensorflow:Assets written to: ./model\\HL2\\assets\n",
      "INFO:tensorflow:Assets written to: ./model\\HL2\\assets\n",
      "INFO:tensorflow:Assets written to: ./model\\HL2\\assets\n",
      "INFO:tensorflow:Assets written to: ./model\\HL2\\assets\n",
      "INFO:tensorflow:Assets written to: ./model\\HL2\\assets\n",
      "INFO:tensorflow:Assets written to: ./model\\HL2\\assets\n",
      "INFO:tensorflow:Assets written to: ./model\\HL2\\assets\n",
      "INFO:tensorflow:Assets written to: ./model\\HL2\\assets\n",
      "INFO:tensorflow:Assets written to: ./model\\HL2\\assets\n",
      "INFO:tensorflow:Assets written to: ./model\\HL2\\assets\n",
      "INFO:tensorflow:Assets written to: ./model\\HL2\\assets\n",
      "INFO:tensorflow:Assets written to: ./model\\HL2\\assets\n",
      "INFO:tensorflow:Assets written to: ./model\\HL2\\assets\n",
      "INFO:tensorflow:Assets written to: ./model\\HL2\\assets\n"
     ]
    },
    {
     "name": "stderr",
     "output_type": "stream",
     "text": [
      " 58%|████████████████████████████████████████████▋                                | 47/81 [2:25:55<2:34:00, 271.78s/it]"
     ]
    },
    {
     "name": "stdout",
     "output_type": "stream",
     "text": [
      "INFO:tensorflow:Assets written to: ./model\\HL2\\assets\n",
      "INFO:tensorflow:Assets written to: ./model\\HL2\\assets\n",
      "INFO:tensorflow:Assets written to: ./model\\HL2\\assets\n",
      "INFO:tensorflow:Assets written to: ./model\\HL2\\assets\n",
      "INFO:tensorflow:Assets written to: ./model\\HL2\\assets\n",
      "INFO:tensorflow:Assets written to: ./model\\HL2\\assets\n",
      "INFO:tensorflow:Assets written to: ./model\\HL2\\assets\n",
      "INFO:tensorflow:Assets written to: ./model\\HL2\\assets\n",
      "INFO:tensorflow:Assets written to: ./model\\HL2\\assets\n",
      "INFO:tensorflow:Assets written to: ./model\\HL2\\assets\n",
      "INFO:tensorflow:Assets written to: ./model\\HL2\\assets\n",
      "INFO:tensorflow:Assets written to: ./model\\HL2\\assets\n",
      "INFO:tensorflow:Assets written to: ./model\\HL2\\assets\n"
     ]
    },
    {
     "name": "stderr",
     "output_type": "stream",
     "text": [
      " 59%|█████████████████████████████████████████████▋                               | 48/81 [2:31:35<2:40:43, 292.24s/it]"
     ]
    },
    {
     "name": "stdout",
     "output_type": "stream",
     "text": [
      "INFO:tensorflow:Assets written to: ./model\\HL2\\assets\n",
      "INFO:tensorflow:Assets written to: ./model\\HL2\\assets\n",
      "INFO:tensorflow:Assets written to: ./model\\HL2\\assets\n",
      "INFO:tensorflow:Assets written to: ./model\\HL2\\assets\n",
      "INFO:tensorflow:Assets written to: ./model\\HL2\\assets\n",
      "INFO:tensorflow:Assets written to: ./model\\HL2\\assets\n",
      "INFO:tensorflow:Assets written to: ./model\\HL2\\assets\n",
      "INFO:tensorflow:Assets written to: ./model\\HL2\\assets\n",
      "INFO:tensorflow:Assets written to: ./model\\HL2\\assets\n"
     ]
    },
    {
     "name": "stderr",
     "output_type": "stream",
     "text": [
      " 60%|██████████████████████████████████████████████▌                              | 49/81 [2:36:13<2:33:34, 287.95s/it]"
     ]
    },
    {
     "name": "stdout",
     "output_type": "stream",
     "text": [
      "INFO:tensorflow:Assets written to: ./model\\HL2\\assets\n",
      "INFO:tensorflow:Assets written to: ./model\\HL2\\assets\n",
      "INFO:tensorflow:Assets written to: ./model\\HL2\\assets\n",
      "INFO:tensorflow:Assets written to: ./model\\HL2\\assets\n",
      "INFO:tensorflow:Assets written to: ./model\\HL2\\assets\n",
      "INFO:tensorflow:Assets written to: ./model\\HL2\\assets\n",
      "INFO:tensorflow:Assets written to: ./model\\HL2\\assets\n",
      "INFO:tensorflow:Assets written to: ./model\\HL2\\assets\n",
      "INFO:tensorflow:Assets written to: ./model\\HL2\\assets\n",
      "INFO:tensorflow:Assets written to: ./model\\HL2\\assets\n",
      "INFO:tensorflow:Assets written to: ./model\\HL2\\assets\n",
      "INFO:tensorflow:Assets written to: ./model\\HL2\\assets\n",
      "INFO:tensorflow:Assets written to: ./model\\HL2\\assets\n",
      "INFO:tensorflow:Assets written to: ./model\\HL2\\assets\n",
      "INFO:tensorflow:Assets written to: ./model\\HL2\\assets\n",
      "INFO:tensorflow:Assets written to: ./model\\HL2\\assets\n"
     ]
    },
    {
     "name": "stderr",
     "output_type": "stream",
     "text": [
      " 62%|███████████████████████████████████████████████▌                             | 50/81 [2:41:11<2:30:25, 291.14s/it]"
     ]
    },
    {
     "name": "stdout",
     "output_type": "stream",
     "text": [
      "INFO:tensorflow:Assets written to: ./model\\HL2\\assets\n",
      "INFO:tensorflow:Assets written to: ./model\\HL2\\assets\n",
      "INFO:tensorflow:Assets written to: ./model\\HL2\\assets\n",
      "INFO:tensorflow:Assets written to: ./model\\HL2\\assets\n",
      "INFO:tensorflow:Assets written to: ./model\\HL2\\assets\n",
      "INFO:tensorflow:Assets written to: ./model\\HL2\\assets\n",
      "INFO:tensorflow:Assets written to: ./model\\HL2\\assets\n",
      "INFO:tensorflow:Assets written to: ./model\\HL2\\assets\n",
      "INFO:tensorflow:Assets written to: ./model\\HL2\\assets\n"
     ]
    },
    {
     "name": "stderr",
     "output_type": "stream",
     "text": [
      " 63%|████████████████████████████████████████████████▍                            | 51/81 [2:46:58<2:33:56, 307.88s/it]"
     ]
    },
    {
     "name": "stdout",
     "output_type": "stream",
     "text": [
      "INFO:tensorflow:Assets written to: ./model\\HL2\\assets\n",
      "INFO:tensorflow:Assets written to: ./model\\HL2\\assets\n",
      "INFO:tensorflow:Assets written to: ./model\\HL2\\assets\n",
      "INFO:tensorflow:Assets written to: ./model\\HL2\\assets\n",
      "INFO:tensorflow:Assets written to: ./model\\HL2\\assets\n"
     ]
    },
    {
     "name": "stderr",
     "output_type": "stream",
     "text": [
      " 64%|█████████████████████████████████████████████████▍                           | 52/81 [2:51:09<2:20:36, 290.92s/it]"
     ]
    },
    {
     "name": "stdout",
     "output_type": "stream",
     "text": [
      "INFO:tensorflow:Assets written to: ./model\\HL2\\assets\n",
      "INFO:tensorflow:Assets written to: ./model\\HL2\\assets\n"
     ]
    },
    {
     "name": "stderr",
     "output_type": "stream",
     "text": [
      " 65%|██████████████████████████████████████████████████▍                          | 53/81 [2:55:58<2:15:22, 290.10s/it]"
     ]
    },
    {
     "name": "stdout",
     "output_type": "stream",
     "text": [
      "INFO:tensorflow:Assets written to: ./model\\HL2\\assets\n",
      "INFO:tensorflow:Assets written to: ./model\\HL2\\assets\n"
     ]
    },
    {
     "name": "stderr",
     "output_type": "stream",
     "text": [
      " 67%|███████████████████████████████████████████████████▎                         | 54/81 [3:01:40<2:17:36, 305.80s/it]"
     ]
    },
    {
     "name": "stdout",
     "output_type": "stream",
     "text": [
      "INFO:tensorflow:Assets written to: ./model\\HL2\\assets\n",
      "INFO:tensorflow:Assets written to: ./model\\HL2\\assets\n",
      "INFO:tensorflow:Assets written to: ./model\\HL2\\assets\n",
      "INFO:tensorflow:Assets written to: ./model\\HL2\\assets\n",
      "INFO:tensorflow:Assets written to: ./model\\HL2\\assets\n",
      "INFO:tensorflow:Assets written to: ./model\\HL2\\assets\n",
      "INFO:tensorflow:Assets written to: ./model\\HL2\\assets\n",
      "INFO:tensorflow:Assets written to: ./model\\HL2\\assets\n",
      "INFO:tensorflow:Assets written to: ./model\\HL2\\assets\n",
      "INFO:tensorflow:Assets written to: ./model\\HL2\\assets\n",
      "INFO:tensorflow:Assets written to: ./model\\HL2\\assets\n",
      "INFO:tensorflow:Assets written to: ./model\\HL2\\assets\n",
      "INFO:tensorflow:Assets written to: ./model\\HL2\\assets\n",
      "INFO:tensorflow:Assets written to: ./model\\HL2\\assets\n",
      "INFO:tensorflow:Assets written to: ./model\\HL2\\assets\n",
      "INFO:tensorflow:Assets written to: ./model\\HL2\\assets\n",
      "INFO:tensorflow:Assets written to: ./model\\HL2\\assets\n",
      "INFO:tensorflow:Assets written to: ./model\\HL2\\assets\n",
      "INFO:tensorflow:Assets written to: ./model\\HL2\\assets\n"
     ]
    },
    {
     "name": "stderr",
     "output_type": "stream",
     "text": [
      " 68%|████████████████████████████████████████████████████▎                        | 55/81 [3:07:21<2:17:04, 316.32s/it]"
     ]
    },
    {
     "name": "stdout",
     "output_type": "stream",
     "text": [
      "INFO:tensorflow:Assets written to: ./model\\HL2\\assets\n",
      "INFO:tensorflow:Assets written to: ./model\\HL2\\assets\n",
      "INFO:tensorflow:Assets written to: ./model\\HL2\\assets\n",
      "INFO:tensorflow:Assets written to: ./model\\HL2\\assets\n",
      "INFO:tensorflow:Assets written to: ./model\\HL2\\assets\n",
      "INFO:tensorflow:Assets written to: ./model\\HL2\\assets\n",
      "INFO:tensorflow:Assets written to: ./model\\HL2\\assets\n",
      "INFO:tensorflow:Assets written to: ./model\\HL2\\assets\n",
      "INFO:tensorflow:Assets written to: ./model\\HL2\\assets\n",
      "INFO:tensorflow:Assets written to: ./model\\HL2\\assets\n",
      "INFO:tensorflow:Assets written to: ./model\\HL2\\assets\n",
      "INFO:tensorflow:Assets written to: ./model\\HL2\\assets\n",
      "INFO:tensorflow:Assets written to: ./model\\HL2\\assets\n",
      "INFO:tensorflow:Assets written to: ./model\\HL2\\assets\n",
      "INFO:tensorflow:Assets written to: ./model\\HL2\\assets\n"
     ]
    },
    {
     "name": "stderr",
     "output_type": "stream",
     "text": [
      " 69%|█████████████████████████████████████████████████████▏                       | 56/81 [3:13:22<2:17:23, 329.74s/it]"
     ]
    },
    {
     "name": "stdout",
     "output_type": "stream",
     "text": [
      "INFO:tensorflow:Assets written to: ./model\\HL2\\assets\n",
      "INFO:tensorflow:Assets written to: ./model\\HL2\\assets\n",
      "INFO:tensorflow:Assets written to: ./model\\HL2\\assets\n",
      "INFO:tensorflow:Assets written to: ./model\\HL2\\assets\n",
      "INFO:tensorflow:Assets written to: ./model\\HL2\\assets\n",
      "INFO:tensorflow:Assets written to: ./model\\HL2\\assets\n",
      "INFO:tensorflow:Assets written to: ./model\\HL2\\assets\n",
      "INFO:tensorflow:Assets written to: ./model\\HL2\\assets\n",
      "INFO:tensorflow:Assets written to: ./model\\HL2\\assets\n",
      "INFO:tensorflow:Assets written to: ./model\\HL2\\assets\n",
      "INFO:tensorflow:Assets written to: ./model\\HL2\\assets\n",
      "INFO:tensorflow:Assets written to: ./model\\HL2\\assets\n",
      "INFO:tensorflow:Assets written to: ./model\\HL2\\assets\n",
      "INFO:tensorflow:Assets written to: ./model\\HL2\\assets\n"
     ]
    },
    {
     "name": "stderr",
     "output_type": "stream",
     "text": [
      " 70%|██████████████████████████████████████████████████████▏                      | 57/81 [3:20:16<2:21:57, 354.89s/it]"
     ]
    },
    {
     "name": "stdout",
     "output_type": "stream",
     "text": [
      "INFO:tensorflow:Assets written to: ./model\\HL2\\assets\n",
      "INFO:tensorflow:Assets written to: ./model\\HL2\\assets\n",
      "INFO:tensorflow:Assets written to: ./model\\HL2\\assets\n",
      "INFO:tensorflow:Assets written to: ./model\\HL2\\assets\n",
      "INFO:tensorflow:Assets written to: ./model\\HL2\\assets\n",
      "INFO:tensorflow:Assets written to: ./model\\HL2\\assets\n",
      "INFO:tensorflow:Assets written to: ./model\\HL2\\assets\n",
      "INFO:tensorflow:Assets written to: ./model\\HL2\\assets\n",
      "INFO:tensorflow:Assets written to: ./model\\HL2\\assets\n",
      "INFO:tensorflow:Assets written to: ./model\\HL2\\assets\n",
      "INFO:tensorflow:Assets written to: ./model\\HL2\\assets\n",
      "INFO:tensorflow:Assets written to: ./model\\HL2\\assets\n",
      "INFO:tensorflow:Assets written to: ./model\\HL2\\assets\n"
     ]
    },
    {
     "name": "stderr",
     "output_type": "stream",
     "text": [
      " 72%|███████████████████████████████████████████████████████▏                     | 58/81 [3:25:47<2:13:21, 347.90s/it]"
     ]
    },
    {
     "name": "stdout",
     "output_type": "stream",
     "text": [
      "INFO:tensorflow:Assets written to: ./model\\HL2\\assets\n",
      "INFO:tensorflow:Assets written to: ./model\\HL2\\assets\n",
      "INFO:tensorflow:Assets written to: ./model\\HL2\\assets\n",
      "INFO:tensorflow:Assets written to: ./model\\HL2\\assets\n",
      "INFO:tensorflow:Assets written to: ./model\\HL2\\assets\n",
      "INFO:tensorflow:Assets written to: ./model\\HL2\\assets\n",
      "INFO:tensorflow:Assets written to: ./model\\HL2\\assets\n",
      "INFO:tensorflow:Assets written to: ./model\\HL2\\assets\n"
     ]
    },
    {
     "name": "stderr",
     "output_type": "stream",
     "text": [
      " 73%|████████████████████████████████████████████████████████                     | 59/81 [3:31:41<2:08:13, 349.70s/it]"
     ]
    },
    {
     "name": "stdout",
     "output_type": "stream",
     "text": [
      "INFO:tensorflow:Assets written to: ./model\\HL2\\assets\n",
      "INFO:tensorflow:Assets written to: ./model\\HL2\\assets\n",
      "INFO:tensorflow:Assets written to: ./model\\HL2\\assets\n",
      "INFO:tensorflow:Assets written to: ./model\\HL2\\assets\n",
      "INFO:tensorflow:Assets written to: ./model\\HL2\\assets\n",
      "INFO:tensorflow:Assets written to: ./model\\HL2\\assets\n",
      "INFO:tensorflow:Assets written to: ./model\\HL2\\assets\n",
      "INFO:tensorflow:Assets written to: ./model\\HL2\\assets\n",
      "INFO:tensorflow:Assets written to: ./model\\HL2\\assets\n"
     ]
    },
    {
     "name": "stderr",
     "output_type": "stream",
     "text": [
      " 74%|█████████████████████████████████████████████████████████                    | 60/81 [3:38:37<2:09:23, 369.71s/it]"
     ]
    },
    {
     "name": "stdout",
     "output_type": "stream",
     "text": [
      "INFO:tensorflow:Assets written to: ./model\\HL2\\assets\n",
      "INFO:tensorflow:Assets written to: ./model\\HL2\\assets\n",
      "INFO:tensorflow:Assets written to: ./model\\HL2\\assets\n",
      "INFO:tensorflow:Assets written to: ./model\\HL2\\assets\n",
      "INFO:tensorflow:Assets written to: ./model\\HL2\\assets\n",
      "INFO:tensorflow:Assets written to: ./model\\HL2\\assets\n",
      "INFO:tensorflow:Assets written to: ./model\\HL2\\assets\n",
      "INFO:tensorflow:Assets written to: ./model\\HL2\\assets\n",
      "INFO:tensorflow:Assets written to: ./model\\HL2\\assets\n",
      "INFO:tensorflow:Assets written to: ./model\\HL2\\assets\n",
      "INFO:tensorflow:Assets written to: ./model\\HL2\\assets\n",
      "INFO:tensorflow:Assets written to: ./model\\HL2\\assets\n",
      "INFO:tensorflow:Assets written to: ./model\\HL2\\assets\n",
      "INFO:tensorflow:Assets written to: ./model\\HL2\\assets\n",
      "INFO:tensorflow:Assets written to: ./model\\HL2\\assets\n",
      "INFO:tensorflow:Assets written to: ./model\\HL2\\assets\n",
      "INFO:tensorflow:Assets written to: ./model\\HL2\\assets\n",
      "INFO:tensorflow:Assets written to: ./model\\HL2\\assets\n",
      "INFO:tensorflow:Assets written to: ./model\\HL2\\assets\n"
     ]
    },
    {
     "name": "stderr",
     "output_type": "stream",
     "text": [
      " 75%|█████████████████████████████████████████████████████████▉                   | 61/81 [3:44:17<2:00:10, 360.53s/it]"
     ]
    },
    {
     "name": "stdout",
     "output_type": "stream",
     "text": [
      "INFO:tensorflow:Assets written to: ./model\\HL2\\assets\n",
      "INFO:tensorflow:Assets written to: ./model\\HL2\\assets\n",
      "INFO:tensorflow:Assets written to: ./model\\HL2\\assets\n",
      "INFO:tensorflow:Assets written to: ./model\\HL2\\assets\n",
      "INFO:tensorflow:Assets written to: ./model\\HL2\\assets\n",
      "INFO:tensorflow:Assets written to: ./model\\HL2\\assets\n",
      "INFO:tensorflow:Assets written to: ./model\\HL2\\assets\n",
      "INFO:tensorflow:Assets written to: ./model\\HL2\\assets\n",
      "INFO:tensorflow:Assets written to: ./model\\HL2\\assets\n"
     ]
    },
    {
     "name": "stderr",
     "output_type": "stream",
     "text": [
      " 77%|██████████████████████████████████████████████████████████▉                  | 62/81 [3:50:14<1:53:50, 359.49s/it]"
     ]
    },
    {
     "name": "stdout",
     "output_type": "stream",
     "text": [
      "INFO:tensorflow:Assets written to: ./model\\HL2\\assets\n",
      "INFO:tensorflow:Assets written to: ./model\\HL2\\assets\n",
      "INFO:tensorflow:Assets written to: ./model\\HL2\\assets\n",
      "INFO:tensorflow:Assets written to: ./model\\HL2\\assets\n",
      "INFO:tensorflow:Assets written to: ./model\\HL2\\assets\n",
      "INFO:tensorflow:Assets written to: ./model\\HL2\\assets\n",
      "INFO:tensorflow:Assets written to: ./model\\HL2\\assets\n",
      "INFO:tensorflow:Assets written to: ./model\\HL2\\assets\n",
      "INFO:tensorflow:Assets written to: ./model\\HL2\\assets\n",
      "INFO:tensorflow:Assets written to: ./model\\HL2\\assets\n",
      "INFO:tensorflow:Assets written to: ./model\\HL2\\assets\n",
      "INFO:tensorflow:Assets written to: ./model\\HL2\\assets\n",
      "INFO:tensorflow:Assets written to: ./model\\HL2\\assets\n",
      "INFO:tensorflow:Assets written to: ./model\\HL2\\assets\n",
      "INFO:tensorflow:Assets written to: ./model\\HL2\\assets\n"
     ]
    },
    {
     "name": "stderr",
     "output_type": "stream",
     "text": [
      " 78%|███████████████████████████████████████████████████████████▉                 | 63/81 [3:57:16<1:53:28, 378.27s/it]"
     ]
    },
    {
     "name": "stdout",
     "output_type": "stream",
     "text": [
      "INFO:tensorflow:Assets written to: ./model\\HL2\\assets\n",
      "INFO:tensorflow:Assets written to: ./model\\HL2\\assets\n",
      "INFO:tensorflow:Assets written to: ./model\\HL2\\assets\n",
      "INFO:tensorflow:Assets written to: ./model\\HL2\\assets\n",
      "INFO:tensorflow:Assets written to: ./model\\HL2\\assets\n",
      "INFO:tensorflow:Assets written to: ./model\\HL2\\assets\n",
      "INFO:tensorflow:Assets written to: ./model\\HL2\\assets\n",
      "INFO:tensorflow:Assets written to: ./model\\HL2\\assets\n",
      "INFO:tensorflow:Assets written to: ./model\\HL2\\assets\n",
      "INFO:tensorflow:Assets written to: ./model\\HL2\\assets\n",
      "INFO:tensorflow:Assets written to: ./model\\HL2\\assets\n",
      "INFO:tensorflow:Assets written to: ./model\\HL2\\assets\n",
      "INFO:tensorflow:Assets written to: ./model\\HL2\\assets\n",
      "INFO:tensorflow:Assets written to: ./model\\HL2\\assets\n"
     ]
    },
    {
     "name": "stderr",
     "output_type": "stream",
     "text": [
      " 79%|████████████████████████████████████████████████████████████▊                | 64/81 [4:03:12<1:45:16, 371.54s/it]"
     ]
    },
    {
     "name": "stdout",
     "output_type": "stream",
     "text": [
      "INFO:tensorflow:Assets written to: ./model\\HL2\\assets\n",
      "INFO:tensorflow:Assets written to: ./model\\HL2\\assets\n",
      "INFO:tensorflow:Assets written to: ./model\\HL2\\assets\n",
      "INFO:tensorflow:Assets written to: ./model\\HL2\\assets\n",
      "INFO:tensorflow:Assets written to: ./model\\HL2\\assets\n",
      "INFO:tensorflow:Assets written to: ./model\\HL2\\assets\n",
      "INFO:tensorflow:Assets written to: ./model\\HL2\\assets\n",
      "INFO:tensorflow:Assets written to: ./model\\HL2\\assets\n",
      "INFO:tensorflow:Assets written to: ./model\\HL2\\assets\n",
      "INFO:tensorflow:Assets written to: ./model\\HL2\\assets\n",
      "INFO:tensorflow:Assets written to: ./model\\HL2\\assets\n",
      "INFO:tensorflow:Assets written to: ./model\\HL2\\assets\n",
      "INFO:tensorflow:Assets written to: ./model\\HL2\\assets\n",
      "INFO:tensorflow:Assets written to: ./model\\HL2\\assets\n",
      "INFO:tensorflow:Assets written to: ./model\\HL2\\assets\n"
     ]
    },
    {
     "name": "stderr",
     "output_type": "stream",
     "text": [
      " 80%|█████████████████████████████████████████████████████████████▊               | 65/81 [4:09:34<1:39:59, 374.94s/it]"
     ]
    },
    {
     "name": "stdout",
     "output_type": "stream",
     "text": [
      "INFO:tensorflow:Assets written to: ./model\\HL2\\assets\n",
      "INFO:tensorflow:Assets written to: ./model\\HL2\\assets\n",
      "INFO:tensorflow:Assets written to: ./model\\HL2\\assets\n",
      "INFO:tensorflow:Assets written to: ./model\\HL2\\assets\n",
      "INFO:tensorflow:Assets written to: ./model\\HL2\\assets\n",
      "INFO:tensorflow:Assets written to: ./model\\HL2\\assets\n",
      "INFO:tensorflow:Assets written to: ./model\\HL2\\assets\n",
      "INFO:tensorflow:Assets written to: ./model\\HL2\\assets\n",
      "INFO:tensorflow:Assets written to: ./model\\HL2\\assets\n",
      "INFO:tensorflow:Assets written to: ./model\\HL2\\assets\n",
      "INFO:tensorflow:Assets written to: ./model\\HL2\\assets\n",
      "INFO:tensorflow:Assets written to: ./model\\HL2\\assets\n",
      "INFO:tensorflow:Assets written to: ./model\\HL2\\assets\n",
      "INFO:tensorflow:Assets written to: ./model\\HL2\\assets\n",
      "INFO:tensorflow:Assets written to: ./model\\HL2\\assets\n"
     ]
    },
    {
     "name": "stderr",
     "output_type": "stream",
     "text": [
      " 81%|██████████████████████████████████████████████████████████████▋              | 66/81 [4:17:15<1:40:11, 400.76s/it]"
     ]
    },
    {
     "name": "stdout",
     "output_type": "stream",
     "text": [
      "INFO:tensorflow:Assets written to: ./model\\HL2\\assets\n",
      "INFO:tensorflow:Assets written to: ./model\\HL2\\assets\n",
      "INFO:tensorflow:Assets written to: ./model\\HL2\\assets\n",
      "INFO:tensorflow:Assets written to: ./model\\HL2\\assets\n",
      "INFO:tensorflow:Assets written to: ./model\\HL2\\assets\n",
      "INFO:tensorflow:Assets written to: ./model\\HL2\\assets\n",
      "INFO:tensorflow:Assets written to: ./model\\HL2\\assets\n",
      "INFO:tensorflow:Assets written to: ./model\\HL2\\assets\n",
      "INFO:tensorflow:Assets written to: ./model\\HL2\\assets\n",
      "INFO:tensorflow:Assets written to: ./model\\HL2\\assets\n",
      "INFO:tensorflow:Assets written to: ./model\\HL2\\assets\n",
      "INFO:tensorflow:Assets written to: ./model\\HL2\\assets\n",
      "INFO:tensorflow:Assets written to: ./model\\HL2\\assets\n",
      "INFO:tensorflow:Assets written to: ./model\\HL2\\assets\n",
      "INFO:tensorflow:Assets written to: ./model\\HL2\\assets\n",
      "INFO:tensorflow:Assets written to: ./model\\HL2\\assets\n"
     ]
    },
    {
     "name": "stderr",
     "output_type": "stream",
     "text": [
      " 83%|███████████████████████████████████████████████████████████████▋             | 67/81 [4:23:11<1:30:19, 387.11s/it]"
     ]
    },
    {
     "name": "stdout",
     "output_type": "stream",
     "text": [
      "INFO:tensorflow:Assets written to: ./model\\HL2\\assets\n",
      "INFO:tensorflow:Assets written to: ./model\\HL2\\assets\n",
      "INFO:tensorflow:Assets written to: ./model\\HL2\\assets\n",
      "INFO:tensorflow:Assets written to: ./model\\HL2\\assets\n",
      "INFO:tensorflow:Assets written to: ./model\\HL2\\assets\n",
      "INFO:tensorflow:Assets written to: ./model\\HL2\\assets\n",
      "INFO:tensorflow:Assets written to: ./model\\HL2\\assets\n",
      "INFO:tensorflow:Assets written to: ./model\\HL2\\assets\n"
     ]
    },
    {
     "name": "stderr",
     "output_type": "stream",
     "text": [
      " 84%|████████████████████████████████████████████████████████████████▋            | 68/81 [4:29:33<1:23:33, 385.68s/it]"
     ]
    },
    {
     "name": "stdout",
     "output_type": "stream",
     "text": [
      "INFO:tensorflow:Assets written to: ./model\\HL2\\assets\n",
      "INFO:tensorflow:Assets written to: ./model\\HL2\\assets\n",
      "INFO:tensorflow:Assets written to: ./model\\HL2\\assets\n",
      "INFO:tensorflow:Assets written to: ./model\\HL2\\assets\n",
      "INFO:tensorflow:Assets written to: ./model\\HL2\\assets\n",
      "INFO:tensorflow:Assets written to: ./model\\HL2\\assets\n",
      "INFO:tensorflow:Assets written to: ./model\\HL2\\assets\n",
      "INFO:tensorflow:Assets written to: ./model\\HL2\\assets\n"
     ]
    },
    {
     "name": "stderr",
     "output_type": "stream",
     "text": [
      " 85%|█████████████████████████████████████████████████████████████████▌           | 69/81 [4:37:09<1:21:20, 406.70s/it]"
     ]
    },
    {
     "name": "stdout",
     "output_type": "stream",
     "text": [
      "INFO:tensorflow:Assets written to: ./model\\HL2\\assets\n",
      "INFO:tensorflow:Assets written to: ./model\\HL2\\assets\n",
      "INFO:tensorflow:Assets written to: ./model\\HL2\\assets\n",
      "INFO:tensorflow:Assets written to: ./model\\HL2\\assets\n",
      "INFO:tensorflow:Assets written to: ./model\\HL2\\assets\n",
      "INFO:tensorflow:Assets written to: ./model\\HL2\\assets\n",
      "INFO:tensorflow:Assets written to: ./model\\HL2\\assets\n",
      "INFO:tensorflow:Assets written to: ./model\\HL2\\assets\n",
      "INFO:tensorflow:Assets written to: ./model\\HL2\\assets\n",
      "INFO:tensorflow:Assets written to: ./model\\HL2\\assets\n"
     ]
    },
    {
     "name": "stderr",
     "output_type": "stream",
     "text": [
      " 86%|██████████████████████████████████████████████████████████████████▌          | 70/81 [4:43:02<1:11:36, 390.59s/it]"
     ]
    },
    {
     "name": "stdout",
     "output_type": "stream",
     "text": [
      "INFO:tensorflow:Assets written to: ./model\\HL2\\assets\n",
      "INFO:tensorflow:Assets written to: ./model\\HL2\\assets\n",
      "INFO:tensorflow:Assets written to: ./model\\HL2\\assets\n",
      "INFO:tensorflow:Assets written to: ./model\\HL2\\assets\n",
      "INFO:tensorflow:Assets written to: ./model\\HL2\\assets\n",
      "INFO:tensorflow:Assets written to: ./model\\HL2\\assets\n",
      "INFO:tensorflow:Assets written to: ./model\\HL2\\assets\n",
      "INFO:tensorflow:Assets written to: ./model\\HL2\\assets\n",
      "INFO:tensorflow:Assets written to: ./model\\HL2\\assets\n"
     ]
    },
    {
     "name": "stderr",
     "output_type": "stream",
     "text": [
      " 88%|███████████████████████████████████████████████████████████████████▍         | 71/81 [4:49:23<1:04:37, 387.80s/it]"
     ]
    },
    {
     "name": "stdout",
     "output_type": "stream",
     "text": [
      "INFO:tensorflow:Assets written to: ./model\\HL2\\assets\n",
      "INFO:tensorflow:Assets written to: ./model\\HL2\\assets\n",
      "INFO:tensorflow:Assets written to: ./model\\HL2\\assets\n"
     ]
    },
    {
     "name": "stderr",
     "output_type": "stream",
     "text": [
      " 89%|████████████████████████████████████████████████████████████████████▍        | 72/81 [4:56:56<1:01:07, 407.50s/it]"
     ]
    },
    {
     "name": "stdout",
     "output_type": "stream",
     "text": [
      "INFO:tensorflow:Assets written to: ./model\\HL2\\assets\n",
      "INFO:tensorflow:Assets written to: ./model\\HL2\\assets\n",
      "INFO:tensorflow:Assets written to: ./model\\HL2\\assets\n",
      "INFO:tensorflow:Assets written to: ./model\\HL2\\assets\n",
      "INFO:tensorflow:Assets written to: ./model\\HL2\\assets\n",
      "INFO:tensorflow:Assets written to: ./model\\HL2\\assets\n",
      "INFO:tensorflow:Assets written to: ./model\\HL2\\assets\n",
      "INFO:tensorflow:Assets written to: ./model\\HL2\\assets\n",
      "INFO:tensorflow:Assets written to: ./model\\HL2\\assets\n",
      "INFO:tensorflow:Assets written to: ./model\\HL2\\assets\n",
      "INFO:tensorflow:Assets written to: ./model\\HL2\\assets\n",
      "INFO:tensorflow:Assets written to: ./model\\HL2\\assets\n",
      "INFO:tensorflow:Assets written to: ./model\\HL2\\assets\n",
      "INFO:tensorflow:Assets written to: ./model\\HL2\\assets\n",
      "INFO:tensorflow:Assets written to: ./model\\HL2\\assets\n",
      "INFO:tensorflow:Assets written to: ./model\\HL2\\assets\n",
      "INFO:tensorflow:Assets written to: ./model\\HL2\\assets\n",
      "INFO:tensorflow:Assets written to: ./model\\HL2\\assets\n",
      "INFO:tensorflow:Assets written to: ./model\\HL2\\assets\n",
      "INFO:tensorflow:Assets written to: ./model\\HL2\\assets\n",
      "INFO:tensorflow:Assets written to: ./model\\HL2\\assets\n",
      "INFO:tensorflow:Assets written to: ./model\\HL2\\assets\n",
      "INFO:tensorflow:Assets written to: ./model\\HL2\\assets\n",
      "INFO:tensorflow:Assets written to: ./model\\HL2\\assets\n",
      "INFO:tensorflow:Assets written to: ./model\\HL2\\assets\n",
      "INFO:tensorflow:Assets written to: ./model\\HL2\\assets\n",
      "INFO:tensorflow:Assets written to: ./model\\HL2\\assets\n",
      "INFO:tensorflow:Assets written to: ./model\\HL2\\assets\n",
      "INFO:tensorflow:Assets written to: ./model\\HL2\\assets\n"
     ]
    },
    {
     "name": "stderr",
     "output_type": "stream",
     "text": [
      " 90%|███████████████████████████████████████████████████████████████████████▏       | 73/81 [5:03:28<53:41, 402.65s/it]"
     ]
    },
    {
     "name": "stdout",
     "output_type": "stream",
     "text": [
      "INFO:tensorflow:Assets written to: ./model\\HL2\\assets\n",
      "INFO:tensorflow:Assets written to: ./model\\HL2\\assets\n",
      "INFO:tensorflow:Assets written to: ./model\\HL2\\assets\n",
      "INFO:tensorflow:Assets written to: ./model\\HL2\\assets\n",
      "INFO:tensorflow:Assets written to: ./model\\HL2\\assets\n",
      "INFO:tensorflow:Assets written to: ./model\\HL2\\assets\n",
      "INFO:tensorflow:Assets written to: ./model\\HL2\\assets\n",
      "INFO:tensorflow:Assets written to: ./model\\HL2\\assets\n",
      "INFO:tensorflow:Assets written to: ./model\\HL2\\assets\n",
      "INFO:tensorflow:Assets written to: ./model\\HL2\\assets\n",
      "INFO:tensorflow:Assets written to: ./model\\HL2\\assets\n",
      "INFO:tensorflow:Assets written to: ./model\\HL2\\assets\n",
      "INFO:tensorflow:Assets written to: ./model\\HL2\\assets\n",
      "INFO:tensorflow:Assets written to: ./model\\HL2\\assets\n"
     ]
    },
    {
     "name": "stderr",
     "output_type": "stream",
     "text": [
      " 91%|████████████████████████████████████████████████████████████████████████▏      | 74/81 [5:10:47<48:16, 413.73s/it]"
     ]
    },
    {
     "name": "stdout",
     "output_type": "stream",
     "text": [
      "INFO:tensorflow:Assets written to: ./model\\HL2\\assets\n",
      "INFO:tensorflow:Assets written to: ./model\\HL2\\assets\n",
      "INFO:tensorflow:Assets written to: ./model\\HL2\\assets\n",
      "INFO:tensorflow:Assets written to: ./model\\HL2\\assets\n",
      "INFO:tensorflow:Assets written to: ./model\\HL2\\assets\n",
      "INFO:tensorflow:Assets written to: ./model\\HL2\\assets\n",
      "INFO:tensorflow:Assets written to: ./model\\HL2\\assets\n",
      "INFO:tensorflow:Assets written to: ./model\\HL2\\assets\n",
      "INFO:tensorflow:Assets written to: ./model\\HL2\\assets\n",
      "INFO:tensorflow:Assets written to: ./model\\HL2\\assets\n"
     ]
    },
    {
     "name": "stderr",
     "output_type": "stream",
     "text": [
      " 93%|█████████████████████████████████████████████████████████████████████████▏     | 75/81 [5:19:17<44:14, 442.44s/it]"
     ]
    },
    {
     "name": "stdout",
     "output_type": "stream",
     "text": [
      "INFO:tensorflow:Assets written to: ./model\\HL2\\assets\n",
      "INFO:tensorflow:Assets written to: ./model\\HL2\\assets\n",
      "INFO:tensorflow:Assets written to: ./model\\HL2\\assets\n",
      "INFO:tensorflow:Assets written to: ./model\\HL2\\assets\n",
      "INFO:tensorflow:Assets written to: ./model\\HL2\\assets\n",
      "INFO:tensorflow:Assets written to: ./model\\HL2\\assets\n"
     ]
    },
    {
     "name": "stderr",
     "output_type": "stream",
     "text": [
      " 94%|██████████████████████████████████████████████████████████████████████████     | 76/81 [5:25:29<35:06, 421.33s/it]"
     ]
    },
    {
     "name": "stdout",
     "output_type": "stream",
     "text": [
      "INFO:tensorflow:Assets written to: ./model\\HL2\\assets\n",
      "INFO:tensorflow:Assets written to: ./model\\HL2\\assets\n",
      "INFO:tensorflow:Assets written to: ./model\\HL2\\assets\n",
      "INFO:tensorflow:Assets written to: ./model\\HL2\\assets\n",
      "INFO:tensorflow:Assets written to: ./model\\HL2\\assets\n",
      "INFO:tensorflow:Assets written to: ./model\\HL2\\assets\n",
      "INFO:tensorflow:Assets written to: ./model\\HL2\\assets\n",
      "INFO:tensorflow:Assets written to: ./model\\HL2\\assets\n",
      "INFO:tensorflow:Assets written to: ./model\\HL2\\assets\n",
      "INFO:tensorflow:Assets written to: ./model\\HL2\\assets\n",
      "INFO:tensorflow:Assets written to: ./model\\HL2\\assets\n",
      "INFO:tensorflow:Assets written to: ./model\\HL2\\assets\n",
      "INFO:tensorflow:Assets written to: ./model\\HL2\\assets\n",
      "INFO:tensorflow:Assets written to: ./model\\HL2\\assets\n",
      "INFO:tensorflow:Assets written to: ./model\\HL2\\assets\n",
      "INFO:tensorflow:Assets written to: ./model\\HL2\\assets\n",
      "INFO:tensorflow:Assets written to: ./model\\HL2\\assets\n",
      "INFO:tensorflow:Assets written to: ./model\\HL2\\assets\n",
      "INFO:tensorflow:Assets written to: ./model\\HL2\\assets\n",
      "INFO:tensorflow:Assets written to: ./model\\HL2\\assets\n",
      "INFO:tensorflow:Assets written to: ./model\\HL2\\assets\n",
      "INFO:tensorflow:Assets written to: ./model\\HL2\\assets\n",
      "INFO:tensorflow:Assets written to: ./model\\HL2\\assets\n",
      "INFO:tensorflow:Assets written to: ./model\\HL2\\assets\n",
      "INFO:tensorflow:Assets written to: ./model\\HL2\\assets\n"
     ]
    },
    {
     "name": "stderr",
     "output_type": "stream",
     "text": [
      " 95%|███████████████████████████████████████████████████████████████████████████    | 77/81 [5:33:21<29:06, 436.53s/it]"
     ]
    },
    {
     "name": "stdout",
     "output_type": "stream",
     "text": [
      "INFO:tensorflow:Assets written to: ./model\\HL2\\assets\n",
      "INFO:tensorflow:Assets written to: ./model\\HL2\\assets\n",
      "INFO:tensorflow:Assets written to: ./model\\HL2\\assets\n",
      "INFO:tensorflow:Assets written to: ./model\\HL2\\assets\n",
      "INFO:tensorflow:Assets written to: ./model\\HL2\\assets\n",
      "INFO:tensorflow:Assets written to: ./model\\HL2\\assets\n",
      "INFO:tensorflow:Assets written to: ./model\\HL2\\assets\n",
      "INFO:tensorflow:Assets written to: ./model\\HL2\\assets\n",
      "INFO:tensorflow:Assets written to: ./model\\HL2\\assets\n",
      "INFO:tensorflow:Assets written to: ./model\\HL2\\assets\n",
      "INFO:tensorflow:Assets written to: ./model\\HL2\\assets\n",
      "INFO:tensorflow:Assets written to: ./model\\HL2\\assets\n"
     ]
    },
    {
     "name": "stderr",
     "output_type": "stream",
     "text": [
      " 96%|████████████████████████████████████████████████████████████████████████████   | 78/81 [5:42:00<23:03, 461.20s/it]"
     ]
    },
    {
     "name": "stdout",
     "output_type": "stream",
     "text": [
      "INFO:tensorflow:Assets written to: ./model\\HL2\\assets\n",
      "INFO:tensorflow:Assets written to: ./model\\HL2\\assets\n",
      "INFO:tensorflow:Assets written to: ./model\\HL2\\assets\n",
      "INFO:tensorflow:Assets written to: ./model\\HL2\\assets\n"
     ]
    },
    {
     "name": "stderr",
     "output_type": "stream",
     "text": [
      " 98%|█████████████████████████████████████████████████████████████████████████████  | 79/81 [5:48:10<14:27, 433.86s/it]"
     ]
    },
    {
     "name": "stdout",
     "output_type": "stream",
     "text": [
      "INFO:tensorflow:Assets written to: ./model\\HL2\\assets\n",
      "INFO:tensorflow:Assets written to: ./model\\HL2\\assets\n"
     ]
    },
    {
     "name": "stderr",
     "output_type": "stream",
     "text": [
      " 99%|██████████████████████████████████████████████████████████████████████████████ | 80/81 [5:55:14<07:11, 431.05s/it]"
     ]
    },
    {
     "name": "stdout",
     "output_type": "stream",
     "text": [
      "INFO:tensorflow:Assets written to: ./model\\HL2\\assets\n"
     ]
    },
    {
     "name": "stderr",
     "output_type": "stream",
     "text": [
      "100%|███████████████████████████████████████████████████████████████████████████████| 81/81 [6:03:38<00:00, 269.37s/it]\n"
     ]
    }
   ],
   "source": [
    "t2 = talos.Scan(x = X, y = y, params = p2, model = h2, experiment_name = '2_hidden_layer')\n",
    "analyze_object2 = talos.Analyze(t2)\n",
    "analyze_object2.data.to_excel(\"hidden_layer2.xlsx\")"
   ]
  },
  {
   "cell_type": "code",
   "execution_count": 14,
   "id": "6c5bce8e-8be9-4736-9099-ffda7b8fabb2",
   "metadata": {},
   "outputs": [
    {
     "name": "stderr",
     "output_type": "stream",
     "text": [
      "  0%|                                                                                          | 0/243 [00:00<?, ?it/s]"
     ]
    },
    {
     "name": "stdout",
     "output_type": "stream",
     "text": [
      "INFO:tensorflow:Assets written to: ./model\\HL3\\assets\n",
      "INFO:tensorflow:Assets written to: ./model\\HL3\\assets\n",
      "INFO:tensorflow:Assets written to: ./model\\HL3\\assets\n",
      "INFO:tensorflow:Assets written to: ./model\\HL3\\assets\n",
      "INFO:tensorflow:Assets written to: ./model\\HL3\\assets\n",
      "INFO:tensorflow:Assets written to: ./model\\HL3\\assets\n",
      "INFO:tensorflow:Assets written to: ./model\\HL3\\assets\n",
      "INFO:tensorflow:Assets written to: ./model\\HL3\\assets\n",
      "INFO:tensorflow:Assets written to: ./model\\HL3\\assets\n",
      "INFO:tensorflow:Assets written to: ./model\\HL3\\assets\n",
      "INFO:tensorflow:Assets written to: ./model\\HL3\\assets\n",
      "INFO:tensorflow:Assets written to: ./model\\HL3\\assets\n",
      "INFO:tensorflow:Assets written to: ./model\\HL3\\assets\n",
      "INFO:tensorflow:Assets written to: ./model\\HL3\\assets\n",
      "INFO:tensorflow:Assets written to: ./model\\HL3\\assets\n",
      "INFO:tensorflow:Assets written to: ./model\\HL3\\assets\n"
     ]
    },
    {
     "name": "stderr",
     "output_type": "stream",
     "text": [
      "  0%|▎                                                                              | 1/243 [02:06<8:30:37, 126.60s/it]"
     ]
    },
    {
     "name": "stdout",
     "output_type": "stream",
     "text": [
      "INFO:tensorflow:Assets written to: ./model\\HL3\\assets\n",
      "INFO:tensorflow:Assets written to: ./model\\HL3\\assets\n",
      "INFO:tensorflow:Assets written to: ./model\\HL3\\assets\n",
      "INFO:tensorflow:Assets written to: ./model\\HL3\\assets\n",
      "INFO:tensorflow:Assets written to: ./model\\HL3\\assets\n",
      "INFO:tensorflow:Assets written to: ./model\\HL3\\assets\n",
      "INFO:tensorflow:Assets written to: ./model\\HL3\\assets\n",
      "INFO:tensorflow:Assets written to: ./model\\HL3\\assets\n",
      "INFO:tensorflow:Assets written to: ./model\\HL3\\assets\n",
      "INFO:tensorflow:Assets written to: ./model\\HL3\\assets\n",
      "INFO:tensorflow:Assets written to: ./model\\HL3\\assets\n"
     ]
    },
    {
     "name": "stderr",
     "output_type": "stream",
     "text": [
      "  1%|▋                                                                              | 2/243 [04:13<8:29:01, 126.73s/it]"
     ]
    },
    {
     "name": "stdout",
     "output_type": "stream",
     "text": [
      "INFO:tensorflow:Assets written to: ./model\\HL3\\assets\n",
      "INFO:tensorflow:Assets written to: ./model\\HL3\\assets\n",
      "INFO:tensorflow:Assets written to: ./model\\HL3\\assets\n",
      "INFO:tensorflow:Assets written to: ./model\\HL3\\assets\n",
      "INFO:tensorflow:Assets written to: ./model\\HL3\\assets\n",
      "INFO:tensorflow:Assets written to: ./model\\HL3\\assets\n",
      "INFO:tensorflow:Assets written to: ./model\\HL3\\assets\n",
      "INFO:tensorflow:Assets written to: ./model\\HL3\\assets\n",
      "INFO:tensorflow:Assets written to: ./model\\HL3\\assets\n",
      "INFO:tensorflow:Assets written to: ./model\\HL3\\assets\n",
      "INFO:tensorflow:Assets written to: ./model\\HL3\\assets\n",
      "INFO:tensorflow:Assets written to: ./model\\HL3\\assets\n",
      "INFO:tensorflow:Assets written to: ./model\\HL3\\assets\n",
      "INFO:tensorflow:Assets written to: ./model\\HL3\\assets\n",
      "INFO:tensorflow:Assets written to: ./model\\HL3\\assets\n",
      "INFO:tensorflow:Assets written to: ./model\\HL3\\assets\n",
      "INFO:tensorflow:Assets written to: ./model\\HL3\\assets\n"
     ]
    },
    {
     "name": "stderr",
     "output_type": "stream",
     "text": [
      "  1%|▉                                                                              | 3/243 [06:47<9:16:09, 139.04s/it]"
     ]
    },
    {
     "name": "stdout",
     "output_type": "stream",
     "text": [
      "INFO:tensorflow:Assets written to: ./model\\HL3\\assets\n",
      "INFO:tensorflow:Assets written to: ./model\\HL3\\assets\n",
      "INFO:tensorflow:Assets written to: ./model\\HL3\\assets\n",
      "INFO:tensorflow:Assets written to: ./model\\HL3\\assets\n",
      "INFO:tensorflow:Assets written to: ./model\\HL3\\assets\n",
      "INFO:tensorflow:Assets written to: ./model\\HL3\\assets\n",
      "INFO:tensorflow:Assets written to: ./model\\HL3\\assets\n",
      "INFO:tensorflow:Assets written to: ./model\\HL3\\assets\n",
      "INFO:tensorflow:Assets written to: ./model\\HL3\\assets\n",
      "INFO:tensorflow:Assets written to: ./model\\HL3\\assets\n",
      "INFO:tensorflow:Assets written to: ./model\\HL3\\assets\n",
      "INFO:tensorflow:Assets written to: ./model\\HL3\\assets\n",
      "INFO:tensorflow:Assets written to: ./model\\HL3\\assets\n",
      "INFO:tensorflow:Assets written to: ./model\\HL3\\assets\n",
      "INFO:tensorflow:Assets written to: ./model\\HL3\\assets\n",
      "INFO:tensorflow:Assets written to: ./model\\HL3\\assets\n",
      "INFO:tensorflow:Assets written to: ./model\\HL3\\assets\n",
      "INFO:tensorflow:Assets written to: ./model\\HL3\\assets\n",
      "INFO:tensorflow:Assets written to: ./model\\HL3\\assets\n",
      "INFO:tensorflow:Assets written to: ./model\\HL3\\assets\n",
      "INFO:tensorflow:Assets written to: ./model\\HL3\\assets\n"
     ]
    },
    {
     "name": "stderr",
     "output_type": "stream",
     "text": [
      "  2%|█▎                                                                             | 4/243 [09:01<9:07:08, 137.36s/it]"
     ]
    },
    {
     "name": "stdout",
     "output_type": "stream",
     "text": [
      "INFO:tensorflow:Assets written to: ./model\\HL3\\assets\n",
      "INFO:tensorflow:Assets written to: ./model\\HL3\\assets\n",
      "INFO:tensorflow:Assets written to: ./model\\HL3\\assets\n",
      "INFO:tensorflow:Assets written to: ./model\\HL3\\assets\n",
      "INFO:tensorflow:Assets written to: ./model\\HL3\\assets\n",
      "INFO:tensorflow:Assets written to: ./model\\HL3\\assets\n",
      "INFO:tensorflow:Assets written to: ./model\\HL3\\assets\n",
      "INFO:tensorflow:Assets written to: ./model\\HL3\\assets\n",
      "INFO:tensorflow:Assets written to: ./model\\HL3\\assets\n",
      "INFO:tensorflow:Assets written to: ./model\\HL3\\assets\n",
      "INFO:tensorflow:Assets written to: ./model\\HL3\\assets\n",
      "INFO:tensorflow:Assets written to: ./model\\HL3\\assets\n",
      "INFO:tensorflow:Assets written to: ./model\\HL3\\assets\n"
     ]
    },
    {
     "name": "stderr",
     "output_type": "stream",
     "text": [
      "  2%|█▋                                                                             | 5/243 [11:20<9:07:06, 137.93s/it]"
     ]
    },
    {
     "name": "stdout",
     "output_type": "stream",
     "text": [
      "INFO:tensorflow:Assets written to: ./model\\HL3\\assets\n",
      "INFO:tensorflow:Assets written to: ./model\\HL3\\assets\n",
      "INFO:tensorflow:Assets written to: ./model\\HL3\\assets\n",
      "INFO:tensorflow:Assets written to: ./model\\HL3\\assets\n",
      "INFO:tensorflow:Assets written to: ./model\\HL3\\assets\n",
      "INFO:tensorflow:Assets written to: ./model\\HL3\\assets\n",
      "INFO:tensorflow:Assets written to: ./model\\HL3\\assets\n",
      "INFO:tensorflow:Assets written to: ./model\\HL3\\assets\n",
      "INFO:tensorflow:Assets written to: ./model\\HL3\\assets\n",
      "INFO:tensorflow:Assets written to: ./model\\HL3\\assets\n",
      "INFO:tensorflow:Assets written to: ./model\\HL3\\assets\n",
      "INFO:tensorflow:Assets written to: ./model\\HL3\\assets\n",
      "INFO:tensorflow:Assets written to: ./model\\HL3\\assets\n",
      "INFO:tensorflow:Assets written to: ./model\\HL3\\assets\n"
     ]
    },
    {
     "name": "stderr",
     "output_type": "stream",
     "text": [
      "  2%|█▉                                                                             | 6/243 [14:09<9:45:35, 148.25s/it]"
     ]
    },
    {
     "name": "stdout",
     "output_type": "stream",
     "text": [
      "INFO:tensorflow:Assets written to: ./model\\HL3\\assets\n",
      "INFO:tensorflow:Assets written to: ./model\\HL3\\assets\n",
      "INFO:tensorflow:Assets written to: ./model\\HL3\\assets\n",
      "INFO:tensorflow:Assets written to: ./model\\HL3\\assets\n",
      "INFO:tensorflow:Assets written to: ./model\\HL3\\assets\n",
      "INFO:tensorflow:Assets written to: ./model\\HL3\\assets\n",
      "INFO:tensorflow:Assets written to: ./model\\HL3\\assets\n",
      "INFO:tensorflow:Assets written to: ./model\\HL3\\assets\n",
      "INFO:tensorflow:Assets written to: ./model\\HL3\\assets\n",
      "INFO:tensorflow:Assets written to: ./model\\HL3\\assets\n",
      "INFO:tensorflow:Assets written to: ./model\\HL3\\assets\n",
      "INFO:tensorflow:Assets written to: ./model\\HL3\\assets\n",
      "INFO:tensorflow:Assets written to: ./model\\HL3\\assets\n",
      "INFO:tensorflow:Assets written to: ./model\\HL3\\assets\n",
      "INFO:tensorflow:Assets written to: ./model\\HL3\\assets\n",
      "INFO:tensorflow:Assets written to: ./model\\HL3\\assets\n",
      "INFO:tensorflow:Assets written to: ./model\\HL3\\assets\n",
      "INFO:tensorflow:Assets written to: ./model\\HL3\\assets\n",
      "INFO:tensorflow:Assets written to: ./model\\HL3\\assets\n"
     ]
    },
    {
     "name": "stderr",
     "output_type": "stream",
     "text": [
      "  3%|██▎                                                                            | 7/243 [16:34<9:39:51, 147.42s/it]"
     ]
    },
    {
     "name": "stdout",
     "output_type": "stream",
     "text": [
      "INFO:tensorflow:Assets written to: ./model\\HL3\\assets\n",
      "INFO:tensorflow:Assets written to: ./model\\HL3\\assets\n",
      "INFO:tensorflow:Assets written to: ./model\\HL3\\assets\n",
      "INFO:tensorflow:Assets written to: ./model\\HL3\\assets\n",
      "INFO:tensorflow:Assets written to: ./model\\HL3\\assets\n",
      "INFO:tensorflow:Assets written to: ./model\\HL3\\assets\n",
      "INFO:tensorflow:Assets written to: ./model\\HL3\\assets\n",
      "INFO:tensorflow:Assets written to: ./model\\HL3\\assets\n",
      "INFO:tensorflow:Assets written to: ./model\\HL3\\assets\n",
      "INFO:tensorflow:Assets written to: ./model\\HL3\\assets\n",
      "INFO:tensorflow:Assets written to: ./model\\HL3\\assets\n",
      "INFO:tensorflow:Assets written to: ./model\\HL3\\assets\n"
     ]
    },
    {
     "name": "stderr",
     "output_type": "stream",
     "text": [
      "  3%|██▌                                                                            | 8/243 [19:19<9:59:01, 152.94s/it]"
     ]
    },
    {
     "name": "stdout",
     "output_type": "stream",
     "text": [
      "INFO:tensorflow:Assets written to: ./model\\HL3\\assets\n",
      "INFO:tensorflow:Assets written to: ./model\\HL3\\assets\n",
      "INFO:tensorflow:Assets written to: ./model\\HL3\\assets\n",
      "INFO:tensorflow:Assets written to: ./model\\HL3\\assets\n",
      "INFO:tensorflow:Assets written to: ./model\\HL3\\assets\n",
      "INFO:tensorflow:Assets written to: ./model\\HL3\\assets\n",
      "INFO:tensorflow:Assets written to: ./model\\HL3\\assets\n",
      "INFO:tensorflow:Assets written to: ./model\\HL3\\assets\n",
      "INFO:tensorflow:Assets written to: ./model\\HL3\\assets\n",
      "INFO:tensorflow:Assets written to: ./model\\HL3\\assets\n",
      "INFO:tensorflow:Assets written to: ./model\\HL3\\assets\n",
      "INFO:tensorflow:Assets written to: ./model\\HL3\\assets\n",
      "INFO:tensorflow:Assets written to: ./model\\HL3\\assets\n",
      "INFO:tensorflow:Assets written to: ./model\\HL3\\assets\n",
      "INFO:tensorflow:Assets written to: ./model\\HL3\\assets\n",
      "INFO:tensorflow:Assets written to: ./model\\HL3\\assets\n"
     ]
    },
    {
     "name": "stderr",
     "output_type": "stream",
     "text": [
      "  4%|██▉                                                                           | 9/243 [22:31<10:44:19, 165.21s/it]"
     ]
    },
    {
     "name": "stdout",
     "output_type": "stream",
     "text": [
      "INFO:tensorflow:Assets written to: ./model\\HL3\\assets\n",
      "INFO:tensorflow:Assets written to: ./model\\HL3\\assets\n",
      "INFO:tensorflow:Assets written to: ./model\\HL3\\assets\n",
      "INFO:tensorflow:Assets written to: ./model\\HL3\\assets\n",
      "INFO:tensorflow:Assets written to: ./model\\HL3\\assets\n",
      "INFO:tensorflow:Assets written to: ./model\\HL3\\assets\n",
      "INFO:tensorflow:Assets written to: ./model\\HL3\\assets\n",
      "INFO:tensorflow:Assets written to: ./model\\HL3\\assets\n",
      "INFO:tensorflow:Assets written to: ./model\\HL3\\assets\n",
      "INFO:tensorflow:Assets written to: ./model\\HL3\\assets\n"
     ]
    },
    {
     "name": "stderr",
     "output_type": "stream",
     "text": [
      "  4%|███▏                                                                          | 10/243 [24:34<9:50:09, 151.97s/it]"
     ]
    },
    {
     "name": "stdout",
     "output_type": "stream",
     "text": [
      "INFO:tensorflow:Assets written to: ./model\\HL3\\assets\n",
      "INFO:tensorflow:Assets written to: ./model\\HL3\\assets\n",
      "INFO:tensorflow:Assets written to: ./model\\HL3\\assets\n",
      "INFO:tensorflow:Assets written to: ./model\\HL3\\assets\n",
      "INFO:tensorflow:Assets written to: ./model\\HL3\\assets\n"
     ]
    },
    {
     "name": "stderr",
     "output_type": "stream",
     "text": [
      "  5%|███▌                                                                          | 11/243 [26:38<9:15:26, 143.65s/it]"
     ]
    },
    {
     "name": "stdout",
     "output_type": "stream",
     "text": [
      "INFO:tensorflow:Assets written to: ./model\\HL3\\assets\n",
      "INFO:tensorflow:Assets written to: ./model\\HL3\\assets\n",
      "INFO:tensorflow:Assets written to: ./model\\HL3\\assets\n",
      "INFO:tensorflow:Assets written to: ./model\\HL3\\assets\n",
      "INFO:tensorflow:Assets written to: ./model\\HL3\\assets\n",
      "INFO:tensorflow:Assets written to: ./model\\HL3\\assets\n",
      "INFO:tensorflow:Assets written to: ./model\\HL3\\assets\n",
      "INFO:tensorflow:Assets written to: ./model\\HL3\\assets\n"
     ]
    },
    {
     "name": "stderr",
     "output_type": "stream",
     "text": [
      "  5%|███▊                                                                          | 12/243 [29:08<9:19:53, 145.43s/it]"
     ]
    },
    {
     "name": "stdout",
     "output_type": "stream",
     "text": [
      "INFO:tensorflow:Assets written to: ./model\\HL3\\assets\n",
      "INFO:tensorflow:Assets written to: ./model\\HL3\\assets\n",
      "INFO:tensorflow:Assets written to: ./model\\HL3\\assets\n",
      "INFO:tensorflow:Assets written to: ./model\\HL3\\assets\n",
      "INFO:tensorflow:Assets written to: ./model\\HL3\\assets\n",
      "INFO:tensorflow:Assets written to: ./model\\HL3\\assets\n",
      "INFO:tensorflow:Assets written to: ./model\\HL3\\assets\n",
      "INFO:tensorflow:Assets written to: ./model\\HL3\\assets\n"
     ]
    },
    {
     "name": "stderr",
     "output_type": "stream",
     "text": [
      "  5%|████▏                                                                         | 13/243 [31:13<8:53:57, 139.29s/it]"
     ]
    },
    {
     "name": "stdout",
     "output_type": "stream",
     "text": [
      "INFO:tensorflow:Assets written to: ./model\\HL3\\assets\n",
      "INFO:tensorflow:Assets written to: ./model\\HL3\\assets\n",
      "INFO:tensorflow:Assets written to: ./model\\HL3\\assets\n",
      "INFO:tensorflow:Assets written to: ./model\\HL3\\assets\n",
      "INFO:tensorflow:Assets written to: ./model\\HL3\\assets\n",
      "INFO:tensorflow:Assets written to: ./model\\HL3\\assets\n",
      "INFO:tensorflow:Assets written to: ./model\\HL3\\assets\n",
      "INFO:tensorflow:Assets written to: ./model\\HL3\\assets\n"
     ]
    },
    {
     "name": "stderr",
     "output_type": "stream",
     "text": [
      "  6%|████▍                                                                         | 14/243 [33:28<8:46:11, 137.87s/it]"
     ]
    },
    {
     "name": "stdout",
     "output_type": "stream",
     "text": [
      "INFO:tensorflow:Assets written to: ./model\\HL3\\assets\n",
      "INFO:tensorflow:Assets written to: ./model\\HL3\\assets\n",
      "INFO:tensorflow:Assets written to: ./model\\HL3\\assets\n",
      "INFO:tensorflow:Assets written to: ./model\\HL3\\assets\n",
      "INFO:tensorflow:Assets written to: ./model\\HL3\\assets\n",
      "INFO:tensorflow:Assets written to: ./model\\HL3\\assets\n",
      "INFO:tensorflow:Assets written to: ./model\\HL3\\assets\n",
      "INFO:tensorflow:Assets written to: ./model\\HL3\\assets\n",
      "INFO:tensorflow:Assets written to: ./model\\HL3\\assets\n",
      "INFO:tensorflow:Assets written to: ./model\\HL3\\assets\n"
     ]
    },
    {
     "name": "stderr",
     "output_type": "stream",
     "text": [
      "  6%|████▊                                                                         | 15/243 [36:12<9:13:51, 145.75s/it]"
     ]
    },
    {
     "name": "stdout",
     "output_type": "stream",
     "text": [
      "INFO:tensorflow:Assets written to: ./model\\HL3\\assets\n",
      "INFO:tensorflow:Assets written to: ./model\\HL3\\assets\n",
      "INFO:tensorflow:Assets written to: ./model\\HL3\\assets\n",
      "INFO:tensorflow:Assets written to: ./model\\HL3\\assets\n",
      "INFO:tensorflow:Assets written to: ./model\\HL3\\assets\n",
      "INFO:tensorflow:Assets written to: ./model\\HL3\\assets\n",
      "INFO:tensorflow:Assets written to: ./model\\HL3\\assets\n",
      "INFO:tensorflow:Assets written to: ./model\\HL3\\assets\n",
      "INFO:tensorflow:Assets written to: ./model\\HL3\\assets\n",
      "INFO:tensorflow:Assets written to: ./model\\HL3\\assets\n",
      "INFO:tensorflow:Assets written to: ./model\\HL3\\assets\n",
      "INFO:tensorflow:Assets written to: ./model\\HL3\\assets\n",
      "INFO:tensorflow:Assets written to: ./model\\HL3\\assets\n"
     ]
    },
    {
     "name": "stderr",
     "output_type": "stream",
     "text": [
      "  7%|█████▏                                                                        | 16/243 [38:35<9:08:28, 144.97s/it]"
     ]
    },
    {
     "name": "stdout",
     "output_type": "stream",
     "text": [
      "INFO:tensorflow:Assets written to: ./model\\HL3\\assets\n",
      "INFO:tensorflow:Assets written to: ./model\\HL3\\assets\n",
      "INFO:tensorflow:Assets written to: ./model\\HL3\\assets\n",
      "INFO:tensorflow:Assets written to: ./model\\HL3\\assets\n",
      "INFO:tensorflow:Assets written to: ./model\\HL3\\assets\n",
      "INFO:tensorflow:Assets written to: ./model\\HL3\\assets\n",
      "INFO:tensorflow:Assets written to: ./model\\HL3\\assets\n",
      "INFO:tensorflow:Assets written to: ./model\\HL3\\assets\n",
      "INFO:tensorflow:Assets written to: ./model\\HL3\\assets\n",
      "INFO:tensorflow:Assets written to: ./model\\HL3\\assets\n",
      "INFO:tensorflow:Assets written to: ./model\\HL3\\assets\n"
     ]
    },
    {
     "name": "stderr",
     "output_type": "stream",
     "text": [
      "  7%|█████▍                                                                        | 17/243 [41:19<9:27:37, 150.70s/it]"
     ]
    },
    {
     "name": "stdout",
     "output_type": "stream",
     "text": [
      "INFO:tensorflow:Assets written to: ./model\\HL3\\assets\n",
      "INFO:tensorflow:Assets written to: ./model\\HL3\\assets\n",
      "INFO:tensorflow:Assets written to: ./model\\HL3\\assets\n",
      "INFO:tensorflow:Assets written to: ./model\\HL3\\assets\n",
      "INFO:tensorflow:Assets written to: ./model\\HL3\\assets\n",
      "INFO:tensorflow:Assets written to: ./model\\HL3\\assets\n",
      "INFO:tensorflow:Assets written to: ./model\\HL3\\assets\n",
      "INFO:tensorflow:Assets written to: ./model\\HL3\\assets\n",
      "INFO:tensorflow:Assets written to: ./model\\HL3\\assets\n"
     ]
    },
    {
     "name": "stderr",
     "output_type": "stream",
     "text": [
      "  7%|█████▋                                                                       | 18/243 [44:25<10:05:15, 161.40s/it]"
     ]
    },
    {
     "name": "stdout",
     "output_type": "stream",
     "text": [
      "INFO:tensorflow:Assets written to: ./model\\HL3\\assets\n",
      "INFO:tensorflow:Assets written to: ./model\\HL3\\assets\n",
      "INFO:tensorflow:Assets written to: ./model\\HL3\\assets\n",
      "INFO:tensorflow:Assets written to: ./model\\HL3\\assets\n",
      "INFO:tensorflow:Assets written to: ./model\\HL3\\assets\n"
     ]
    },
    {
     "name": "stderr",
     "output_type": "stream",
     "text": [
      "  8%|██████                                                                        | 19/243 [46:24<9:14:52, 148.63s/it]"
     ]
    },
    {
     "name": "stdout",
     "output_type": "stream",
     "text": [
      "INFO:tensorflow:Assets written to: ./model\\HL3\\assets\n",
      "INFO:tensorflow:Assets written to: ./model\\HL3\\assets\n",
      "INFO:tensorflow:Assets written to: ./model\\HL3\\assets\n",
      "INFO:tensorflow:Assets written to: ./model\\HL3\\assets\n",
      "INFO:tensorflow:Assets written to: ./model\\HL3\\assets\n",
      "INFO:tensorflow:Assets written to: ./model\\HL3\\assets\n"
     ]
    },
    {
     "name": "stderr",
     "output_type": "stream",
     "text": [
      "  8%|██████▍                                                                       | 20/243 [48:28<8:45:21, 141.35s/it]"
     ]
    },
    {
     "name": "stdout",
     "output_type": "stream",
     "text": [
      "INFO:tensorflow:Assets written to: ./model\\HL3\\assets\n",
      "INFO:tensorflow:Assets written to: ./model\\HL3\\assets\n",
      "INFO:tensorflow:Assets written to: ./model\\HL3\\assets\n",
      "INFO:tensorflow:Assets written to: ./model\\HL3\\assets\n",
      "INFO:tensorflow:Assets written to: ./model\\HL3\\assets\n",
      "INFO:tensorflow:Assets written to: ./model\\HL3\\assets\n",
      "INFO:tensorflow:Assets written to: ./model\\HL3\\assets\n",
      "INFO:tensorflow:Assets written to: ./model\\HL3\\assets\n"
     ]
    },
    {
     "name": "stderr",
     "output_type": "stream",
     "text": [
      "  9%|██████▋                                                                       | 21/243 [50:58<8:52:27, 143.91s/it]"
     ]
    },
    {
     "name": "stdout",
     "output_type": "stream",
     "text": [
      "INFO:tensorflow:Assets written to: ./model\\HL3\\assets\n",
      "INFO:tensorflow:Assets written to: ./model\\HL3\\assets\n",
      "INFO:tensorflow:Assets written to: ./model\\HL3\\assets\n",
      "INFO:tensorflow:Assets written to: ./model\\HL3\\assets\n",
      "INFO:tensorflow:Assets written to: ./model\\HL3\\assets\n"
     ]
    },
    {
     "name": "stderr",
     "output_type": "stream",
     "text": [
      "  9%|███████                                                                       | 22/243 [53:02<8:27:39, 137.83s/it]"
     ]
    },
    {
     "name": "stdout",
     "output_type": "stream",
     "text": [
      "INFO:tensorflow:Assets written to: ./model\\HL3\\assets\n",
      "INFO:tensorflow:Assets written to: ./model\\HL3\\assets\n",
      "INFO:tensorflow:Assets written to: ./model\\HL3\\assets\n",
      "INFO:tensorflow:Assets written to: ./model\\HL3\\assets\n",
      "INFO:tensorflow:Assets written to: ./model\\HL3\\assets\n"
     ]
    },
    {
     "name": "stderr",
     "output_type": "stream",
     "text": [
      "  9%|███████▍                                                                      | 23/243 [55:14<8:19:14, 136.16s/it]"
     ]
    },
    {
     "name": "stdout",
     "output_type": "stream",
     "text": [
      "INFO:tensorflow:Assets written to: ./model\\HL3\\assets\n",
      "INFO:tensorflow:Assets written to: ./model\\HL3\\assets\n",
      "INFO:tensorflow:Assets written to: ./model\\HL3\\assets\n",
      "INFO:tensorflow:Assets written to: ./model\\HL3\\assets\n",
      "INFO:tensorflow:Assets written to: ./model\\HL3\\assets\n",
      "INFO:tensorflow:Assets written to: ./model\\HL3\\assets\n"
     ]
    },
    {
     "name": "stderr",
     "output_type": "stream",
     "text": [
      " 10%|███████▋                                                                      | 24/243 [57:55<8:44:13, 143.62s/it]"
     ]
    },
    {
     "name": "stdout",
     "output_type": "stream",
     "text": [
      "INFO:tensorflow:Assets written to: ./model\\HL3\\assets\n",
      "INFO:tensorflow:Assets written to: ./model\\HL3\\assets\n",
      "INFO:tensorflow:Assets written to: ./model\\HL3\\assets\n",
      "INFO:tensorflow:Assets written to: ./model\\HL3\\assets\n",
      "INFO:tensorflow:Assets written to: ./model\\HL3\\assets\n",
      "INFO:tensorflow:Assets written to: ./model\\HL3\\assets\n",
      "INFO:tensorflow:Assets written to: ./model\\HL3\\assets\n"
     ]
    },
    {
     "name": "stderr",
     "output_type": "stream",
     "text": [
      " 10%|███████▊                                                                    | 25/243 [1:00:13<8:35:40, 141.93s/it]"
     ]
    },
    {
     "name": "stdout",
     "output_type": "stream",
     "text": [
      "INFO:tensorflow:Assets written to: ./model\\HL3\\assets\n",
      "INFO:tensorflow:Assets written to: ./model\\HL3\\assets\n",
      "INFO:tensorflow:Assets written to: ./model\\HL3\\assets\n",
      "INFO:tensorflow:Assets written to: ./model\\HL3\\assets\n",
      "INFO:tensorflow:Assets written to: ./model\\HL3\\assets\n"
     ]
    },
    {
     "name": "stderr",
     "output_type": "stream",
     "text": [
      " 11%|████████▏                                                                   | 26/243 [1:02:52<8:51:20, 146.92s/it]"
     ]
    },
    {
     "name": "stdout",
     "output_type": "stream",
     "text": [
      "INFO:tensorflow:Assets written to: ./model\\HL3\\assets\n",
      "INFO:tensorflow:Assets written to: ./model\\HL3\\assets\n",
      "INFO:tensorflow:Assets written to: ./model\\HL3\\assets\n",
      "INFO:tensorflow:Assets written to: ./model\\HL3\\assets\n",
      "INFO:tensorflow:Assets written to: ./model\\HL3\\assets\n",
      "INFO:tensorflow:Assets written to: ./model\\HL3\\assets\n",
      "INFO:tensorflow:Assets written to: ./model\\HL3\\assets\n",
      "INFO:tensorflow:Assets written to: ./model\\HL3\\assets\n",
      "INFO:tensorflow:Assets written to: ./model\\HL3\\assets\n",
      "INFO:tensorflow:Assets written to: ./model\\HL3\\assets\n"
     ]
    },
    {
     "name": "stderr",
     "output_type": "stream",
     "text": [
      " 11%|████████▍                                                                   | 27/243 [1:05:59<9:32:36, 159.06s/it]"
     ]
    },
    {
     "name": "stdout",
     "output_type": "stream",
     "text": [
      "INFO:tensorflow:Assets written to: ./model\\HL3\\assets\n",
      "INFO:tensorflow:Assets written to: ./model\\HL3\\assets\n",
      "INFO:tensorflow:Assets written to: ./model\\HL3\\assets\n",
      "INFO:tensorflow:Assets written to: ./model\\HL3\\assets\n",
      "INFO:tensorflow:Assets written to: ./model\\HL3\\assets\n",
      "INFO:tensorflow:Assets written to: ./model\\HL3\\assets\n",
      "INFO:tensorflow:Assets written to: ./model\\HL3\\assets\n",
      "INFO:tensorflow:Assets written to: ./model\\HL3\\assets\n",
      "INFO:tensorflow:Assets written to: ./model\\HL3\\assets\n",
      "INFO:tensorflow:Assets written to: ./model\\HL3\\assets\n",
      "INFO:tensorflow:Assets written to: ./model\\HL3\\assets\n",
      "INFO:tensorflow:Assets written to: ./model\\HL3\\assets\n"
     ]
    },
    {
     "name": "stderr",
     "output_type": "stream",
     "text": [
      " 12%|████████▊                                                                   | 28/243 [1:08:06<8:55:38, 149.48s/it]"
     ]
    },
    {
     "name": "stdout",
     "output_type": "stream",
     "text": [
      "INFO:tensorflow:Assets written to: ./model\\HL3\\assets\n",
      "INFO:tensorflow:Assets written to: ./model\\HL3\\assets\n",
      "INFO:tensorflow:Assets written to: ./model\\HL3\\assets\n",
      "INFO:tensorflow:Assets written to: ./model\\HL3\\assets\n",
      "INFO:tensorflow:Assets written to: ./model\\HL3\\assets\n",
      "INFO:tensorflow:Assets written to: ./model\\HL3\\assets\n",
      "INFO:tensorflow:Assets written to: ./model\\HL3\\assets\n",
      "INFO:tensorflow:Assets written to: ./model\\HL3\\assets\n",
      "INFO:tensorflow:Assets written to: ./model\\HL3\\assets\n",
      "INFO:tensorflow:Assets written to: ./model\\HL3\\assets\n",
      "INFO:tensorflow:Assets written to: ./model\\HL3\\assets\n",
      "INFO:tensorflow:Assets written to: ./model\\HL3\\assets\n",
      "INFO:tensorflow:Assets written to: ./model\\HL3\\assets\n",
      "INFO:tensorflow:Assets written to: ./model\\HL3\\assets\n",
      "INFO:tensorflow:Assets written to: ./model\\HL3\\assets\n",
      "INFO:tensorflow:Assets written to: ./model\\HL3\\assets\n",
      "INFO:tensorflow:Assets written to: ./model\\HL3\\assets\n",
      "INFO:tensorflow:Assets written to: ./model\\HL3\\assets\n"
     ]
    },
    {
     "name": "stderr",
     "output_type": "stream",
     "text": [
      " 12%|█████████                                                                   | 29/243 [1:10:22<8:38:19, 145.33s/it]"
     ]
    },
    {
     "name": "stdout",
     "output_type": "stream",
     "text": [
      "INFO:tensorflow:Assets written to: ./model\\HL3\\assets\n",
      "INFO:tensorflow:Assets written to: ./model\\HL3\\assets\n",
      "INFO:tensorflow:Assets written to: ./model\\HL3\\assets\n",
      "INFO:tensorflow:Assets written to: ./model\\HL3\\assets\n",
      "INFO:tensorflow:Assets written to: ./model\\HL3\\assets\n",
      "INFO:tensorflow:Assets written to: ./model\\HL3\\assets\n",
      "INFO:tensorflow:Assets written to: ./model\\HL3\\assets\n",
      "INFO:tensorflow:Assets written to: ./model\\HL3\\assets\n",
      "INFO:tensorflow:Assets written to: ./model\\HL3\\assets\n",
      "INFO:tensorflow:Assets written to: ./model\\HL3\\assets\n",
      "INFO:tensorflow:Assets written to: ./model\\HL3\\assets\n",
      "INFO:tensorflow:Assets written to: ./model\\HL3\\assets\n",
      "INFO:tensorflow:Assets written to: ./model\\HL3\\assets\n",
      "INFO:tensorflow:Assets written to: ./model\\HL3\\assets\n"
     ]
    },
    {
     "name": "stderr",
     "output_type": "stream",
     "text": [
      " 12%|█████████▍                                                                  | 30/243 [1:13:00<8:49:48, 149.24s/it]"
     ]
    },
    {
     "name": "stdout",
     "output_type": "stream",
     "text": [
      "INFO:tensorflow:Assets written to: ./model\\HL3\\assets\n",
      "INFO:tensorflow:Assets written to: ./model\\HL3\\assets\n",
      "INFO:tensorflow:Assets written to: ./model\\HL3\\assets\n",
      "INFO:tensorflow:Assets written to: ./model\\HL3\\assets\n",
      "INFO:tensorflow:Assets written to: ./model\\HL3\\assets\n",
      "INFO:tensorflow:Assets written to: ./model\\HL3\\assets\n",
      "INFO:tensorflow:Assets written to: ./model\\HL3\\assets\n",
      "INFO:tensorflow:Assets written to: ./model\\HL3\\assets\n",
      "INFO:tensorflow:Assets written to: ./model\\HL3\\assets\n",
      "INFO:tensorflow:Assets written to: ./model\\HL3\\assets\n",
      "INFO:tensorflow:Assets written to: ./model\\HL3\\assets\n",
      "INFO:tensorflow:Assets written to: ./model\\HL3\\assets\n",
      "INFO:tensorflow:Assets written to: ./model\\HL3\\assets\n",
      "INFO:tensorflow:Assets written to: ./model\\HL3\\assets\n",
      "INFO:tensorflow:Assets written to: ./model\\HL3\\assets\n"
     ]
    },
    {
     "name": "stderr",
     "output_type": "stream",
     "text": [
      " 13%|█████████▋                                                                  | 31/243 [1:15:18<8:34:38, 145.66s/it]"
     ]
    },
    {
     "name": "stdout",
     "output_type": "stream",
     "text": [
      "INFO:tensorflow:Assets written to: ./model\\HL3\\assets\n",
      "INFO:tensorflow:Assets written to: ./model\\HL3\\assets\n",
      "INFO:tensorflow:Assets written to: ./model\\HL3\\assets\n",
      "INFO:tensorflow:Assets written to: ./model\\HL3\\assets\n",
      "INFO:tensorflow:Assets written to: ./model\\HL3\\assets\n",
      "INFO:tensorflow:Assets written to: ./model\\HL3\\assets\n",
      "INFO:tensorflow:Assets written to: ./model\\HL3\\assets\n",
      "INFO:tensorflow:Assets written to: ./model\\HL3\\assets\n",
      "INFO:tensorflow:Assets written to: ./model\\HL3\\assets\n",
      "INFO:tensorflow:Assets written to: ./model\\HL3\\assets\n",
      "INFO:tensorflow:Assets written to: ./model\\HL3\\assets\n",
      "INFO:tensorflow:Assets written to: ./model\\HL3\\assets\n",
      "INFO:tensorflow:Assets written to: ./model\\HL3\\assets\n"
     ]
    },
    {
     "name": "stderr",
     "output_type": "stream",
     "text": [
      " 13%|██████████                                                                  | 32/243 [1:17:41<8:29:43, 144.95s/it]"
     ]
    },
    {
     "name": "stdout",
     "output_type": "stream",
     "text": [
      "INFO:tensorflow:Assets written to: ./model\\HL3\\assets\n",
      "INFO:tensorflow:Assets written to: ./model\\HL3\\assets\n",
      "INFO:tensorflow:Assets written to: ./model\\HL3\\assets\n",
      "INFO:tensorflow:Assets written to: ./model\\HL3\\assets\n",
      "INFO:tensorflow:Assets written to: ./model\\HL3\\assets\n",
      "INFO:tensorflow:Assets written to: ./model\\HL3\\assets\n",
      "INFO:tensorflow:Assets written to: ./model\\HL3\\assets\n",
      "INFO:tensorflow:Assets written to: ./model\\HL3\\assets\n",
      "INFO:tensorflow:Assets written to: ./model\\HL3\\assets\n",
      "INFO:tensorflow:Assets written to: ./model\\HL3\\assets\n",
      "INFO:tensorflow:Assets written to: ./model\\HL3\\assets\n"
     ]
    },
    {
     "name": "stderr",
     "output_type": "stream",
     "text": [
      " 14%|██████████▎                                                                 | 33/243 [1:20:32<8:54:24, 152.69s/it]"
     ]
    },
    {
     "name": "stdout",
     "output_type": "stream",
     "text": [
      "INFO:tensorflow:Assets written to: ./model\\HL3\\assets\n",
      "INFO:tensorflow:Assets written to: ./model\\HL3\\assets\n",
      "INFO:tensorflow:Assets written to: ./model\\HL3\\assets\n",
      "INFO:tensorflow:Assets written to: ./model\\HL3\\assets\n",
      "INFO:tensorflow:Assets written to: ./model\\HL3\\assets\n",
      "INFO:tensorflow:Assets written to: ./model\\HL3\\assets\n",
      "INFO:tensorflow:Assets written to: ./model\\HL3\\assets\n",
      "INFO:tensorflow:Assets written to: ./model\\HL3\\assets\n",
      "INFO:tensorflow:Assets written to: ./model\\HL3\\assets\n",
      "INFO:tensorflow:Assets written to: ./model\\HL3\\assets\n",
      "INFO:tensorflow:Assets written to: ./model\\HL3\\assets\n",
      "INFO:tensorflow:Assets written to: ./model\\HL3\\assets\n",
      "INFO:tensorflow:Assets written to: ./model\\HL3\\assets\n",
      "INFO:tensorflow:Assets written to: ./model\\HL3\\assets\n",
      "INFO:tensorflow:Assets written to: ./model\\HL3\\assets\n",
      "INFO:tensorflow:Assets written to: ./model\\HL3\\assets\n",
      "INFO:tensorflow:Assets written to: ./model\\HL3\\assets\n",
      "INFO:tensorflow:Assets written to: ./model\\HL3\\assets\n"
     ]
    },
    {
     "name": "stderr",
     "output_type": "stream",
     "text": [
      " 14%|██████████▋                                                                 | 34/243 [1:23:10<8:57:24, 154.28s/it]"
     ]
    },
    {
     "name": "stdout",
     "output_type": "stream",
     "text": [
      "INFO:tensorflow:Assets written to: ./model\\HL3\\assets\n",
      "INFO:tensorflow:Assets written to: ./model\\HL3\\assets\n",
      "INFO:tensorflow:Assets written to: ./model\\HL3\\assets\n",
      "INFO:tensorflow:Assets written to: ./model\\HL3\\assets\n",
      "INFO:tensorflow:Assets written to: ./model\\HL3\\assets\n",
      "INFO:tensorflow:Assets written to: ./model\\HL3\\assets\n",
      "INFO:tensorflow:Assets written to: ./model\\HL3\\assets\n",
      "INFO:tensorflow:Assets written to: ./model\\HL3\\assets\n",
      "INFO:tensorflow:Assets written to: ./model\\HL3\\assets\n",
      "INFO:tensorflow:Assets written to: ./model\\HL3\\assets\n",
      "INFO:tensorflow:Assets written to: ./model\\HL3\\assets\n",
      "INFO:tensorflow:Assets written to: ./model\\HL3\\assets\n",
      "INFO:tensorflow:Assets written to: ./model\\HL3\\assets\n",
      "INFO:tensorflow:Assets written to: ./model\\HL3\\assets\n",
      "INFO:tensorflow:Assets written to: ./model\\HL3\\assets\n",
      "INFO:tensorflow:Assets written to: ./model\\HL3\\assets\n",
      "INFO:tensorflow:Assets written to: ./model\\HL3\\assets\n",
      "INFO:tensorflow:Assets written to: ./model\\HL3\\assets\n"
     ]
    },
    {
     "name": "stderr",
     "output_type": "stream",
     "text": [
      " 14%|██████████▉                                                                 | 35/243 [1:26:06<9:18:14, 161.03s/it]"
     ]
    },
    {
     "name": "stdout",
     "output_type": "stream",
     "text": [
      "INFO:tensorflow:Assets written to: ./model\\HL3\\assets\n",
      "INFO:tensorflow:Assets written to: ./model\\HL3\\assets\n",
      "INFO:tensorflow:Assets written to: ./model\\HL3\\assets\n",
      "INFO:tensorflow:Assets written to: ./model\\HL3\\assets\n",
      "INFO:tensorflow:Assets written to: ./model\\HL3\\assets\n",
      "INFO:tensorflow:Assets written to: ./model\\HL3\\assets\n",
      "INFO:tensorflow:Assets written to: ./model\\HL3\\assets\n",
      "INFO:tensorflow:Assets written to: ./model\\HL3\\assets\n",
      "INFO:tensorflow:Assets written to: ./model\\HL3\\assets\n",
      "INFO:tensorflow:Assets written to: ./model\\HL3\\assets\n",
      "INFO:tensorflow:Assets written to: ./model\\HL3\\assets\n",
      "INFO:tensorflow:Assets written to: ./model\\HL3\\assets\n",
      "INFO:tensorflow:Assets written to: ./model\\HL3\\assets\n",
      "INFO:tensorflow:Assets written to: ./model\\HL3\\assets\n"
     ]
    },
    {
     "name": "stderr",
     "output_type": "stream",
     "text": [
      " 15%|███████████▎                                                                | 36/243 [1:29:28<9:57:12, 173.11s/it]"
     ]
    },
    {
     "name": "stdout",
     "output_type": "stream",
     "text": [
      "INFO:tensorflow:Assets written to: ./model\\HL3\\assets\n",
      "INFO:tensorflow:Assets written to: ./model\\HL3\\assets\n",
      "INFO:tensorflow:Assets written to: ./model\\HL3\\assets\n",
      "INFO:tensorflow:Assets written to: ./model\\HL3\\assets\n",
      "INFO:tensorflow:Assets written to: ./model\\HL3\\assets\n",
      "INFO:tensorflow:Assets written to: ./model\\HL3\\assets\n"
     ]
    },
    {
     "name": "stderr",
     "output_type": "stream",
     "text": [
      " 15%|███████████▌                                                                | 37/243 [1:31:31<9:03:13, 158.22s/it]"
     ]
    },
    {
     "name": "stdout",
     "output_type": "stream",
     "text": [
      "INFO:tensorflow:Assets written to: ./model\\HL3\\assets\n",
      "INFO:tensorflow:Assets written to: ./model\\HL3\\assets\n",
      "INFO:tensorflow:Assets written to: ./model\\HL3\\assets\n",
      "INFO:tensorflow:Assets written to: ./model\\HL3\\assets\n",
      "INFO:tensorflow:Assets written to: ./model\\HL3\\assets\n",
      "INFO:tensorflow:Assets written to: ./model\\HL3\\assets\n",
      "INFO:tensorflow:Assets written to: ./model\\HL3\\assets\n"
     ]
    },
    {
     "name": "stderr",
     "output_type": "stream",
     "text": [
      " 16%|███████████▉                                                                | 38/243 [1:33:41<8:31:19, 149.65s/it]"
     ]
    },
    {
     "name": "stdout",
     "output_type": "stream",
     "text": [
      "INFO:tensorflow:Assets written to: ./model\\HL3\\assets\n",
      "INFO:tensorflow:Assets written to: ./model\\HL3\\assets\n",
      "INFO:tensorflow:Assets written to: ./model\\HL3\\assets\n",
      "INFO:tensorflow:Assets written to: ./model\\HL3\\assets\n",
      "INFO:tensorflow:Assets written to: ./model\\HL3\\assets\n",
      "INFO:tensorflow:Assets written to: ./model\\HL3\\assets\n",
      "INFO:tensorflow:Assets written to: ./model\\HL3\\assets\n",
      "INFO:tensorflow:Assets written to: ./model\\HL3\\assets\n",
      "INFO:tensorflow:Assets written to: ./model\\HL3\\assets\n",
      "INFO:tensorflow:Assets written to: ./model\\HL3\\assets\n",
      "INFO:tensorflow:Assets written to: ./model\\HL3\\assets\n",
      "INFO:tensorflow:Assets written to: ./model\\HL3\\assets\n",
      "INFO:tensorflow:Assets written to: ./model\\HL3\\assets\n",
      "INFO:tensorflow:Assets written to: ./model\\HL3\\assets\n"
     ]
    },
    {
     "name": "stderr",
     "output_type": "stream",
     "text": [
      " 16%|████████████▏                                                               | 39/243 [1:36:17<8:35:39, 151.66s/it]"
     ]
    },
    {
     "name": "stdout",
     "output_type": "stream",
     "text": [
      "INFO:tensorflow:Assets written to: ./model\\HL3\\assets\n",
      "INFO:tensorflow:Assets written to: ./model\\HL3\\assets\n",
      "INFO:tensorflow:Assets written to: ./model\\HL3\\assets\n",
      "INFO:tensorflow:Assets written to: ./model\\HL3\\assets\n",
      "INFO:tensorflow:Assets written to: ./model\\HL3\\assets\n",
      "INFO:tensorflow:Assets written to: ./model\\HL3\\assets\n",
      "INFO:tensorflow:Assets written to: ./model\\HL3\\assets\n",
      "INFO:tensorflow:Assets written to: ./model\\HL3\\assets\n",
      "INFO:tensorflow:Assets written to: ./model\\HL3\\assets\n"
     ]
    },
    {
     "name": "stderr",
     "output_type": "stream",
     "text": [
      " 16%|████████████▌                                                               | 40/243 [1:38:32<8:16:18, 146.69s/it]"
     ]
    },
    {
     "name": "stdout",
     "output_type": "stream",
     "text": [
      "INFO:tensorflow:Assets written to: ./model\\HL3\\assets\n",
      "INFO:tensorflow:Assets written to: ./model\\HL3\\assets\n",
      "INFO:tensorflow:Assets written to: ./model\\HL3\\assets\n",
      "INFO:tensorflow:Assets written to: ./model\\HL3\\assets\n",
      "INFO:tensorflow:Assets written to: ./model\\HL3\\assets\n",
      "INFO:tensorflow:Assets written to: ./model\\HL3\\assets\n",
      "INFO:tensorflow:Assets written to: ./model\\HL3\\assets\n",
      "INFO:tensorflow:Assets written to: ./model\\HL3\\assets\n",
      "INFO:tensorflow:Assets written to: ./model\\HL3\\assets\n",
      "INFO:tensorflow:Assets written to: ./model\\HL3\\assets\n"
     ]
    },
    {
     "name": "stderr",
     "output_type": "stream",
     "text": [
      " 17%|████████████▊                                                               | 41/243 [1:40:57<8:11:50, 146.09s/it]"
     ]
    },
    {
     "name": "stdout",
     "output_type": "stream",
     "text": [
      "INFO:tensorflow:Assets written to: ./model\\HL3\\assets\n",
      "INFO:tensorflow:Assets written to: ./model\\HL3\\assets\n",
      "INFO:tensorflow:Assets written to: ./model\\HL3\\assets\n",
      "INFO:tensorflow:Assets written to: ./model\\HL3\\assets\n",
      "INFO:tensorflow:Assets written to: ./model\\HL3\\assets\n",
      "INFO:tensorflow:Assets written to: ./model\\HL3\\assets\n"
     ]
    },
    {
     "name": "stderr",
     "output_type": "stream",
     "text": [
      " 17%|█████████████▏                                                              | 42/243 [1:43:46<8:32:13, 152.90s/it]"
     ]
    },
    {
     "name": "stdout",
     "output_type": "stream",
     "text": [
      "INFO:tensorflow:Assets written to: ./model\\HL3\\assets\n",
      "INFO:tensorflow:Assets written to: ./model\\HL3\\assets\n",
      "INFO:tensorflow:Assets written to: ./model\\HL3\\assets\n",
      "INFO:tensorflow:Assets written to: ./model\\HL3\\assets\n",
      "INFO:tensorflow:Assets written to: ./model\\HL3\\assets\n",
      "INFO:tensorflow:Assets written to: ./model\\HL3\\assets\n",
      "INFO:tensorflow:Assets written to: ./model\\HL3\\assets\n",
      "INFO:tensorflow:Assets written to: ./model\\HL3\\assets\n",
      "INFO:tensorflow:Assets written to: ./model\\HL3\\assets\n",
      "INFO:tensorflow:Assets written to: ./model\\HL3\\assets\n",
      "INFO:tensorflow:Assets written to: ./model\\HL3\\assets\n",
      "INFO:tensorflow:Assets written to: ./model\\HL3\\assets\n",
      "INFO:tensorflow:Assets written to: ./model\\HL3\\assets\n",
      "INFO:tensorflow:Assets written to: ./model\\HL3\\assets\n",
      "INFO:tensorflow:Assets written to: ./model\\HL3\\assets\n",
      "INFO:tensorflow:Assets written to: ./model\\HL3\\assets\n",
      "INFO:tensorflow:Assets written to: ./model\\HL3\\assets\n",
      "INFO:tensorflow:Assets written to: ./model\\HL3\\assets\n"
     ]
    },
    {
     "name": "stderr",
     "output_type": "stream",
     "text": [
      " 18%|█████████████▍                                                              | 43/243 [1:46:25<8:36:01, 154.81s/it]"
     ]
    },
    {
     "name": "stdout",
     "output_type": "stream",
     "text": [
      "INFO:tensorflow:Assets written to: ./model\\HL3\\assets\n",
      "INFO:tensorflow:Assets written to: ./model\\HL3\\assets\n",
      "INFO:tensorflow:Assets written to: ./model\\HL3\\assets\n",
      "INFO:tensorflow:Assets written to: ./model\\HL3\\assets\n",
      "INFO:tensorflow:Assets written to: ./model\\HL3\\assets\n",
      "INFO:tensorflow:Assets written to: ./model\\HL3\\assets\n",
      "INFO:tensorflow:Assets written to: ./model\\HL3\\assets\n",
      "INFO:tensorflow:Assets written to: ./model\\HL3\\assets\n",
      "INFO:tensorflow:Assets written to: ./model\\HL3\\assets\n",
      "INFO:tensorflow:Assets written to: ./model\\HL3\\assets\n",
      "INFO:tensorflow:Assets written to: ./model\\HL3\\assets\n",
      "INFO:tensorflow:Assets written to: ./model\\HL3\\assets\n",
      "INFO:tensorflow:Assets written to: ./model\\HL3\\assets\n",
      "INFO:tensorflow:Assets written to: ./model\\HL3\\assets\n",
      "INFO:tensorflow:Assets written to: ./model\\HL3\\assets\n",
      "INFO:tensorflow:Assets written to: ./model\\HL3\\assets\n",
      "INFO:tensorflow:Assets written to: ./model\\HL3\\assets\n"
     ]
    },
    {
     "name": "stderr",
     "output_type": "stream",
     "text": [
      " 18%|█████████████▊                                                              | 44/243 [1:49:19<8:52:30, 160.56s/it]"
     ]
    },
    {
     "name": "stdout",
     "output_type": "stream",
     "text": [
      "INFO:tensorflow:Assets written to: ./model\\HL3\\assets\n",
      "INFO:tensorflow:Assets written to: ./model\\HL3\\assets\n",
      "INFO:tensorflow:Assets written to: ./model\\HL3\\assets\n",
      "INFO:tensorflow:Assets written to: ./model\\HL3\\assets\n",
      "INFO:tensorflow:Assets written to: ./model\\HL3\\assets\n",
      "INFO:tensorflow:Assets written to: ./model\\HL3\\assets\n",
      "INFO:tensorflow:Assets written to: ./model\\HL3\\assets\n",
      "INFO:tensorflow:Assets written to: ./model\\HL3\\assets\n"
     ]
    },
    {
     "name": "stderr",
     "output_type": "stream",
     "text": [
      " 19%|██████████████                                                              | 45/243 [1:52:37<9:26:52, 171.78s/it]"
     ]
    },
    {
     "name": "stdout",
     "output_type": "stream",
     "text": [
      "INFO:tensorflow:Assets written to: ./model\\HL3\\assets\n",
      "INFO:tensorflow:Assets written to: ./model\\HL3\\assets\n",
      "INFO:tensorflow:Assets written to: ./model\\HL3\\assets\n",
      "INFO:tensorflow:Assets written to: ./model\\HL3\\assets\n",
      "INFO:tensorflow:Assets written to: ./model\\HL3\\assets\n",
      "INFO:tensorflow:Assets written to: ./model\\HL3\\assets\n",
      "INFO:tensorflow:Assets written to: ./model\\HL3\\assets\n",
      "INFO:tensorflow:Assets written to: ./model\\HL3\\assets\n"
     ]
    },
    {
     "name": "stderr",
     "output_type": "stream",
     "text": [
      " 19%|██████████████▍                                                             | 46/243 [1:54:42<8:37:50, 157.72s/it]"
     ]
    },
    {
     "name": "stdout",
     "output_type": "stream",
     "text": [
      "INFO:tensorflow:Assets written to: ./model\\HL3\\assets\n",
      "INFO:tensorflow:Assets written to: ./model\\HL3\\assets\n",
      "INFO:tensorflow:Assets written to: ./model\\HL3\\assets\n",
      "INFO:tensorflow:Assets written to: ./model\\HL3\\assets\n",
      "INFO:tensorflow:Assets written to: ./model\\HL3\\assets\n",
      "INFO:tensorflow:Assets written to: ./model\\HL3\\assets\n",
      "INFO:tensorflow:Assets written to: ./model\\HL3\\assets\n",
      "INFO:tensorflow:Assets written to: ./model\\HL3\\assets\n",
      "INFO:tensorflow:Assets written to: ./model\\HL3\\assets\n"
     ]
    },
    {
     "name": "stderr",
     "output_type": "stream",
     "text": [
      " 19%|██████████████▋                                                             | 47/243 [1:56:53<8:09:32, 149.86s/it]"
     ]
    },
    {
     "name": "stdout",
     "output_type": "stream",
     "text": [
      "INFO:tensorflow:Assets written to: ./model\\HL3\\assets\n",
      "INFO:tensorflow:Assets written to: ./model\\HL3\\assets\n"
     ]
    },
    {
     "name": "stderr",
     "output_type": "stream",
     "text": [
      " 20%|███████████████                                                             | 48/243 [1:59:23<8:07:06, 149.88s/it]"
     ]
    },
    {
     "name": "stdout",
     "output_type": "stream",
     "text": [
      "INFO:tensorflow:Assets written to: ./model\\HL3\\assets\n",
      "INFO:tensorflow:Assets written to: ./model\\HL3\\assets\n",
      "INFO:tensorflow:Assets written to: ./model\\HL3\\assets\n",
      "INFO:tensorflow:Assets written to: ./model\\HL3\\assets\n",
      "INFO:tensorflow:Assets written to: ./model\\HL3\\assets\n",
      "INFO:tensorflow:Assets written to: ./model\\HL3\\assets\n",
      "INFO:tensorflow:Assets written to: ./model\\HL3\\assets\n",
      "INFO:tensorflow:Assets written to: ./model\\HL3\\assets\n"
     ]
    },
    {
     "name": "stderr",
     "output_type": "stream",
     "text": [
      " 20%|███████████████▎                                                            | 49/243 [2:01:37<7:49:18, 145.15s/it]"
     ]
    },
    {
     "name": "stdout",
     "output_type": "stream",
     "text": [
      "INFO:tensorflow:Assets written to: ./model\\HL3\\assets\n",
      "INFO:tensorflow:Assets written to: ./model\\HL3\\assets\n",
      "INFO:tensorflow:Assets written to: ./model\\HL3\\assets\n",
      "INFO:tensorflow:Assets written to: ./model\\HL3\\assets\n",
      "INFO:tensorflow:Assets written to: ./model\\HL3\\assets\n"
     ]
    },
    {
     "name": "stderr",
     "output_type": "stream",
     "text": [
      " 21%|███████████████▋                                                            | 50/243 [2:03:57<7:41:10, 143.37s/it]"
     ]
    },
    {
     "name": "stdout",
     "output_type": "stream",
     "text": [
      "INFO:tensorflow:Assets written to: ./model\\HL3\\assets\n"
     ]
    },
    {
     "name": "stderr",
     "output_type": "stream",
     "text": [
      " 21%|███████████████▉                                                            | 51/243 [2:06:41<7:58:56, 149.67s/it]"
     ]
    },
    {
     "name": "stdout",
     "output_type": "stream",
     "text": [
      "INFO:tensorflow:Assets written to: ./model\\HL3\\assets\n",
      "INFO:tensorflow:Assets written to: ./model\\HL3\\assets\n",
      "INFO:tensorflow:Assets written to: ./model\\HL3\\assets\n",
      "INFO:tensorflow:Assets written to: ./model\\HL3\\assets\n",
      "INFO:tensorflow:Assets written to: ./model\\HL3\\assets\n",
      "INFO:tensorflow:Assets written to: ./model\\HL3\\assets\n",
      "INFO:tensorflow:Assets written to: ./model\\HL3\\assets\n",
      "INFO:tensorflow:Assets written to: ./model\\HL3\\assets\n"
     ]
    },
    {
     "name": "stderr",
     "output_type": "stream",
     "text": [
      " 21%|████████████████▎                                                           | 52/243 [2:09:16<8:01:57, 151.40s/it]"
     ]
    },
    {
     "name": "stdout",
     "output_type": "stream",
     "text": [
      "INFO:tensorflow:Assets written to: ./model\\HL3\\assets\n",
      "INFO:tensorflow:Assets written to: ./model\\HL3\\assets\n",
      "INFO:tensorflow:Assets written to: ./model\\HL3\\assets\n",
      "INFO:tensorflow:Assets written to: ./model\\HL3\\assets\n"
     ]
    },
    {
     "name": "stderr",
     "output_type": "stream",
     "text": [
      " 22%|████████████████▌                                                           | 53/243 [2:12:05<8:16:08, 156.68s/it]"
     ]
    },
    {
     "name": "stdout",
     "output_type": "stream",
     "text": [
      "INFO:tensorflow:Assets written to: ./model\\HL3\\assets\n",
      "INFO:tensorflow:Assets written to: ./model\\HL3\\assets\n",
      "INFO:tensorflow:Assets written to: ./model\\HL3\\assets\n",
      "INFO:tensorflow:Assets written to: ./model\\HL3\\assets\n",
      "INFO:tensorflow:Assets written to: ./model\\HL3\\assets\n",
      "INFO:tensorflow:Assets written to: ./model\\HL3\\assets\n",
      "INFO:tensorflow:Assets written to: ./model\\HL3\\assets\n",
      "INFO:tensorflow:Assets written to: ./model\\HL3\\assets\n",
      "INFO:tensorflow:Assets written to: ./model\\HL3\\assets\n"
     ]
    },
    {
     "name": "stderr",
     "output_type": "stream",
     "text": [
      " 22%|████████████████▉                                                           | 54/243 [2:15:25<8:54:19, 169.62s/it]"
     ]
    },
    {
     "name": "stdout",
     "output_type": "stream",
     "text": [
      "INFO:tensorflow:Assets written to: ./model\\HL3\\assets\n",
      "INFO:tensorflow:Assets written to: ./model\\HL3\\assets\n",
      "INFO:tensorflow:Assets written to: ./model\\HL3\\assets\n",
      "INFO:tensorflow:Assets written to: ./model\\HL3\\assets\n",
      "INFO:tensorflow:Assets written to: ./model\\HL3\\assets\n",
      "INFO:tensorflow:Assets written to: ./model\\HL3\\assets\n",
      "INFO:tensorflow:Assets written to: ./model\\HL3\\assets\n",
      "INFO:tensorflow:Assets written to: ./model\\HL3\\assets\n",
      "INFO:tensorflow:Assets written to: ./model\\HL3\\assets\n",
      "INFO:tensorflow:Assets written to: ./model\\HL3\\assets\n",
      "INFO:tensorflow:Assets written to: ./model\\HL3\\assets\n",
      "INFO:tensorflow:Assets written to: ./model\\HL3\\assets\n",
      "INFO:tensorflow:Assets written to: ./model\\HL3\\assets\n",
      "INFO:tensorflow:Assets written to: ./model\\HL3\\assets\n",
      "INFO:tensorflow:Assets written to: ./model\\HL3\\assets\n",
      "INFO:tensorflow:Assets written to: ./model\\HL3\\assets\n",
      "INFO:tensorflow:Assets written to: ./model\\HL3\\assets\n",
      "INFO:tensorflow:Assets written to: ./model\\HL3\\assets\n",
      "INFO:tensorflow:Assets written to: ./model\\HL3\\assets\n",
      "INFO:tensorflow:Assets written to: ./model\\HL3\\assets\n"
     ]
    },
    {
     "name": "stderr",
     "output_type": "stream",
     "text": [
      " 23%|█████████████████▏                                                          | 55/243 [2:17:46<8:24:34, 161.04s/it]"
     ]
    },
    {
     "name": "stdout",
     "output_type": "stream",
     "text": [
      "INFO:tensorflow:Assets written to: ./model\\HL3\\assets\n",
      "INFO:tensorflow:Assets written to: ./model\\HL3\\assets\n",
      "INFO:tensorflow:Assets written to: ./model\\HL3\\assets\n",
      "INFO:tensorflow:Assets written to: ./model\\HL3\\assets\n",
      "INFO:tensorflow:Assets written to: ./model\\HL3\\assets\n",
      "INFO:tensorflow:Assets written to: ./model\\HL3\\assets\n",
      "INFO:tensorflow:Assets written to: ./model\\HL3\\assets\n",
      "INFO:tensorflow:Assets written to: ./model\\HL3\\assets\n",
      "INFO:tensorflow:Assets written to: ./model\\HL3\\assets\n",
      "INFO:tensorflow:Assets written to: ./model\\HL3\\assets\n",
      "INFO:tensorflow:Assets written to: ./model\\HL3\\assets\n",
      "INFO:tensorflow:Assets written to: ./model\\HL3\\assets\n",
      "INFO:tensorflow:Assets written to: ./model\\HL3\\assets\n",
      "INFO:tensorflow:Assets written to: ./model\\HL3\\assets\n",
      "INFO:tensorflow:Assets written to: ./model\\HL3\\assets\n",
      "INFO:tensorflow:Assets written to: ./model\\HL3\\assets\n",
      "INFO:tensorflow:Assets written to: ./model\\HL3\\assets\n",
      "INFO:tensorflow:Assets written to: ./model\\HL3\\assets\n",
      "INFO:tensorflow:Assets written to: ./model\\HL3\\assets\n",
      "INFO:tensorflow:Assets written to: ./model\\HL3\\assets\n"
     ]
    },
    {
     "name": "stderr",
     "output_type": "stream",
     "text": [
      " 23%|█████████████████▌                                                          | 56/243 [2:20:12<8:07:38, 156.46s/it]"
     ]
    },
    {
     "name": "stdout",
     "output_type": "stream",
     "text": [
      "INFO:tensorflow:Assets written to: ./model\\HL3\\assets\n",
      "INFO:tensorflow:Assets written to: ./model\\HL3\\assets\n",
      "INFO:tensorflow:Assets written to: ./model\\HL3\\assets\n",
      "INFO:tensorflow:Assets written to: ./model\\HL3\\assets\n",
      "INFO:tensorflow:Assets written to: ./model\\HL3\\assets\n",
      "INFO:tensorflow:Assets written to: ./model\\HL3\\assets\n",
      "INFO:tensorflow:Assets written to: ./model\\HL3\\assets\n",
      "INFO:tensorflow:Assets written to: ./model\\HL3\\assets\n",
      "INFO:tensorflow:Assets written to: ./model\\HL3\\assets\n",
      "INFO:tensorflow:Assets written to: ./model\\HL3\\assets\n",
      "INFO:tensorflow:Assets written to: ./model\\HL3\\assets\n",
      "INFO:tensorflow:Assets written to: ./model\\HL3\\assets\n",
      "INFO:tensorflow:Assets written to: ./model\\HL3\\assets\n",
      "INFO:tensorflow:Assets written to: ./model\\HL3\\assets\n",
      "INFO:tensorflow:Assets written to: ./model\\HL3\\assets\n",
      "INFO:tensorflow:Assets written to: ./model\\HL3\\assets\n",
      "INFO:tensorflow:Assets written to: ./model\\HL3\\assets\n",
      "INFO:tensorflow:Assets written to: ./model\\HL3\\assets\n",
      "INFO:tensorflow:Assets written to: ./model\\HL3\\assets\n"
     ]
    },
    {
     "name": "stderr",
     "output_type": "stream",
     "text": [
      " 23%|█████████████████▊                                                          | 57/243 [2:22:59<8:14:59, 159.68s/it]"
     ]
    },
    {
     "name": "stdout",
     "output_type": "stream",
     "text": [
      "INFO:tensorflow:Assets written to: ./model\\HL3\\assets\n",
      "INFO:tensorflow:Assets written to: ./model\\HL3\\assets\n",
      "INFO:tensorflow:Assets written to: ./model\\HL3\\assets\n",
      "INFO:tensorflow:Assets written to: ./model\\HL3\\assets\n",
      "INFO:tensorflow:Assets written to: ./model\\HL3\\assets\n",
      "INFO:tensorflow:Assets written to: ./model\\HL3\\assets\n",
      "INFO:tensorflow:Assets written to: ./model\\HL3\\assets\n",
      "INFO:tensorflow:Assets written to: ./model\\HL3\\assets\n",
      "INFO:tensorflow:Assets written to: ./model\\HL3\\assets\n",
      "INFO:tensorflow:Assets written to: ./model\\HL3\\assets\n",
      "INFO:tensorflow:Assets written to: ./model\\HL3\\assets\n",
      "INFO:tensorflow:Assets written to: ./model\\HL3\\assets\n",
      "INFO:tensorflow:Assets written to: ./model\\HL3\\assets\n",
      "INFO:tensorflow:Assets written to: ./model\\HL3\\assets\n",
      "INFO:tensorflow:Assets written to: ./model\\HL3\\assets\n",
      "INFO:tensorflow:Assets written to: ./model\\HL3\\assets\n",
      "INFO:tensorflow:Assets written to: ./model\\HL3\\assets\n",
      "INFO:tensorflow:Assets written to: ./model\\HL3\\assets\n",
      "INFO:tensorflow:Assets written to: ./model\\HL3\\assets\n"
     ]
    },
    {
     "name": "stderr",
     "output_type": "stream",
     "text": [
      " 24%|██████████████████▏                                                         | 58/243 [2:25:38<8:11:17, 159.34s/it]"
     ]
    },
    {
     "name": "stdout",
     "output_type": "stream",
     "text": [
      "INFO:tensorflow:Assets written to: ./model\\HL3\\assets\n",
      "INFO:tensorflow:Assets written to: ./model\\HL3\\assets\n",
      "INFO:tensorflow:Assets written to: ./model\\HL3\\assets\n",
      "INFO:tensorflow:Assets written to: ./model\\HL3\\assets\n",
      "INFO:tensorflow:Assets written to: ./model\\HL3\\assets\n",
      "INFO:tensorflow:Assets written to: ./model\\HL3\\assets\n",
      "INFO:tensorflow:Assets written to: ./model\\HL3\\assets\n",
      "INFO:tensorflow:Assets written to: ./model\\HL3\\assets\n",
      "INFO:tensorflow:Assets written to: ./model\\HL3\\assets\n",
      "INFO:tensorflow:Assets written to: ./model\\HL3\\assets\n",
      "INFO:tensorflow:Assets written to: ./model\\HL3\\assets\n",
      "INFO:tensorflow:Assets written to: ./model\\HL3\\assets\n"
     ]
    },
    {
     "name": "stderr",
     "output_type": "stream",
     "text": [
      " 24%|██████████████████▍                                                         | 59/243 [2:28:21<8:12:04, 160.46s/it]"
     ]
    },
    {
     "name": "stdout",
     "output_type": "stream",
     "text": [
      "INFO:tensorflow:Assets written to: ./model\\HL3\\assets\n",
      "INFO:tensorflow:Assets written to: ./model\\HL3\\assets\n",
      "INFO:tensorflow:Assets written to: ./model\\HL3\\assets\n",
      "INFO:tensorflow:Assets written to: ./model\\HL3\\assets\n",
      "INFO:tensorflow:Assets written to: ./model\\HL3\\assets\n",
      "INFO:tensorflow:Assets written to: ./model\\HL3\\assets\n",
      "INFO:tensorflow:Assets written to: ./model\\HL3\\assets\n",
      "INFO:tensorflow:Assets written to: ./model\\HL3\\assets\n",
      "INFO:tensorflow:Assets written to: ./model\\HL3\\assets\n",
      "INFO:tensorflow:Assets written to: ./model\\HL3\\assets\n",
      "INFO:tensorflow:Assets written to: ./model\\HL3\\assets\n",
      "INFO:tensorflow:Assets written to: ./model\\HL3\\assets\n",
      "INFO:tensorflow:Assets written to: ./model\\HL3\\assets\n",
      "INFO:tensorflow:Assets written to: ./model\\HL3\\assets\n",
      "INFO:tensorflow:Assets written to: ./model\\HL3\\assets\n"
     ]
    },
    {
     "name": "stderr",
     "output_type": "stream",
     "text": [
      " 25%|██████████████████▊                                                         | 60/243 [2:31:31<8:36:18, 169.28s/it]"
     ]
    },
    {
     "name": "stdout",
     "output_type": "stream",
     "text": [
      "INFO:tensorflow:Assets written to: ./model\\HL3\\assets\n",
      "INFO:tensorflow:Assets written to: ./model\\HL3\\assets\n",
      "INFO:tensorflow:Assets written to: ./model\\HL3\\assets\n",
      "INFO:tensorflow:Assets written to: ./model\\HL3\\assets\n",
      "INFO:tensorflow:Assets written to: ./model\\HL3\\assets\n",
      "INFO:tensorflow:Assets written to: ./model\\HL3\\assets\n",
      "INFO:tensorflow:Assets written to: ./model\\HL3\\assets\n",
      "INFO:tensorflow:Assets written to: ./model\\HL3\\assets\n",
      "INFO:tensorflow:Assets written to: ./model\\HL3\\assets\n",
      "INFO:tensorflow:Assets written to: ./model\\HL3\\assets\n",
      "INFO:tensorflow:Assets written to: ./model\\HL3\\assets\n",
      "INFO:tensorflow:Assets written to: ./model\\HL3\\assets\n",
      "INFO:tensorflow:Assets written to: ./model\\HL3\\assets\n",
      "INFO:tensorflow:Assets written to: ./model\\HL3\\assets\n",
      "INFO:tensorflow:Assets written to: ./model\\HL3\\assets\n",
      "INFO:tensorflow:Assets written to: ./model\\HL3\\assets\n",
      "INFO:tensorflow:Assets written to: ./model\\HL3\\assets\n",
      "INFO:tensorflow:Assets written to: ./model\\HL3\\assets\n",
      "INFO:tensorflow:Assets written to: ./model\\HL3\\assets\n",
      "INFO:tensorflow:Assets written to: ./model\\HL3\\assets\n",
      "INFO:tensorflow:Assets written to: ./model\\HL3\\assets\n",
      "INFO:tensorflow:Assets written to: ./model\\HL3\\assets\n",
      "INFO:tensorflow:Assets written to: ./model\\HL3\\assets\n",
      "INFO:tensorflow:Assets written to: ./model\\HL3\\assets\n",
      "INFO:tensorflow:Assets written to: ./model\\HL3\\assets\n",
      "INFO:tensorflow:Assets written to: ./model\\HL3\\assets\n",
      "INFO:tensorflow:Assets written to: ./model\\HL3\\assets\n"
     ]
    },
    {
     "name": "stderr",
     "output_type": "stream",
     "text": [
      " 25%|███████████████████                                                         | 61/243 [2:34:32<8:44:05, 172.78s/it]"
     ]
    },
    {
     "name": "stdout",
     "output_type": "stream",
     "text": [
      "INFO:tensorflow:Assets written to: ./model\\HL3\\assets\n",
      "INFO:tensorflow:Assets written to: ./model\\HL3\\assets\n",
      "INFO:tensorflow:Assets written to: ./model\\HL3\\assets\n",
      "INFO:tensorflow:Assets written to: ./model\\HL3\\assets\n",
      "INFO:tensorflow:Assets written to: ./model\\HL3\\assets\n",
      "INFO:tensorflow:Assets written to: ./model\\HL3\\assets\n",
      "INFO:tensorflow:Assets written to: ./model\\HL3\\assets\n",
      "INFO:tensorflow:Assets written to: ./model\\HL3\\assets\n",
      "INFO:tensorflow:Assets written to: ./model\\HL3\\assets\n",
      "INFO:tensorflow:Assets written to: ./model\\HL3\\assets\n",
      "INFO:tensorflow:Assets written to: ./model\\HL3\\assets\n",
      "INFO:tensorflow:Assets written to: ./model\\HL3\\assets\n",
      "INFO:tensorflow:Assets written to: ./model\\HL3\\assets\n",
      "INFO:tensorflow:Assets written to: ./model\\HL3\\assets\n"
     ]
    },
    {
     "name": "stderr",
     "output_type": "stream",
     "text": [
      " 26%|███████████████████▍                                                        | 62/243 [2:37:47<9:01:13, 179.41s/it]"
     ]
    },
    {
     "name": "stdout",
     "output_type": "stream",
     "text": [
      "INFO:tensorflow:Assets written to: ./model\\HL3\\assets\n",
      "INFO:tensorflow:Assets written to: ./model\\HL3\\assets\n",
      "INFO:tensorflow:Assets written to: ./model\\HL3\\assets\n",
      "INFO:tensorflow:Assets written to: ./model\\HL3\\assets\n",
      "INFO:tensorflow:Assets written to: ./model\\HL3\\assets\n",
      "INFO:tensorflow:Assets written to: ./model\\HL3\\assets\n",
      "INFO:tensorflow:Assets written to: ./model\\HL3\\assets\n",
      "INFO:tensorflow:Assets written to: ./model\\HL3\\assets\n",
      "INFO:tensorflow:Assets written to: ./model\\HL3\\assets\n",
      "INFO:tensorflow:Assets written to: ./model\\HL3\\assets\n",
      "INFO:tensorflow:Assets written to: ./model\\HL3\\assets\n",
      "INFO:tensorflow:Assets written to: ./model\\HL3\\assets\n",
      "INFO:tensorflow:Assets written to: ./model\\HL3\\assets\n",
      "INFO:tensorflow:Assets written to: ./model\\HL3\\assets\n",
      "INFO:tensorflow:Assets written to: ./model\\HL3\\assets\n",
      "INFO:tensorflow:Assets written to: ./model\\HL3\\assets\n"
     ]
    },
    {
     "name": "stderr",
     "output_type": "stream",
     "text": [
      " 26%|███████████████████▋                                                        | 63/243 [2:41:27<9:34:56, 191.65s/it]"
     ]
    },
    {
     "name": "stdout",
     "output_type": "stream",
     "text": [
      "INFO:tensorflow:Assets written to: ./model\\HL3\\assets\n",
      "INFO:tensorflow:Assets written to: ./model\\HL3\\assets\n",
      "INFO:tensorflow:Assets written to: ./model\\HL3\\assets\n",
      "INFO:tensorflow:Assets written to: ./model\\HL3\\assets\n",
      "INFO:tensorflow:Assets written to: ./model\\HL3\\assets\n",
      "INFO:tensorflow:Assets written to: ./model\\HL3\\assets\n",
      "INFO:tensorflow:Assets written to: ./model\\HL3\\assets\n",
      "INFO:tensorflow:Assets written to: ./model\\HL3\\assets\n",
      "INFO:tensorflow:Assets written to: ./model\\HL3\\assets\n",
      "INFO:tensorflow:Assets written to: ./model\\HL3\\assets\n",
      "INFO:tensorflow:Assets written to: ./model\\HL3\\assets\n",
      "INFO:tensorflow:Assets written to: ./model\\HL3\\assets\n",
      "INFO:tensorflow:Assets written to: ./model\\HL3\\assets\n",
      "INFO:tensorflow:Assets written to: ./model\\HL3\\assets\n",
      "INFO:tensorflow:Assets written to: ./model\\HL3\\assets\n",
      "INFO:tensorflow:Assets written to: ./model\\HL3\\assets\n"
     ]
    },
    {
     "name": "stderr",
     "output_type": "stream",
     "text": [
      " 26%|████████████████████                                                        | 64/243 [2:43:45<8:44:12, 175.71s/it]"
     ]
    },
    {
     "name": "stdout",
     "output_type": "stream",
     "text": [
      "INFO:tensorflow:Assets written to: ./model\\HL3\\assets\n",
      "INFO:tensorflow:Assets written to: ./model\\HL3\\assets\n",
      "INFO:tensorflow:Assets written to: ./model\\HL3\\assets\n"
     ]
    },
    {
     "name": "stderr",
     "output_type": "stream",
     "text": [
      " 27%|████████████████████▎                                                       | 65/243 [2:46:01<8:05:15, 163.57s/it]"
     ]
    },
    {
     "name": "stdout",
     "output_type": "stream",
     "text": [
      "INFO:tensorflow:Assets written to: ./model\\HL3\\assets\n",
      "INFO:tensorflow:Assets written to: ./model\\HL3\\assets\n",
      "INFO:tensorflow:Assets written to: ./model\\HL3\\assets\n",
      "INFO:tensorflow:Assets written to: ./model\\HL3\\assets\n",
      "INFO:tensorflow:Assets written to: ./model\\HL3\\assets\n",
      "INFO:tensorflow:Assets written to: ./model\\HL3\\assets\n"
     ]
    },
    {
     "name": "stderr",
     "output_type": "stream",
     "text": [
      " 27%|████████████████████▋                                                       | 66/243 [2:48:37<7:56:06, 161.39s/it]"
     ]
    },
    {
     "name": "stdout",
     "output_type": "stream",
     "text": [
      "INFO:tensorflow:Assets written to: ./model\\HL3\\assets\n",
      "INFO:tensorflow:Assets written to: ./model\\HL3\\assets\n",
      "INFO:tensorflow:Assets written to: ./model\\HL3\\assets\n",
      "INFO:tensorflow:Assets written to: ./model\\HL3\\assets\n",
      "INFO:tensorflow:Assets written to: ./model\\HL3\\assets\n",
      "INFO:tensorflow:Assets written to: ./model\\HL3\\assets\n",
      "INFO:tensorflow:Assets written to: ./model\\HL3\\assets\n"
     ]
    },
    {
     "name": "stderr",
     "output_type": "stream",
     "text": [
      " 28%|████████████████████▉                                                       | 67/243 [2:51:10<7:45:56, 158.84s/it]"
     ]
    },
    {
     "name": "stdout",
     "output_type": "stream",
     "text": [
      "INFO:tensorflow:Assets written to: ./model\\HL3\\assets\n",
      "INFO:tensorflow:Assets written to: ./model\\HL3\\assets\n",
      "INFO:tensorflow:Assets written to: ./model\\HL3\\assets\n",
      "INFO:tensorflow:Assets written to: ./model\\HL3\\assets\n"
     ]
    },
    {
     "name": "stderr",
     "output_type": "stream",
     "text": [
      " 28%|█████████████████████▎                                                      | 68/243 [2:53:46<7:41:07, 158.10s/it]"
     ]
    },
    {
     "name": "stdout",
     "output_type": "stream",
     "text": [
      "INFO:tensorflow:Assets written to: ./model\\HL3\\assets\n",
      "INFO:tensorflow:Assets written to: ./model\\HL3\\assets\n",
      "INFO:tensorflow:Assets written to: ./model\\HL3\\assets\n",
      "INFO:tensorflow:Assets written to: ./model\\HL3\\assets\n",
      "INFO:tensorflow:Assets written to: ./model\\HL3\\assets\n",
      "INFO:tensorflow:Assets written to: ./model\\HL3\\assets\n",
      "INFO:tensorflow:Assets written to: ./model\\HL3\\assets\n",
      "INFO:tensorflow:Assets written to: ./model\\HL3\\assets\n"
     ]
    },
    {
     "name": "stderr",
     "output_type": "stream",
     "text": [
      " 28%|█████████████████████▌                                                      | 69/243 [2:56:50<8:01:15, 165.95s/it]"
     ]
    },
    {
     "name": "stdout",
     "output_type": "stream",
     "text": [
      "INFO:tensorflow:Assets written to: ./model\\HL3\\assets\n",
      "INFO:tensorflow:Assets written to: ./model\\HL3\\assets\n",
      "INFO:tensorflow:Assets written to: ./model\\HL3\\assets\n",
      "INFO:tensorflow:Assets written to: ./model\\HL3\\assets\n",
      "INFO:tensorflow:Assets written to: ./model\\HL3\\assets\n",
      "INFO:tensorflow:Assets written to: ./model\\HL3\\assets\n"
     ]
    },
    {
     "name": "stderr",
     "output_type": "stream",
     "text": [
      " 29%|█████████████████████▉                                                      | 70/243 [2:59:40<8:01:45, 167.09s/it]"
     ]
    },
    {
     "name": "stdout",
     "output_type": "stream",
     "text": [
      "INFO:tensorflow:Assets written to: ./model\\HL3\\assets\n",
      "INFO:tensorflow:Assets written to: ./model\\HL3\\assets\n",
      "INFO:tensorflow:Assets written to: ./model\\HL3\\assets\n",
      "INFO:tensorflow:Assets written to: ./model\\HL3\\assets\n",
      "INFO:tensorflow:Assets written to: ./model\\HL3\\assets\n",
      "INFO:tensorflow:Assets written to: ./model\\HL3\\assets\n"
     ]
    },
    {
     "name": "stderr",
     "output_type": "stream",
     "text": [
      " 29%|██████████████████████▏                                                     | 71/243 [3:02:48<8:16:54, 173.34s/it]"
     ]
    },
    {
     "name": "stdout",
     "output_type": "stream",
     "text": [
      "INFO:tensorflow:Assets written to: ./model\\HL3\\assets\n",
      "INFO:tensorflow:Assets written to: ./model\\HL3\\assets\n",
      "INFO:tensorflow:Assets written to: ./model\\HL3\\assets\n",
      "INFO:tensorflow:Assets written to: ./model\\HL3\\assets\n",
      "INFO:tensorflow:Assets written to: ./model\\HL3\\assets\n",
      "INFO:tensorflow:Assets written to: ./model\\HL3\\assets\n",
      "INFO:tensorflow:Assets written to: ./model\\HL3\\assets\n"
     ]
    },
    {
     "name": "stderr",
     "output_type": "stream",
     "text": [
      " 30%|██████████████████████▌                                                     | 72/243 [3:06:19<8:46:17, 184.66s/it]"
     ]
    },
    {
     "name": "stdout",
     "output_type": "stream",
     "text": [
      "INFO:tensorflow:Assets written to: ./model\\HL3\\assets\n",
      "INFO:tensorflow:Assets written to: ./model\\HL3\\assets\n",
      "INFO:tensorflow:Assets written to: ./model\\HL3\\assets\n",
      "INFO:tensorflow:Assets written to: ./model\\HL3\\assets\n"
     ]
    },
    {
     "name": "stderr",
     "output_type": "stream",
     "text": [
      " 30%|██████████████████████▊                                                     | 73/243 [3:08:30<7:57:14, 168.44s/it]"
     ]
    },
    {
     "name": "stdout",
     "output_type": "stream",
     "text": [
      "INFO:tensorflow:Assets written to: ./model\\HL3\\assets\n",
      "INFO:tensorflow:Assets written to: ./model\\HL3\\assets\n",
      "INFO:tensorflow:Assets written to: ./model\\HL3\\assets\n"
     ]
    },
    {
     "name": "stderr",
     "output_type": "stream",
     "text": [
      " 30%|███████████████████████▏                                                    | 74/243 [3:10:45<7:26:13, 158.42s/it]"
     ]
    },
    {
     "name": "stdout",
     "output_type": "stream",
     "text": [
      "INFO:tensorflow:Assets written to: ./model\\HL3\\assets\n",
      "INFO:tensorflow:Assets written to: ./model\\HL3\\assets\n",
      "INFO:tensorflow:Assets written to: ./model\\HL3\\assets\n",
      "INFO:tensorflow:Assets written to: ./model\\HL3\\assets\n",
      "INFO:tensorflow:Assets written to: ./model\\HL3\\assets\n",
      "INFO:tensorflow:Assets written to: ./model\\HL3\\assets\n",
      "INFO:tensorflow:Assets written to: ./model\\HL3\\assets\n",
      "INFO:tensorflow:Assets written to: ./model\\HL3\\assets\n",
      "INFO:tensorflow:Assets written to: ./model\\HL3\\assets\n",
      "INFO:tensorflow:Assets written to: ./model\\HL3\\assets\n",
      "INFO:tensorflow:Assets written to: ./model\\HL3\\assets\n"
     ]
    },
    {
     "name": "stderr",
     "output_type": "stream",
     "text": [
      " 31%|███████████████████████▍                                                    | 75/243 [3:13:31<7:30:13, 160.79s/it]"
     ]
    },
    {
     "name": "stdout",
     "output_type": "stream",
     "text": [
      "INFO:tensorflow:Assets written to: ./model\\HL3\\assets\n",
      "INFO:tensorflow:Assets written to: ./model\\HL3\\assets\n"
     ]
    },
    {
     "name": "stderr",
     "output_type": "stream",
     "text": [
      " 31%|███████████████████████▊                                                    | 76/243 [3:15:59<7:16:28, 156.82s/it]"
     ]
    },
    {
     "name": "stdout",
     "output_type": "stream",
     "text": [
      "INFO:tensorflow:Assets written to: ./model\\HL3\\assets\n",
      "INFO:tensorflow:Assets written to: ./model\\HL3\\assets\n",
      "INFO:tensorflow:Assets written to: ./model\\HL3\\assets\n",
      "INFO:tensorflow:Assets written to: ./model\\HL3\\assets\n"
     ]
    },
    {
     "name": "stderr",
     "output_type": "stream",
     "text": [
      " 32%|████████████████████████                                                    | 77/243 [3:18:35<7:13:29, 156.68s/it]"
     ]
    },
    {
     "name": "stdout",
     "output_type": "stream",
     "text": [
      "INFO:tensorflow:Assets written to: ./model\\HL3\\assets\n",
      "INFO:tensorflow:Assets written to: ./model\\HL3\\assets\n",
      "INFO:tensorflow:Assets written to: ./model\\HL3\\assets\n",
      "INFO:tensorflow:Assets written to: ./model\\HL3\\assets\n",
      "INFO:tensorflow:Assets written to: ./model\\HL3\\assets\n",
      "INFO:tensorflow:Assets written to: ./model\\HL3\\assets\n",
      "INFO:tensorflow:Assets written to: ./model\\HL3\\assets\n"
     ]
    },
    {
     "name": "stderr",
     "output_type": "stream",
     "text": [
      " 32%|████████████████████████▍                                                   | 78/243 [3:21:39<7:33:29, 164.91s/it]"
     ]
    },
    {
     "name": "stdout",
     "output_type": "stream",
     "text": [
      "INFO:tensorflow:Assets written to: ./model\\HL3\\assets\n",
      "INFO:tensorflow:Assets written to: ./model\\HL3\\assets\n",
      "INFO:tensorflow:Assets written to: ./model\\HL3\\assets\n",
      "INFO:tensorflow:Assets written to: ./model\\HL3\\assets\n",
      "INFO:tensorflow:Assets written to: ./model\\HL3\\assets\n",
      "INFO:tensorflow:Assets written to: ./model\\HL3\\assets\n"
     ]
    },
    {
     "name": "stderr",
     "output_type": "stream",
     "text": [
      " 33%|████████████████████████▋                                                   | 79/243 [3:24:27<7:33:28, 165.90s/it]"
     ]
    },
    {
     "name": "stdout",
     "output_type": "stream",
     "text": [
      "INFO:tensorflow:Assets written to: ./model\\HL3\\assets\n",
      "INFO:tensorflow:Assets written to: ./model\\HL3\\assets\n",
      "INFO:tensorflow:Assets written to: ./model\\HL3\\assets\n",
      "INFO:tensorflow:Assets written to: ./model\\HL3\\assets\n",
      "INFO:tensorflow:Assets written to: ./model\\HL3\\assets\n",
      "INFO:tensorflow:Assets written to: ./model\\HL3\\assets\n",
      "INFO:tensorflow:Assets written to: ./model\\HL3\\assets\n",
      "INFO:tensorflow:Assets written to: ./model\\HL3\\assets\n",
      "INFO:tensorflow:Assets written to: ./model\\HL3\\assets\n",
      "INFO:tensorflow:Assets written to: ./model\\HL3\\assets\n"
     ]
    },
    {
     "name": "stderr",
     "output_type": "stream",
     "text": [
      " 33%|█████████████████████████                                                   | 80/243 [3:27:38<7:50:43, 173.27s/it]"
     ]
    },
    {
     "name": "stdout",
     "output_type": "stream",
     "text": [
      "INFO:tensorflow:Assets written to: ./model\\HL3\\assets\n",
      "INFO:tensorflow:Assets written to: ./model\\HL3\\assets\n",
      "INFO:tensorflow:Assets written to: ./model\\HL3\\assets\n",
      "INFO:tensorflow:Assets written to: ./model\\HL3\\assets\n",
      "INFO:tensorflow:Assets written to: ./model\\HL3\\assets\n",
      "INFO:tensorflow:Assets written to: ./model\\HL3\\assets\n"
     ]
    },
    {
     "name": "stderr",
     "output_type": "stream",
     "text": [
      " 33%|█████████████████████████▎                                                  | 81/243 [3:31:10<8:18:59, 184.81s/it]"
     ]
    },
    {
     "name": "stdout",
     "output_type": "stream",
     "text": [
      "INFO:tensorflow:Assets written to: ./model\\HL3\\assets\n",
      "INFO:tensorflow:Assets written to: ./model\\HL3\\assets\n",
      "INFO:tensorflow:Assets written to: ./model\\HL3\\assets\n",
      "INFO:tensorflow:Assets written to: ./model\\HL3\\assets\n",
      "INFO:tensorflow:Assets written to: ./model\\HL3\\assets\n",
      "INFO:tensorflow:Assets written to: ./model\\HL3\\assets\n",
      "INFO:tensorflow:Assets written to: ./model\\HL3\\assets\n",
      "INFO:tensorflow:Assets written to: ./model\\HL3\\assets\n",
      "INFO:tensorflow:Assets written to: ./model\\HL3\\assets\n",
      "INFO:tensorflow:Assets written to: ./model\\HL3\\assets\n",
      "INFO:tensorflow:Assets written to: ./model\\HL3\\assets\n",
      "INFO:tensorflow:Assets written to: ./model\\HL3\\assets\n",
      "INFO:tensorflow:Assets written to: ./model\\HL3\\assets\n",
      "INFO:tensorflow:Assets written to: ./model\\HL3\\assets\n",
      "INFO:tensorflow:Assets written to: ./model\\HL3\\assets\n"
     ]
    },
    {
     "name": "stderr",
     "output_type": "stream",
     "text": [
      " 34%|█████████████████████████▋                                                  | 82/243 [3:35:12<9:02:33, 202.20s/it]"
     ]
    },
    {
     "name": "stdout",
     "output_type": "stream",
     "text": [
      "INFO:tensorflow:Assets written to: ./model\\HL3\\assets\n",
      "INFO:tensorflow:Assets written to: ./model\\HL3\\assets\n",
      "INFO:tensorflow:Assets written to: ./model\\HL3\\assets\n",
      "INFO:tensorflow:Assets written to: ./model\\HL3\\assets\n",
      "INFO:tensorflow:Assets written to: ./model\\HL3\\assets\n",
      "INFO:tensorflow:Assets written to: ./model\\HL3\\assets\n",
      "INFO:tensorflow:Assets written to: ./model\\HL3\\assets\n",
      "INFO:tensorflow:Assets written to: ./model\\HL3\\assets\n",
      "INFO:tensorflow:Assets written to: ./model\\HL3\\assets\n",
      "INFO:tensorflow:Assets written to: ./model\\HL3\\assets\n",
      "INFO:tensorflow:Assets written to: ./model\\HL3\\assets\n",
      "INFO:tensorflow:Assets written to: ./model\\HL3\\assets\n",
      "INFO:tensorflow:Assets written to: ./model\\HL3\\assets\n",
      "INFO:tensorflow:Assets written to: ./model\\HL3\\assets\n",
      "INFO:tensorflow:Assets written to: ./model\\HL3\\assets\n"
     ]
    },
    {
     "name": "stderr",
     "output_type": "stream",
     "text": [
      " 34%|█████████████████████████▉                                                  | 83/243 [3:39:25<9:39:49, 217.43s/it]"
     ]
    },
    {
     "name": "stdout",
     "output_type": "stream",
     "text": [
      "INFO:tensorflow:Assets written to: ./model\\HL3\\assets\n",
      "INFO:tensorflow:Assets written to: ./model\\HL3\\assets\n",
      "INFO:tensorflow:Assets written to: ./model\\HL3\\assets\n",
      "INFO:tensorflow:Assets written to: ./model\\HL3\\assets\n",
      "INFO:tensorflow:Assets written to: ./model\\HL3\\assets\n",
      "INFO:tensorflow:Assets written to: ./model\\HL3\\assets\n",
      "INFO:tensorflow:Assets written to: ./model\\HL3\\assets\n",
      "INFO:tensorflow:Assets written to: ./model\\HL3\\assets\n",
      "INFO:tensorflow:Assets written to: ./model\\HL3\\assets\n",
      "INFO:tensorflow:Assets written to: ./model\\HL3\\assets\n",
      "INFO:tensorflow:Assets written to: ./model\\HL3\\assets\n",
      "INFO:tensorflow:Assets written to: ./model\\HL3\\assets\n",
      "INFO:tensorflow:Assets written to: ./model\\HL3\\assets\n",
      "INFO:tensorflow:Assets written to: ./model\\HL3\\assets\n"
     ]
    },
    {
     "name": "stderr",
     "output_type": "stream",
     "text": [
      " 35%|█████████████████████████▉                                                 | 84/243 [3:44:22<10:39:17, 241.24s/it]"
     ]
    },
    {
     "name": "stdout",
     "output_type": "stream",
     "text": [
      "INFO:tensorflow:Assets written to: ./model\\HL3\\assets\n",
      "INFO:tensorflow:Assets written to: ./model\\HL3\\assets\n",
      "INFO:tensorflow:Assets written to: ./model\\HL3\\assets\n",
      "INFO:tensorflow:Assets written to: ./model\\HL3\\assets\n",
      "INFO:tensorflow:Assets written to: ./model\\HL3\\assets\n",
      "INFO:tensorflow:Assets written to: ./model\\HL3\\assets\n",
      "INFO:tensorflow:Assets written to: ./model\\HL3\\assets\n",
      "INFO:tensorflow:Assets written to: ./model\\HL3\\assets\n",
      "INFO:tensorflow:Assets written to: ./model\\HL3\\assets\n",
      "INFO:tensorflow:Assets written to: ./model\\HL3\\assets\n",
      "INFO:tensorflow:Assets written to: ./model\\HL3\\assets\n",
      "INFO:tensorflow:Assets written to: ./model\\HL3\\assets\n",
      "INFO:tensorflow:Assets written to: ./model\\HL3\\assets\n",
      "INFO:tensorflow:Assets written to: ./model\\HL3\\assets\n",
      "INFO:tensorflow:Assets written to: ./model\\HL3\\assets\n",
      "INFO:tensorflow:Assets written to: ./model\\HL3\\assets\n",
      "INFO:tensorflow:Assets written to: ./model\\HL3\\assets\n",
      "INFO:tensorflow:Assets written to: ./model\\HL3\\assets\n",
      "INFO:tensorflow:Assets written to: ./model\\HL3\\assets\n",
      "INFO:tensorflow:Assets written to: ./model\\HL3\\assets\n"
     ]
    },
    {
     "name": "stderr",
     "output_type": "stream",
     "text": [
      " 35%|██████████████████████████▏                                                | 85/243 [3:48:37<10:46:11, 245.39s/it]"
     ]
    },
    {
     "name": "stdout",
     "output_type": "stream",
     "text": [
      "INFO:tensorflow:Assets written to: ./model\\HL3\\assets\n",
      "INFO:tensorflow:Assets written to: ./model\\HL3\\assets\n",
      "INFO:tensorflow:Assets written to: ./model\\HL3\\assets\n",
      "INFO:tensorflow:Assets written to: ./model\\HL3\\assets\n",
      "INFO:tensorflow:Assets written to: ./model\\HL3\\assets\n",
      "INFO:tensorflow:Assets written to: ./model\\HL3\\assets\n",
      "INFO:tensorflow:Assets written to: ./model\\HL3\\assets\n",
      "INFO:tensorflow:Assets written to: ./model\\HL3\\assets\n",
      "INFO:tensorflow:Assets written to: ./model\\HL3\\assets\n",
      "INFO:tensorflow:Assets written to: ./model\\HL3\\assets\n",
      "INFO:tensorflow:Assets written to: ./model\\HL3\\assets\n",
      "INFO:tensorflow:Assets written to: ./model\\HL3\\assets\n",
      "INFO:tensorflow:Assets written to: ./model\\HL3\\assets\n",
      "INFO:tensorflow:Assets written to: ./model\\HL3\\assets\n",
      "INFO:tensorflow:Assets written to: ./model\\HL3\\assets\n",
      "INFO:tensorflow:Assets written to: ./model\\HL3\\assets\n"
     ]
    },
    {
     "name": "stderr",
     "output_type": "stream",
     "text": [
      " 35%|██████████████████████████▌                                                | 86/243 [3:53:09<11:03:16, 253.48s/it]"
     ]
    },
    {
     "name": "stdout",
     "output_type": "stream",
     "text": [
      "INFO:tensorflow:Assets written to: ./model\\HL3\\assets\n",
      "INFO:tensorflow:Assets written to: ./model\\HL3\\assets\n",
      "INFO:tensorflow:Assets written to: ./model\\HL3\\assets\n",
      "INFO:tensorflow:Assets written to: ./model\\HL3\\assets\n",
      "INFO:tensorflow:Assets written to: ./model\\HL3\\assets\n",
      "INFO:tensorflow:Assets written to: ./model\\HL3\\assets\n",
      "INFO:tensorflow:Assets written to: ./model\\HL3\\assets\n",
      "INFO:tensorflow:Assets written to: ./model\\HL3\\assets\n"
     ]
    },
    {
     "name": "stderr",
     "output_type": "stream",
     "text": [
      " 36%|██████████████████████████▊                                                | 87/243 [3:58:31<11:52:19, 273.97s/it]"
     ]
    },
    {
     "name": "stdout",
     "output_type": "stream",
     "text": [
      "INFO:tensorflow:Assets written to: ./model\\HL3\\assets\n",
      "INFO:tensorflow:Assets written to: ./model\\HL3\\assets\n",
      "INFO:tensorflow:Assets written to: ./model\\HL3\\assets\n",
      "INFO:tensorflow:Assets written to: ./model\\HL3\\assets\n",
      "INFO:tensorflow:Assets written to: ./model\\HL3\\assets\n",
      "INFO:tensorflow:Assets written to: ./model\\HL3\\assets\n",
      "INFO:tensorflow:Assets written to: ./model\\HL3\\assets\n",
      "INFO:tensorflow:Assets written to: ./model\\HL3\\assets\n",
      "INFO:tensorflow:Assets written to: ./model\\HL3\\assets\n",
      "INFO:tensorflow:Assets written to: ./model\\HL3\\assets\n",
      "INFO:tensorflow:Assets written to: ./model\\HL3\\assets\n",
      "INFO:tensorflow:Assets written to: ./model\\HL3\\assets\n",
      "INFO:tensorflow:Assets written to: ./model\\HL3\\assets\n",
      "INFO:tensorflow:Assets written to: ./model\\HL3\\assets\n",
      "INFO:tensorflow:Assets written to: ./model\\HL3\\assets\n",
      "INFO:tensorflow:Assets written to: ./model\\HL3\\assets\n"
     ]
    },
    {
     "name": "stderr",
     "output_type": "stream",
     "text": [
      " 36%|███████████████████████████▏                                               | 88/243 [4:03:12<11:53:05, 276.03s/it]"
     ]
    },
    {
     "name": "stdout",
     "output_type": "stream",
     "text": [
      "INFO:tensorflow:Assets written to: ./model\\HL3\\assets\n",
      "INFO:tensorflow:Assets written to: ./model\\HL3\\assets\n",
      "INFO:tensorflow:Assets written to: ./model\\HL3\\assets\n",
      "INFO:tensorflow:Assets written to: ./model\\HL3\\assets\n",
      "INFO:tensorflow:Assets written to: ./model\\HL3\\assets\n",
      "INFO:tensorflow:Assets written to: ./model\\HL3\\assets\n",
      "INFO:tensorflow:Assets written to: ./model\\HL3\\assets\n",
      "INFO:tensorflow:Assets written to: ./model\\HL3\\assets\n",
      "INFO:tensorflow:Assets written to: ./model\\HL3\\assets\n",
      "INFO:tensorflow:Assets written to: ./model\\HL3\\assets\n",
      "INFO:tensorflow:Assets written to: ./model\\HL3\\assets\n",
      "INFO:tensorflow:Assets written to: ./model\\HL3\\assets\n",
      "INFO:tensorflow:Assets written to: ./model\\HL3\\assets\n",
      "INFO:tensorflow:Assets written to: ./model\\HL3\\assets\n",
      "INFO:tensorflow:Assets written to: ./model\\HL3\\assets\n"
     ]
    },
    {
     "name": "stderr",
     "output_type": "stream",
     "text": [
      " 37%|███████████████████████████▍                                               | 89/243 [4:08:34<12:23:40, 289.75s/it]"
     ]
    },
    {
     "name": "stdout",
     "output_type": "stream",
     "text": [
      "INFO:tensorflow:Assets written to: ./model\\HL3\\assets\n",
      "INFO:tensorflow:Assets written to: ./model\\HL3\\assets\n",
      "INFO:tensorflow:Assets written to: ./model\\HL3\\assets\n",
      "INFO:tensorflow:Assets written to: ./model\\HL3\\assets\n",
      "INFO:tensorflow:Assets written to: ./model\\HL3\\assets\n",
      "INFO:tensorflow:Assets written to: ./model\\HL3\\assets\n",
      "INFO:tensorflow:Assets written to: ./model\\HL3\\assets\n",
      "INFO:tensorflow:Assets written to: ./model\\HL3\\assets\n",
      "INFO:tensorflow:Assets written to: ./model\\HL3\\assets\n",
      "INFO:tensorflow:Assets written to: ./model\\HL3\\assets\n",
      "INFO:tensorflow:Assets written to: ./model\\HL3\\assets\n"
     ]
    },
    {
     "name": "stderr",
     "output_type": "stream",
     "text": [
      " 37%|███████████████████████████▊                                               | 90/243 [4:14:45<13:20:46, 314.03s/it]"
     ]
    },
    {
     "name": "stdout",
     "output_type": "stream",
     "text": [
      "INFO:tensorflow:Assets written to: ./model\\HL3\\assets\n",
      "INFO:tensorflow:Assets written to: ./model\\HL3\\assets\n",
      "INFO:tensorflow:Assets written to: ./model\\HL3\\assets\n",
      "INFO:tensorflow:Assets written to: ./model\\HL3\\assets\n",
      "INFO:tensorflow:Assets written to: ./model\\HL3\\assets\n",
      "INFO:tensorflow:Assets written to: ./model\\HL3\\assets\n",
      "INFO:tensorflow:Assets written to: ./model\\HL3\\assets\n",
      "INFO:tensorflow:Assets written to: ./model\\HL3\\assets\n",
      "INFO:tensorflow:Assets written to: ./model\\HL3\\assets\n",
      "INFO:tensorflow:Assets written to: ./model\\HL3\\assets\n",
      "INFO:tensorflow:Assets written to: ./model\\HL3\\assets\n",
      "INFO:tensorflow:Assets written to: ./model\\HL3\\assets\n",
      "INFO:tensorflow:Assets written to: ./model\\HL3\\assets\n",
      "INFO:tensorflow:Assets written to: ./model\\HL3\\assets\n"
     ]
    },
    {
     "name": "stderr",
     "output_type": "stream",
     "text": [
      " 37%|████████████████████████████                                               | 91/243 [4:18:45<12:19:54, 292.07s/it]"
     ]
    },
    {
     "name": "stdout",
     "output_type": "stream",
     "text": [
      "INFO:tensorflow:Assets written to: ./model\\HL3\\assets\n",
      "INFO:tensorflow:Assets written to: ./model\\HL3\\assets\n",
      "INFO:tensorflow:Assets written to: ./model\\HL3\\assets\n",
      "INFO:tensorflow:Assets written to: ./model\\HL3\\assets\n",
      "INFO:tensorflow:Assets written to: ./model\\HL3\\assets\n",
      "INFO:tensorflow:Assets written to: ./model\\HL3\\assets\n",
      "INFO:tensorflow:Assets written to: ./model\\HL3\\assets\n",
      "INFO:tensorflow:Assets written to: ./model\\HL3\\assets\n",
      "INFO:tensorflow:Assets written to: ./model\\HL3\\assets\n",
      "INFO:tensorflow:Assets written to: ./model\\HL3\\assets\n",
      "INFO:tensorflow:Assets written to: ./model\\HL3\\assets\n",
      "INFO:tensorflow:Assets written to: ./model\\HL3\\assets\n"
     ]
    },
    {
     "name": "stderr",
     "output_type": "stream",
     "text": [
      " 38%|████████████████████████████▍                                              | 92/243 [4:22:59<11:45:40, 280.40s/it]"
     ]
    },
    {
     "name": "stdout",
     "output_type": "stream",
     "text": [
      "INFO:tensorflow:Assets written to: ./model\\HL3\\assets\n",
      "INFO:tensorflow:Assets written to: ./model\\HL3\\assets\n",
      "INFO:tensorflow:Assets written to: ./model\\HL3\\assets\n",
      "INFO:tensorflow:Assets written to: ./model\\HL3\\assets\n",
      "INFO:tensorflow:Assets written to: ./model\\HL3\\assets\n",
      "INFO:tensorflow:Assets written to: ./model\\HL3\\assets\n",
      "INFO:tensorflow:Assets written to: ./model\\HL3\\assets\n",
      "INFO:tensorflow:Assets written to: ./model\\HL3\\assets\n",
      "INFO:tensorflow:Assets written to: ./model\\HL3\\assets\n",
      "INFO:tensorflow:Assets written to: ./model\\HL3\\assets\n"
     ]
    },
    {
     "name": "stderr",
     "output_type": "stream",
     "text": [
      " 38%|████████████████████████████▋                                              | 93/243 [4:27:53<11:51:53, 284.76s/it]"
     ]
    },
    {
     "name": "stdout",
     "output_type": "stream",
     "text": [
      "INFO:tensorflow:Assets written to: ./model\\HL3\\assets\n",
      "INFO:tensorflow:Assets written to: ./model\\HL3\\assets\n",
      "INFO:tensorflow:Assets written to: ./model\\HL3\\assets\n",
      "INFO:tensorflow:Assets written to: ./model\\HL3\\assets\n",
      "INFO:tensorflow:Assets written to: ./model\\HL3\\assets\n",
      "INFO:tensorflow:Assets written to: ./model\\HL3\\assets\n",
      "INFO:tensorflow:Assets written to: ./model\\HL3\\assets\n",
      "INFO:tensorflow:Assets written to: ./model\\HL3\\assets\n",
      "INFO:tensorflow:Assets written to: ./model\\HL3\\assets\n",
      "INFO:tensorflow:Assets written to: ./model\\HL3\\assets\n",
      "INFO:tensorflow:Assets written to: ./model\\HL3\\assets\n",
      "INFO:tensorflow:Assets written to: ./model\\HL3\\assets\n",
      "INFO:tensorflow:Assets written to: ./model\\HL3\\assets\n",
      "INFO:tensorflow:Assets written to: ./model\\HL3\\assets\n"
     ]
    },
    {
     "name": "stderr",
     "output_type": "stream",
     "text": [
      " 39%|█████████████████████████████                                              | 94/243 [4:32:05<11:22:20, 274.77s/it]"
     ]
    },
    {
     "name": "stdout",
     "output_type": "stream",
     "text": [
      "INFO:tensorflow:Assets written to: ./model\\HL3\\assets\n",
      "INFO:tensorflow:Assets written to: ./model\\HL3\\assets\n"
     ]
    },
    {
     "name": "stderr",
     "output_type": "stream",
     "text": [
      " 39%|█████████████████████████████▎                                             | 95/243 [4:36:25<11:06:45, 270.30s/it]"
     ]
    },
    {
     "name": "stdout",
     "output_type": "stream",
     "text": [
      "INFO:tensorflow:Assets written to: ./model\\HL3\\assets\n",
      "INFO:tensorflow:Assets written to: ./model\\HL3\\assets\n",
      "INFO:tensorflow:Assets written to: ./model\\HL3\\assets\n",
      "INFO:tensorflow:Assets written to: ./model\\HL3\\assets\n"
     ]
    },
    {
     "name": "stderr",
     "output_type": "stream",
     "text": [
      " 40%|█████████████████████████████▋                                             | 96/243 [4:41:44<11:38:16, 285.01s/it]"
     ]
    },
    {
     "name": "stdout",
     "output_type": "stream",
     "text": [
      "INFO:tensorflow:Assets written to: ./model\\HL3\\assets\n",
      "INFO:tensorflow:Assets written to: ./model\\HL3\\assets\n",
      "INFO:tensorflow:Assets written to: ./model\\HL3\\assets\n",
      "INFO:tensorflow:Assets written to: ./model\\HL3\\assets\n",
      "INFO:tensorflow:Assets written to: ./model\\HL3\\assets\n",
      "INFO:tensorflow:Assets written to: ./model\\HL3\\assets\n",
      "INFO:tensorflow:Assets written to: ./model\\HL3\\assets\n",
      "INFO:tensorflow:Assets written to: ./model\\HL3\\assets\n",
      "INFO:tensorflow:Assets written to: ./model\\HL3\\assets\n",
      "INFO:tensorflow:Assets written to: ./model\\HL3\\assets\n",
      "INFO:tensorflow:Assets written to: ./model\\HL3\\assets\n",
      "INFO:tensorflow:Assets written to: ./model\\HL3\\assets\n",
      "INFO:tensorflow:Assets written to: ./model\\HL3\\assets\n",
      "INFO:tensorflow:Assets written to: ./model\\HL3\\assets\n",
      "INFO:tensorflow:Assets written to: ./model\\HL3\\assets\n",
      "INFO:tensorflow:Assets written to: ./model\\HL3\\assets\n",
      "INFO:tensorflow:Assets written to: ./model\\HL3\\assets\n",
      "INFO:tensorflow:Assets written to: ./model\\HL3\\assets\n",
      "INFO:tensorflow:Assets written to: ./model\\HL3\\assets\n",
      "INFO:tensorflow:Assets written to: ./model\\HL3\\assets\n",
      "INFO:tensorflow:Assets written to: ./model\\HL3\\assets\n",
      "INFO:tensorflow:Assets written to: ./model\\HL3\\assets\n",
      "INFO:tensorflow:Assets written to: ./model\\HL3\\assets\n",
      "INFO:tensorflow:Assets written to: ./model\\HL3\\assets\n",
      "INFO:tensorflow:Assets written to: ./model\\HL3\\assets\n",
      "INFO:tensorflow:Assets written to: ./model\\HL3\\assets\n",
      "INFO:tensorflow:Assets written to: ./model\\HL3\\assets\n",
      "INFO:tensorflow:Assets written to: ./model\\HL3\\assets\n",
      "INFO:tensorflow:Assets written to: ./model\\HL3\\assets\n",
      "INFO:tensorflow:Assets written to: ./model\\HL3\\assets\n",
      "INFO:tensorflow:Assets written to: ./model\\HL3\\assets\n",
      "INFO:tensorflow:Assets written to: ./model\\HL3\\assets\n",
      "INFO:tensorflow:Assets written to: ./model\\HL3\\assets\n",
      "INFO:tensorflow:Assets written to: ./model\\HL3\\assets\n",
      "INFO:tensorflow:Assets written to: ./model\\HL3\\assets\n"
     ]
    },
    {
     "name": "stderr",
     "output_type": "stream",
     "text": [
      " 40%|█████████████████████████████▉                                             | 97/243 [4:46:35<11:38:05, 286.89s/it]"
     ]
    },
    {
     "name": "stdout",
     "output_type": "stream",
     "text": [
      "INFO:tensorflow:Assets written to: ./model\\HL3\\assets\n",
      "INFO:tensorflow:Assets written to: ./model\\HL3\\assets\n",
      "INFO:tensorflow:Assets written to: ./model\\HL3\\assets\n",
      "INFO:tensorflow:Assets written to: ./model\\HL3\\assets\n",
      "INFO:tensorflow:Assets written to: ./model\\HL3\\assets\n",
      "INFO:tensorflow:Assets written to: ./model\\HL3\\assets\n",
      "INFO:tensorflow:Assets written to: ./model\\HL3\\assets\n",
      "INFO:tensorflow:Assets written to: ./model\\HL3\\assets\n",
      "INFO:tensorflow:Assets written to: ./model\\HL3\\assets\n",
      "INFO:tensorflow:Assets written to: ./model\\HL3\\assets\n",
      "INFO:tensorflow:Assets written to: ./model\\HL3\\assets\n",
      "INFO:tensorflow:Assets written to: ./model\\HL3\\assets\n",
      "INFO:tensorflow:Assets written to: ./model\\HL3\\assets\n",
      "INFO:tensorflow:Assets written to: ./model\\HL3\\assets\n"
     ]
    },
    {
     "name": "stderr",
     "output_type": "stream",
     "text": [
      " 40%|██████████████████████████████▏                                            | 98/243 [4:51:55<11:56:45, 296.59s/it]"
     ]
    },
    {
     "name": "stdout",
     "output_type": "stream",
     "text": [
      "INFO:tensorflow:Assets written to: ./model\\HL3\\assets\n",
      "INFO:tensorflow:Assets written to: ./model\\HL3\\assets\n",
      "INFO:tensorflow:Assets written to: ./model\\HL3\\assets\n",
      "INFO:tensorflow:Assets written to: ./model\\HL3\\assets\n",
      "INFO:tensorflow:Assets written to: ./model\\HL3\\assets\n",
      "INFO:tensorflow:Assets written to: ./model\\HL3\\assets\n",
      "INFO:tensorflow:Assets written to: ./model\\HL3\\assets\n",
      "INFO:tensorflow:Assets written to: ./model\\HL3\\assets\n",
      "INFO:tensorflow:Assets written to: ./model\\HL3\\assets\n",
      "INFO:tensorflow:Assets written to: ./model\\HL3\\assets\n"
     ]
    },
    {
     "name": "stderr",
     "output_type": "stream",
     "text": [
      " 41%|██████████████████████████████▌                                            | 99/243 [4:58:01<12:41:55, 317.47s/it]"
     ]
    },
    {
     "name": "stdout",
     "output_type": "stream",
     "text": [
      "INFO:tensorflow:Assets written to: ./model\\HL3\\assets\n",
      "INFO:tensorflow:Assets written to: ./model\\HL3\\assets\n",
      "INFO:tensorflow:Assets written to: ./model\\HL3\\assets\n",
      "INFO:tensorflow:Assets written to: ./model\\HL3\\assets\n",
      "INFO:tensorflow:Assets written to: ./model\\HL3\\assets\n",
      "INFO:tensorflow:Assets written to: ./model\\HL3\\assets\n",
      "INFO:tensorflow:Assets written to: ./model\\HL3\\assets\n",
      "INFO:tensorflow:Assets written to: ./model\\HL3\\assets\n"
     ]
    },
    {
     "name": "stderr",
     "output_type": "stream",
     "text": [
      " 41%|██████████████████████████████▍                                           | 100/243 [5:01:56<11:37:58, 292.86s/it]"
     ]
    },
    {
     "name": "stdout",
     "output_type": "stream",
     "text": [
      "INFO:tensorflow:Assets written to: ./model\\HL3\\assets\n",
      "INFO:tensorflow:Assets written to: ./model\\HL3\\assets\n"
     ]
    },
    {
     "name": "stderr",
     "output_type": "stream",
     "text": [
      " 42%|██████████████████████████████▊                                           | 101/243 [5:05:59<10:57:52, 277.97s/it]"
     ]
    },
    {
     "name": "stdout",
     "output_type": "stream",
     "text": [
      "INFO:tensorflow:Assets written to: ./model\\HL3\\assets\n",
      "INFO:tensorflow:Assets written to: ./model\\HL3\\assets\n",
      "INFO:tensorflow:Assets written to: ./model\\HL3\\assets\n",
      "INFO:tensorflow:Assets written to: ./model\\HL3\\assets\n",
      "INFO:tensorflow:Assets written to: ./model\\HL3\\assets\n",
      "INFO:tensorflow:Assets written to: ./model\\HL3\\assets\n",
      "INFO:tensorflow:Assets written to: ./model\\HL3\\assets\n",
      "INFO:tensorflow:Assets written to: ./model\\HL3\\assets\n",
      "INFO:tensorflow:Assets written to: ./model\\HL3\\assets\n",
      "INFO:tensorflow:Assets written to: ./model\\HL3\\assets\n",
      "INFO:tensorflow:Assets written to: ./model\\HL3\\assets\n",
      "INFO:tensorflow:Assets written to: ./model\\HL3\\assets\n",
      "INFO:tensorflow:Assets written to: ./model\\HL3\\assets\n",
      "INFO:tensorflow:Assets written to: ./model\\HL3\\assets\n",
      "INFO:tensorflow:Assets written to: ./model\\HL3\\assets\n",
      "INFO:tensorflow:Assets written to: ./model\\HL3\\assets\n"
     ]
    },
    {
     "name": "stderr",
     "output_type": "stream",
     "text": [
      " 42%|███████████████████████████████                                           | 102/243 [5:10:56<11:06:14, 283.51s/it]"
     ]
    },
    {
     "name": "stdout",
     "output_type": "stream",
     "text": [
      "INFO:tensorflow:Assets written to: ./model\\HL3\\assets\n",
      "INFO:tensorflow:Assets written to: ./model\\HL3\\assets\n",
      "INFO:tensorflow:Assets written to: ./model\\HL3\\assets\n",
      "INFO:tensorflow:Assets written to: ./model\\HL3\\assets\n",
      "INFO:tensorflow:Assets written to: ./model\\HL3\\assets\n",
      "INFO:tensorflow:Assets written to: ./model\\HL3\\assets\n"
     ]
    },
    {
     "name": "stderr",
     "output_type": "stream",
     "text": [
      " 42%|███████████████████████████████▎                                          | 103/243 [5:15:00<10:33:38, 271.56s/it]"
     ]
    },
    {
     "name": "stdout",
     "output_type": "stream",
     "text": [
      "INFO:tensorflow:Assets written to: ./model\\HL3\\assets\n",
      "INFO:tensorflow:Assets written to: ./model\\HL3\\assets\n",
      "INFO:tensorflow:Assets written to: ./model\\HL3\\assets\n",
      "INFO:tensorflow:Assets written to: ./model\\HL3\\assets\n",
      "INFO:tensorflow:Assets written to: ./model\\HL3\\assets\n",
      "INFO:tensorflow:Assets written to: ./model\\HL3\\assets\n"
     ]
    },
    {
     "name": "stderr",
     "output_type": "stream",
     "text": [
      " 43%|███████████████████████████████▋                                          | 104/243 [5:19:20<10:21:27, 268.25s/it]"
     ]
    },
    {
     "name": "stdout",
     "output_type": "stream",
     "text": [
      "INFO:tensorflow:Assets written to: ./model\\HL3\\assets\n",
      "INFO:tensorflow:Assets written to: ./model\\HL3\\assets\n",
      "INFO:tensorflow:Assets written to: ./model\\HL3\\assets\n",
      "INFO:tensorflow:Assets written to: ./model\\HL3\\assets\n",
      "INFO:tensorflow:Assets written to: ./model\\HL3\\assets\n",
      "INFO:tensorflow:Assets written to: ./model\\HL3\\assets\n",
      "INFO:tensorflow:Assets written to: ./model\\HL3\\assets\n"
     ]
    },
    {
     "name": "stderr",
     "output_type": "stream",
     "text": [
      " 43%|███████████████████████████████▉                                          | 105/243 [5:24:44<10:55:01, 284.80s/it]"
     ]
    },
    {
     "name": "stdout",
     "output_type": "stream",
     "text": [
      "INFO:tensorflow:Assets written to: ./model\\HL3\\assets\n",
      "INFO:tensorflow:Assets written to: ./model\\HL3\\assets\n",
      "INFO:tensorflow:Assets written to: ./model\\HL3\\assets\n",
      "INFO:tensorflow:Assets written to: ./model\\HL3\\assets\n",
      "INFO:tensorflow:Assets written to: ./model\\HL3\\assets\n",
      "INFO:tensorflow:Assets written to: ./model\\HL3\\assets\n",
      "INFO:tensorflow:Assets written to: ./model\\HL3\\assets\n",
      "INFO:tensorflow:Assets written to: ./model\\HL3\\assets\n",
      "INFO:tensorflow:Assets written to: ./model\\HL3\\assets\n"
     ]
    },
    {
     "name": "stderr",
     "output_type": "stream",
     "text": [
      " 44%|████████████████████████████████▎                                         | 106/243 [5:29:15<10:41:10, 280.81s/it]"
     ]
    },
    {
     "name": "stdout",
     "output_type": "stream",
     "text": [
      "INFO:tensorflow:Assets written to: ./model\\HL3\\assets\n",
      "INFO:tensorflow:Assets written to: ./model\\HL3\\assets\n",
      "INFO:tensorflow:Assets written to: ./model\\HL3\\assets\n",
      "INFO:tensorflow:Assets written to: ./model\\HL3\\assets\n"
     ]
    },
    {
     "name": "stderr",
     "output_type": "stream",
     "text": [
      " 44%|████████████████████████████████▌                                         | 107/243 [5:34:26<10:57:16, 289.97s/it]"
     ]
    },
    {
     "name": "stdout",
     "output_type": "stream",
     "text": [
      "INFO:tensorflow:Assets written to: ./model\\HL3\\assets\n",
      "INFO:tensorflow:Assets written to: ./model\\HL3\\assets\n",
      "INFO:tensorflow:Assets written to: ./model\\HL3\\assets\n",
      "INFO:tensorflow:Assets written to: ./model\\HL3\\assets\n",
      "INFO:tensorflow:Assets written to: ./model\\HL3\\assets\n",
      "INFO:tensorflow:Assets written to: ./model\\HL3\\assets\n",
      "INFO:tensorflow:Assets written to: ./model\\HL3\\assets\n",
      "INFO:tensorflow:Assets written to: ./model\\HL3\\assets\n",
      "INFO:tensorflow:Assets written to: ./model\\HL3\\assets\n",
      "INFO:tensorflow:Assets written to: ./model\\HL3\\assets\n",
      "INFO:tensorflow:Assets written to: ./model\\HL3\\assets\n"
     ]
    },
    {
     "name": "stderr",
     "output_type": "stream",
     "text": [
      " 44%|████████████████████████████████▉                                         | 108/243 [5:40:35<11:45:44, 313.67s/it]"
     ]
    },
    {
     "name": "stdout",
     "output_type": "stream",
     "text": [
      "INFO:tensorflow:Assets written to: ./model\\HL3\\assets\n",
      "INFO:tensorflow:Assets written to: ./model\\HL3\\assets\n",
      "INFO:tensorflow:Assets written to: ./model\\HL3\\assets\n",
      "INFO:tensorflow:Assets written to: ./model\\HL3\\assets\n",
      "INFO:tensorflow:Assets written to: ./model\\HL3\\assets\n",
      "INFO:tensorflow:Assets written to: ./model\\HL3\\assets\n",
      "INFO:tensorflow:Assets written to: ./model\\HL3\\assets\n",
      "INFO:tensorflow:Assets written to: ./model\\HL3\\assets\n",
      "INFO:tensorflow:Assets written to: ./model\\HL3\\assets\n",
      "INFO:tensorflow:Assets written to: ./model\\HL3\\assets\n",
      "INFO:tensorflow:Assets written to: ./model\\HL3\\assets\n"
     ]
    },
    {
     "name": "stderr",
     "output_type": "stream",
     "text": [
      " 45%|█████████████████████████████████▏                                        | 109/243 [5:44:43<10:56:24, 293.92s/it]"
     ]
    },
    {
     "name": "stdout",
     "output_type": "stream",
     "text": [
      "INFO:tensorflow:Assets written to: ./model\\HL3\\assets\n",
      "INFO:tensorflow:Assets written to: ./model\\HL3\\assets\n",
      "INFO:tensorflow:Assets written to: ./model\\HL3\\assets\n",
      "INFO:tensorflow:Assets written to: ./model\\HL3\\assets\n",
      "INFO:tensorflow:Assets written to: ./model\\HL3\\assets\n",
      "INFO:tensorflow:Assets written to: ./model\\HL3\\assets\n",
      "INFO:tensorflow:Assets written to: ./model\\HL3\\assets\n",
      "INFO:tensorflow:Assets written to: ./model\\HL3\\assets\n",
      "INFO:tensorflow:Assets written to: ./model\\HL3\\assets\n",
      "INFO:tensorflow:Assets written to: ./model\\HL3\\assets\n",
      "INFO:tensorflow:Assets written to: ./model\\HL3\\assets\n",
      "INFO:tensorflow:Assets written to: ./model\\HL3\\assets\n",
      "INFO:tensorflow:Assets written to: ./model\\HL3\\assets\n"
     ]
    },
    {
     "name": "stderr",
     "output_type": "stream",
     "text": [
      " 45%|█████████████████████████████████▍                                        | 110/243 [5:49:04<10:29:20, 283.91s/it]"
     ]
    },
    {
     "name": "stdout",
     "output_type": "stream",
     "text": [
      "INFO:tensorflow:Assets written to: ./model\\HL3\\assets\n",
      "INFO:tensorflow:Assets written to: ./model\\HL3\\assets\n",
      "INFO:tensorflow:Assets written to: ./model\\HL3\\assets\n",
      "INFO:tensorflow:Assets written to: ./model\\HL3\\assets\n",
      "INFO:tensorflow:Assets written to: ./model\\HL3\\assets\n",
      "INFO:tensorflow:Assets written to: ./model\\HL3\\assets\n",
      "INFO:tensorflow:Assets written to: ./model\\HL3\\assets\n",
      "INFO:tensorflow:Assets written to: ./model\\HL3\\assets\n",
      "INFO:tensorflow:Assets written to: ./model\\HL3\\assets\n",
      "INFO:tensorflow:Assets written to: ./model\\HL3\\assets\n",
      "INFO:tensorflow:Assets written to: ./model\\HL3\\assets\n",
      "INFO:tensorflow:Assets written to: ./model\\HL3\\assets\n",
      "INFO:tensorflow:Assets written to: ./model\\HL3\\assets\n",
      "INFO:tensorflow:Assets written to: ./model\\HL3\\assets\n",
      "INFO:tensorflow:Assets written to: ./model\\HL3\\assets\n",
      "INFO:tensorflow:Assets written to: ./model\\HL3\\assets\n",
      "INFO:tensorflow:Assets written to: ./model\\HL3\\assets\n",
      "INFO:tensorflow:Assets written to: ./model\\HL3\\assets\n"
     ]
    },
    {
     "name": "stderr",
     "output_type": "stream",
     "text": [
      " 46%|█████████████████████████████████▊                                        | 111/243 [5:54:12<10:40:48, 291.28s/it]"
     ]
    },
    {
     "name": "stdout",
     "output_type": "stream",
     "text": [
      "INFO:tensorflow:Assets written to: ./model\\HL3\\assets\n",
      "INFO:tensorflow:Assets written to: ./model\\HL3\\assets\n",
      "INFO:tensorflow:Assets written to: ./model\\HL3\\assets\n",
      "INFO:tensorflow:Assets written to: ./model\\HL3\\assets\n",
      "INFO:tensorflow:Assets written to: ./model\\HL3\\assets\n",
      "INFO:tensorflow:Assets written to: ./model\\HL3\\assets\n",
      "INFO:tensorflow:Assets written to: ./model\\HL3\\assets\n",
      "INFO:tensorflow:Assets written to: ./model\\HL3\\assets\n",
      "INFO:tensorflow:Assets written to: ./model\\HL3\\assets\n",
      "INFO:tensorflow:Assets written to: ./model\\HL3\\assets\n",
      "INFO:tensorflow:Assets written to: ./model\\HL3\\assets\n",
      "INFO:tensorflow:Assets written to: ./model\\HL3\\assets\n",
      "INFO:tensorflow:Assets written to: ./model\\HL3\\assets\n",
      "INFO:tensorflow:Assets written to: ./model\\HL3\\assets\n",
      "INFO:tensorflow:Assets written to: ./model\\HL3\\assets\n",
      "INFO:tensorflow:Assets written to: ./model\\HL3\\assets\n",
      "INFO:tensorflow:Assets written to: ./model\\HL3\\assets\n",
      "INFO:tensorflow:Assets written to: ./model\\HL3\\assets\n",
      "INFO:tensorflow:Assets written to: ./model\\HL3\\assets\n"
     ]
    },
    {
     "name": "stderr",
     "output_type": "stream",
     "text": [
      " 46%|██████████████████████████████████                                        | 112/243 [5:58:44<10:23:27, 285.55s/it]"
     ]
    },
    {
     "name": "stdout",
     "output_type": "stream",
     "text": [
      "INFO:tensorflow:Assets written to: ./model\\HL3\\assets\n",
      "INFO:tensorflow:Assets written to: ./model\\HL3\\assets\n",
      "INFO:tensorflow:Assets written to: ./model\\HL3\\assets\n",
      "INFO:tensorflow:Assets written to: ./model\\HL3\\assets\n",
      "INFO:tensorflow:Assets written to: ./model\\HL3\\assets\n",
      "INFO:tensorflow:Assets written to: ./model\\HL3\\assets\n",
      "INFO:tensorflow:Assets written to: ./model\\HL3\\assets\n",
      "INFO:tensorflow:Assets written to: ./model\\HL3\\assets\n",
      "INFO:tensorflow:Assets written to: ./model\\HL3\\assets\n",
      "INFO:tensorflow:Assets written to: ./model\\HL3\\assets\n",
      "INFO:tensorflow:Assets written to: ./model\\HL3\\assets\n",
      "INFO:tensorflow:Assets written to: ./model\\HL3\\assets\n",
      "INFO:tensorflow:Assets written to: ./model\\HL3\\assets\n"
     ]
    },
    {
     "name": "stderr",
     "output_type": "stream",
     "text": [
      " 47%|██████████████████████████████████▍                                       | 113/243 [6:03:28<10:17:34, 285.03s/it]"
     ]
    },
    {
     "name": "stdout",
     "output_type": "stream",
     "text": [
      "INFO:tensorflow:Assets written to: ./model\\HL3\\assets\n",
      "INFO:tensorflow:Assets written to: ./model\\HL3\\assets\n",
      "INFO:tensorflow:Assets written to: ./model\\HL3\\assets\n",
      "INFO:tensorflow:Assets written to: ./model\\HL3\\assets\n",
      "INFO:tensorflow:Assets written to: ./model\\HL3\\assets\n",
      "INFO:tensorflow:Assets written to: ./model\\HL3\\assets\n",
      "INFO:tensorflow:Assets written to: ./model\\HL3\\assets\n",
      "INFO:tensorflow:Assets written to: ./model\\HL3\\assets\n",
      "INFO:tensorflow:Assets written to: ./model\\HL3\\assets\n",
      "INFO:tensorflow:Assets written to: ./model\\HL3\\assets\n",
      "INFO:tensorflow:Assets written to: ./model\\HL3\\assets\n",
      "INFO:tensorflow:Assets written to: ./model\\HL3\\assets\n",
      "INFO:tensorflow:Assets written to: ./model\\HL3\\assets\n"
     ]
    },
    {
     "name": "stderr",
     "output_type": "stream",
     "text": [
      " 47%|██████████████████████████████████▋                                       | 114/243 [6:09:05<10:46:13, 300.57s/it]"
     ]
    },
    {
     "name": "stdout",
     "output_type": "stream",
     "text": [
      "INFO:tensorflow:Assets written to: ./model\\HL3\\assets\n",
      "INFO:tensorflow:Assets written to: ./model\\HL3\\assets\n",
      "INFO:tensorflow:Assets written to: ./model\\HL3\\assets\n",
      "INFO:tensorflow:Assets written to: ./model\\HL3\\assets\n",
      "INFO:tensorflow:Assets written to: ./model\\HL3\\assets\n",
      "INFO:tensorflow:Assets written to: ./model\\HL3\\assets\n",
      "INFO:tensorflow:Assets written to: ./model\\HL3\\assets\n",
      "INFO:tensorflow:Assets written to: ./model\\HL3\\assets\n",
      "INFO:tensorflow:Assets written to: ./model\\HL3\\assets\n",
      "INFO:tensorflow:Assets written to: ./model\\HL3\\assets\n",
      "INFO:tensorflow:Assets written to: ./model\\HL3\\assets\n",
      "INFO:tensorflow:Assets written to: ./model\\HL3\\assets\n",
      "INFO:tensorflow:Assets written to: ./model\\HL3\\assets\n",
      "INFO:tensorflow:Assets written to: ./model\\HL3\\assets\n",
      "INFO:tensorflow:Assets written to: ./model\\HL3\\assets\n"
     ]
    },
    {
     "name": "stderr",
     "output_type": "stream",
     "text": [
      " 47%|███████████████████████████████████                                       | 115/243 [6:14:10<10:44:05, 301.91s/it]"
     ]
    },
    {
     "name": "stdout",
     "output_type": "stream",
     "text": [
      "INFO:tensorflow:Assets written to: ./model\\HL3\\assets\n",
      "INFO:tensorflow:Assets written to: ./model\\HL3\\assets\n",
      "INFO:tensorflow:Assets written to: ./model\\HL3\\assets\n",
      "INFO:tensorflow:Assets written to: ./model\\HL3\\assets\n",
      "INFO:tensorflow:Assets written to: ./model\\HL3\\assets\n",
      "INFO:tensorflow:Assets written to: ./model\\HL3\\assets\n",
      "INFO:tensorflow:Assets written to: ./model\\HL3\\assets\n",
      "INFO:tensorflow:Assets written to: ./model\\HL3\\assets\n",
      "INFO:tensorflow:Assets written to: ./model\\HL3\\assets\n",
      "INFO:tensorflow:Assets written to: ./model\\HL3\\assets\n",
      "INFO:tensorflow:Assets written to: ./model\\HL3\\assets\n",
      "INFO:tensorflow:Assets written to: ./model\\HL3\\assets\n",
      "INFO:tensorflow:Assets written to: ./model\\HL3\\assets\n",
      "INFO:tensorflow:Assets written to: ./model\\HL3\\assets\n"
     ]
    },
    {
     "name": "stderr",
     "output_type": "stream",
     "text": [
      " 48%|███████████████████████████████████▎                                      | 116/243 [6:19:51<11:03:47, 313.60s/it]"
     ]
    },
    {
     "name": "stdout",
     "output_type": "stream",
     "text": [
      "INFO:tensorflow:Assets written to: ./model\\HL3\\assets\n",
      "INFO:tensorflow:Assets written to: ./model\\HL3\\assets\n",
      "INFO:tensorflow:Assets written to: ./model\\HL3\\assets\n",
      "INFO:tensorflow:Assets written to: ./model\\HL3\\assets\n",
      "INFO:tensorflow:Assets written to: ./model\\HL3\\assets\n",
      "INFO:tensorflow:Assets written to: ./model\\HL3\\assets\n",
      "INFO:tensorflow:Assets written to: ./model\\HL3\\assets\n",
      "INFO:tensorflow:Assets written to: ./model\\HL3\\assets\n",
      "INFO:tensorflow:Assets written to: ./model\\HL3\\assets\n",
      "INFO:tensorflow:Assets written to: ./model\\HL3\\assets\n",
      "INFO:tensorflow:Assets written to: ./model\\HL3\\assets\n"
     ]
    },
    {
     "name": "stderr",
     "output_type": "stream",
     "text": [
      " 48%|███████████████████████████████████▋                                      | 117/243 [6:26:17<11:44:03, 335.26s/it]"
     ]
    },
    {
     "name": "stdout",
     "output_type": "stream",
     "text": [
      "INFO:tensorflow:Assets written to: ./model\\HL3\\assets\n",
      "INFO:tensorflow:Assets written to: ./model\\HL3\\assets\n",
      "INFO:tensorflow:Assets written to: ./model\\HL3\\assets\n",
      "INFO:tensorflow:Assets written to: ./model\\HL3\\assets\n",
      "INFO:tensorflow:Assets written to: ./model\\HL3\\assets\n",
      "INFO:tensorflow:Assets written to: ./model\\HL3\\assets\n",
      "INFO:tensorflow:Assets written to: ./model\\HL3\\assets\n"
     ]
    },
    {
     "name": "stderr",
     "output_type": "stream",
     "text": [
      " 49%|███████████████████████████████████▉                                      | 118/243 [6:30:20<10:40:48, 307.59s/it]"
     ]
    },
    {
     "name": "stdout",
     "output_type": "stream",
     "text": [
      "INFO:tensorflow:Assets written to: ./model\\HL3\\assets\n",
      "INFO:tensorflow:Assets written to: ./model\\HL3\\assets\n",
      "INFO:tensorflow:Assets written to: ./model\\HL3\\assets\n",
      "INFO:tensorflow:Assets written to: ./model\\HL3\\assets\n",
      "INFO:tensorflow:Assets written to: ./model\\HL3\\assets\n",
      "INFO:tensorflow:Assets written to: ./model\\HL3\\assets\n"
     ]
    },
    {
     "name": "stderr",
     "output_type": "stream",
     "text": [
      " 49%|████████████████████████████████████▏                                     | 119/243 [6:34:35<10:03:04, 291.81s/it]"
     ]
    },
    {
     "name": "stdout",
     "output_type": "stream",
     "text": [
      "INFO:tensorflow:Assets written to: ./model\\HL3\\assets\n",
      "INFO:tensorflow:Assets written to: ./model\\HL3\\assets\n",
      "INFO:tensorflow:Assets written to: ./model\\HL3\\assets\n",
      "INFO:tensorflow:Assets written to: ./model\\HL3\\assets\n",
      "INFO:tensorflow:Assets written to: ./model\\HL3\\assets\n",
      "INFO:tensorflow:Assets written to: ./model\\HL3\\assets\n",
      "INFO:tensorflow:Assets written to: ./model\\HL3\\assets\n"
     ]
    },
    {
     "name": "stderr",
     "output_type": "stream",
     "text": [
      " 49%|████████████████████████████████████▌                                     | 120/243 [6:39:37<10:04:39, 294.95s/it]"
     ]
    },
    {
     "name": "stdout",
     "output_type": "stream",
     "text": [
      "INFO:tensorflow:Assets written to: ./model\\HL3\\assets\n",
      "INFO:tensorflow:Assets written to: ./model\\HL3\\assets\n",
      "INFO:tensorflow:Assets written to: ./model\\HL3\\assets\n",
      "INFO:tensorflow:Assets written to: ./model\\HL3\\assets\n",
      "INFO:tensorflow:Assets written to: ./model\\HL3\\assets\n",
      "INFO:tensorflow:Assets written to: ./model\\HL3\\assets\n",
      "INFO:tensorflow:Assets written to: ./model\\HL3\\assets\n",
      "INFO:tensorflow:Assets written to: ./model\\HL3\\assets\n",
      "INFO:tensorflow:Assets written to: ./model\\HL3\\assets\n",
      "INFO:tensorflow:Assets written to: ./model\\HL3\\assets\n",
      "INFO:tensorflow:Assets written to: ./model\\HL3\\assets\n",
      "INFO:tensorflow:Assets written to: ./model\\HL3\\assets\n",
      "INFO:tensorflow:Assets written to: ./model\\HL3\\assets\n"
     ]
    },
    {
     "name": "stderr",
     "output_type": "stream",
     "text": [
      " 50%|█████████████████████████████████████▎                                     | 121/243 [6:44:05<9:43:18, 286.87s/it]"
     ]
    },
    {
     "name": "stdout",
     "output_type": "stream",
     "text": [
      "INFO:tensorflow:Assets written to: ./model\\HL3\\assets\n",
      "INFO:tensorflow:Assets written to: ./model\\HL3\\assets\n",
      "INFO:tensorflow:Assets written to: ./model\\HL3\\assets\n",
      "INFO:tensorflow:Assets written to: ./model\\HL3\\assets\n",
      "INFO:tensorflow:Assets written to: ./model\\HL3\\assets\n",
      "INFO:tensorflow:Assets written to: ./model\\HL3\\assets\n",
      "INFO:tensorflow:Assets written to: ./model\\HL3\\assets\n",
      "INFO:tensorflow:Assets written to: ./model\\HL3\\assets\n"
     ]
    },
    {
     "name": "stderr",
     "output_type": "stream",
     "text": [
      " 50%|█████████████████████████████████████▋                                     | 122/243 [6:48:45<9:34:02, 284.65s/it]"
     ]
    },
    {
     "name": "stdout",
     "output_type": "stream",
     "text": [
      "INFO:tensorflow:Assets written to: ./model\\HL3\\assets\n",
      "INFO:tensorflow:Assets written to: ./model\\HL3\\assets\n",
      "INFO:tensorflow:Assets written to: ./model\\HL3\\assets\n",
      "INFO:tensorflow:Assets written to: ./model\\HL3\\assets\n",
      "INFO:tensorflow:Assets written to: ./model\\HL3\\assets\n",
      "INFO:tensorflow:Assets written to: ./model\\HL3\\assets\n",
      "INFO:tensorflow:Assets written to: ./model\\HL3\\assets\n"
     ]
    },
    {
     "name": "stderr",
     "output_type": "stream",
     "text": [
      " 51%|█████████████████████████████████████▉                                     | 123/243 [6:54:15<9:56:55, 298.47s/it]"
     ]
    },
    {
     "name": "stdout",
     "output_type": "stream",
     "text": [
      "INFO:tensorflow:Assets written to: ./model\\HL3\\assets\n",
      "INFO:tensorflow:Assets written to: ./model\\HL3\\assets\n",
      "INFO:tensorflow:Assets written to: ./model\\HL3\\assets\n"
     ]
    },
    {
     "name": "stderr",
     "output_type": "stream",
     "text": [
      " 51%|██████████████████████████████████████▎                                    | 124/243 [6:59:14<9:51:54, 298.44s/it]"
     ]
    },
    {
     "name": "stdout",
     "output_type": "stream",
     "text": [
      "INFO:tensorflow:Assets written to: ./model\\HL3\\assets\n",
      "INFO:tensorflow:Assets written to: ./model\\HL3\\assets\n",
      "INFO:tensorflow:Assets written to: ./model\\HL3\\assets\n",
      "INFO:tensorflow:Assets written to: ./model\\HL3\\assets\n",
      "INFO:tensorflow:Assets written to: ./model\\HL3\\assets\n",
      "INFO:tensorflow:Assets written to: ./model\\HL3\\assets\n",
      "INFO:tensorflow:Assets written to: ./model\\HL3\\assets\n",
      "INFO:tensorflow:Assets written to: ./model\\HL3\\assets\n"
     ]
    },
    {
     "name": "stderr",
     "output_type": "stream",
     "text": [
      " 51%|██████████████████████████████████████                                    | 125/243 [7:04:48<10:07:51, 309.08s/it]"
     ]
    },
    {
     "name": "stdout",
     "output_type": "stream",
     "text": [
      "INFO:tensorflow:Assets written to: ./model\\HL3\\assets\n",
      "INFO:tensorflow:Assets written to: ./model\\HL3\\assets\n",
      "INFO:tensorflow:Assets written to: ./model\\HL3\\assets\n",
      "INFO:tensorflow:Assets written to: ./model\\HL3\\assets\n",
      "INFO:tensorflow:Assets written to: ./model\\HL3\\assets\n",
      "INFO:tensorflow:Assets written to: ./model\\HL3\\assets\n",
      "INFO:tensorflow:Assets written to: ./model\\HL3\\assets\n",
      "INFO:tensorflow:Assets written to: ./model\\HL3\\assets\n",
      "INFO:tensorflow:Assets written to: ./model\\HL3\\assets\n"
     ]
    },
    {
     "name": "stderr",
     "output_type": "stream",
     "text": [
      " 52%|██████████████████████████████████████▎                                   | 126/243 [7:11:16<10:49:21, 333.00s/it]"
     ]
    },
    {
     "name": "stdout",
     "output_type": "stream",
     "text": [
      "INFO:tensorflow:Assets written to: ./model\\HL3\\assets\n",
      "INFO:tensorflow:Assets written to: ./model\\HL3\\assets\n",
      "INFO:tensorflow:Assets written to: ./model\\HL3\\assets\n",
      "INFO:tensorflow:Assets written to: ./model\\HL3\\assets\n",
      "INFO:tensorflow:Assets written to: ./model\\HL3\\assets\n",
      "INFO:tensorflow:Assets written to: ./model\\HL3\\assets\n",
      "INFO:tensorflow:Assets written to: ./model\\HL3\\assets\n",
      "INFO:tensorflow:Assets written to: ./model\\HL3\\assets\n"
     ]
    },
    {
     "name": "stderr",
     "output_type": "stream",
     "text": [
      " 52%|███████████████████████████████████████▏                                   | 127/243 [7:15:20<9:52:09, 306.29s/it]"
     ]
    },
    {
     "name": "stdout",
     "output_type": "stream",
     "text": [
      "INFO:tensorflow:Assets written to: ./model\\HL3\\assets\n",
      "INFO:tensorflow:Assets written to: ./model\\HL3\\assets\n",
      "INFO:tensorflow:Assets written to: ./model\\HL3\\assets\n",
      "INFO:tensorflow:Assets written to: ./model\\HL3\\assets\n",
      "INFO:tensorflow:Assets written to: ./model\\HL3\\assets\n",
      "INFO:tensorflow:Assets written to: ./model\\HL3\\assets\n",
      "INFO:tensorflow:Assets written to: ./model\\HL3\\assets\n"
     ]
    },
    {
     "name": "stderr",
     "output_type": "stream",
     "text": [
      " 53%|███████████████████████████████████████▌                                   | 128/243 [7:19:32<9:15:32, 289.85s/it]"
     ]
    },
    {
     "name": "stdout",
     "output_type": "stream",
     "text": [
      "INFO:tensorflow:Assets written to: ./model\\HL3\\assets\n",
      "INFO:tensorflow:Assets written to: ./model\\HL3\\assets\n",
      "INFO:tensorflow:Assets written to: ./model\\HL3\\assets\n",
      "INFO:tensorflow:Assets written to: ./model\\HL3\\assets\n",
      "INFO:tensorflow:Assets written to: ./model\\HL3\\assets\n"
     ]
    },
    {
     "name": "stderr",
     "output_type": "stream",
     "text": [
      " 53%|███████████████████████████████████████▊                                   | 129/243 [7:24:28<9:14:12, 291.69s/it]"
     ]
    },
    {
     "name": "stdout",
     "output_type": "stream",
     "text": [
      "INFO:tensorflow:Assets written to: ./model\\HL3\\assets\n",
      "INFO:tensorflow:Assets written to: ./model\\HL3\\assets\n",
      "INFO:tensorflow:Assets written to: ./model\\HL3\\assets\n",
      "INFO:tensorflow:Assets written to: ./model\\HL3\\assets\n",
      "INFO:tensorflow:Assets written to: ./model\\HL3\\assets\n",
      "INFO:tensorflow:Assets written to: ./model\\HL3\\assets\n",
      "INFO:tensorflow:Assets written to: ./model\\HL3\\assets\n",
      "INFO:tensorflow:Assets written to: ./model\\HL3\\assets\n"
     ]
    },
    {
     "name": "stderr",
     "output_type": "stream",
     "text": [
      " 53%|████████████████████████████████████████                                   | 130/243 [7:28:48<8:51:39, 282.29s/it]"
     ]
    },
    {
     "name": "stdout",
     "output_type": "stream",
     "text": [
      "INFO:tensorflow:Assets written to: ./model\\HL3\\assets\n",
      "INFO:tensorflow:Assets written to: ./model\\HL3\\assets\n"
     ]
    },
    {
     "name": "stderr",
     "output_type": "stream",
     "text": [
      " 54%|████████████████████████████████████████▍                                  | 131/243 [7:33:22<8:42:19, 279.82s/it]"
     ]
    },
    {
     "name": "stdout",
     "output_type": "stream",
     "text": [
      "INFO:tensorflow:Assets written to: ./model\\HL3\\assets\n",
      "INFO:tensorflow:Assets written to: ./model\\HL3\\assets\n",
      "INFO:tensorflow:Assets written to: ./model\\HL3\\assets\n",
      "INFO:tensorflow:Assets written to: ./model\\HL3\\assets\n",
      "INFO:tensorflow:Assets written to: ./model\\HL3\\assets\n",
      "INFO:tensorflow:Assets written to: ./model\\HL3\\assets\n",
      "INFO:tensorflow:Assets written to: ./model\\HL3\\assets\n"
     ]
    },
    {
     "name": "stderr",
     "output_type": "stream",
     "text": [
      " 54%|████████████████████████████████████████▋                                  | 132/243 [7:38:55<9:07:16, 295.83s/it]"
     ]
    },
    {
     "name": "stdout",
     "output_type": "stream",
     "text": [
      "INFO:tensorflow:Assets written to: ./model\\HL3\\assets\n",
      "INFO:tensorflow:Assets written to: ./model\\HL3\\assets\n",
      "INFO:tensorflow:Assets written to: ./model\\HL3\\assets\n",
      "INFO:tensorflow:Assets written to: ./model\\HL3\\assets\n",
      "INFO:tensorflow:Assets written to: ./model\\HL3\\assets\n",
      "INFO:tensorflow:Assets written to: ./model\\HL3\\assets\n",
      "INFO:tensorflow:Assets written to: ./model\\HL3\\assets\n",
      "INFO:tensorflow:Assets written to: ./model\\HL3\\assets\n",
      "INFO:tensorflow:Assets written to: ./model\\HL3\\assets\n",
      "INFO:tensorflow:Assets written to: ./model\\HL3\\assets\n",
      "INFO:tensorflow:Assets written to: ./model\\HL3\\assets\n",
      "INFO:tensorflow:Assets written to: ./model\\HL3\\assets\n"
     ]
    },
    {
     "name": "stderr",
     "output_type": "stream",
     "text": [
      " 55%|█████████████████████████████████████████                                  | 133/243 [7:43:59<9:06:27, 298.07s/it]"
     ]
    },
    {
     "name": "stdout",
     "output_type": "stream",
     "text": [
      "INFO:tensorflow:Assets written to: ./model\\HL3\\assets\n",
      "INFO:tensorflow:Assets written to: ./model\\HL3\\assets\n",
      "INFO:tensorflow:Assets written to: ./model\\HL3\\assets\n",
      "INFO:tensorflow:Assets written to: ./model\\HL3\\assets\n",
      "INFO:tensorflow:Assets written to: ./model\\HL3\\assets\n",
      "INFO:tensorflow:Assets written to: ./model\\HL3\\assets\n",
      "INFO:tensorflow:Assets written to: ./model\\HL3\\assets\n",
      "INFO:tensorflow:Assets written to: ./model\\HL3\\assets\n",
      "INFO:tensorflow:Assets written to: ./model\\HL3\\assets\n"
     ]
    },
    {
     "name": "stderr",
     "output_type": "stream",
     "text": [
      " 55%|█████████████████████████████████████████▎                                 | 134/243 [7:49:35<9:22:26, 309.61s/it]"
     ]
    },
    {
     "name": "stdout",
     "output_type": "stream",
     "text": [
      "INFO:tensorflow:Assets written to: ./model\\HL3\\assets\n",
      "INFO:tensorflow:Assets written to: ./model\\HL3\\assets\n",
      "INFO:tensorflow:Assets written to: ./model\\HL3\\assets\n"
     ]
    },
    {
     "name": "stderr",
     "output_type": "stream",
     "text": [
      " 56%|█████████████████████████████████████████▋                                 | 135/243 [7:56:02<9:58:48, 332.68s/it]"
     ]
    },
    {
     "name": "stdout",
     "output_type": "stream",
     "text": [
      "INFO:tensorflow:Assets written to: ./model\\HL3\\assets\n",
      "INFO:tensorflow:Assets written to: ./model\\HL3\\assets\n",
      "INFO:tensorflow:Assets written to: ./model\\HL3\\assets\n",
      "INFO:tensorflow:Assets written to: ./model\\HL3\\assets\n",
      "INFO:tensorflow:Assets written to: ./model\\HL3\\assets\n",
      "INFO:tensorflow:Assets written to: ./model\\HL3\\assets\n",
      "INFO:tensorflow:Assets written to: ./model\\HL3\\assets\n",
      "INFO:tensorflow:Assets written to: ./model\\HL3\\assets\n",
      "INFO:tensorflow:Assets written to: ./model\\HL3\\assets\n",
      "INFO:tensorflow:Assets written to: ./model\\HL3\\assets\n",
      "INFO:tensorflow:Assets written to: ./model\\HL3\\assets\n",
      "INFO:tensorflow:Assets written to: ./model\\HL3\\assets\n",
      "INFO:tensorflow:Assets written to: ./model\\HL3\\assets\n",
      "INFO:tensorflow:Assets written to: ./model\\HL3\\assets\n",
      "INFO:tensorflow:Assets written to: ./model\\HL3\\assets\n"
     ]
    },
    {
     "name": "stderr",
     "output_type": "stream",
     "text": [
      " 56%|█████████████████████████████████████████▉                                 | 136/243 [8:00:32<9:20:00, 314.03s/it]"
     ]
    },
    {
     "name": "stdout",
     "output_type": "stream",
     "text": [
      "INFO:tensorflow:Assets written to: ./model\\HL3\\assets\n",
      "INFO:tensorflow:Assets written to: ./model\\HL3\\assets\n",
      "INFO:tensorflow:Assets written to: ./model\\HL3\\assets\n",
      "INFO:tensorflow:Assets written to: ./model\\HL3\\assets\n",
      "INFO:tensorflow:Assets written to: ./model\\HL3\\assets\n",
      "INFO:tensorflow:Assets written to: ./model\\HL3\\assets\n",
      "INFO:tensorflow:Assets written to: ./model\\HL3\\assets\n",
      "INFO:tensorflow:Assets written to: ./model\\HL3\\assets\n",
      "INFO:tensorflow:Assets written to: ./model\\HL3\\assets\n",
      "INFO:tensorflow:Assets written to: ./model\\HL3\\assets\n",
      "INFO:tensorflow:Assets written to: ./model\\HL3\\assets\n",
      "INFO:tensorflow:Assets written to: ./model\\HL3\\assets\n",
      "INFO:tensorflow:Assets written to: ./model\\HL3\\assets\n",
      "INFO:tensorflow:Assets written to: ./model\\HL3\\assets\n",
      "INFO:tensorflow:Assets written to: ./model\\HL3\\assets\n",
      "INFO:tensorflow:Assets written to: ./model\\HL3\\assets\n"
     ]
    },
    {
     "name": "stderr",
     "output_type": "stream",
     "text": [
      " 56%|██████████████████████████████████████████▎                                | 137/243 [8:05:21<9:01:23, 306.45s/it]"
     ]
    },
    {
     "name": "stdout",
     "output_type": "stream",
     "text": [
      "INFO:tensorflow:Assets written to: ./model\\HL3\\assets\n",
      "INFO:tensorflow:Assets written to: ./model\\HL3\\assets\n",
      "INFO:tensorflow:Assets written to: ./model\\HL3\\assets\n",
      "INFO:tensorflow:Assets written to: ./model\\HL3\\assets\n",
      "INFO:tensorflow:Assets written to: ./model\\HL3\\assets\n",
      "INFO:tensorflow:Assets written to: ./model\\HL3\\assets\n",
      "INFO:tensorflow:Assets written to: ./model\\HL3\\assets\n",
      "INFO:tensorflow:Assets written to: ./model\\HL3\\assets\n",
      "INFO:tensorflow:Assets written to: ./model\\HL3\\assets\n",
      "INFO:tensorflow:Assets written to: ./model\\HL3\\assets\n",
      "INFO:tensorflow:Assets written to: ./model\\HL3\\assets\n",
      "INFO:tensorflow:Assets written to: ./model\\HL3\\assets\n",
      "INFO:tensorflow:Assets written to: ./model\\HL3\\assets\n",
      "INFO:tensorflow:Assets written to: ./model\\HL3\\assets\n",
      "INFO:tensorflow:Assets written to: ./model\\HL3\\assets\n",
      "INFO:tensorflow:Assets written to: ./model\\HL3\\assets\n",
      "INFO:tensorflow:Assets written to: ./model\\HL3\\assets\n",
      "INFO:tensorflow:Assets written to: ./model\\HL3\\assets\n",
      "INFO:tensorflow:Assets written to: ./model\\HL3\\assets\n",
      "INFO:tensorflow:Assets written to: ./model\\HL3\\assets\n",
      "INFO:tensorflow:Assets written to: ./model\\HL3\\assets\n"
     ]
    },
    {
     "name": "stderr",
     "output_type": "stream",
     "text": [
      " 57%|██████████████████████████████████████████▌                                | 138/243 [8:10:50<9:08:09, 313.23s/it]"
     ]
    },
    {
     "name": "stdout",
     "output_type": "stream",
     "text": [
      "INFO:tensorflow:Assets written to: ./model\\HL3\\assets\n",
      "INFO:tensorflow:Assets written to: ./model\\HL3\\assets\n",
      "INFO:tensorflow:Assets written to: ./model\\HL3\\assets\n",
      "INFO:tensorflow:Assets written to: ./model\\HL3\\assets\n",
      "INFO:tensorflow:Assets written to: ./model\\HL3\\assets\n",
      "INFO:tensorflow:Assets written to: ./model\\HL3\\assets\n",
      "INFO:tensorflow:Assets written to: ./model\\HL3\\assets\n",
      "INFO:tensorflow:Assets written to: ./model\\HL3\\assets\n",
      "INFO:tensorflow:Assets written to: ./model\\HL3\\assets\n",
      "INFO:tensorflow:Assets written to: ./model\\HL3\\assets\n",
      "INFO:tensorflow:Assets written to: ./model\\HL3\\assets\n",
      "INFO:tensorflow:Assets written to: ./model\\HL3\\assets\n",
      "INFO:tensorflow:Assets written to: ./model\\HL3\\assets\n",
      "INFO:tensorflow:Assets written to: ./model\\HL3\\assets\n",
      "INFO:tensorflow:Assets written to: ./model\\HL3\\assets\n",
      "INFO:tensorflow:Assets written to: ./model\\HL3\\assets\n"
     ]
    },
    {
     "name": "stderr",
     "output_type": "stream",
     "text": [
      " 57%|██████████████████████████████████████████▉                                | 139/243 [8:15:52<8:56:52, 309.74s/it]"
     ]
    },
    {
     "name": "stdout",
     "output_type": "stream",
     "text": [
      "INFO:tensorflow:Assets written to: ./model\\HL3\\assets\n",
      "INFO:tensorflow:Assets written to: ./model\\HL3\\assets\n",
      "INFO:tensorflow:Assets written to: ./model\\HL3\\assets\n",
      "INFO:tensorflow:Assets written to: ./model\\HL3\\assets\n",
      "INFO:tensorflow:Assets written to: ./model\\HL3\\assets\n",
      "INFO:tensorflow:Assets written to: ./model\\HL3\\assets\n",
      "INFO:tensorflow:Assets written to: ./model\\HL3\\assets\n",
      "INFO:tensorflow:Assets written to: ./model\\HL3\\assets\n",
      "INFO:tensorflow:Assets written to: ./model\\HL3\\assets\n",
      "INFO:tensorflow:Assets written to: ./model\\HL3\\assets\n",
      "INFO:tensorflow:Assets written to: ./model\\HL3\\assets\n",
      "INFO:tensorflow:Assets written to: ./model\\HL3\\assets\n",
      "INFO:tensorflow:Assets written to: ./model\\HL3\\assets\n",
      "INFO:tensorflow:Assets written to: ./model\\HL3\\assets\n",
      "INFO:tensorflow:Assets written to: ./model\\HL3\\assets\n",
      "INFO:tensorflow:Assets written to: ./model\\HL3\\assets\n",
      "INFO:tensorflow:Assets written to: ./model\\HL3\\assets\n",
      "INFO:tensorflow:Assets written to: ./model\\HL3\\assets\n"
     ]
    },
    {
     "name": "stderr",
     "output_type": "stream",
     "text": [
      " 58%|███████████████████████████████████████████▏                               | 140/243 [8:21:11<8:56:52, 312.74s/it]"
     ]
    },
    {
     "name": "stdout",
     "output_type": "stream",
     "text": [
      "INFO:tensorflow:Assets written to: ./model\\HL3\\assets\n",
      "INFO:tensorflow:Assets written to: ./model\\HL3\\assets\n",
      "INFO:tensorflow:Assets written to: ./model\\HL3\\assets\n",
      "INFO:tensorflow:Assets written to: ./model\\HL3\\assets\n",
      "INFO:tensorflow:Assets written to: ./model\\HL3\\assets\n",
      "INFO:tensorflow:Assets written to: ./model\\HL3\\assets\n",
      "INFO:tensorflow:Assets written to: ./model\\HL3\\assets\n",
      "INFO:tensorflow:Assets written to: ./model\\HL3\\assets\n",
      "INFO:tensorflow:Assets written to: ./model\\HL3\\assets\n",
      "INFO:tensorflow:Assets written to: ./model\\HL3\\assets\n",
      "INFO:tensorflow:Assets written to: ./model\\HL3\\assets\n",
      "INFO:tensorflow:Assets written to: ./model\\HL3\\assets\n"
     ]
    },
    {
     "name": "stderr",
     "output_type": "stream",
     "text": [
      " 58%|███████████████████████████████████████████▌                               | 141/243 [8:27:20<9:20:14, 329.56s/it]"
     ]
    },
    {
     "name": "stdout",
     "output_type": "stream",
     "text": [
      "INFO:tensorflow:Assets written to: ./model\\HL3\\assets\n",
      "INFO:tensorflow:Assets written to: ./model\\HL3\\assets\n",
      "INFO:tensorflow:Assets written to: ./model\\HL3\\assets\n",
      "INFO:tensorflow:Assets written to: ./model\\HL3\\assets\n",
      "INFO:tensorflow:Assets written to: ./model\\HL3\\assets\n",
      "INFO:tensorflow:Assets written to: ./model\\HL3\\assets\n",
      "INFO:tensorflow:Assets written to: ./model\\HL3\\assets\n",
      "INFO:tensorflow:Assets written to: ./model\\HL3\\assets\n",
      "INFO:tensorflow:Assets written to: ./model\\HL3\\assets\n",
      "INFO:tensorflow:Assets written to: ./model\\HL3\\assets\n",
      "INFO:tensorflow:Assets written to: ./model\\HL3\\assets\n",
      "INFO:tensorflow:Assets written to: ./model\\HL3\\assets\n",
      "INFO:tensorflow:Assets written to: ./model\\HL3\\assets\n",
      "INFO:tensorflow:Assets written to: ./model\\HL3\\assets\n",
      "INFO:tensorflow:Assets written to: ./model\\HL3\\assets\n",
      "INFO:tensorflow:Assets written to: ./model\\HL3\\assets\n",
      "INFO:tensorflow:Assets written to: ./model\\HL3\\assets\n",
      "INFO:tensorflow:Assets written to: ./model\\HL3\\assets\n",
      "INFO:tensorflow:Assets written to: ./model\\HL3\\assets\n",
      "INFO:tensorflow:Assets written to: ./model\\HL3\\assets\n",
      "INFO:tensorflow:Assets written to: ./model\\HL3\\assets\n",
      "INFO:tensorflow:Assets written to: ./model\\HL3\\assets\n",
      "INFO:tensorflow:Assets written to: ./model\\HL3\\assets\n",
      "INFO:tensorflow:Assets written to: ./model\\HL3\\assets\n",
      "INFO:tensorflow:Assets written to: ./model\\HL3\\assets\n",
      "INFO:tensorflow:Assets written to: ./model\\HL3\\assets\n",
      "INFO:tensorflow:Assets written to: ./model\\HL3\\assets\n"
     ]
    },
    {
     "name": "stderr",
     "output_type": "stream",
     "text": [
      " 58%|███████████████████████████████████████████▊                               | 142/243 [8:33:07<9:23:17, 334.63s/it]"
     ]
    },
    {
     "name": "stdout",
     "output_type": "stream",
     "text": [
      "INFO:tensorflow:Assets written to: ./model\\HL3\\assets\n",
      "INFO:tensorflow:Assets written to: ./model\\HL3\\assets\n",
      "INFO:tensorflow:Assets written to: ./model\\HL3\\assets\n",
      "INFO:tensorflow:Assets written to: ./model\\HL3\\assets\n",
      "INFO:tensorflow:Assets written to: ./model\\HL3\\assets\n",
      "INFO:tensorflow:Assets written to: ./model\\HL3\\assets\n",
      "INFO:tensorflow:Assets written to: ./model\\HL3\\assets\n",
      "INFO:tensorflow:Assets written to: ./model\\HL3\\assets\n",
      "INFO:tensorflow:Assets written to: ./model\\HL3\\assets\n",
      "INFO:tensorflow:Assets written to: ./model\\HL3\\assets\n",
      "INFO:tensorflow:Assets written to: ./model\\HL3\\assets\n",
      "INFO:tensorflow:Assets written to: ./model\\HL3\\assets\n",
      "INFO:tensorflow:Assets written to: ./model\\HL3\\assets\n",
      "INFO:tensorflow:Assets written to: ./model\\HL3\\assets\n",
      "INFO:tensorflow:Assets written to: ./model\\HL3\\assets\n",
      "INFO:tensorflow:Assets written to: ./model\\HL3\\assets\n",
      "INFO:tensorflow:Assets written to: ./model\\HL3\\assets\n"
     ]
    },
    {
     "name": "stderr",
     "output_type": "stream",
     "text": [
      " 59%|████████████████████████████████████████████▏                              | 143/243 [8:39:24<9:39:05, 347.45s/it]"
     ]
    },
    {
     "name": "stdout",
     "output_type": "stream",
     "text": [
      "INFO:tensorflow:Assets written to: ./model\\HL3\\assets\n",
      "INFO:tensorflow:Assets written to: ./model\\HL3\\assets\n",
      "INFO:tensorflow:Assets written to: ./model\\HL3\\assets\n",
      "INFO:tensorflow:Assets written to: ./model\\HL3\\assets\n",
      "INFO:tensorflow:Assets written to: ./model\\HL3\\assets\n",
      "INFO:tensorflow:Assets written to: ./model\\HL3\\assets\n",
      "INFO:tensorflow:Assets written to: ./model\\HL3\\assets\n",
      "INFO:tensorflow:Assets written to: ./model\\HL3\\assets\n",
      "INFO:tensorflow:Assets written to: ./model\\HL3\\assets\n",
      "INFO:tensorflow:Assets written to: ./model\\HL3\\assets\n",
      "INFO:tensorflow:Assets written to: ./model\\HL3\\assets\n"
     ]
    },
    {
     "name": "stderr",
     "output_type": "stream",
     "text": [
      " 59%|███████████████████████████████████████████▊                              | 144/243 [8:46:26<10:10:17, 369.87s/it]"
     ]
    },
    {
     "name": "stdout",
     "output_type": "stream",
     "text": [
      "INFO:tensorflow:Assets written to: ./model\\HL3\\assets\n",
      "INFO:tensorflow:Assets written to: ./model\\HL3\\assets\n",
      "INFO:tensorflow:Assets written to: ./model\\HL3\\assets\n",
      "INFO:tensorflow:Assets written to: ./model\\HL3\\assets\n",
      "INFO:tensorflow:Assets written to: ./model\\HL3\\assets\n",
      "INFO:tensorflow:Assets written to: ./model\\HL3\\assets\n"
     ]
    },
    {
     "name": "stderr",
     "output_type": "stream",
     "text": [
      " 60%|████████████████████████████████████████████▊                              | 145/243 [8:50:47<9:10:27, 337.02s/it]"
     ]
    },
    {
     "name": "stdout",
     "output_type": "stream",
     "text": [
      "INFO:tensorflow:Assets written to: ./model\\HL3\\assets\n",
      "INFO:tensorflow:Assets written to: ./model\\HL3\\assets\n",
      "INFO:tensorflow:Assets written to: ./model\\HL3\\assets\n"
     ]
    },
    {
     "name": "stderr",
     "output_type": "stream",
     "text": [
      " 60%|█████████████████████████████████████████████                              | 146/243 [8:55:17<8:32:21, 316.93s/it]"
     ]
    },
    {
     "name": "stdout",
     "output_type": "stream",
     "text": [
      "INFO:tensorflow:Assets written to: ./model\\HL3\\assets\n",
      "INFO:tensorflow:Assets written to: ./model\\HL3\\assets\n",
      "INFO:tensorflow:Assets written to: ./model\\HL3\\assets\n",
      "INFO:tensorflow:Assets written to: ./model\\HL3\\assets\n"
     ]
    },
    {
     "name": "stderr",
     "output_type": "stream",
     "text": [
      " 60%|█████████████████████████████████████████████▎                             | 147/243 [9:00:28<8:24:11, 315.12s/it]"
     ]
    },
    {
     "name": "stdout",
     "output_type": "stream",
     "text": [
      "INFO:tensorflow:Assets written to: ./model\\HL3\\assets\n",
      "INFO:tensorflow:Assets written to: ./model\\HL3\\assets\n",
      "INFO:tensorflow:Assets written to: ./model\\HL3\\assets\n",
      "INFO:tensorflow:Assets written to: ./model\\HL3\\assets\n",
      "INFO:tensorflow:Assets written to: ./model\\HL3\\assets\n",
      "INFO:tensorflow:Assets written to: ./model\\HL3\\assets\n",
      "INFO:tensorflow:Assets written to: ./model\\HL3\\assets\n",
      "INFO:tensorflow:Assets written to: ./model\\HL3\\assets\n"
     ]
    },
    {
     "name": "stderr",
     "output_type": "stream",
     "text": [
      " 61%|█████████████████████████████████████████████▋                             | 148/243 [9:05:37<8:16:16, 313.44s/it]"
     ]
    },
    {
     "name": "stdout",
     "output_type": "stream",
     "text": [
      "INFO:tensorflow:Assets written to: ./model\\HL3\\assets\n",
      "INFO:tensorflow:Assets written to: ./model\\HL3\\assets\n",
      "INFO:tensorflow:Assets written to: ./model\\HL3\\assets\n",
      "INFO:tensorflow:Assets written to: ./model\\HL3\\assets\n",
      "INFO:tensorflow:Assets written to: ./model\\HL3\\assets\n",
      "INFO:tensorflow:Assets written to: ./model\\HL3\\assets\n",
      "INFO:tensorflow:Assets written to: ./model\\HL3\\assets\n",
      "INFO:tensorflow:Assets written to: ./model\\HL3\\assets\n",
      "INFO:tensorflow:Assets written to: ./model\\HL3\\assets\n",
      "INFO:tensorflow:Assets written to: ./model\\HL3\\assets\n",
      "INFO:tensorflow:Assets written to: ./model\\HL3\\assets\n",
      "INFO:tensorflow:Assets written to: ./model\\HL3\\assets\n",
      "INFO:tensorflow:Assets written to: ./model\\HL3\\assets\n",
      "INFO:tensorflow:Assets written to: ./model\\HL3\\assets\n",
      "INFO:tensorflow:Assets written to: ./model\\HL3\\assets\n",
      "INFO:tensorflow:Assets written to: ./model\\HL3\\assets\n"
     ]
    },
    {
     "name": "stderr",
     "output_type": "stream",
     "text": [
      " 61%|█████████████████████████████████████████████▉                             | 149/243 [9:11:02<8:16:18, 316.79s/it]"
     ]
    },
    {
     "name": "stdout",
     "output_type": "stream",
     "text": [
      "INFO:tensorflow:Assets written to: ./model\\HL3\\assets\n",
      "INFO:tensorflow:Assets written to: ./model\\HL3\\assets\n",
      "INFO:tensorflow:Assets written to: ./model\\HL3\\assets\n",
      "INFO:tensorflow:Assets written to: ./model\\HL3\\assets\n",
      "INFO:tensorflow:Assets written to: ./model\\HL3\\assets\n",
      "INFO:tensorflow:Assets written to: ./model\\HL3\\assets\n",
      "INFO:tensorflow:Assets written to: ./model\\HL3\\assets\n"
     ]
    },
    {
     "name": "stderr",
     "output_type": "stream",
     "text": [
      " 62%|██████████████████████████████████████████████▎                            | 150/243 [9:17:08<8:34:01, 331.63s/it]"
     ]
    },
    {
     "name": "stdout",
     "output_type": "stream",
     "text": [
      "INFO:tensorflow:Assets written to: ./model\\HL3\\assets\n",
      "INFO:tensorflow:Assets written to: ./model\\HL3\\assets\n",
      "INFO:tensorflow:Assets written to: ./model\\HL3\\assets\n",
      "INFO:tensorflow:Assets written to: ./model\\HL3\\assets\n",
      "INFO:tensorflow:Assets written to: ./model\\HL3\\assets\n",
      "INFO:tensorflow:Assets written to: ./model\\HL3\\assets\n",
      "INFO:tensorflow:Assets written to: ./model\\HL3\\assets\n"
     ]
    },
    {
     "name": "stderr",
     "output_type": "stream",
     "text": [
      " 62%|██████████████████████████████████████████████▌                            | 151/243 [9:22:43<8:30:18, 332.82s/it]"
     ]
    },
    {
     "name": "stdout",
     "output_type": "stream",
     "text": [
      "INFO:tensorflow:Assets written to: ./model\\HL3\\assets\n",
      "INFO:tensorflow:Assets written to: ./model\\HL3\\assets\n",
      "INFO:tensorflow:Assets written to: ./model\\HL3\\assets\n",
      "INFO:tensorflow:Assets written to: ./model\\HL3\\assets\n",
      "INFO:tensorflow:Assets written to: ./model\\HL3\\assets\n",
      "INFO:tensorflow:Assets written to: ./model\\HL3\\assets\n",
      "INFO:tensorflow:Assets written to: ./model\\HL3\\assets\n",
      "INFO:tensorflow:Assets written to: ./model\\HL3\\assets\n",
      "INFO:tensorflow:Assets written to: ./model\\HL3\\assets\n",
      "INFO:tensorflow:Assets written to: ./model\\HL3\\assets\n",
      "INFO:tensorflow:Assets written to: ./model\\HL3\\assets\n",
      "INFO:tensorflow:Assets written to: ./model\\HL3\\assets\n",
      "INFO:tensorflow:Assets written to: ./model\\HL3\\assets\n",
      "INFO:tensorflow:Assets written to: ./model\\HL3\\assets\n",
      "INFO:tensorflow:Assets written to: ./model\\HL3\\assets\n"
     ]
    },
    {
     "name": "stderr",
     "output_type": "stream",
     "text": [
      " 63%|██████████████████████████████████████████████▉                            | 152/243 [9:29:00<8:44:37, 345.91s/it]"
     ]
    },
    {
     "name": "stdout",
     "output_type": "stream",
     "text": [
      "INFO:tensorflow:Assets written to: ./model\\HL3\\assets\n",
      "INFO:tensorflow:Assets written to: ./model\\HL3\\assets\n",
      "INFO:tensorflow:Assets written to: ./model\\HL3\\assets\n",
      "INFO:tensorflow:Assets written to: ./model\\HL3\\assets\n",
      "INFO:tensorflow:Assets written to: ./model\\HL3\\assets\n",
      "INFO:tensorflow:Assets written to: ./model\\HL3\\assets\n",
      "INFO:tensorflow:Assets written to: ./model\\HL3\\assets\n",
      "INFO:tensorflow:Assets written to: ./model\\HL3\\assets\n",
      "INFO:tensorflow:Assets written to: ./model\\HL3\\assets\n",
      "INFO:tensorflow:Assets written to: ./model\\HL3\\assets\n",
      "INFO:tensorflow:Assets written to: ./model\\HL3\\assets\n",
      "INFO:tensorflow:Assets written to: ./model\\HL3\\assets\n",
      "INFO:tensorflow:Assets written to: ./model\\HL3\\assets\n",
      "INFO:tensorflow:Assets written to: ./model\\HL3\\assets\n",
      "INFO:tensorflow:Assets written to: ./model\\HL3\\assets\n",
      "INFO:tensorflow:Assets written to: ./model\\HL3\\assets\n"
     ]
    },
    {
     "name": "stderr",
     "output_type": "stream",
     "text": [
      " 63%|███████████████████████████████████████████████▏                           | 153/243 [9:36:06<9:14:56, 369.97s/it]"
     ]
    },
    {
     "name": "stdout",
     "output_type": "stream",
     "text": [
      "INFO:tensorflow:Assets written to: ./model\\HL3\\assets\n",
      "INFO:tensorflow:Assets written to: ./model\\HL3\\assets\n",
      "INFO:tensorflow:Assets written to: ./model\\HL3\\assets\n",
      "INFO:tensorflow:Assets written to: ./model\\HL3\\assets\n",
      "INFO:tensorflow:Assets written to: ./model\\HL3\\assets\n"
     ]
    },
    {
     "name": "stderr",
     "output_type": "stream",
     "text": [
      " 63%|███████████████████████████████████████████████▌                           | 154/243 [9:40:26<8:19:42, 336.88s/it]"
     ]
    },
    {
     "name": "stdout",
     "output_type": "stream",
     "text": [
      "INFO:tensorflow:Assets written to: ./model\\HL3\\assets\n",
      "INFO:tensorflow:Assets written to: ./model\\HL3\\assets\n",
      "INFO:tensorflow:Assets written to: ./model\\HL3\\assets\n",
      "INFO:tensorflow:Assets written to: ./model\\HL3\\assets\n",
      "INFO:tensorflow:Assets written to: ./model\\HL3\\assets\n",
      "INFO:tensorflow:Assets written to: ./model\\HL3\\assets\n",
      "INFO:tensorflow:Assets written to: ./model\\HL3\\assets\n",
      "INFO:tensorflow:Assets written to: ./model\\HL3\\assets\n"
     ]
    },
    {
     "name": "stderr",
     "output_type": "stream",
     "text": [
      " 64%|███████████████████████████████████████████████▊                           | 155/243 [9:45:02<7:47:18, 318.62s/it]"
     ]
    },
    {
     "name": "stdout",
     "output_type": "stream",
     "text": [
      "INFO:tensorflow:Assets written to: ./model\\HL3\\assets\n",
      "INFO:tensorflow:Assets written to: ./model\\HL3\\assets\n",
      "INFO:tensorflow:Assets written to: ./model\\HL3\\assets\n",
      "INFO:tensorflow:Assets written to: ./model\\HL3\\assets\n",
      "INFO:tensorflow:Assets written to: ./model\\HL3\\assets\n",
      "INFO:tensorflow:Assets written to: ./model\\HL3\\assets\n",
      "INFO:tensorflow:Assets written to: ./model\\HL3\\assets\n",
      "INFO:tensorflow:Assets written to: ./model\\HL3\\assets\n"
     ]
    },
    {
     "name": "stderr",
     "output_type": "stream",
     "text": [
      " 64%|████████████████████████████████████████████████▏                          | 156/243 [9:50:16<7:40:00, 317.25s/it]"
     ]
    },
    {
     "name": "stdout",
     "output_type": "stream",
     "text": [
      "INFO:tensorflow:Assets written to: ./model\\HL3\\assets\n",
      "INFO:tensorflow:Assets written to: ./model\\HL3\\assets\n",
      "INFO:tensorflow:Assets written to: ./model\\HL3\\assets\n",
      "INFO:tensorflow:Assets written to: ./model\\HL3\\assets\n",
      "INFO:tensorflow:Assets written to: ./model\\HL3\\assets\n",
      "INFO:tensorflow:Assets written to: ./model\\HL3\\assets\n",
      "INFO:tensorflow:Assets written to: ./model\\HL3\\assets\n",
      "INFO:tensorflow:Assets written to: ./model\\HL3\\assets\n"
     ]
    },
    {
     "name": "stderr",
     "output_type": "stream",
     "text": [
      " 65%|████████████████████████████████████████████████▍                          | 157/243 [9:55:18<7:28:14, 312.73s/it]"
     ]
    },
    {
     "name": "stdout",
     "output_type": "stream",
     "text": [
      "INFO:tensorflow:Assets written to: ./model\\HL3\\assets\n",
      "INFO:tensorflow:Assets written to: ./model\\HL3\\assets\n",
      "INFO:tensorflow:Assets written to: ./model\\HL3\\assets\n",
      "INFO:tensorflow:Assets written to: ./model\\HL3\\assets\n",
      "INFO:tensorflow:Assets written to: ./model\\HL3\\assets\n",
      "INFO:tensorflow:Assets written to: ./model\\HL3\\assets\n",
      "INFO:tensorflow:Assets written to: ./model\\HL3\\assets\n"
     ]
    },
    {
     "name": "stderr",
     "output_type": "stream",
     "text": [
      " 65%|████████████████████████████████████████████████                          | 158/243 [10:00:33<7:23:59, 313.41s/it]"
     ]
    },
    {
     "name": "stdout",
     "output_type": "stream",
     "text": [
      "INFO:tensorflow:Assets written to: ./model\\HL3\\assets\n",
      "INFO:tensorflow:Assets written to: ./model\\HL3\\assets\n",
      "INFO:tensorflow:Assets written to: ./model\\HL3\\assets\n",
      "INFO:tensorflow:Assets written to: ./model\\HL3\\assets\n",
      "INFO:tensorflow:Assets written to: ./model\\HL3\\assets\n",
      "INFO:tensorflow:Assets written to: ./model\\HL3\\assets\n"
     ]
    },
    {
     "name": "stderr",
     "output_type": "stream",
     "text": [
      " 65%|████████████████████████████████████████████████▍                         | 159/243 [10:06:39<7:40:42, 329.08s/it]"
     ]
    },
    {
     "name": "stdout",
     "output_type": "stream",
     "text": [
      "INFO:tensorflow:Assets written to: ./model\\HL3\\assets\n",
      "INFO:tensorflow:Assets written to: ./model\\HL3\\assets\n",
      "INFO:tensorflow:Assets written to: ./model\\HL3\\assets\n"
     ]
    },
    {
     "name": "stderr",
     "output_type": "stream",
     "text": [
      " 66%|████████████████████████████████████████████████▋                         | 160/243 [10:12:12<7:37:01, 330.37s/it]"
     ]
    },
    {
     "name": "stdout",
     "output_type": "stream",
     "text": [
      "INFO:tensorflow:Assets written to: ./model\\HL3\\assets\n",
      "INFO:tensorflow:Assets written to: ./model\\HL3\\assets\n",
      "INFO:tensorflow:Assets written to: ./model\\HL3\\assets\n",
      "INFO:tensorflow:Assets written to: ./model\\HL3\\assets\n",
      "INFO:tensorflow:Assets written to: ./model\\HL3\\assets\n",
      "INFO:tensorflow:Assets written to: ./model\\HL3\\assets\n",
      "INFO:tensorflow:Assets written to: ./model\\HL3\\assets\n",
      "INFO:tensorflow:Assets written to: ./model\\HL3\\assets\n",
      "INFO:tensorflow:Assets written to: ./model\\HL3\\assets\n"
     ]
    },
    {
     "name": "stderr",
     "output_type": "stream",
     "text": [
      " 66%|█████████████████████████████████████████████████                         | 161/243 [10:18:24<7:48:39, 342.92s/it]"
     ]
    },
    {
     "name": "stdout",
     "output_type": "stream",
     "text": [
      "INFO:tensorflow:Assets written to: ./model\\HL3\\assets\n",
      "INFO:tensorflow:Assets written to: ./model\\HL3\\assets\n",
      "INFO:tensorflow:Assets written to: ./model\\HL3\\assets\n",
      "INFO:tensorflow:Assets written to: ./model\\HL3\\assets\n",
      "INFO:tensorflow:Assets written to: ./model\\HL3\\assets\n",
      "INFO:tensorflow:Assets written to: ./model\\HL3\\assets\n"
     ]
    },
    {
     "name": "stderr",
     "output_type": "stream",
     "text": [
      " 67%|█████████████████████████████████████████████████▎                        | 162/243 [10:25:20<8:12:39, 364.93s/it]"
     ]
    },
    {
     "name": "stdout",
     "output_type": "stream",
     "text": [
      "INFO:tensorflow:Assets written to: ./model\\HL3\\assets\n",
      "INFO:tensorflow:Assets written to: ./model\\HL3\\assets\n",
      "INFO:tensorflow:Assets written to: ./model\\HL3\\assets\n",
      "INFO:tensorflow:Assets written to: ./model\\HL3\\assets\n",
      "INFO:tensorflow:Assets written to: ./model\\HL3\\assets\n",
      "INFO:tensorflow:Assets written to: ./model\\HL3\\assets\n",
      "INFO:tensorflow:Assets written to: ./model\\HL3\\assets\n",
      "INFO:tensorflow:Assets written to: ./model\\HL3\\assets\n",
      "INFO:tensorflow:Assets written to: ./model\\HL3\\assets\n",
      "INFO:tensorflow:Assets written to: ./model\\HL3\\assets\n",
      "INFO:tensorflow:Assets written to: ./model\\HL3\\assets\n",
      "INFO:tensorflow:Assets written to: ./model\\HL3\\assets\n",
      "INFO:tensorflow:Assets written to: ./model\\HL3\\assets\n",
      "INFO:tensorflow:Assets written to: ./model\\HL3\\assets\n",
      "INFO:tensorflow:Assets written to: ./model\\HL3\\assets\n",
      "INFO:tensorflow:Assets written to: ./model\\HL3\\assets\n",
      "INFO:tensorflow:Assets written to: ./model\\HL3\\assets\n"
     ]
    },
    {
     "name": "stderr",
     "output_type": "stream",
     "text": [
      " 67%|█████████████████████████████████████████████████▋                        | 163/243 [10:31:15<8:02:35, 361.94s/it]"
     ]
    },
    {
     "name": "stdout",
     "output_type": "stream",
     "text": [
      "INFO:tensorflow:Assets written to: ./model\\HL3\\assets\n",
      "INFO:tensorflow:Assets written to: ./model\\HL3\\assets\n",
      "INFO:tensorflow:Assets written to: ./model\\HL3\\assets\n",
      "INFO:tensorflow:Assets written to: ./model\\HL3\\assets\n",
      "INFO:tensorflow:Assets written to: ./model\\HL3\\assets\n",
      "INFO:tensorflow:Assets written to: ./model\\HL3\\assets\n",
      "INFO:tensorflow:Assets written to: ./model\\HL3\\assets\n",
      "INFO:tensorflow:Assets written to: ./model\\HL3\\assets\n",
      "INFO:tensorflow:Assets written to: ./model\\HL3\\assets\n",
      "INFO:tensorflow:Assets written to: ./model\\HL3\\assets\n",
      "INFO:tensorflow:Assets written to: ./model\\HL3\\assets\n",
      "INFO:tensorflow:Assets written to: ./model\\HL3\\assets\n",
      "INFO:tensorflow:Assets written to: ./model\\HL3\\assets\n",
      "INFO:tensorflow:Assets written to: ./model\\HL3\\assets\n",
      "INFO:tensorflow:Assets written to: ./model\\HL3\\assets\n"
     ]
    },
    {
     "name": "stderr",
     "output_type": "stream",
     "text": [
      " 67%|█████████████████████████████████████████████████▉                        | 164/243 [10:37:28<8:00:54, 365.25s/it]"
     ]
    },
    {
     "name": "stdout",
     "output_type": "stream",
     "text": [
      "INFO:tensorflow:Assets written to: ./model\\HL3\\assets\n",
      "INFO:tensorflow:Assets written to: ./model\\HL3\\assets\n",
      "INFO:tensorflow:Assets written to: ./model\\HL3\\assets\n",
      "INFO:tensorflow:Assets written to: ./model\\HL3\\assets\n",
      "INFO:tensorflow:Assets written to: ./model\\HL3\\assets\n",
      "INFO:tensorflow:Assets written to: ./model\\HL3\\assets\n",
      "INFO:tensorflow:Assets written to: ./model\\HL3\\assets\n",
      "INFO:tensorflow:Assets written to: ./model\\HL3\\assets\n",
      "INFO:tensorflow:Assets written to: ./model\\HL3\\assets\n",
      "INFO:tensorflow:Assets written to: ./model\\HL3\\assets\n",
      "INFO:tensorflow:Assets written to: ./model\\HL3\\assets\n",
      "INFO:tensorflow:Assets written to: ./model\\HL3\\assets\n",
      "INFO:tensorflow:Assets written to: ./model\\HL3\\assets\n",
      "INFO:tensorflow:Assets written to: ./model\\HL3\\assets\n"
     ]
    },
    {
     "name": "stderr",
     "output_type": "stream",
     "text": [
      " 68%|██████████████████████████████████████████████████▏                       | 165/243 [10:44:47<8:23:15, 387.12s/it]"
     ]
    },
    {
     "name": "stdout",
     "output_type": "stream",
     "text": [
      "INFO:tensorflow:Assets written to: ./model\\HL3\\assets\n",
      "INFO:tensorflow:Assets written to: ./model\\HL3\\assets\n",
      "INFO:tensorflow:Assets written to: ./model\\HL3\\assets\n",
      "INFO:tensorflow:Assets written to: ./model\\HL3\\assets\n",
      "INFO:tensorflow:Assets written to: ./model\\HL3\\assets\n",
      "INFO:tensorflow:Assets written to: ./model\\HL3\\assets\n",
      "INFO:tensorflow:Assets written to: ./model\\HL3\\assets\n",
      "INFO:tensorflow:Assets written to: ./model\\HL3\\assets\n",
      "INFO:tensorflow:Assets written to: ./model\\HL3\\assets\n",
      "INFO:tensorflow:Assets written to: ./model\\HL3\\assets\n",
      "INFO:tensorflow:Assets written to: ./model\\HL3\\assets\n"
     ]
    },
    {
     "name": "stderr",
     "output_type": "stream",
     "text": [
      " 68%|██████████████████████████████████████████████████▌                       | 166/243 [10:50:58<8:10:42, 382.37s/it]"
     ]
    },
    {
     "name": "stdout",
     "output_type": "stream",
     "text": [
      "INFO:tensorflow:Assets written to: ./model\\HL3\\assets\n",
      "INFO:tensorflow:Assets written to: ./model\\HL3\\assets\n",
      "INFO:tensorflow:Assets written to: ./model\\HL3\\assets\n",
      "INFO:tensorflow:Assets written to: ./model\\HL3\\assets\n",
      "INFO:tensorflow:Assets written to: ./model\\HL3\\assets\n",
      "INFO:tensorflow:Assets written to: ./model\\HL3\\assets\n",
      "INFO:tensorflow:Assets written to: ./model\\HL3\\assets\n",
      "INFO:tensorflow:Assets written to: ./model\\HL3\\assets\n",
      "INFO:tensorflow:Assets written to: ./model\\HL3\\assets\n",
      "INFO:tensorflow:Assets written to: ./model\\HL3\\assets\n",
      "INFO:tensorflow:Assets written to: ./model\\HL3\\assets\n",
      "INFO:tensorflow:Assets written to: ./model\\HL3\\assets\n"
     ]
    },
    {
     "name": "stderr",
     "output_type": "stream",
     "text": [
      " 69%|██████████████████████████████████████████████████▊                       | 167/243 [10:57:37<8:10:45, 387.44s/it]"
     ]
    },
    {
     "name": "stdout",
     "output_type": "stream",
     "text": [
      "INFO:tensorflow:Assets written to: ./model\\HL3\\assets\n",
      "INFO:tensorflow:Assets written to: ./model\\HL3\\assets\n",
      "INFO:tensorflow:Assets written to: ./model\\HL3\\assets\n",
      "INFO:tensorflow:Assets written to: ./model\\HL3\\assets\n",
      "INFO:tensorflow:Assets written to: ./model\\HL3\\assets\n",
      "INFO:tensorflow:Assets written to: ./model\\HL3\\assets\n",
      "INFO:tensorflow:Assets written to: ./model\\HL3\\assets\n",
      "INFO:tensorflow:Assets written to: ./model\\HL3\\assets\n",
      "INFO:tensorflow:Assets written to: ./model\\HL3\\assets\n",
      "INFO:tensorflow:Assets written to: ./model\\HL3\\assets\n",
      "INFO:tensorflow:Assets written to: ./model\\HL3\\assets\n",
      "INFO:tensorflow:Assets written to: ./model\\HL3\\assets\n",
      "INFO:tensorflow:Assets written to: ./model\\HL3\\assets\n"
     ]
    },
    {
     "name": "stderr",
     "output_type": "stream",
     "text": [
      " 69%|███████████████████████████████████████████████████▏                      | 168/243 [11:05:41<8:40:32, 416.44s/it]"
     ]
    },
    {
     "name": "stdout",
     "output_type": "stream",
     "text": [
      "INFO:tensorflow:Assets written to: ./model\\HL3\\assets\n",
      "INFO:tensorflow:Assets written to: ./model\\HL3\\assets\n",
      "INFO:tensorflow:Assets written to: ./model\\HL3\\assets\n",
      "INFO:tensorflow:Assets written to: ./model\\HL3\\assets\n",
      "INFO:tensorflow:Assets written to: ./model\\HL3\\assets\n",
      "INFO:tensorflow:Assets written to: ./model\\HL3\\assets\n",
      "INFO:tensorflow:Assets written to: ./model\\HL3\\assets\n",
      "INFO:tensorflow:Assets written to: ./model\\HL3\\assets\n",
      "INFO:tensorflow:Assets written to: ./model\\HL3\\assets\n",
      "INFO:tensorflow:Assets written to: ./model\\HL3\\assets\n",
      "INFO:tensorflow:Assets written to: ./model\\HL3\\assets\n",
      "INFO:tensorflow:Assets written to: ./model\\HL3\\assets\n",
      "INFO:tensorflow:Assets written to: ./model\\HL3\\assets\n",
      "INFO:tensorflow:Assets written to: ./model\\HL3\\assets\n",
      "INFO:tensorflow:Assets written to: ./model\\HL3\\assets\n",
      "INFO:tensorflow:Assets written to: ./model\\HL3\\assets\n"
     ]
    },
    {
     "name": "stderr",
     "output_type": "stream",
     "text": [
      " 70%|███████████████████████████████████████████████████▍                      | 169/243 [11:12:28<8:30:01, 413.54s/it]"
     ]
    },
    {
     "name": "stdout",
     "output_type": "stream",
     "text": [
      "INFO:tensorflow:Assets written to: ./model\\HL3\\assets\n",
      "INFO:tensorflow:Assets written to: ./model\\HL3\\assets\n",
      "INFO:tensorflow:Assets written to: ./model\\HL3\\assets\n",
      "INFO:tensorflow:Assets written to: ./model\\HL3\\assets\n",
      "INFO:tensorflow:Assets written to: ./model\\HL3\\assets\n",
      "INFO:tensorflow:Assets written to: ./model\\HL3\\assets\n",
      "INFO:tensorflow:Assets written to: ./model\\HL3\\assets\n",
      "INFO:tensorflow:Assets written to: ./model\\HL3\\assets\n",
      "INFO:tensorflow:Assets written to: ./model\\HL3\\assets\n",
      "INFO:tensorflow:Assets written to: ./model\\HL3\\assets\n",
      "INFO:tensorflow:Assets written to: ./model\\HL3\\assets\n",
      "INFO:tensorflow:Assets written to: ./model\\HL3\\assets\n",
      "INFO:tensorflow:Assets written to: ./model\\HL3\\assets\n",
      "INFO:tensorflow:Assets written to: ./model\\HL3\\assets\n",
      "INFO:tensorflow:Assets written to: ./model\\HL3\\assets\n",
      "INFO:tensorflow:Assets written to: ./model\\HL3\\assets\n",
      "INFO:tensorflow:Assets written to: ./model\\HL3\\assets\n",
      "INFO:tensorflow:Assets written to: ./model\\HL3\\assets\n",
      "INFO:tensorflow:Assets written to: ./model\\HL3\\assets\n",
      "INFO:tensorflow:Assets written to: ./model\\HL3\\assets\n",
      "INFO:tensorflow:Assets written to: ./model\\HL3\\assets\n",
      "INFO:tensorflow:Assets written to: ./model\\HL3\\assets\n",
      "INFO:tensorflow:Assets written to: ./model\\HL3\\assets\n"
     ]
    },
    {
     "name": "stderr",
     "output_type": "stream",
     "text": [
      " 70%|███████████████████████████████████████████████████▊                      | 170/243 [11:20:24<8:45:54, 432.25s/it]"
     ]
    },
    {
     "name": "stdout",
     "output_type": "stream",
     "text": [
      "INFO:tensorflow:Assets written to: ./model\\HL3\\assets\n",
      "INFO:tensorflow:Assets written to: ./model\\HL3\\assets\n",
      "INFO:tensorflow:Assets written to: ./model\\HL3\\assets\n",
      "INFO:tensorflow:Assets written to: ./model\\HL3\\assets\n",
      "INFO:tensorflow:Assets written to: ./model\\HL3\\assets\n",
      "INFO:tensorflow:Assets written to: ./model\\HL3\\assets\n",
      "INFO:tensorflow:Assets written to: ./model\\HL3\\assets\n",
      "INFO:tensorflow:Assets written to: ./model\\HL3\\assets\n",
      "INFO:tensorflow:Assets written to: ./model\\HL3\\assets\n"
     ]
    },
    {
     "name": "stderr",
     "output_type": "stream",
     "text": [
      " 70%|████████████████████████████████████████████████████                      | 171/243 [11:29:37<9:22:04, 468.40s/it]"
     ]
    },
    {
     "name": "stdout",
     "output_type": "stream",
     "text": [
      "INFO:tensorflow:Assets written to: ./model\\HL3\\assets\n",
      "INFO:tensorflow:Assets written to: ./model\\HL3\\assets\n",
      "INFO:tensorflow:Assets written to: ./model\\HL3\\assets\n",
      "INFO:tensorflow:Assets written to: ./model\\HL3\\assets\n",
      "INFO:tensorflow:Assets written to: ./model\\HL3\\assets\n",
      "INFO:tensorflow:Assets written to: ./model\\HL3\\assets\n",
      "INFO:tensorflow:Assets written to: ./model\\HL3\\assets\n",
      "INFO:tensorflow:Assets written to: ./model\\HL3\\assets\n",
      "INFO:tensorflow:Assets written to: ./model\\HL3\\assets\n",
      "INFO:tensorflow:Assets written to: ./model\\HL3\\assets\n",
      "INFO:tensorflow:Assets written to: ./model\\HL3\\assets\n",
      "INFO:tensorflow:Assets written to: ./model\\HL3\\assets\n",
      "INFO:tensorflow:Assets written to: ./model\\HL3\\assets\n",
      "INFO:tensorflow:Assets written to: ./model\\HL3\\assets\n",
      "INFO:tensorflow:Assets written to: ./model\\HL3\\assets\n",
      "INFO:tensorflow:Assets written to: ./model\\HL3\\assets\n",
      "INFO:tensorflow:Assets written to: ./model\\HL3\\assets\n",
      "INFO:tensorflow:Assets written to: ./model\\HL3\\assets\n",
      "INFO:tensorflow:Assets written to: ./model\\HL3\\assets\n",
      "INFO:tensorflow:Assets written to: ./model\\HL3\\assets\n",
      "INFO:tensorflow:Assets written to: ./model\\HL3\\assets\n",
      "INFO:tensorflow:Assets written to: ./model\\HL3\\assets\n",
      "INFO:tensorflow:Assets written to: ./model\\HL3\\assets\n",
      "INFO:tensorflow:Assets written to: ./model\\HL3\\assets\n"
     ]
    },
    {
     "name": "stderr",
     "output_type": "stream",
     "text": [
      " 71%|████████████████████████████████████████████████████▍                     | 172/243 [11:35:43<8:38:03, 437.79s/it]"
     ]
    },
    {
     "name": "stdout",
     "output_type": "stream",
     "text": [
      "INFO:tensorflow:Assets written to: ./model\\HL3\\assets\n",
      "INFO:tensorflow:Assets written to: ./model\\HL3\\assets\n",
      "INFO:tensorflow:Assets written to: ./model\\HL3\\assets\n",
      "INFO:tensorflow:Assets written to: ./model\\HL3\\assets\n",
      "INFO:tensorflow:Assets written to: ./model\\HL3\\assets\n",
      "INFO:tensorflow:Assets written to: ./model\\HL3\\assets\n"
     ]
    },
    {
     "name": "stderr",
     "output_type": "stream",
     "text": [
      " 71%|████████████████████████████████████████████████████▋                     | 173/243 [11:41:54<8:07:20, 417.72s/it]"
     ]
    },
    {
     "name": "stdout",
     "output_type": "stream",
     "text": [
      "INFO:tensorflow:Assets written to: ./model\\HL3\\assets\n",
      "INFO:tensorflow:Assets written to: ./model\\HL3\\assets\n",
      "INFO:tensorflow:Assets written to: ./model\\HL3\\assets\n",
      "INFO:tensorflow:Assets written to: ./model\\HL3\\assets\n",
      "INFO:tensorflow:Assets written to: ./model\\HL3\\assets\n",
      "INFO:tensorflow:Assets written to: ./model\\HL3\\assets\n",
      "INFO:tensorflow:Assets written to: ./model\\HL3\\assets\n",
      "INFO:tensorflow:Assets written to: ./model\\HL3\\assets\n",
      "INFO:tensorflow:Assets written to: ./model\\HL3\\assets\n"
     ]
    },
    {
     "name": "stderr",
     "output_type": "stream",
     "text": [
      " 72%|████████████████████████████████████████████████████▉                     | 174/243 [11:49:15<8:08:34, 424.85s/it]"
     ]
    },
    {
     "name": "stdout",
     "output_type": "stream",
     "text": [
      "INFO:tensorflow:Assets written to: ./model\\HL3\\assets\n",
      "INFO:tensorflow:Assets written to: ./model\\HL3\\assets\n",
      "INFO:tensorflow:Assets written to: ./model\\HL3\\assets\n",
      "INFO:tensorflow:Assets written to: ./model\\HL3\\assets\n",
      "INFO:tensorflow:Assets written to: ./model\\HL3\\assets\n",
      "INFO:tensorflow:Assets written to: ./model\\HL3\\assets\n",
      "INFO:tensorflow:Assets written to: ./model\\HL3\\assets\n",
      "INFO:tensorflow:Assets written to: ./model\\HL3\\assets\n",
      "INFO:tensorflow:Assets written to: ./model\\HL3\\assets\n",
      "INFO:tensorflow:Assets written to: ./model\\HL3\\assets\n",
      "INFO:tensorflow:Assets written to: ./model\\HL3\\assets\n",
      "INFO:tensorflow:Assets written to: ./model\\HL3\\assets\n",
      "INFO:tensorflow:Assets written to: ./model\\HL3\\assets\n",
      "INFO:tensorflow:Assets written to: ./model\\HL3\\assets\n",
      "INFO:tensorflow:Assets written to: ./model\\HL3\\assets\n",
      "INFO:tensorflow:Assets written to: ./model\\HL3\\assets\n",
      "INFO:tensorflow:Assets written to: ./model\\HL3\\assets\n",
      "INFO:tensorflow:Assets written to: ./model\\HL3\\assets\n",
      "INFO:tensorflow:Assets written to: ./model\\HL3\\assets\n",
      "INFO:tensorflow:Assets written to: ./model\\HL3\\assets\n",
      "INFO:tensorflow:Assets written to: ./model\\HL3\\assets\n",
      "INFO:tensorflow:Assets written to: ./model\\HL3\\assets\n",
      "INFO:tensorflow:Assets written to: ./model\\HL3\\assets\n",
      "INFO:tensorflow:Assets written to: ./model\\HL3\\assets\n",
      "INFO:tensorflow:Assets written to: ./model\\HL3\\assets\n"
     ]
    },
    {
     "name": "stderr",
     "output_type": "stream",
     "text": [
      " 72%|█████████████████████████████████████████████████████▎                    | 175/243 [11:55:34<7:45:37, 410.85s/it]"
     ]
    },
    {
     "name": "stdout",
     "output_type": "stream",
     "text": [
      "INFO:tensorflow:Assets written to: ./model\\HL3\\assets\n",
      "INFO:tensorflow:Assets written to: ./model\\HL3\\assets\n",
      "INFO:tensorflow:Assets written to: ./model\\HL3\\assets\n",
      "INFO:tensorflow:Assets written to: ./model\\HL3\\assets\n",
      "INFO:tensorflow:Assets written to: ./model\\HL3\\assets\n",
      "INFO:tensorflow:Assets written to: ./model\\HL3\\assets\n",
      "INFO:tensorflow:Assets written to: ./model\\HL3\\assets\n",
      "INFO:tensorflow:Assets written to: ./model\\HL3\\assets\n"
     ]
    },
    {
     "name": "stderr",
     "output_type": "stream",
     "text": [
      " 72%|█████████████████████████████████████████████████████▌                    | 176/243 [12:02:08<7:33:18, 405.95s/it]"
     ]
    },
    {
     "name": "stdout",
     "output_type": "stream",
     "text": [
      "INFO:tensorflow:Assets written to: ./model\\HL3\\assets\n",
      "INFO:tensorflow:Assets written to: ./model\\HL3\\assets\n",
      "INFO:tensorflow:Assets written to: ./model\\HL3\\assets\n",
      "INFO:tensorflow:Assets written to: ./model\\HL3\\assets\n",
      "INFO:tensorflow:Assets written to: ./model\\HL3\\assets\n",
      "INFO:tensorflow:Assets written to: ./model\\HL3\\assets\n",
      "INFO:tensorflow:Assets written to: ./model\\HL3\\assets\n",
      "INFO:tensorflow:Assets written to: ./model\\HL3\\assets\n"
     ]
    },
    {
     "name": "stderr",
     "output_type": "stream",
     "text": [
      " 73%|█████████████████████████████████████████████████████▉                    | 177/243 [12:10:07<7:50:40, 427.89s/it]"
     ]
    },
    {
     "name": "stdout",
     "output_type": "stream",
     "text": [
      "INFO:tensorflow:Assets written to: ./model\\HL3\\assets\n",
      "INFO:tensorflow:Assets written to: ./model\\HL3\\assets\n",
      "INFO:tensorflow:Assets written to: ./model\\HL3\\assets\n",
      "INFO:tensorflow:Assets written to: ./model\\HL3\\assets\n",
      "INFO:tensorflow:Assets written to: ./model\\HL3\\assets\n",
      "INFO:tensorflow:Assets written to: ./model\\HL3\\assets\n",
      "INFO:tensorflow:Assets written to: ./model\\HL3\\assets\n",
      "INFO:tensorflow:Assets written to: ./model\\HL3\\assets\n",
      "INFO:tensorflow:Assets written to: ./model\\HL3\\assets\n",
      "INFO:tensorflow:Assets written to: ./model\\HL3\\assets\n",
      "INFO:tensorflow:Assets written to: ./model\\HL3\\assets\n",
      "INFO:tensorflow:Assets written to: ./model\\HL3\\assets\n",
      "INFO:tensorflow:Assets written to: ./model\\HL3\\assets\n",
      "INFO:tensorflow:Assets written to: ./model\\HL3\\assets\n",
      "INFO:tensorflow:Assets written to: ./model\\HL3\\assets\n",
      "INFO:tensorflow:Assets written to: ./model\\HL3\\assets\n",
      "INFO:tensorflow:Assets written to: ./model\\HL3\\assets\n",
      "INFO:tensorflow:Assets written to: ./model\\HL3\\assets\n",
      "INFO:tensorflow:Assets written to: ./model\\HL3\\assets\n",
      "INFO:tensorflow:Assets written to: ./model\\HL3\\assets\n",
      "INFO:tensorflow:Assets written to: ./model\\HL3\\assets\n",
      "INFO:tensorflow:Assets written to: ./model\\HL3\\assets\n",
      "INFO:tensorflow:Assets written to: ./model\\HL3\\assets\n",
      "INFO:tensorflow:Assets written to: ./model\\HL3\\assets\n",
      "INFO:tensorflow:Assets written to: ./model\\HL3\\assets\n",
      "INFO:tensorflow:Assets written to: ./model\\HL3\\assets\n",
      "INFO:tensorflow:Assets written to: ./model\\HL3\\assets\n"
     ]
    },
    {
     "name": "stderr",
     "output_type": "stream",
     "text": [
      " 73%|██████████████████████████████████████████████████████▏                   | 178/243 [12:17:12<7:42:27, 426.88s/it]"
     ]
    },
    {
     "name": "stdout",
     "output_type": "stream",
     "text": [
      "INFO:tensorflow:Assets written to: ./model\\HL3\\assets\n",
      "INFO:tensorflow:Assets written to: ./model\\HL3\\assets\n",
      "INFO:tensorflow:Assets written to: ./model\\HL3\\assets\n",
      "INFO:tensorflow:Assets written to: ./model\\HL3\\assets\n",
      "INFO:tensorflow:Assets written to: ./model\\HL3\\assets\n",
      "INFO:tensorflow:Assets written to: ./model\\HL3\\assets\n",
      "INFO:tensorflow:Assets written to: ./model\\HL3\\assets\n",
      "INFO:tensorflow:Assets written to: ./model\\HL3\\assets\n",
      "INFO:tensorflow:Assets written to: ./model\\HL3\\assets\n",
      "INFO:tensorflow:Assets written to: ./model\\HL3\\assets\n",
      "INFO:tensorflow:Assets written to: ./model\\HL3\\assets\n",
      "INFO:tensorflow:Assets written to: ./model\\HL3\\assets\n",
      "INFO:tensorflow:Assets written to: ./model\\HL3\\assets\n",
      "INFO:tensorflow:Assets written to: ./model\\HL3\\assets\n",
      "INFO:tensorflow:Assets written to: ./model\\HL3\\assets\n",
      "INFO:tensorflow:Assets written to: ./model\\HL3\\assets\n",
      "INFO:tensorflow:Assets written to: ./model\\HL3\\assets\n",
      "INFO:tensorflow:Assets written to: ./model\\HL3\\assets\n"
     ]
    },
    {
     "name": "stderr",
     "output_type": "stream",
     "text": [
      " 74%|██████████████████████████████████████████████████████▌                   | 179/243 [12:25:11<7:52:04, 442.57s/it]"
     ]
    },
    {
     "name": "stdout",
     "output_type": "stream",
     "text": [
      "INFO:tensorflow:Assets written to: ./model\\HL3\\assets\n",
      "INFO:tensorflow:Assets written to: ./model\\HL3\\assets\n",
      "INFO:tensorflow:Assets written to: ./model\\HL3\\assets\n",
      "INFO:tensorflow:Assets written to: ./model\\HL3\\assets\n",
      "INFO:tensorflow:Assets written to: ./model\\HL3\\assets\n",
      "INFO:tensorflow:Assets written to: ./model\\HL3\\assets\n",
      "INFO:tensorflow:Assets written to: ./model\\HL3\\assets\n",
      "INFO:tensorflow:Assets written to: ./model\\HL3\\assets\n",
      "INFO:tensorflow:Assets written to: ./model\\HL3\\assets\n",
      "INFO:tensorflow:Assets written to: ./model\\HL3\\assets\n",
      "INFO:tensorflow:Assets written to: ./model\\HL3\\assets\n",
      "INFO:tensorflow:Assets written to: ./model\\HL3\\assets\n",
      "INFO:tensorflow:Assets written to: ./model\\HL3\\assets\n",
      "INFO:tensorflow:Assets written to: ./model\\HL3\\assets\n",
      "INFO:tensorflow:Assets written to: ./model\\HL3\\assets\n",
      "INFO:tensorflow:Assets written to: ./model\\HL3\\assets\n"
     ]
    },
    {
     "name": "stderr",
     "output_type": "stream",
     "text": [
      " 74%|██████████████████████████████████████████████████████▊                   | 180/243 [12:34:29<8:21:12, 477.35s/it]"
     ]
    },
    {
     "name": "stdout",
     "output_type": "stream",
     "text": [
      "INFO:tensorflow:Assets written to: ./model\\HL3\\assets\n",
      "INFO:tensorflow:Assets written to: ./model\\HL3\\assets\n",
      "INFO:tensorflow:Assets written to: ./model\\HL3\\assets\n",
      "INFO:tensorflow:Assets written to: ./model\\HL3\\assets\n",
      "INFO:tensorflow:Assets written to: ./model\\HL3\\assets\n",
      "INFO:tensorflow:Assets written to: ./model\\HL3\\assets\n",
      "INFO:tensorflow:Assets written to: ./model\\HL3\\assets\n",
      "INFO:tensorflow:Assets written to: ./model\\HL3\\assets\n",
      "INFO:tensorflow:Assets written to: ./model\\HL3\\assets\n"
     ]
    },
    {
     "name": "stderr",
     "output_type": "stream",
     "text": [
      " 74%|███████████████████████████████████████████████████████                   | 181/243 [12:40:24<7:35:12, 440.52s/it]"
     ]
    },
    {
     "name": "stdout",
     "output_type": "stream",
     "text": [
      "INFO:tensorflow:Assets written to: ./model\\HL3\\assets\n",
      "INFO:tensorflow:Assets written to: ./model\\HL3\\assets\n",
      "INFO:tensorflow:Assets written to: ./model\\HL3\\assets\n",
      "INFO:tensorflow:Assets written to: ./model\\HL3\\assets\n",
      "INFO:tensorflow:Assets written to: ./model\\HL3\\assets\n",
      "INFO:tensorflow:Assets written to: ./model\\HL3\\assets\n",
      "INFO:tensorflow:Assets written to: ./model\\HL3\\assets\n"
     ]
    },
    {
     "name": "stderr",
     "output_type": "stream",
     "text": [
      " 75%|███████████████████████████████████████████████████████▍                  | 182/243 [12:46:38<7:07:27, 420.45s/it]"
     ]
    },
    {
     "name": "stdout",
     "output_type": "stream",
     "text": [
      "INFO:tensorflow:Assets written to: ./model\\HL3\\assets\n",
      "INFO:tensorflow:Assets written to: ./model\\HL3\\assets\n",
      "INFO:tensorflow:Assets written to: ./model\\HL3\\assets\n",
      "INFO:tensorflow:Assets written to: ./model\\HL3\\assets\n",
      "INFO:tensorflow:Assets written to: ./model\\HL3\\assets\n",
      "INFO:tensorflow:Assets written to: ./model\\HL3\\assets\n",
      "INFO:tensorflow:Assets written to: ./model\\HL3\\assets\n",
      "INFO:tensorflow:Assets written to: ./model\\HL3\\assets\n",
      "INFO:tensorflow:Assets written to: ./model\\HL3\\assets\n",
      "INFO:tensorflow:Assets written to: ./model\\HL3\\assets\n"
     ]
    },
    {
     "name": "stderr",
     "output_type": "stream",
     "text": [
      " 75%|███████████████████████████████████████████████████████▋                  | 183/243 [12:53:58<7:06:32, 426.55s/it]"
     ]
    },
    {
     "name": "stdout",
     "output_type": "stream",
     "text": [
      "INFO:tensorflow:Assets written to: ./model\\HL3\\assets\n",
      "INFO:tensorflow:Assets written to: ./model\\HL3\\assets\n",
      "INFO:tensorflow:Assets written to: ./model\\HL3\\assets\n",
      "INFO:tensorflow:Assets written to: ./model\\HL3\\assets\n",
      "INFO:tensorflow:Assets written to: ./model\\HL3\\assets\n",
      "INFO:tensorflow:Assets written to: ./model\\HL3\\assets\n",
      "INFO:tensorflow:Assets written to: ./model\\HL3\\assets\n",
      "INFO:tensorflow:Assets written to: ./model\\HL3\\assets\n",
      "INFO:tensorflow:Assets written to: ./model\\HL3\\assets\n",
      "INFO:tensorflow:Assets written to: ./model\\HL3\\assets\n"
     ]
    },
    {
     "name": "stderr",
     "output_type": "stream",
     "text": [
      " 76%|████████████████████████████████████████████████████████                  | 184/243 [13:00:10<6:43:12, 410.04s/it]"
     ]
    },
    {
     "name": "stdout",
     "output_type": "stream",
     "text": [
      "INFO:tensorflow:Assets written to: ./model\\HL3\\assets\n",
      "INFO:tensorflow:Assets written to: ./model\\HL3\\assets\n",
      "INFO:tensorflow:Assets written to: ./model\\HL3\\assets\n",
      "INFO:tensorflow:Assets written to: ./model\\HL3\\assets\n",
      "INFO:tensorflow:Assets written to: ./model\\HL3\\assets\n",
      "INFO:tensorflow:Assets written to: ./model\\HL3\\assets\n",
      "INFO:tensorflow:Assets written to: ./model\\HL3\\assets\n"
     ]
    },
    {
     "name": "stderr",
     "output_type": "stream",
     "text": [
      " 76%|████████████████████████████████████████████████████████▎                 | 185/243 [13:06:46<6:32:13, 405.75s/it]"
     ]
    },
    {
     "name": "stdout",
     "output_type": "stream",
     "text": [
      "INFO:tensorflow:Assets written to: ./model\\HL3\\assets\n",
      "INFO:tensorflow:Assets written to: ./model\\HL3\\assets\n"
     ]
    },
    {
     "name": "stderr",
     "output_type": "stream",
     "text": [
      " 77%|████████████████████████████████████████████████████████▋                 | 186/243 [13:14:44<6:46:08, 427.51s/it]"
     ]
    },
    {
     "name": "stdout",
     "output_type": "stream",
     "text": [
      "INFO:tensorflow:Assets written to: ./model\\HL3\\assets\n",
      "INFO:tensorflow:Assets written to: ./model\\HL3\\assets\n",
      "INFO:tensorflow:Assets written to: ./model\\HL3\\assets\n"
     ]
    },
    {
     "name": "stderr",
     "output_type": "stream",
     "text": [
      " 77%|████████████████████████████████████████████████████████▉                 | 187/243 [13:21:27<6:32:05, 420.10s/it]"
     ]
    },
    {
     "name": "stdout",
     "output_type": "stream",
     "text": [
      "INFO:tensorflow:Assets written to: ./model\\HL3\\assets\n",
      "INFO:tensorflow:Assets written to: ./model\\HL3\\assets\n",
      "INFO:tensorflow:Assets written to: ./model\\HL3\\assets\n",
      "INFO:tensorflow:Assets written to: ./model\\HL3\\assets\n",
      "INFO:tensorflow:Assets written to: ./model\\HL3\\assets\n",
      "INFO:tensorflow:Assets written to: ./model\\HL3\\assets\n",
      "INFO:tensorflow:Assets written to: ./model\\HL3\\assets\n",
      "INFO:tensorflow:Assets written to: ./model\\HL3\\assets\n"
     ]
    },
    {
     "name": "stderr",
     "output_type": "stream",
     "text": [
      " 77%|█████████████████████████████████████████████████████████▎                | 188/243 [13:29:15<6:38:28, 434.70s/it]"
     ]
    },
    {
     "name": "stdout",
     "output_type": "stream",
     "text": [
      "INFO:tensorflow:Assets written to: ./model\\HL3\\assets\n",
      "INFO:tensorflow:Assets written to: ./model\\HL3\\assets\n",
      "INFO:tensorflow:Assets written to: ./model\\HL3\\assets\n",
      "INFO:tensorflow:Assets written to: ./model\\HL3\\assets\n",
      "INFO:tensorflow:Assets written to: ./model\\HL3\\assets\n"
     ]
    },
    {
     "name": "stderr",
     "output_type": "stream",
     "text": [
      " 78%|█████████████████████████████████████████████████████████▌                | 189/243 [13:38:26<7:02:36, 469.56s/it]"
     ]
    },
    {
     "name": "stdout",
     "output_type": "stream",
     "text": [
      "INFO:tensorflow:Assets written to: ./model\\HL3\\assets\n",
      "INFO:tensorflow:Assets written to: ./model\\HL3\\assets\n",
      "INFO:tensorflow:Assets written to: ./model\\HL3\\assets\n",
      "INFO:tensorflow:Assets written to: ./model\\HL3\\assets\n",
      "INFO:tensorflow:Assets written to: ./model\\HL3\\assets\n",
      "INFO:tensorflow:Assets written to: ./model\\HL3\\assets\n",
      "INFO:tensorflow:Assets written to: ./model\\HL3\\assets\n",
      "INFO:tensorflow:Assets written to: ./model\\HL3\\assets\n",
      "INFO:tensorflow:Assets written to: ./model\\HL3\\assets\n",
      "INFO:tensorflow:Assets written to: ./model\\HL3\\assets\n",
      "INFO:tensorflow:Assets written to: ./model\\HL3\\assets\n",
      "INFO:tensorflow:Assets written to: ./model\\HL3\\assets\n",
      "INFO:tensorflow:Assets written to: ./model\\HL3\\assets\n",
      "INFO:tensorflow:Assets written to: ./model\\HL3\\assets\n",
      "INFO:tensorflow:Assets written to: ./model\\HL3\\assets\n"
     ]
    },
    {
     "name": "stderr",
     "output_type": "stream",
     "text": [
      " 78%|█████████████████████████████████████████████████████████▊                | 190/243 [13:44:41<6:29:31, 440.96s/it]"
     ]
    },
    {
     "name": "stdout",
     "output_type": "stream",
     "text": [
      "INFO:tensorflow:Assets written to: ./model\\HL3\\assets\n",
      "INFO:tensorflow:Assets written to: ./model\\HL3\\assets\n",
      "INFO:tensorflow:Assets written to: ./model\\HL3\\assets\n",
      "INFO:tensorflow:Assets written to: ./model\\HL3\\assets\n",
      "INFO:tensorflow:Assets written to: ./model\\HL3\\assets\n",
      "INFO:tensorflow:Assets written to: ./model\\HL3\\assets\n",
      "INFO:tensorflow:Assets written to: ./model\\HL3\\assets\n",
      "INFO:tensorflow:Assets written to: ./model\\HL3\\assets\n",
      "INFO:tensorflow:Assets written to: ./model\\HL3\\assets\n",
      "INFO:tensorflow:Assets written to: ./model\\HL3\\assets\n",
      "INFO:tensorflow:Assets written to: ./model\\HL3\\assets\n",
      "INFO:tensorflow:Assets written to: ./model\\HL3\\assets\n",
      "INFO:tensorflow:Assets written to: ./model\\HL3\\assets\n",
      "INFO:tensorflow:Assets written to: ./model\\HL3\\assets\n",
      "INFO:tensorflow:Assets written to: ./model\\HL3\\assets\n",
      "INFO:tensorflow:Assets written to: ./model\\HL3\\assets\n",
      "INFO:tensorflow:Assets written to: ./model\\HL3\\assets\n"
     ]
    },
    {
     "name": "stderr",
     "output_type": "stream",
     "text": [
      " 79%|██████████████████████████████████████████████████████████▏               | 191/243 [13:51:17<6:10:29, 427.49s/it]"
     ]
    },
    {
     "name": "stdout",
     "output_type": "stream",
     "text": [
      "INFO:tensorflow:Assets written to: ./model\\HL3\\assets\n",
      "INFO:tensorflow:Assets written to: ./model\\HL3\\assets\n",
      "INFO:tensorflow:Assets written to: ./model\\HL3\\assets\n",
      "INFO:tensorflow:Assets written to: ./model\\HL3\\assets\n",
      "INFO:tensorflow:Assets written to: ./model\\HL3\\assets\n",
      "INFO:tensorflow:Assets written to: ./model\\HL3\\assets\n",
      "INFO:tensorflow:Assets written to: ./model\\HL3\\assets\n",
      "INFO:tensorflow:Assets written to: ./model\\HL3\\assets\n",
      "INFO:tensorflow:Assets written to: ./model\\HL3\\assets\n",
      "INFO:tensorflow:Assets written to: ./model\\HL3\\assets\n",
      "INFO:tensorflow:Assets written to: ./model\\HL3\\assets\n",
      "INFO:tensorflow:Assets written to: ./model\\HL3\\assets\n",
      "INFO:tensorflow:Assets written to: ./model\\HL3\\assets\n",
      "INFO:tensorflow:Assets written to: ./model\\HL3\\assets\n",
      "INFO:tensorflow:Assets written to: ./model\\HL3\\assets\n"
     ]
    },
    {
     "name": "stderr",
     "output_type": "stream",
     "text": [
      " 79%|██████████████████████████████████████████████████████████▍               | 192/243 [13:58:50<6:09:53, 435.17s/it]"
     ]
    },
    {
     "name": "stdout",
     "output_type": "stream",
     "text": [
      "INFO:tensorflow:Assets written to: ./model\\HL3\\assets\n",
      "INFO:tensorflow:Assets written to: ./model\\HL3\\assets\n",
      "INFO:tensorflow:Assets written to: ./model\\HL3\\assets\n",
      "INFO:tensorflow:Assets written to: ./model\\HL3\\assets\n",
      "INFO:tensorflow:Assets written to: ./model\\HL3\\assets\n",
      "INFO:tensorflow:Assets written to: ./model\\HL3\\assets\n",
      "INFO:tensorflow:Assets written to: ./model\\HL3\\assets\n",
      "INFO:tensorflow:Assets written to: ./model\\HL3\\assets\n",
      "INFO:tensorflow:Assets written to: ./model\\HL3\\assets\n",
      "INFO:tensorflow:Assets written to: ./model\\HL3\\assets\n",
      "INFO:tensorflow:Assets written to: ./model\\HL3\\assets\n",
      "INFO:tensorflow:Assets written to: ./model\\HL3\\assets\n",
      "INFO:tensorflow:Assets written to: ./model\\HL3\\assets\n",
      "INFO:tensorflow:Assets written to: ./model\\HL3\\assets\n",
      "INFO:tensorflow:Assets written to: ./model\\HL3\\assets\n",
      "INFO:tensorflow:Assets written to: ./model\\HL3\\assets\n"
     ]
    },
    {
     "name": "stderr",
     "output_type": "stream",
     "text": [
      " 79%|██████████████████████████████████████████████████████████▊               | 193/243 [14:05:28<5:53:30, 424.21s/it]"
     ]
    },
    {
     "name": "stdout",
     "output_type": "stream",
     "text": [
      "INFO:tensorflow:Assets written to: ./model\\HL3\\assets\n",
      "INFO:tensorflow:Assets written to: ./model\\HL3\\assets\n",
      "INFO:tensorflow:Assets written to: ./model\\HL3\\assets\n",
      "INFO:tensorflow:Assets written to: ./model\\HL3\\assets\n",
      "INFO:tensorflow:Assets written to: ./model\\HL3\\assets\n",
      "INFO:tensorflow:Assets written to: ./model\\HL3\\assets\n",
      "INFO:tensorflow:Assets written to: ./model\\HL3\\assets\n",
      "INFO:tensorflow:Assets written to: ./model\\HL3\\assets\n",
      "INFO:tensorflow:Assets written to: ./model\\HL3\\assets\n",
      "INFO:tensorflow:Assets written to: ./model\\HL3\\assets\n",
      "INFO:tensorflow:Assets written to: ./model\\HL3\\assets\n",
      "INFO:tensorflow:Assets written to: ./model\\HL3\\assets\n",
      "INFO:tensorflow:Assets written to: ./model\\HL3\\assets\n"
     ]
    },
    {
     "name": "stderr",
     "output_type": "stream",
     "text": [
      " 80%|███████████████████████████████████████████████████████████               | 194/243 [14:12:28<5:45:15, 422.76s/it]"
     ]
    },
    {
     "name": "stdout",
     "output_type": "stream",
     "text": [
      "INFO:tensorflow:Assets written to: ./model\\HL3\\assets\n",
      "INFO:tensorflow:Assets written to: ./model\\HL3\\assets\n",
      "INFO:tensorflow:Assets written to: ./model\\HL3\\assets\n",
      "INFO:tensorflow:Assets written to: ./model\\HL3\\assets\n",
      "INFO:tensorflow:Assets written to: ./model\\HL3\\assets\n",
      "INFO:tensorflow:Assets written to: ./model\\HL3\\assets\n",
      "INFO:tensorflow:Assets written to: ./model\\HL3\\assets\n",
      "INFO:tensorflow:Assets written to: ./model\\HL3\\assets\n",
      "INFO:tensorflow:Assets written to: ./model\\HL3\\assets\n",
      "INFO:tensorflow:Assets written to: ./model\\HL3\\assets\n",
      "INFO:tensorflow:Assets written to: ./model\\HL3\\assets\n",
      "INFO:tensorflow:Assets written to: ./model\\HL3\\assets\n",
      "INFO:tensorflow:Assets written to: ./model\\HL3\\assets\n",
      "INFO:tensorflow:Assets written to: ./model\\HL3\\assets\n"
     ]
    },
    {
     "name": "stderr",
     "output_type": "stream",
     "text": [
      " 80%|███████████████████████████████████████████████████████████▍              | 195/243 [14:20:49<5:57:01, 446.28s/it]"
     ]
    },
    {
     "name": "stdout",
     "output_type": "stream",
     "text": [
      "INFO:tensorflow:Assets written to: ./model\\HL3\\assets\n",
      "INFO:tensorflow:Assets written to: ./model\\HL3\\assets\n",
      "INFO:tensorflow:Assets written to: ./model\\HL3\\assets\n",
      "INFO:tensorflow:Assets written to: ./model\\HL3\\assets\n",
      "INFO:tensorflow:Assets written to: ./model\\HL3\\assets\n",
      "INFO:tensorflow:Assets written to: ./model\\HL3\\assets\n",
      "INFO:tensorflow:Assets written to: ./model\\HL3\\assets\n",
      "INFO:tensorflow:Assets written to: ./model\\HL3\\assets\n",
      "INFO:tensorflow:Assets written to: ./model\\HL3\\assets\n",
      "INFO:tensorflow:Assets written to: ./model\\HL3\\assets\n",
      "INFO:tensorflow:Assets written to: ./model\\HL3\\assets\n",
      "INFO:tensorflow:Assets written to: ./model\\HL3\\assets\n",
      "INFO:tensorflow:Assets written to: ./model\\HL3\\assets\n",
      "INFO:tensorflow:Assets written to: ./model\\HL3\\assets\n",
      "INFO:tensorflow:Assets written to: ./model\\HL3\\assets\n",
      "INFO:tensorflow:Assets written to: ./model\\HL3\\assets\n",
      "INFO:tensorflow:Assets written to: ./model\\HL3\\assets\n",
      "INFO:tensorflow:Assets written to: ./model\\HL3\\assets\n",
      "INFO:tensorflow:Assets written to: ./model\\HL3\\assets\n",
      "INFO:tensorflow:Assets written to: ./model\\HL3\\assets\n",
      "INFO:tensorflow:Assets written to: ./model\\HL3\\assets\n"
     ]
    },
    {
     "name": "stderr",
     "output_type": "stream",
     "text": [
      " 81%|███████████████████████████████████████████████████████████▋              | 196/243 [14:28:27<5:52:18, 449.75s/it]"
     ]
    },
    {
     "name": "stdout",
     "output_type": "stream",
     "text": [
      "INFO:tensorflow:Assets written to: ./model\\HL3\\assets\n",
      "INFO:tensorflow:Assets written to: ./model\\HL3\\assets\n",
      "INFO:tensorflow:Assets written to: ./model\\HL3\\assets\n",
      "INFO:tensorflow:Assets written to: ./model\\HL3\\assets\n",
      "INFO:tensorflow:Assets written to: ./model\\HL3\\assets\n",
      "INFO:tensorflow:Assets written to: ./model\\HL3\\assets\n",
      "INFO:tensorflow:Assets written to: ./model\\HL3\\assets\n",
      "INFO:tensorflow:Assets written to: ./model\\HL3\\assets\n",
      "INFO:tensorflow:Assets written to: ./model\\HL3\\assets\n",
      "INFO:tensorflow:Assets written to: ./model\\HL3\\assets\n",
      "INFO:tensorflow:Assets written to: ./model\\HL3\\assets\n",
      "INFO:tensorflow:Assets written to: ./model\\HL3\\assets\n",
      "INFO:tensorflow:Assets written to: ./model\\HL3\\assets\n"
     ]
    },
    {
     "name": "stderr",
     "output_type": "stream",
     "text": [
      " 81%|███████████████████████████████████████████████████████████▉              | 197/243 [14:36:53<5:57:48, 466.71s/it]"
     ]
    },
    {
     "name": "stdout",
     "output_type": "stream",
     "text": [
      "INFO:tensorflow:Assets written to: ./model\\HL3\\assets\n",
      "INFO:tensorflow:Assets written to: ./model\\HL3\\assets\n",
      "INFO:tensorflow:Assets written to: ./model\\HL3\\assets\n",
      "INFO:tensorflow:Assets written to: ./model\\HL3\\assets\n",
      "INFO:tensorflow:Assets written to: ./model\\HL3\\assets\n",
      "INFO:tensorflow:Assets written to: ./model\\HL3\\assets\n",
      "INFO:tensorflow:Assets written to: ./model\\HL3\\assets\n",
      "INFO:tensorflow:Assets written to: ./model\\HL3\\assets\n",
      "INFO:tensorflow:Assets written to: ./model\\HL3\\assets\n",
      "INFO:tensorflow:Assets written to: ./model\\HL3\\assets\n",
      "INFO:tensorflow:Assets written to: ./model\\HL3\\assets\n"
     ]
    },
    {
     "name": "stderr",
     "output_type": "stream",
     "text": [
      " 81%|████████████████████████████████████████████████████████████▎             | 198/243 [14:46:34<6:15:44, 500.99s/it]"
     ]
    },
    {
     "name": "stdout",
     "output_type": "stream",
     "text": [
      "INFO:tensorflow:Assets written to: ./model\\HL3\\assets\n",
      "INFO:tensorflow:Assets written to: ./model\\HL3\\assets\n",
      "INFO:tensorflow:Assets written to: ./model\\HL3\\assets\n",
      "INFO:tensorflow:Assets written to: ./model\\HL3\\assets\n",
      "INFO:tensorflow:Assets written to: ./model\\HL3\\assets\n",
      "INFO:tensorflow:Assets written to: ./model\\HL3\\assets\n",
      "INFO:tensorflow:Assets written to: ./model\\HL3\\assets\n",
      "INFO:tensorflow:Assets written to: ./model\\HL3\\assets\n"
     ]
    },
    {
     "name": "stderr",
     "output_type": "stream",
     "text": [
      " 82%|████████████████████████████████████████████████████████████▌             | 199/243 [14:52:38<5:37:14, 459.87s/it]"
     ]
    },
    {
     "name": "stdout",
     "output_type": "stream",
     "text": [
      "INFO:tensorflow:Assets written to: ./model\\HL3\\assets\n",
      "INFO:tensorflow:Assets written to: ./model\\HL3\\assets\n",
      "INFO:tensorflow:Assets written to: ./model\\HL3\\assets\n",
      "INFO:tensorflow:Assets written to: ./model\\HL3\\assets\n",
      "INFO:tensorflow:Assets written to: ./model\\HL3\\assets\n",
      "INFO:tensorflow:Assets written to: ./model\\HL3\\assets\n",
      "INFO:tensorflow:Assets written to: ./model\\HL3\\assets\n",
      "INFO:tensorflow:Assets written to: ./model\\HL3\\assets\n",
      "INFO:tensorflow:Assets written to: ./model\\HL3\\assets\n",
      "INFO:tensorflow:Assets written to: ./model\\HL3\\assets\n"
     ]
    },
    {
     "name": "stderr",
     "output_type": "stream",
     "text": [
      " 82%|████████████████████████████████████████████████████████████▉             | 200/243 [14:59:14<5:15:56, 440.86s/it]"
     ]
    },
    {
     "name": "stdout",
     "output_type": "stream",
     "text": [
      "INFO:tensorflow:Assets written to: ./model\\HL3\\assets\n",
      "INFO:tensorflow:Assets written to: ./model\\HL3\\assets\n",
      "INFO:tensorflow:Assets written to: ./model\\HL3\\assets\n",
      "INFO:tensorflow:Assets written to: ./model\\HL3\\assets\n",
      "INFO:tensorflow:Assets written to: ./model\\HL3\\assets\n",
      "INFO:tensorflow:Assets written to: ./model\\HL3\\assets\n",
      "INFO:tensorflow:Assets written to: ./model\\HL3\\assets\n",
      "INFO:tensorflow:Assets written to: ./model\\HL3\\assets\n",
      "INFO:tensorflow:Assets written to: ./model\\HL3\\assets\n",
      "INFO:tensorflow:Assets written to: ./model\\HL3\\assets\n",
      "INFO:tensorflow:Assets written to: ./model\\HL3\\assets\n"
     ]
    },
    {
     "name": "stderr",
     "output_type": "stream",
     "text": [
      " 83%|█████████████████████████████████████████████████████████████▏            | 201/243 [15:06:43<5:10:16, 443.24s/it]"
     ]
    },
    {
     "name": "stdout",
     "output_type": "stream",
     "text": [
      "INFO:tensorflow:Assets written to: ./model\\HL3\\assets\n",
      "INFO:tensorflow:Assets written to: ./model\\HL3\\assets\n",
      "INFO:tensorflow:Assets written to: ./model\\HL3\\assets\n",
      "INFO:tensorflow:Assets written to: ./model\\HL3\\assets\n",
      "INFO:tensorflow:Assets written to: ./model\\HL3\\assets\n",
      "INFO:tensorflow:Assets written to: ./model\\HL3\\assets\n",
      "INFO:tensorflow:Assets written to: ./model\\HL3\\assets\n",
      "INFO:tensorflow:Assets written to: ./model\\HL3\\assets\n",
      "INFO:tensorflow:Assets written to: ./model\\HL3\\assets\n",
      "INFO:tensorflow:Assets written to: ./model\\HL3\\assets\n",
      "INFO:tensorflow:Assets written to: ./model\\HL3\\assets\n",
      "INFO:tensorflow:Assets written to: ./model\\HL3\\assets\n",
      "INFO:tensorflow:Assets written to: ./model\\HL3\\assets\n",
      "INFO:tensorflow:Assets written to: ./model\\HL3\\assets\n",
      "INFO:tensorflow:Assets written to: ./model\\HL3\\assets\n",
      "INFO:tensorflow:Assets written to: ./model\\HL3\\assets\n",
      "INFO:tensorflow:Assets written to: ./model\\HL3\\assets\n",
      "INFO:tensorflow:Assets written to: ./model\\HL3\\assets\n",
      "INFO:tensorflow:Assets written to: ./model\\HL3\\assets\n",
      "INFO:tensorflow:Assets written to: ./model\\HL3\\assets\n",
      "INFO:tensorflow:Assets written to: ./model\\HL3\\assets\n",
      "INFO:tensorflow:Assets written to: ./model\\HL3\\assets\n"
     ]
    },
    {
     "name": "stderr",
     "output_type": "stream",
     "text": [
      " 83%|█████████████████████████████████████████████████████████████▌            | 202/243 [15:13:26<4:54:32, 431.04s/it]"
     ]
    },
    {
     "name": "stdout",
     "output_type": "stream",
     "text": [
      "INFO:tensorflow:Assets written to: ./model\\HL3\\assets\n",
      "INFO:tensorflow:Assets written to: ./model\\HL3\\assets\n",
      "INFO:tensorflow:Assets written to: ./model\\HL3\\assets\n",
      "INFO:tensorflow:Assets written to: ./model\\HL3\\assets\n"
     ]
    },
    {
     "name": "stderr",
     "output_type": "stream",
     "text": [
      " 84%|█████████████████████████████████████████████████████████████▊            | 203/243 [15:20:12<4:42:22, 423.55s/it]"
     ]
    },
    {
     "name": "stdout",
     "output_type": "stream",
     "text": [
      "INFO:tensorflow:Assets written to: ./model\\HL3\\assets\n",
      "INFO:tensorflow:Assets written to: ./model\\HL3\\assets\n",
      "INFO:tensorflow:Assets written to: ./model\\HL3\\assets\n",
      "INFO:tensorflow:Assets written to: ./model\\HL3\\assets\n",
      "INFO:tensorflow:Assets written to: ./model\\HL3\\assets\n",
      "INFO:tensorflow:Assets written to: ./model\\HL3\\assets\n",
      "INFO:tensorflow:Assets written to: ./model\\HL3\\assets\n",
      "INFO:tensorflow:Assets written to: ./model\\HL3\\assets\n",
      "INFO:tensorflow:Assets written to: ./model\\HL3\\assets\n",
      "INFO:tensorflow:Assets written to: ./model\\HL3\\assets\n",
      "INFO:tensorflow:Assets written to: ./model\\HL3\\assets\n",
      "INFO:tensorflow:Assets written to: ./model\\HL3\\assets\n",
      "INFO:tensorflow:Assets written to: ./model\\HL3\\assets\n",
      "INFO:tensorflow:Assets written to: ./model\\HL3\\assets\n",
      "INFO:tensorflow:Assets written to: ./model\\HL3\\assets\n",
      "INFO:tensorflow:Assets written to: ./model\\HL3\\assets\n",
      "INFO:tensorflow:Assets written to: ./model\\HL3\\assets\n",
      "INFO:tensorflow:Assets written to: ./model\\HL3\\assets\n"
     ]
    },
    {
     "name": "stderr",
     "output_type": "stream",
     "text": [
      " 84%|██████████████████████████████████████████████████████████████            | 204/243 [15:28:29<4:49:38, 445.61s/it]"
     ]
    },
    {
     "name": "stdout",
     "output_type": "stream",
     "text": [
      "INFO:tensorflow:Assets written to: ./model\\HL3\\assets\n",
      "INFO:tensorflow:Assets written to: ./model\\HL3\\assets\n",
      "INFO:tensorflow:Assets written to: ./model\\HL3\\assets\n",
      "INFO:tensorflow:Assets written to: ./model\\HL3\\assets\n",
      "INFO:tensorflow:Assets written to: ./model\\HL3\\assets\n",
      "INFO:tensorflow:Assets written to: ./model\\HL3\\assets\n",
      "INFO:tensorflow:Assets written to: ./model\\HL3\\assets\n",
      "INFO:tensorflow:Assets written to: ./model\\HL3\\assets\n",
      "INFO:tensorflow:Assets written to: ./model\\HL3\\assets\n"
     ]
    },
    {
     "name": "stderr",
     "output_type": "stream",
     "text": [
      " 84%|██████████████████████████████████████████████████████████████▍           | 205/243 [15:36:06<4:44:20, 448.95s/it]"
     ]
    },
    {
     "name": "stdout",
     "output_type": "stream",
     "text": [
      "INFO:tensorflow:Assets written to: ./model\\HL3\\assets\n",
      "INFO:tensorflow:Assets written to: ./model\\HL3\\assets\n",
      "INFO:tensorflow:Assets written to: ./model\\HL3\\assets\n",
      "INFO:tensorflow:Assets written to: ./model\\HL3\\assets\n",
      "INFO:tensorflow:Assets written to: ./model\\HL3\\assets\n",
      "INFO:tensorflow:Assets written to: ./model\\HL3\\assets\n",
      "INFO:tensorflow:Assets written to: ./model\\HL3\\assets\n",
      "INFO:tensorflow:Assets written to: ./model\\HL3\\assets\n",
      "INFO:tensorflow:Assets written to: ./model\\HL3\\assets\n",
      "INFO:tensorflow:Assets written to: ./model\\HL3\\assets\n",
      "INFO:tensorflow:Assets written to: ./model\\HL3\\assets\n",
      "INFO:tensorflow:Assets written to: ./model\\HL3\\assets\n",
      "INFO:tensorflow:Assets written to: ./model\\HL3\\assets\n",
      "INFO:tensorflow:Assets written to: ./model\\HL3\\assets\n",
      "INFO:tensorflow:Assets written to: ./model\\HL3\\assets\n"
     ]
    },
    {
     "name": "stderr",
     "output_type": "stream",
     "text": [
      " 85%|██████████████████████████████████████████████████████████████▋           | 206/243 [15:44:38<4:48:29, 467.82s/it]"
     ]
    },
    {
     "name": "stdout",
     "output_type": "stream",
     "text": [
      "INFO:tensorflow:Assets written to: ./model\\HL3\\assets\n",
      "INFO:tensorflow:Assets written to: ./model\\HL3\\assets\n",
      "INFO:tensorflow:Assets written to: ./model\\HL3\\assets\n",
      "INFO:tensorflow:Assets written to: ./model\\HL3\\assets\n",
      "INFO:tensorflow:Assets written to: ./model\\HL3\\assets\n",
      "INFO:tensorflow:Assets written to: ./model\\HL3\\assets\n",
      "INFO:tensorflow:Assets written to: ./model\\HL3\\assets\n",
      "INFO:tensorflow:Assets written to: ./model\\HL3\\assets\n",
      "INFO:tensorflow:Assets written to: ./model\\HL3\\assets\n"
     ]
    },
    {
     "name": "stderr",
     "output_type": "stream",
     "text": [
      " 85%|███████████████████████████████████████████████████████████████           | 207/243 [15:54:18<5:00:54, 501.50s/it]"
     ]
    },
    {
     "name": "stdout",
     "output_type": "stream",
     "text": [
      "INFO:tensorflow:Assets written to: ./model\\HL3\\assets\n",
      "INFO:tensorflow:Assets written to: ./model\\HL3\\assets\n",
      "INFO:tensorflow:Assets written to: ./model\\HL3\\assets\n",
      "INFO:tensorflow:Assets written to: ./model\\HL3\\assets\n",
      "INFO:tensorflow:Assets written to: ./model\\HL3\\assets\n",
      "INFO:tensorflow:Assets written to: ./model\\HL3\\assets\n",
      "INFO:tensorflow:Assets written to: ./model\\HL3\\assets\n",
      "INFO:tensorflow:Assets written to: ./model\\HL3\\assets\n",
      "INFO:tensorflow:Assets written to: ./model\\HL3\\assets\n"
     ]
    },
    {
     "name": "stderr",
     "output_type": "stream",
     "text": [
      " 86%|███████████████████████████████████████████████████████████████▎          | 208/243 [16:00:24<4:28:54, 460.97s/it]"
     ]
    },
    {
     "name": "stdout",
     "output_type": "stream",
     "text": [
      "INFO:tensorflow:Assets written to: ./model\\HL3\\assets\n",
      "INFO:tensorflow:Assets written to: ./model\\HL3\\assets\n",
      "INFO:tensorflow:Assets written to: ./model\\HL3\\assets\n",
      "INFO:tensorflow:Assets written to: ./model\\HL3\\assets\n",
      "INFO:tensorflow:Assets written to: ./model\\HL3\\assets\n",
      "INFO:tensorflow:Assets written to: ./model\\HL3\\assets\n",
      "INFO:tensorflow:Assets written to: ./model\\HL3\\assets\n",
      "INFO:tensorflow:Assets written to: ./model\\HL3\\assets\n",
      "INFO:tensorflow:Assets written to: ./model\\HL3\\assets\n",
      "INFO:tensorflow:Assets written to: ./model\\HL3\\assets\n"
     ]
    },
    {
     "name": "stderr",
     "output_type": "stream",
     "text": [
      " 86%|███████████████████████████████████████████████████████████████▋          | 209/243 [16:06:46<4:07:50, 437.38s/it]"
     ]
    },
    {
     "name": "stdout",
     "output_type": "stream",
     "text": [
      "INFO:tensorflow:Assets written to: ./model\\HL3\\assets\n",
      "INFO:tensorflow:Assets written to: ./model\\HL3\\assets\n",
      "INFO:tensorflow:Assets written to: ./model\\HL3\\assets\n",
      "INFO:tensorflow:Assets written to: ./model\\HL3\\assets\n"
     ]
    },
    {
     "name": "stderr",
     "output_type": "stream",
     "text": [
      " 86%|███████████████████████████████████████████████████████████████▉          | 210/243 [16:14:26<4:04:15, 444.11s/it]"
     ]
    },
    {
     "name": "stdout",
     "output_type": "stream",
     "text": [
      "INFO:tensorflow:Assets written to: ./model\\HL3\\assets\n",
      "INFO:tensorflow:Assets written to: ./model\\HL3\\assets\n",
      "INFO:tensorflow:Assets written to: ./model\\HL3\\assets\n",
      "INFO:tensorflow:Assets written to: ./model\\HL3\\assets\n",
      "INFO:tensorflow:Assets written to: ./model\\HL3\\assets\n",
      "INFO:tensorflow:Assets written to: ./model\\HL3\\assets\n"
     ]
    },
    {
     "name": "stderr",
     "output_type": "stream",
     "text": [
      " 87%|████████████████████████████████████████████████████████████████▎         | 211/243 [16:21:32<3:53:57, 438.66s/it]"
     ]
    },
    {
     "name": "stdout",
     "output_type": "stream",
     "text": [
      "INFO:tensorflow:Assets written to: ./model\\HL3\\assets\n"
     ]
    },
    {
     "name": "stderr",
     "output_type": "stream",
     "text": [
      " 87%|████████████████████████████████████████████████████████████████▌         | 212/243 [16:28:25<3:42:34, 430.78s/it]"
     ]
    },
    {
     "name": "stdout",
     "output_type": "stream",
     "text": [
      "INFO:tensorflow:Assets written to: ./model\\HL3\\assets\n",
      "INFO:tensorflow:Assets written to: ./model\\HL3\\assets\n",
      "INFO:tensorflow:Assets written to: ./model\\HL3\\assets\n",
      "INFO:tensorflow:Assets written to: ./model\\HL3\\assets\n",
      "INFO:tensorflow:Assets written to: ./model\\HL3\\assets\n"
     ]
    },
    {
     "name": "stderr",
     "output_type": "stream",
     "text": [
      " 88%|████████████████████████████████████████████████████████████████▊         | 213/243 [16:36:42<3:45:26, 450.87s/it]"
     ]
    },
    {
     "name": "stdout",
     "output_type": "stream",
     "text": [
      "INFO:tensorflow:Assets written to: ./model\\HL3\\assets\n",
      "INFO:tensorflow:Assets written to: ./model\\HL3\\assets\n",
      "INFO:tensorflow:Assets written to: ./model\\HL3\\assets\n",
      "INFO:tensorflow:Assets written to: ./model\\HL3\\assets\n",
      "INFO:tensorflow:Assets written to: ./model\\HL3\\assets\n",
      "INFO:tensorflow:Assets written to: ./model\\HL3\\assets\n",
      "INFO:tensorflow:Assets written to: ./model\\HL3\\assets\n",
      "INFO:tensorflow:Assets written to: ./model\\HL3\\assets\n",
      "INFO:tensorflow:Assets written to: ./model\\HL3\\assets\n",
      "INFO:tensorflow:Assets written to: ./model\\HL3\\assets\n",
      "INFO:tensorflow:Assets written to: ./model\\HL3\\assets\n"
     ]
    },
    {
     "name": "stderr",
     "output_type": "stream",
     "text": [
      " 88%|█████████████████████████████████████████████████████████████████▏        | 214/243 [16:44:16<3:38:18, 451.67s/it]"
     ]
    },
    {
     "name": "stdout",
     "output_type": "stream",
     "text": [
      "INFO:tensorflow:Assets written to: ./model\\HL3\\assets\n",
      "INFO:tensorflow:Assets written to: ./model\\HL3\\assets\n",
      "INFO:tensorflow:Assets written to: ./model\\HL3\\assets\n",
      "INFO:tensorflow:Assets written to: ./model\\HL3\\assets\n",
      "INFO:tensorflow:Assets written to: ./model\\HL3\\assets\n",
      "INFO:tensorflow:Assets written to: ./model\\HL3\\assets\n",
      "INFO:tensorflow:Assets written to: ./model\\HL3\\assets\n",
      "INFO:tensorflow:Assets written to: ./model\\HL3\\assets\n",
      "INFO:tensorflow:Assets written to: ./model\\HL3\\assets\n",
      "INFO:tensorflow:Assets written to: ./model\\HL3\\assets\n",
      "INFO:tensorflow:Assets written to: ./model\\HL3\\assets\n"
     ]
    },
    {
     "name": "stderr",
     "output_type": "stream",
     "text": [
      " 88%|█████████████████████████████████████████████████████████████████▍        | 215/243 [16:52:41<3:38:18, 467.80s/it]"
     ]
    },
    {
     "name": "stdout",
     "output_type": "stream",
     "text": [
      "INFO:tensorflow:Assets written to: ./model\\HL3\\assets\n",
      "INFO:tensorflow:Assets written to: ./model\\HL3\\assets\n",
      "INFO:tensorflow:Assets written to: ./model\\HL3\\assets\n",
      "INFO:tensorflow:Assets written to: ./model\\HL3\\assets\n",
      "INFO:tensorflow:Assets written to: ./model\\HL3\\assets\n",
      "INFO:tensorflow:Assets written to: ./model\\HL3\\assets\n",
      "INFO:tensorflow:Assets written to: ./model\\HL3\\assets\n",
      "INFO:tensorflow:Assets written to: ./model\\HL3\\assets\n",
      "INFO:tensorflow:Assets written to: ./model\\HL3\\assets\n",
      "INFO:tensorflow:Assets written to: ./model\\HL3\\assets\n",
      "INFO:tensorflow:Assets written to: ./model\\HL3\\assets\n"
     ]
    },
    {
     "name": "stderr",
     "output_type": "stream",
     "text": [
      " 89%|█████████████████████████████████████████████████████████████████▊        | 216/243 [17:02:27<3:46:24, 503.12s/it]"
     ]
    },
    {
     "name": "stdout",
     "output_type": "stream",
     "text": [
      "INFO:tensorflow:Assets written to: ./model\\HL3\\assets\n",
      "INFO:tensorflow:Assets written to: ./model\\HL3\\assets\n",
      "INFO:tensorflow:Assets written to: ./model\\HL3\\assets\n",
      "INFO:tensorflow:Assets written to: ./model\\HL3\\assets\n",
      "INFO:tensorflow:Assets written to: ./model\\HL3\\assets\n",
      "INFO:tensorflow:Assets written to: ./model\\HL3\\assets\n",
      "INFO:tensorflow:Assets written to: ./model\\HL3\\assets\n",
      "INFO:tensorflow:Assets written to: ./model\\HL3\\assets\n",
      "INFO:tensorflow:Assets written to: ./model\\HL3\\assets\n",
      "INFO:tensorflow:Assets written to: ./model\\HL3\\assets\n",
      "INFO:tensorflow:Assets written to: ./model\\HL3\\assets\n",
      "INFO:tensorflow:Assets written to: ./model\\HL3\\assets\n",
      "INFO:tensorflow:Assets written to: ./model\\HL3\\assets\n",
      "INFO:tensorflow:Assets written to: ./model\\HL3\\assets\n",
      "INFO:tensorflow:Assets written to: ./model\\HL3\\assets\n"
     ]
    },
    {
     "name": "stderr",
     "output_type": "stream",
     "text": [
      " 89%|██████████████████████████████████████████████████████████████████        | 217/243 [17:09:01<3:23:49, 470.38s/it]"
     ]
    },
    {
     "name": "stdout",
     "output_type": "stream",
     "text": [
      "INFO:tensorflow:Assets written to: ./model\\HL3\\assets\n",
      "INFO:tensorflow:Assets written to: ./model\\HL3\\assets\n",
      "INFO:tensorflow:Assets written to: ./model\\HL3\\assets\n",
      "INFO:tensorflow:Assets written to: ./model\\HL3\\assets\n",
      "INFO:tensorflow:Assets written to: ./model\\HL3\\assets\n",
      "INFO:tensorflow:Assets written to: ./model\\HL3\\assets\n",
      "INFO:tensorflow:Assets written to: ./model\\HL3\\assets\n",
      "INFO:tensorflow:Assets written to: ./model\\HL3\\assets\n",
      "INFO:tensorflow:Assets written to: ./model\\HL3\\assets\n",
      "INFO:tensorflow:Assets written to: ./model\\HL3\\assets\n",
      "INFO:tensorflow:Assets written to: ./model\\HL3\\assets\n",
      "INFO:tensorflow:Assets written to: ./model\\HL3\\assets\n",
      "INFO:tensorflow:Assets written to: ./model\\HL3\\assets\n",
      "INFO:tensorflow:Assets written to: ./model\\HL3\\assets\n",
      "INFO:tensorflow:Assets written to: ./model\\HL3\\assets\n",
      "INFO:tensorflow:Assets written to: ./model\\HL3\\assets\n",
      "INFO:tensorflow:Assets written to: ./model\\HL3\\assets\n",
      "INFO:tensorflow:Assets written to: ./model\\HL3\\assets\n"
     ]
    },
    {
     "name": "stderr",
     "output_type": "stream",
     "text": [
      " 90%|██████████████████████████████████████████████████████████████████▍       | 218/243 [17:15:51<3:08:31, 452.45s/it]"
     ]
    },
    {
     "name": "stdout",
     "output_type": "stream",
     "text": [
      "INFO:tensorflow:Assets written to: ./model\\HL3\\assets\n",
      "INFO:tensorflow:Assets written to: ./model\\HL3\\assets\n",
      "INFO:tensorflow:Assets written to: ./model\\HL3\\assets\n",
      "INFO:tensorflow:Assets written to: ./model\\HL3\\assets\n",
      "INFO:tensorflow:Assets written to: ./model\\HL3\\assets\n",
      "INFO:tensorflow:Assets written to: ./model\\HL3\\assets\n",
      "INFO:tensorflow:Assets written to: ./model\\HL3\\assets\n",
      "INFO:tensorflow:Assets written to: ./model\\HL3\\assets\n",
      "INFO:tensorflow:Assets written to: ./model\\HL3\\assets\n",
      "INFO:tensorflow:Assets written to: ./model\\HL3\\assets\n",
      "INFO:tensorflow:Assets written to: ./model\\HL3\\assets\n",
      "INFO:tensorflow:Assets written to: ./model\\HL3\\assets\n",
      "INFO:tensorflow:Assets written to: ./model\\HL3\\assets\n",
      "INFO:tensorflow:Assets written to: ./model\\HL3\\assets\n",
      "INFO:tensorflow:Assets written to: ./model\\HL3\\assets\n",
      "INFO:tensorflow:Assets written to: ./model\\HL3\\assets\n"
     ]
    },
    {
     "name": "stderr",
     "output_type": "stream",
     "text": [
      " 90%|██████████████████████████████████████████████████████████████████▋       | 219/243 [17:23:44<3:03:23, 458.48s/it]"
     ]
    },
    {
     "name": "stdout",
     "output_type": "stream",
     "text": [
      "INFO:tensorflow:Assets written to: ./model\\HL3\\assets\n",
      "INFO:tensorflow:Assets written to: ./model\\HL3\\assets\n",
      "INFO:tensorflow:Assets written to: ./model\\HL3\\assets\n",
      "INFO:tensorflow:Assets written to: ./model\\HL3\\assets\n",
      "INFO:tensorflow:Assets written to: ./model\\HL3\\assets\n",
      "INFO:tensorflow:Assets written to: ./model\\HL3\\assets\n",
      "INFO:tensorflow:Assets written to: ./model\\HL3\\assets\n",
      "INFO:tensorflow:Assets written to: ./model\\HL3\\assets\n",
      "INFO:tensorflow:Assets written to: ./model\\HL3\\assets\n",
      "INFO:tensorflow:Assets written to: ./model\\HL3\\assets\n",
      "INFO:tensorflow:Assets written to: ./model\\HL3\\assets\n",
      "INFO:tensorflow:Assets written to: ./model\\HL3\\assets\n",
      "INFO:tensorflow:Assets written to: ./model\\HL3\\assets\n",
      "INFO:tensorflow:Assets written to: ./model\\HL3\\assets\n",
      "INFO:tensorflow:Assets written to: ./model\\HL3\\assets\n",
      "INFO:tensorflow:Assets written to: ./model\\HL3\\assets\n",
      "INFO:tensorflow:Assets written to: ./model\\HL3\\assets\n",
      "INFO:tensorflow:Assets written to: ./model\\HL3\\assets\n",
      "INFO:tensorflow:Assets written to: ./model\\HL3\\assets\n",
      "INFO:tensorflow:Assets written to: ./model\\HL3\\assets\n",
      "INFO:tensorflow:Assets written to: ./model\\HL3\\assets\n"
     ]
    },
    {
     "name": "stderr",
     "output_type": "stream",
     "text": [
      " 91%|██████████████████████████████████████████████████████████████████▉       | 220/243 [17:31:18<2:55:15, 457.21s/it]"
     ]
    },
    {
     "name": "stdout",
     "output_type": "stream",
     "text": [
      "INFO:tensorflow:Assets written to: ./model\\HL3\\assets\n",
      "INFO:tensorflow:Assets written to: ./model\\HL3\\assets\n",
      "INFO:tensorflow:Assets written to: ./model\\HL3\\assets\n",
      "INFO:tensorflow:Assets written to: ./model\\HL3\\assets\n",
      "INFO:tensorflow:Assets written to: ./model\\HL3\\assets\n",
      "INFO:tensorflow:Assets written to: ./model\\HL3\\assets\n",
      "INFO:tensorflow:Assets written to: ./model\\HL3\\assets\n",
      "INFO:tensorflow:Assets written to: ./model\\HL3\\assets\n",
      "INFO:tensorflow:Assets written to: ./model\\HL3\\assets\n",
      "INFO:tensorflow:Assets written to: ./model\\HL3\\assets\n",
      "INFO:tensorflow:Assets written to: ./model\\HL3\\assets\n",
      "INFO:tensorflow:Assets written to: ./model\\HL3\\assets\n",
      "INFO:tensorflow:Assets written to: ./model\\HL3\\assets\n",
      "INFO:tensorflow:Assets written to: ./model\\HL3\\assets\n",
      "INFO:tensorflow:Assets written to: ./model\\HL3\\assets\n",
      "INFO:tensorflow:Assets written to: ./model\\HL3\\assets\n",
      "INFO:tensorflow:Assets written to: ./model\\HL3\\assets\n",
      "INFO:tensorflow:Assets written to: ./model\\HL3\\assets\n",
      "INFO:tensorflow:Assets written to: ./model\\HL3\\assets\n"
     ]
    },
    {
     "name": "stderr",
     "output_type": "stream",
     "text": [
      " 91%|███████████████████████████████████████████████████████████████████▎      | 221/243 [17:39:16<2:49:54, 463.39s/it]"
     ]
    },
    {
     "name": "stdout",
     "output_type": "stream",
     "text": [
      "INFO:tensorflow:Assets written to: ./model\\HL3\\assets\n",
      "INFO:tensorflow:Assets written to: ./model\\HL3\\assets\n",
      "INFO:tensorflow:Assets written to: ./model\\HL3\\assets\n",
      "INFO:tensorflow:Assets written to: ./model\\HL3\\assets\n",
      "INFO:tensorflow:Assets written to: ./model\\HL3\\assets\n",
      "INFO:tensorflow:Assets written to: ./model\\HL3\\assets\n",
      "INFO:tensorflow:Assets written to: ./model\\HL3\\assets\n",
      "INFO:tensorflow:Assets written to: ./model\\HL3\\assets\n",
      "INFO:tensorflow:Assets written to: ./model\\HL3\\assets\n",
      "INFO:tensorflow:Assets written to: ./model\\HL3\\assets\n",
      "INFO:tensorflow:Assets written to: ./model\\HL3\\assets\n",
      "INFO:tensorflow:Assets written to: ./model\\HL3\\assets\n",
      "INFO:tensorflow:Assets written to: ./model\\HL3\\assets\n",
      "INFO:tensorflow:Assets written to: ./model\\HL3\\assets\n",
      "INFO:tensorflow:Assets written to: ./model\\HL3\\assets\n"
     ]
    },
    {
     "name": "stderr",
     "output_type": "stream",
     "text": [
      " 91%|███████████████████████████████████████████████████████████████████▌      | 222/243 [17:48:30<2:51:41, 490.57s/it]"
     ]
    },
    {
     "name": "stdout",
     "output_type": "stream",
     "text": [
      "INFO:tensorflow:Assets written to: ./model\\HL3\\assets\n",
      "INFO:tensorflow:Assets written to: ./model\\HL3\\assets\n",
      "INFO:tensorflow:Assets written to: ./model\\HL3\\assets\n",
      "INFO:tensorflow:Assets written to: ./model\\HL3\\assets\n",
      "INFO:tensorflow:Assets written to: ./model\\HL3\\assets\n",
      "INFO:tensorflow:Assets written to: ./model\\HL3\\assets\n",
      "INFO:tensorflow:Assets written to: ./model\\HL3\\assets\n",
      "INFO:tensorflow:Assets written to: ./model\\HL3\\assets\n",
      "INFO:tensorflow:Assets written to: ./model\\HL3\\assets\n",
      "INFO:tensorflow:Assets written to: ./model\\HL3\\assets\n",
      "INFO:tensorflow:Assets written to: ./model\\HL3\\assets\n",
      "INFO:tensorflow:Assets written to: ./model\\HL3\\assets\n",
      "INFO:tensorflow:Assets written to: ./model\\HL3\\assets\n",
      "INFO:tensorflow:Assets written to: ./model\\HL3\\assets\n",
      "INFO:tensorflow:Assets written to: ./model\\HL3\\assets\n",
      "INFO:tensorflow:Assets written to: ./model\\HL3\\assets\n",
      "INFO:tensorflow:Assets written to: ./model\\HL3\\assets\n",
      "INFO:tensorflow:Assets written to: ./model\\HL3\\assets\n",
      "INFO:tensorflow:Assets written to: ./model\\HL3\\assets\n",
      "INFO:tensorflow:Assets written to: ./model\\HL3\\assets\n"
     ]
    },
    {
     "name": "stderr",
     "output_type": "stream",
     "text": [
      " 92%|███████████████████████████████████████████████████████████████████▉      | 223/243 [17:56:52<2:44:37, 493.90s/it]"
     ]
    },
    {
     "name": "stdout",
     "output_type": "stream",
     "text": [
      "INFO:tensorflow:Assets written to: ./model\\HL3\\assets\n",
      "INFO:tensorflow:Assets written to: ./model\\HL3\\assets\n",
      "INFO:tensorflow:Assets written to: ./model\\HL3\\assets\n",
      "INFO:tensorflow:Assets written to: ./model\\HL3\\assets\n",
      "INFO:tensorflow:Assets written to: ./model\\HL3\\assets\n",
      "INFO:tensorflow:Assets written to: ./model\\HL3\\assets\n",
      "INFO:tensorflow:Assets written to: ./model\\HL3\\assets\n",
      "INFO:tensorflow:Assets written to: ./model\\HL3\\assets\n",
      "INFO:tensorflow:Assets written to: ./model\\HL3\\assets\n",
      "INFO:tensorflow:Assets written to: ./model\\HL3\\assets\n",
      "INFO:tensorflow:Assets written to: ./model\\HL3\\assets\n",
      "INFO:tensorflow:Assets written to: ./model\\HL3\\assets\n",
      "INFO:tensorflow:Assets written to: ./model\\HL3\\assets\n",
      "INFO:tensorflow:Assets written to: ./model\\HL3\\assets\n",
      "INFO:tensorflow:Assets written to: ./model\\HL3\\assets\n"
     ]
    },
    {
     "name": "stderr",
     "output_type": "stream",
     "text": [
      " 92%|████████████████████████████████████████████████████████████████████▏     | 224/243 [18:06:12<2:42:44, 513.90s/it]"
     ]
    },
    {
     "name": "stdout",
     "output_type": "stream",
     "text": [
      "INFO:tensorflow:Assets written to: ./model\\HL3\\assets\n",
      "INFO:tensorflow:Assets written to: ./model\\HL3\\assets\n",
      "INFO:tensorflow:Assets written to: ./model\\HL3\\assets\n",
      "INFO:tensorflow:Assets written to: ./model\\HL3\\assets\n",
      "INFO:tensorflow:Assets written to: ./model\\HL3\\assets\n",
      "INFO:tensorflow:Assets written to: ./model\\HL3\\assets\n",
      "INFO:tensorflow:Assets written to: ./model\\HL3\\assets\n",
      "INFO:tensorflow:Assets written to: ./model\\HL3\\assets\n",
      "INFO:tensorflow:Assets written to: ./model\\HL3\\assets\n",
      "INFO:tensorflow:Assets written to: ./model\\HL3\\assets\n"
     ]
    },
    {
     "name": "stderr",
     "output_type": "stream",
     "text": [
      " 93%|████████████████████████████████████████████████████████████████████▌     | 225/243 [18:16:42<2:44:37, 548.77s/it]"
     ]
    },
    {
     "name": "stdout",
     "output_type": "stream",
     "text": [
      "INFO:tensorflow:Assets written to: ./model\\HL3\\assets\n",
      "INFO:tensorflow:Assets written to: ./model\\HL3\\assets\n",
      "INFO:tensorflow:Assets written to: ./model\\HL3\\assets\n",
      "INFO:tensorflow:Assets written to: ./model\\HL3\\assets\n",
      "INFO:tensorflow:Assets written to: ./model\\HL3\\assets\n",
      "INFO:tensorflow:Assets written to: ./model\\HL3\\assets\n",
      "INFO:tensorflow:Assets written to: ./model\\HL3\\assets\n",
      "INFO:tensorflow:Assets written to: ./model\\HL3\\assets\n",
      "INFO:tensorflow:Assets written to: ./model\\HL3\\assets\n",
      "INFO:tensorflow:Assets written to: ./model\\HL3\\assets\n",
      "INFO:tensorflow:Assets written to: ./model\\HL3\\assets\n"
     ]
    },
    {
     "name": "stderr",
     "output_type": "stream",
     "text": [
      " 93%|████████████████████████████████████████████████████████████████████▊     | 226/243 [18:23:13<2:22:04, 501.45s/it]"
     ]
    },
    {
     "name": "stdout",
     "output_type": "stream",
     "text": [
      "INFO:tensorflow:Assets written to: ./model\\HL3\\assets\n",
      "INFO:tensorflow:Assets written to: ./model\\HL3\\assets\n",
      "INFO:tensorflow:Assets written to: ./model\\HL3\\assets\n",
      "INFO:tensorflow:Assets written to: ./model\\HL3\\assets\n",
      "INFO:tensorflow:Assets written to: ./model\\HL3\\assets\n",
      "INFO:tensorflow:Assets written to: ./model\\HL3\\assets\n",
      "INFO:tensorflow:Assets written to: ./model\\HL3\\assets\n",
      "INFO:tensorflow:Assets written to: ./model\\HL3\\assets\n",
      "INFO:tensorflow:Assets written to: ./model\\HL3\\assets\n"
     ]
    },
    {
     "name": "stderr",
     "output_type": "stream",
     "text": [
      " 93%|█████████████████████████████████████████████████████████████████████▏    | 227/243 [18:30:00<2:06:06, 472.88s/it]"
     ]
    },
    {
     "name": "stdout",
     "output_type": "stream",
     "text": [
      "INFO:tensorflow:Assets written to: ./model\\HL3\\assets\n",
      "INFO:tensorflow:Assets written to: ./model\\HL3\\assets\n",
      "INFO:tensorflow:Assets written to: ./model\\HL3\\assets\n",
      "INFO:tensorflow:Assets written to: ./model\\HL3\\assets\n",
      "INFO:tensorflow:Assets written to: ./model\\HL3\\assets\n",
      "INFO:tensorflow:Assets written to: ./model\\HL3\\assets\n",
      "INFO:tensorflow:Assets written to: ./model\\HL3\\assets\n"
     ]
    },
    {
     "name": "stderr",
     "output_type": "stream",
     "text": [
      " 94%|█████████████████████████████████████████████████████████████████████▍    | 228/243 [18:37:44<1:57:33, 470.23s/it]"
     ]
    },
    {
     "name": "stdout",
     "output_type": "stream",
     "text": [
      "INFO:tensorflow:Assets written to: ./model\\HL3\\assets\n",
      "INFO:tensorflow:Assets written to: ./model\\HL3\\assets\n",
      "INFO:tensorflow:Assets written to: ./model\\HL3\\assets\n",
      "INFO:tensorflow:Assets written to: ./model\\HL3\\assets\n",
      "INFO:tensorflow:Assets written to: ./model\\HL3\\assets\n",
      "INFO:tensorflow:Assets written to: ./model\\HL3\\assets\n",
      "INFO:tensorflow:Assets written to: ./model\\HL3\\assets\n",
      "INFO:tensorflow:Assets written to: ./model\\HL3\\assets\n",
      "INFO:tensorflow:Assets written to: ./model\\HL3\\assets\n",
      "INFO:tensorflow:Assets written to: ./model\\HL3\\assets\n",
      "INFO:tensorflow:Assets written to: ./model\\HL3\\assets\n",
      "INFO:tensorflow:Assets written to: ./model\\HL3\\assets\n",
      "INFO:tensorflow:Assets written to: ./model\\HL3\\assets\n",
      "INFO:tensorflow:Assets written to: ./model\\HL3\\assets\n",
      "INFO:tensorflow:Assets written to: ./model\\HL3\\assets\n",
      "INFO:tensorflow:Assets written to: ./model\\HL3\\assets\n",
      "INFO:tensorflow:Assets written to: ./model\\HL3\\assets\n",
      "INFO:tensorflow:Assets written to: ./model\\HL3\\assets\n",
      "INFO:tensorflow:Assets written to: ./model\\HL3\\assets\n"
     ]
    },
    {
     "name": "stderr",
     "output_type": "stream",
     "text": [
      " 94%|█████████████████████████████████████████████████████████████████████▋    | 229/243 [18:45:18<1:48:37, 465.54s/it]"
     ]
    },
    {
     "name": "stdout",
     "output_type": "stream",
     "text": [
      "INFO:tensorflow:Assets written to: ./model\\HL3\\assets\n",
      "INFO:tensorflow:Assets written to: ./model\\HL3\\assets\n",
      "INFO:tensorflow:Assets written to: ./model\\HL3\\assets\n",
      "INFO:tensorflow:Assets written to: ./model\\HL3\\assets\n",
      "INFO:tensorflow:Assets written to: ./model\\HL3\\assets\n",
      "INFO:tensorflow:Assets written to: ./model\\HL3\\assets\n",
      "INFO:tensorflow:Assets written to: ./model\\HL3\\assets\n",
      "INFO:tensorflow:Assets written to: ./model\\HL3\\assets\n"
     ]
    },
    {
     "name": "stderr",
     "output_type": "stream",
     "text": [
      " 95%|██████████████████████████████████████████████████████████████████████    | 230/243 [18:53:08<1:41:09, 466.89s/it]"
     ]
    },
    {
     "name": "stdout",
     "output_type": "stream",
     "text": [
      "INFO:tensorflow:Assets written to: ./model\\HL3\\assets\n",
      "INFO:tensorflow:Assets written to: ./model\\HL3\\assets\n"
     ]
    },
    {
     "name": "stderr",
     "output_type": "stream",
     "text": [
      " 95%|██████████████████████████████████████████████████████████████████████▎   | 231/243 [19:02:16<1:38:13, 491.11s/it]"
     ]
    },
    {
     "name": "stdout",
     "output_type": "stream",
     "text": [
      "INFO:tensorflow:Assets written to: ./model\\HL3\\assets\n",
      "INFO:tensorflow:Assets written to: ./model\\HL3\\assets\n",
      "INFO:tensorflow:Assets written to: ./model\\HL3\\assets\n",
      "INFO:tensorflow:Assets written to: ./model\\HL3\\assets\n",
      "INFO:tensorflow:Assets written to: ./model\\HL3\\assets\n",
      "INFO:tensorflow:Assets written to: ./model\\HL3\\assets\n"
     ]
    },
    {
     "name": "stderr",
     "output_type": "stream",
     "text": [
      " 95%|██████████████████████████████████████████████████████████████████████▋   | 232/243 [19:10:39<1:30:39, 494.54s/it]"
     ]
    },
    {
     "name": "stdout",
     "output_type": "stream",
     "text": [
      "INFO:tensorflow:Assets written to: ./model\\HL3\\assets\n",
      "INFO:tensorflow:Assets written to: ./model\\HL3\\assets\n",
      "INFO:tensorflow:Assets written to: ./model\\HL3\\assets\n",
      "INFO:tensorflow:Assets written to: ./model\\HL3\\assets\n",
      "INFO:tensorflow:Assets written to: ./model\\HL3\\assets\n",
      "INFO:tensorflow:Assets written to: ./model\\HL3\\assets\n",
      "INFO:tensorflow:Assets written to: ./model\\HL3\\assets\n",
      "INFO:tensorflow:Assets written to: ./model\\HL3\\assets\n",
      "INFO:tensorflow:Assets written to: ./model\\HL3\\assets\n"
     ]
    },
    {
     "name": "stderr",
     "output_type": "stream",
     "text": [
      " 96%|██████████████████████████████████████████████████████████████████████▉   | 233/243 [19:19:58<1:25:39, 513.93s/it]"
     ]
    },
    {
     "name": "stdout",
     "output_type": "stream",
     "text": [
      "INFO:tensorflow:Assets written to: ./model\\HL3\\assets\n",
      "INFO:tensorflow:Assets written to: ./model\\HL3\\assets\n",
      "INFO:tensorflow:Assets written to: ./model\\HL3\\assets\n",
      "INFO:tensorflow:Assets written to: ./model\\HL3\\assets\n",
      "INFO:tensorflow:Assets written to: ./model\\HL3\\assets\n",
      "INFO:tensorflow:Assets written to: ./model\\HL3\\assets\n",
      "INFO:tensorflow:Assets written to: ./model\\HL3\\assets\n"
     ]
    },
    {
     "name": "stderr",
     "output_type": "stream",
     "text": [
      " 96%|███████████████████████████████████████████████████████████████████████▎  | 234/243 [19:30:24<1:22:08, 547.59s/it]"
     ]
    },
    {
     "name": "stdout",
     "output_type": "stream",
     "text": [
      "INFO:tensorflow:Assets written to: ./model\\HL3\\assets\n",
      "INFO:tensorflow:Assets written to: ./model\\HL3\\assets\n",
      "INFO:tensorflow:Assets written to: ./model\\HL3\\assets\n",
      "INFO:tensorflow:Assets written to: ./model\\HL3\\assets\n",
      "INFO:tensorflow:Assets written to: ./model\\HL3\\assets\n",
      "INFO:tensorflow:Assets written to: ./model\\HL3\\assets\n",
      "INFO:tensorflow:Assets written to: ./model\\HL3\\assets\n",
      "INFO:tensorflow:Assets written to: ./model\\HL3\\assets\n",
      "INFO:tensorflow:Assets written to: ./model\\HL3\\assets\n",
      "INFO:tensorflow:Assets written to: ./model\\HL3\\assets\n"
     ]
    },
    {
     "name": "stderr",
     "output_type": "stream",
     "text": [
      " 97%|███████████████████████████████████████████████████████████████████████▌  | 235/243 [19:36:55<1:06:44, 500.59s/it]"
     ]
    },
    {
     "name": "stdout",
     "output_type": "stream",
     "text": [
      "INFO:tensorflow:Assets written to: ./model\\HL3\\assets\n",
      "INFO:tensorflow:Assets written to: ./model\\HL3\\assets\n",
      "INFO:tensorflow:Assets written to: ./model\\HL3\\assets\n",
      "INFO:tensorflow:Assets written to: ./model\\HL3\\assets\n",
      "INFO:tensorflow:Assets written to: ./model\\HL3\\assets\n",
      "INFO:tensorflow:Assets written to: ./model\\HL3\\assets\n",
      "INFO:tensorflow:Assets written to: ./model\\HL3\\assets\n"
     ]
    },
    {
     "name": "stderr",
     "output_type": "stream",
     "text": [
      " 97%|█████████████████████████████████████████████████████████████████████████▊  | 236/243 [19:43:40<55:04, 472.14s/it]"
     ]
    },
    {
     "name": "stdout",
     "output_type": "stream",
     "text": [
      "INFO:tensorflow:Assets written to: ./model\\HL3\\assets\n",
      "INFO:tensorflow:Assets written to: ./model\\HL3\\assets\n",
      "INFO:tensorflow:Assets written to: ./model\\HL3\\assets\n",
      "INFO:tensorflow:Assets written to: ./model\\HL3\\assets\n",
      "INFO:tensorflow:Assets written to: ./model\\HL3\\assets\n",
      "INFO:tensorflow:Assets written to: ./model\\HL3\\assets\n",
      "INFO:tensorflow:Assets written to: ./model\\HL3\\assets\n",
      "INFO:tensorflow:Assets written to: ./model\\HL3\\assets\n",
      "INFO:tensorflow:Assets written to: ./model\\HL3\\assets\n",
      "INFO:tensorflow:Assets written to: ./model\\HL3\\assets\n"
     ]
    },
    {
     "name": "stderr",
     "output_type": "stream",
     "text": [
      " 98%|██████████████████████████████████████████████████████████████████████████  | 237/243 [19:51:28<47:04, 470.74s/it]"
     ]
    },
    {
     "name": "stdout",
     "output_type": "stream",
     "text": [
      "INFO:tensorflow:Assets written to: ./model\\HL3\\assets\n",
      "INFO:tensorflow:Assets written to: ./model\\HL3\\assets\n",
      "INFO:tensorflow:Assets written to: ./model\\HL3\\assets\n"
     ]
    },
    {
     "name": "stderr",
     "output_type": "stream",
     "text": [
      " 98%|██████████████████████████████████████████████████████████████████████████▍ | 238/243 [19:58:54<38:36, 463.24s/it]"
     ]
    },
    {
     "name": "stdout",
     "output_type": "stream",
     "text": [
      "INFO:tensorflow:Assets written to: ./model\\HL3\\assets\n",
      "INFO:tensorflow:Assets written to: ./model\\HL3\\assets\n",
      "INFO:tensorflow:Assets written to: ./model\\HL3\\assets\n",
      "INFO:tensorflow:Assets written to: ./model\\HL3\\assets\n",
      "INFO:tensorflow:Assets written to: ./model\\HL3\\assets\n",
      "INFO:tensorflow:Assets written to: ./model\\HL3\\assets\n",
      "INFO:tensorflow:Assets written to: ./model\\HL3\\assets\n",
      "INFO:tensorflow:Assets written to: ./model\\HL3\\assets\n",
      "INFO:tensorflow:Assets written to: ./model\\HL3\\assets\n"
     ]
    },
    {
     "name": "stderr",
     "output_type": "stream",
     "text": [
      " 98%|██████████████████████████████████████████████████████████████████████████▋ | 239/243 [20:06:47<31:05, 466.30s/it]"
     ]
    },
    {
     "name": "stdout",
     "output_type": "stream",
     "text": [
      "INFO:tensorflow:Assets written to: ./model\\HL3\\assets\n",
      "INFO:tensorflow:Assets written to: ./model\\HL3\\assets\n",
      "INFO:tensorflow:Assets written to: ./model\\HL3\\assets\n",
      "INFO:tensorflow:Assets written to: ./model\\HL3\\assets\n"
     ]
    },
    {
     "name": "stderr",
     "output_type": "stream",
     "text": [
      " 99%|███████████████████████████████████████████████████████████████████████████ | 240/243 [20:15:55<24:32, 490.73s/it]"
     ]
    },
    {
     "name": "stdout",
     "output_type": "stream",
     "text": [
      "INFO:tensorflow:Assets written to: ./model\\HL3\\assets\n",
      "INFO:tensorflow:Assets written to: ./model\\HL3\\assets\n",
      "INFO:tensorflow:Assets written to: ./model\\HL3\\assets\n",
      "INFO:tensorflow:Assets written to: ./model\\HL3\\assets\n",
      "INFO:tensorflow:Assets written to: ./model\\HL3\\assets\n",
      "INFO:tensorflow:Assets written to: ./model\\HL3\\assets\n",
      "INFO:tensorflow:Assets written to: ./model\\HL3\\assets\n"
     ]
    },
    {
     "name": "stderr",
     "output_type": "stream",
     "text": [
      " 99%|███████████████████████████████████████████████████████████████████████████▎| 241/243 [20:24:06<16:21, 490.98s/it]"
     ]
    },
    {
     "name": "stdout",
     "output_type": "stream",
     "text": [
      "INFO:tensorflow:Assets written to: ./model\\HL3\\assets\n",
      "INFO:tensorflow:Assets written to: ./model\\HL3\\assets\n",
      "INFO:tensorflow:Assets written to: ./model\\HL3\\assets\n",
      "INFO:tensorflow:Assets written to: ./model\\HL3\\assets\n",
      "INFO:tensorflow:Assets written to: ./model\\HL3\\assets\n",
      "INFO:tensorflow:Assets written to: ./model\\HL3\\assets\n",
      "INFO:tensorflow:Assets written to: ./model\\HL3\\assets\n",
      "INFO:tensorflow:Assets written to: ./model\\HL3\\assets\n"
     ]
    },
    {
     "name": "stderr",
     "output_type": "stream",
     "text": [
      "100%|███████████████████████████████████████████████████████████████████████████▋| 242/243 [20:33:18<08:29, 509.23s/it]"
     ]
    },
    {
     "name": "stdout",
     "output_type": "stream",
     "text": [
      "INFO:tensorflow:Assets written to: ./model\\HL3\\assets\n",
      "INFO:tensorflow:Assets written to: ./model\\HL3\\assets\n"
     ]
    },
    {
     "name": "stderr",
     "output_type": "stream",
     "text": [
      "100%|████████████████████████████████████████████████████████████████████████████| 243/243 [20:43:35<00:00, 307.06s/it]\n"
     ]
    }
   ],
   "source": [
    "# use Scan object as input\n",
    "t3 = talos.Scan(x = X, y = y, params = p3, model = h3, experiment_name = '3_hidden_layer')\n",
    "analyze_object3 = talos.Analyze(t3)\n",
    "analyze_object3.data.to_excel(\"hidden_layer3.xlsx\")"
   ]
  }
 ],
 "metadata": {
  "kernelspec": {
   "display_name": "Python 3",
   "language": "python",
   "name": "python3"
  },
  "language_info": {
   "codemirror_mode": {
    "name": "ipython",
    "version": 3
   },
   "file_extension": ".py",
   "mimetype": "text/x-python",
   "name": "python",
   "nbconvert_exporter": "python",
   "pygments_lexer": "ipython3",
   "version": "3.8.8"
  }
 },
 "nbformat": 4,
 "nbformat_minor": 5
}
