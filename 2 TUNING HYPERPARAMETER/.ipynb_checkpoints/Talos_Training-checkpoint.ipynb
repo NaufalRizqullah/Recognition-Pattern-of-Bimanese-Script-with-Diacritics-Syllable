{
 "cells": [
  {
   "cell_type": "markdown",
   "id": "c147e5a7-6eeb-41d9-b3d5-bab4c014fb06",
   "metadata": {
    "tags": []
   },
   "source": [
    "# Library"
   ]
  },
  {
   "cell_type": "code",
   "execution_count": 3,
   "id": "53f94a4f-59f8-41f3-8a98-b11e6af90a17",
   "metadata": {
    "tags": []
   },
   "outputs": [],
   "source": [
    "import talos\n",
    "import numpy as np\n",
    "import pandas as pd\n",
    "import matplotlib.pyplot as plt\n",
    "from sklearn.model_selection import train_test_split, KFold\n",
    "from sklearn.preprocessing import LabelEncoder, StandardScaler, MinMaxScaler, RobustScaler\n",
    "from sklearn.metrics import accuracy_score, classification_report\n",
    "from sklearn.model_selection import train_test_split\n",
    "from sklearn.metrics import confusion_matrix, accuracy_score, recall_score, precision_score, classification_report\n",
    "import seaborn as sns\n",
    "import tensorflow as tf\n",
    "from tensorflow.keras import layers\n",
    "from tensorflow.keras.models import Sequential\n",
    "from tensorflow.keras.layers import Input,Dense, Dropout\n",
    "from tensorflow.keras.utils import normalize, to_categorical\n",
    "from tensorflow.keras.optimizers import RMSprop, SGD\n",
    "from tensorflow.keras.callbacks import ModelCheckpoint\n",
    "import os"
   ]
  },
  {
   "cell_type": "code",
   "execution_count": 4,
   "id": "e8d7ccc4-ac60-4e5b-aebb-08c9bb91aea0",
   "metadata": {},
   "outputs": [],
   "source": [
    "physical_devices = tf.config.list_physical_devices(\"GPU\")\n",
    "tf.config.experimental.set_memory_growth(physical_devices[0], True)"
   ]
  },
  {
   "cell_type": "markdown",
   "id": "48c3ab0d-a17b-417d-b710-71e120402b61",
   "metadata": {
    "tags": []
   },
   "source": [
    "# Function"
   ]
  },
  {
   "cell_type": "code",
   "execution_count": 5,
   "id": "eaa70d3d-2d34-44b3-8cc7-c88aa2273aef",
   "metadata": {},
   "outputs": [],
   "source": [
    "# Callback \n",
    "callback_saveModel = ModelCheckpoint('model/', save_best_only=True, monitor=\"val_loss\")"
   ]
  },
  {
   "cell_type": "code",
   "execution_count": null,
   "id": "1856530d-d56c-4387-8542-61a5ab12ca2c",
   "metadata": {},
   "outputs": [],
   "source": [
    "# add input parameters to the function\n",
    "def combination(x_train, y_train, x_val, y_val, params):\n",
    "    \n",
    "    model = Sequential()\n",
    "    model.add(Input(shape=(x_train.shape[1],))) # input\n",
    "    \n",
    "    model.add(Dense(params['first_neuron'], activation='sigmoid')) # hidden layer 1\n",
    "    model.add(Dense(params['second_neuron'], activation='sigmoid')) # hidden layer 2\n",
    "    model.add(Dense(params['third_neuron'], activation='sigmoid')) # hidden layer 3\n",
    "    \n",
    "    model.add(Dense(y_train.shape[1], activation='softmax')) # output\n",
    "    \n",
    "    adam = tf.keras.optimizers.Adam(learning_rate=0.01)\n",
    "    sgd = tf.keras.optimizers.SGD(learning_rate=0.01, momentum=0.9, nesterov=True)\n",
    "    \n",
    "    model.compile(loss='binary_crossentropy', optimizer=adam, metrics=['accuracy'])\n",
    "    \n",
    "    out = model.fit(x_train,\n",
    "                    y_train,\n",
    "                    validation_data=[x_val, y_val],\n",
    "                    epochs=params['epochs'],\n",
    "                    batch_size=32,\n",
    "                    callbacks=[callback_saveModel]\n",
    "                    verbose=0)\n",
    "    \n",
    "    # modify the output model\n",
    "    return out, model"
   ]
  },
  {
   "cell_type": "code",
   "execution_count": null,
   "id": "88475630-f547-4312-9f4f-3388ab8d6158",
   "metadata": {},
   "outputs": [],
   "source": [
    "p = {\n",
    "    'first_neuron': [64, 128, 256],\n",
    "    'second_neuron': [64, 128, 256],\n",
    "    'third_neuron': [64, 128, 256],\n",
    "    'hidden_layers':[1, 2, 3], # agak susah implementasinya, jadi manual aja add layernya\n",
    "    'lr': [0.1],\n",
    "    'epochs': [10]\n",
    "}"
   ]
  },
  {
   "cell_type": "markdown",
   "id": "96c6b470-7a29-415f-b476-54372d9e5cf2",
   "metadata": {
    "tags": []
   },
   "source": [
    "# Load Data"
   ]
  },
  {
   "cell_type": "code",
   "execution_count": null,
   "id": "ba5c9769-2ac2-4abb-9868-a414392a3c25",
   "metadata": {},
   "outputs": [],
   "source": [
    "data = pd.read_csv('./13-01-2022_05-47-39_feature.csv')"
   ]
  },
  {
   "cell_type": "code",
   "execution_count": null,
   "id": "07de2d09-09fa-4ac2-9700-2e239934dce3",
   "metadata": {},
   "outputs": [],
   "source": [
    "X = data.drop(columns=['label'])\n",
    "y = data['label'].values"
   ]
  },
  {
   "cell_type": "code",
   "execution_count": null,
   "id": "f5d02e85-1173-49c6-8051-fdc0dcfcdcb2",
   "metadata": {},
   "outputs": [],
   "source": [
    "# robust scaler\n",
    "scalerRobust = RobustScaler()\n",
    "X = scalerRobust.fit_transform(X)"
   ]
  },
  {
   "cell_type": "code",
   "execution_count": null,
   "id": "8f03b3bb-989c-42eb-b5ed-fd72cf85fa99",
   "metadata": {},
   "outputs": [],
   "source": [
    "# Encode to int label\n",
    "labelencoder = LabelEncoder()\n",
    "y = labelencoder.fit_transform(y)\n",
    "\n",
    "# To categorical Label\n",
    "y = to_categorical(y)"
   ]
  },
  {
   "cell_type": "markdown",
   "id": "2b32a40b-8a78-4e17-a137-199e2342e566",
   "metadata": {},
   "source": [
    "# Talos Training"
   ]
  },
  {
   "cell_type": "code",
   "execution_count": null,
   "id": "ba52105c-2765-4b7b-a1fe-56c7d6e82e4b",
   "metadata": {},
   "outputs": [],
   "source": [
    "t = talos.Scan(x = X, y = y, params = p, model = combination, experiment_name = 'combination')"
   ]
  },
  {
   "cell_type": "code",
   "execution_count": null,
   "id": "deff3de1-fc3c-466c-b68b-04f99b19a673",
   "metadata": {},
   "outputs": [],
   "source": [
    "# t.data"
   ]
  },
  {
   "cell_type": "code",
   "execution_count": null,
   "id": "37663a89-64b4-4a94-8cf8-3ccfceb4ef16",
   "metadata": {},
   "outputs": [],
   "source": [
    "# use Scan object as input\n",
    "analyze_object = talos.Analyze(t)\n",
    "\n",
    "# access the dataframe with the results\n",
    "analyze_object.data"
   ]
  },
  {
   "cell_type": "code",
   "execution_count": null,
   "id": "6c5bce8e-8be9-4736-9099-ffda7b8fabb2",
   "metadata": {},
   "outputs": [],
   "source": [
    "\n",
    "# analyze_object.data"
   ]
  },
  {
   "cell_type": "code",
   "execution_count": null,
   "id": "44c7c734-5f78-4b17-ac65-6d625e8cb9a2",
   "metadata": {},
   "outputs": [],
   "source": []
  }
 ],
 "metadata": {
  "kernelspec": {
   "display_name": "Python 3",
   "language": "python",
   "name": "python3"
  },
  "language_info": {
   "codemirror_mode": {
    "name": "ipython",
    "version": 3
   },
   "file_extension": ".py",
   "mimetype": "text/x-python",
   "name": "python",
   "nbconvert_exporter": "python",
   "pygments_lexer": "ipython3",
   "version": "3.8.8"
  }
 },
 "nbformat": 4,
 "nbformat_minor": 5
}
