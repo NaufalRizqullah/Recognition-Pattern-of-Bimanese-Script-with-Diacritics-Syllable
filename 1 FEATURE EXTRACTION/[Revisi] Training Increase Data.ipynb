{
 "cells": [
  {
   "cell_type": "code",
   "execution_count": 3,
   "id": "8b1c95aa-c893-4dd3-9214-ac63364f573a",
   "metadata": {},
   "outputs": [],
   "source": [
    "import cv2\n",
    "from PIL import Image\n",
    "import numpy as np \n",
    "from matplotlib import pyplot as plt\n",
    "import os\n",
    "import pandas as pd\n",
    "from datetime import datetime\n",
    "from sklearn.preprocessing import OneHotEncoder\n",
    "from tensorflow.keras.preprocessing.image import ImageDataGenerator"
   ]
  },
  {
   "cell_type": "code",
   "execution_count": 4,
   "id": "0840fbd1-b0a6-4efb-a370-66dab4ce0b22",
   "metadata": {},
   "outputs": [],
   "source": [
    "def slice_roi(img):\n",
    "    # convert 0 to 1 , 1 to 0 to find border\n",
    "    img2 = np.where(img==0, 255, 0)\n",
    "    \n",
    "    #axis=0 refer to column, axis=1 refer to row\n",
    "    \n",
    "    #find column with value >0 to find left/right border\n",
    "    img2_col = np.sum(img2, axis = 0)\n",
    "    col_with_value = np.where(img2_col > 0)[0]\n",
    "    \n",
    "    #find row with value >0 to find top/bottom border\n",
    "    img2_row = np.sum(img2, axis = 1)\n",
    "    row_with_value = np.where(img2_row > 0)[0]\n",
    "    \n",
    "    #get left/right border\n",
    "    start_col = min(col_with_value)\n",
    "    end_col = max(col_with_value)\n",
    "    \n",
    "    #get top/bottom border\n",
    "    start_row = min(row_with_value)\n",
    "    end_row = max(row_with_value)\n",
    "    \n",
    "    #get ROI width & height\n",
    "    roi_width = end_col - start_col\n",
    "    roi_height = end_row - start_row\n",
    "    \n",
    "    #get ROI area\n",
    "    img = img[start_row:end_row, start_col:end_col]\n",
    "    \n",
    "    if roi_width > roi_height:\n",
    "        diff = roi_width - roi_height\n",
    "        extra_pad = int(diff/2)\n",
    "        img = np.pad(img, ((extra_pad, extra_pad), (0,0)), 'maximum')\n",
    "    else:\n",
    "        diff = roi_height - roi_width\n",
    "        extra_pad = int(diff/2)\n",
    "        img = np.pad(img, ((0,0), (extra_pad, extra_pad)), 'maximum')\n",
    "        \n",
    "    return img"
   ]
  },
  {
   "cell_type": "code",
   "execution_count": 5,
   "id": "cb523b14-3e01-4144-bd0b-f1ce306dbaa4",
   "metadata": {},
   "outputs": [],
   "source": [
    "def split_rename(imgString, separator = '_', indexSplit = 2):\n",
    "    sp = imgString.split(separator)\n",
    "    return sp[indexSplit]"
   ]
  },
  {
   "cell_type": "code",
   "execution_count": 6,
   "id": "fd675208-5c62-4b72-9f08-ddc624071d96",
   "metadata": {},
   "outputs": [],
   "source": [
    "def loadImage(folder, imgType = ['.jpeg', '.jpg'], IMGSIZE = 64, scale=1.0, binarization=False):\n",
    "    images = []\n",
    "    label = []\n",
    "    # traverse root directory, and list directories as dirs and files as files\n",
    "    for root, dirs, files in os.walk(folder):\n",
    "        for filename in os.listdir(root):\n",
    "            if any([filename.endswith(x) for x in imgType]):\n",
    "                \n",
    "                # baca image dan ubah ke grayscale\n",
    "                img_gray = cv2.imread(os.path.join(root, filename), cv2.IMREAD_GRAYSCALE)\n",
    "                                \n",
    "                # gunakan ROI untuk crop\n",
    "                img_roi = slice_roi(img_gray)\n",
    "                \n",
    "                # Normalisasi (binarization image)\n",
    "                if binarization:\n",
    "                    ret, img_roi = cv2.threshold(img_roi, 128, 1, cv2.THRESH_BINARY) # batasnya 128, yg dimana diatas 128 dikasi nilai 1 \n",
    "                \n",
    "                # Resize ukuran citra\n",
    "                img = cv2.resize(img_roi, (IMGSIZE, IMGSIZE))\n",
    "                \n",
    "                \n",
    "                # jika real image\n",
    "                if img is not None:\n",
    "                    # adding image\n",
    "                    images.append(img)\n",
    "                    # adding label\n",
    "                    label.append(split_rename(filename, separator='.', indexSplit = 0))\n",
    "    \n",
    "    return np.array(images, dtype=np.uint8), np.array(label)"
   ]
  },
  {
   "cell_type": "code",
   "execution_count": 7,
   "id": "003da0ac-04a3-4946-8976-184a2f0476b7",
   "metadata": {},
   "outputs": [],
   "source": [
    "def own_augment_v2(datagen, img_array, label, limit_augs=3, binary=False):\n",
    "    dataset = []\n",
    "    labels = []\n",
    "    for index, img in enumerate(img_array):        \n",
    "        x = img.reshape( (1, ) + img.shape + (1,))\n",
    "        \n",
    "        dataset.append(x)\n",
    "        labels.append(label[index])\n",
    "        \n",
    "        i = 0\n",
    "        for batch in datagen.flow(x,batch_size=3):\n",
    "            if binary:\n",
    "                mean_batch = np.mean(batch)\n",
    "                batch = np.where(batch > mean_batch, 1, 0)\n",
    "            dataset.append(batch)\n",
    "            labels.append(label[index])\n",
    "            i += 1\n",
    "            if i >= limit_augs:\n",
    "                break\n",
    "    data = np.array(dataset)\n",
    "    return np.squeeze(data), np.array(labels)"
   ]
  },
  {
   "cell_type": "code",
   "execution_count": 145,
   "id": "7c21b725-aa15-4b62-ab31-7bc9972ac1b6",
   "metadata": {},
   "outputs": [],
   "source": [
    "# source : https://www.statology.org/numpy-ndarray-object-has-no-attribute-append/\n",
    "def combine_dataset(data1, data2):\n",
    "    return np.concatenate((data1, data2))"
   ]
  },
  {
   "cell_type": "code",
   "execution_count": 277,
   "id": "aed2748b-9c48-4b29-a87e-6343007c28d5",
   "metadata": {},
   "outputs": [],
   "source": [
    "# Base for Augment\n",
    "IMAGE_PATH = '../Dataset/Dico/'\n",
    "img_extension = ['.jpeg', '.jpg']"
   ]
  },
  {
   "cell_type": "code",
   "execution_count": 278,
   "id": "5cd745e8-73a7-45ab-bdf9-1a72e811f978",
   "metadata": {},
   "outputs": [],
   "source": [
    "img_base, label_base = loadImage(IMAGE_PATH, binarization=False)"
   ]
  },
  {
   "cell_type": "code",
   "execution_count": 279,
   "id": "591c7216-51fa-455a-a29b-690b94640926",
   "metadata": {},
   "outputs": [
    {
     "data": {
      "text/plain": [
       "(450, 64, 64)"
      ]
     },
     "execution_count": 279,
     "metadata": {},
     "output_type": "execute_result"
    }
   ],
   "source": [
    "img_base.shape"
   ]
  },
  {
   "cell_type": "code",
   "execution_count": 280,
   "id": "965e62f5-303d-4892-8351-26cb0260f652",
   "metadata": {},
   "outputs": [],
   "source": [
    "# own augment v2\n",
    "\n",
    "cVAL = 255\n",
    "\n",
    "datagen = ImageDataGenerator(\n",
    "    rotation_range= 45,\n",
    "    zoom_range=[0.9, 0.8],\n",
    "    fill_mode='constant',\n",
    "    cval=cVAL\n",
    ")\n",
    "\n",
    "img_base, label_base = own_augment_v2(datagen, img_base, label_base, limit_augs=14)"
   ]
  },
  {
   "cell_type": "code",
   "execution_count": 281,
   "id": "7e75c038-569e-4bba-9bda-05bb862c4861",
   "metadata": {},
   "outputs": [
    {
     "data": {
      "text/plain": [
       "(6750, 64, 64)"
      ]
     },
     "execution_count": 281,
     "metadata": {},
     "output_type": "execute_result"
    }
   ],
   "source": [
    "img_base.shape"
   ]
  },
  {
   "cell_type": "markdown",
   "id": "a8b49456-30d9-426c-808c-3880f4cbc2f4",
   "metadata": {
    "tags": []
   },
   "source": [
    "# ===================================================================================================="
   ]
  },
  {
   "cell_type": "code",
   "execution_count": 282,
   "id": "01b27127-d444-4d39-8246-7039f384f0aa",
   "metadata": {},
   "outputs": [],
   "source": [
    "# Base data for increment\n",
    "IMAGE_PATH = '../Dataset'\n",
    "img_extension = ['.jpeg', '.jpg']"
   ]
  },
  {
   "cell_type": "code",
   "execution_count": 283,
   "id": "e1850bb3-927d-4af9-a53f-2f79a43f32bf",
   "metadata": {},
   "outputs": [],
   "source": [
    "img, label = loadImage(IMAGE_PATH, binarization=False)"
   ]
  },
  {
   "cell_type": "code",
   "execution_count": 284,
   "id": "3dd32aa6-fb9e-4596-b726-aa1cbd546c69",
   "metadata": {},
   "outputs": [
    {
     "data": {
      "text/plain": [
       "(2250, 64, 64)"
      ]
     },
     "execution_count": 284,
     "metadata": {},
     "output_type": "execute_result"
    }
   ],
   "source": [
    "img.shape"
   ]
  },
  {
   "cell_type": "code",
   "execution_count": 285,
   "id": "c9b96a93-7849-4126-b052-802df78f7adc",
   "metadata": {},
   "outputs": [],
   "source": [
    "img_aug = combine_dataset(img, img_base)\n",
    "label_aug = combine_dataset(label, label_base)"
   ]
  },
  {
   "cell_type": "code",
   "execution_count": 286,
   "id": "c45493f0-620f-446d-bdd3-0126311bcfad",
   "metadata": {},
   "outputs": [
    {
     "data": {
      "text/plain": [
       "(9000, 64, 64)"
      ]
     },
     "execution_count": 286,
     "metadata": {},
     "output_type": "execute_result"
    }
   ],
   "source": [
    "img_aug.shape"
   ]
  },
  {
   "cell_type": "markdown",
   "id": "fb388e85-b6fd-48cb-ba1a-b7b4bfb4e293",
   "metadata": {},
   "source": [
    "# Moment Invariant"
   ]
  },
  {
   "cell_type": "code",
   "execution_count": 22,
   "id": "003e33a3-e89c-4376-a4fb-d7c1606216bb",
   "metadata": {},
   "outputs": [],
   "source": [
    "#moment inv\n",
    "def momentInvariantFeature(img):\n",
    "    moments = cv2.moments(img)\n",
    "    huMoment = cv2.HuMoments(moments)\n",
    "    \n",
    "    return huMoment.flatten().tolist()"
   ]
  },
  {
   "cell_type": "code",
   "execution_count": 23,
   "id": "ebcb6ea1-fb69-46ec-a159-83a675508b8b",
   "metadata": {},
   "outputs": [],
   "source": [
    "# looping for entire image\n",
    "def feature_extraction(img_array):\n",
    "    feature = []\n",
    "    for i in range(len(img_array)):\n",
    "        feature.append(momentInvariantFeature(img_array[i]))\n",
    "    return feature"
   ]
  },
  {
   "cell_type": "code",
   "execution_count": 25,
   "id": "da65e4d0-121d-4e28-a291-6c51d14b5157",
   "metadata": {},
   "outputs": [],
   "source": [
    "# Create function to concate another feature\n",
    "def concatenate_feature(df1, df2, axis=0, rename_index=True):\n",
    "    # 0 vertical (menurun)\n",
    "    # 1 horizonal (kesamping)\n",
    "    return pd.concat([df1, df2], axis=axis, ignore_index=rename_index)"
   ]
  },
  {
   "cell_type": "code",
   "execution_count": 26,
   "id": "4e58e528-a495-4fe8-bd77-f69c6463d9e0",
   "metadata": {},
   "outputs": [],
   "source": [
    "def oneHotEncoder(label):\n",
    "    # label with one hot encoding\n",
    "    label = np.array(label).reshape(-1,1) # ubah ke bentuk (-1,1) sesuai yang diinginkan oleh onehotencoder\n",
    "    onehot_encoder = OneHotEncoder()\n",
    "    y = onehot_encoder.fit_transform(label).toarray()\n",
    "    # onehot_encoder.categories_\n",
    "    df_label = pd.DataFrame(data=y, columns=[str(onehot_encoder.categories_[0][i]) for i in range(np.array(y).shape[1])])\n",
    "    \n",
    "    return df_label"
   ]
  },
  {
   "cell_type": "code",
   "execution_count": 27,
   "id": "38650c4b-285b-4f15-aa7d-7aa7f160afd5",
   "metadata": {},
   "outputs": [],
   "source": [
    "# add label in end of feature\n",
    "def mInvariant_mixin_feature_and_label(feature, label, encoder=False):\n",
    "    # feaature\n",
    "    dt = pd.DataFrame(data=feature, columns=[\"M\"+str(i+1) for i in range(np.array(feature).shape[1])], dtype=np.float64)\n",
    "    if(encoder == False):\n",
    "        dt['label'] = label\n",
    "        return dt\n",
    "    else:\n",
    "        df_label = oneHotEncoder(label)\n",
    "        # gabungin dataframenya\n",
    "        df = pd.concat([dt, df_label], axis=1)\n",
    "        return df"
   ]
  },
  {
   "cell_type": "code",
   "execution_count": 34,
   "id": "afd3fe21-9817-4719-b473-d405c0803f66",
   "metadata": {},
   "outputs": [],
   "source": [
    "# function feature to csv with label\n",
    "def save_to_csv(data, name):\n",
    "    dt_string = f'{name}_feature.csv'\n",
    "    data.to_csv(dt_string, header=True, index = False)"
   ]
  },
  {
   "cell_type": "code",
   "execution_count": 287,
   "id": "245d8d7a-b09f-4e7a-bba8-e1cb45e22786",
   "metadata": {},
   "outputs": [],
   "source": [
    "feature_im = np.array(feature_extraction(img_aug.astype(np.float32)))"
   ]
  },
  {
   "cell_type": "code",
   "execution_count": 288,
   "id": "8ab471be-9328-414c-8b85-2637ec13932b",
   "metadata": {},
   "outputs": [],
   "source": [
    "# moment invariant\n",
    "data_im = mInvariant_mixin_feature_and_label(feature_im, label_aug, encoder=False)"
   ]
  },
  {
   "cell_type": "code",
   "execution_count": 290,
   "id": "60b29f00-9850-459a-8ed6-4aff7a50c4f3",
   "metadata": {},
   "outputs": [],
   "source": [
    "save_to_csv(data_im, f\"{img_aug.shape[0]}\")"
   ]
  },
  {
   "cell_type": "code",
   "execution_count": 289,
   "id": "ca5891fb-4cd7-478e-961b-358f5184318c",
   "metadata": {},
   "outputs": [
    {
     "data": {
      "text/html": [
       "<div>\n",
       "<style scoped>\n",
       "    .dataframe tbody tr th:only-of-type {\n",
       "        vertical-align: middle;\n",
       "    }\n",
       "\n",
       "    .dataframe tbody tr th {\n",
       "        vertical-align: top;\n",
       "    }\n",
       "\n",
       "    .dataframe thead th {\n",
       "        text-align: right;\n",
       "    }\n",
       "</style>\n",
       "<table border=\"1\" class=\"dataframe\">\n",
       "  <thead>\n",
       "    <tr style=\"text-align: right;\">\n",
       "      <th></th>\n",
       "      <th>M1</th>\n",
       "      <th>M2</th>\n",
       "      <th>M3</th>\n",
       "      <th>M4</th>\n",
       "      <th>M5</th>\n",
       "      <th>M6</th>\n",
       "      <th>M7</th>\n",
       "      <th>label</th>\n",
       "    </tr>\n",
       "  </thead>\n",
       "  <tbody>\n",
       "    <tr>\n",
       "      <th>0</th>\n",
       "      <td>0.000811</td>\n",
       "      <td>3.754003e-09</td>\n",
       "      <td>1.012610e-13</td>\n",
       "      <td>3.743107e-13</td>\n",
       "      <td>7.259493e-26</td>\n",
       "      <td>1.615691e-17</td>\n",
       "      <td>6.365473e-27</td>\n",
       "      <td>a</td>\n",
       "    </tr>\n",
       "    <tr>\n",
       "      <th>1</th>\n",
       "      <td>0.000775</td>\n",
       "      <td>2.039180e-09</td>\n",
       "      <td>1.341664e-13</td>\n",
       "      <td>2.927303e-13</td>\n",
       "      <td>-4.693105e-26</td>\n",
       "      <td>1.139503e-17</td>\n",
       "      <td>-3.410212e-26</td>\n",
       "      <td>ba</td>\n",
       "    </tr>\n",
       "    <tr>\n",
       "      <th>2</th>\n",
       "      <td>0.000740</td>\n",
       "      <td>9.906478e-10</td>\n",
       "      <td>1.631860e-14</td>\n",
       "      <td>2.249429e-13</td>\n",
       "      <td>1.352651e-26</td>\n",
       "      <td>6.312464e-18</td>\n",
       "      <td>1.664667e-27</td>\n",
       "      <td>be</td>\n",
       "    </tr>\n",
       "    <tr>\n",
       "      <th>3</th>\n",
       "      <td>0.000792</td>\n",
       "      <td>1.942616e-09</td>\n",
       "      <td>1.251477e-13</td>\n",
       "      <td>8.969757e-14</td>\n",
       "      <td>-7.816695e-27</td>\n",
       "      <td>3.319659e-18</td>\n",
       "      <td>-5.405118e-27</td>\n",
       "      <td>bi</td>\n",
       "    </tr>\n",
       "    <tr>\n",
       "      <th>4</th>\n",
       "      <td>0.000777</td>\n",
       "      <td>9.830001e-10</td>\n",
       "      <td>3.430836e-13</td>\n",
       "      <td>3.653126e-13</td>\n",
       "      <td>-7.862973e-27</td>\n",
       "      <td>9.189068e-18</td>\n",
       "      <td>1.290901e-25</td>\n",
       "      <td>bo</td>\n",
       "    </tr>\n",
       "    <tr>\n",
       "      <th>...</th>\n",
       "      <td>...</td>\n",
       "      <td>...</td>\n",
       "      <td>...</td>\n",
       "      <td>...</td>\n",
       "      <td>...</td>\n",
       "      <td>...</td>\n",
       "      <td>...</td>\n",
       "      <td>...</td>\n",
       "    </tr>\n",
       "    <tr>\n",
       "      <th>8995</th>\n",
       "      <td>0.000966</td>\n",
       "      <td>1.999966e-08</td>\n",
       "      <td>6.309168e-13</td>\n",
       "      <td>1.047117e-11</td>\n",
       "      <td>-9.475208e-24</td>\n",
       "      <td>-1.351760e-15</td>\n",
       "      <td>-2.519099e-23</td>\n",
       "      <td>yu</td>\n",
       "    </tr>\n",
       "    <tr>\n",
       "      <th>8996</th>\n",
       "      <td>0.000946</td>\n",
       "      <td>1.475190e-08</td>\n",
       "      <td>6.610021e-13</td>\n",
       "      <td>7.285443e-12</td>\n",
       "      <td>6.457513e-25</td>\n",
       "      <td>-7.644746e-16</td>\n",
       "      <td>-1.597463e-23</td>\n",
       "      <td>yu</td>\n",
       "    </tr>\n",
       "    <tr>\n",
       "      <th>8997</th>\n",
       "      <td>0.000956</td>\n",
       "      <td>1.145065e-08</td>\n",
       "      <td>1.566326e-12</td>\n",
       "      <td>6.950745e-12</td>\n",
       "      <td>2.237815e-23</td>\n",
       "      <td>-7.056287e-16</td>\n",
       "      <td>-5.020679e-24</td>\n",
       "      <td>yu</td>\n",
       "    </tr>\n",
       "    <tr>\n",
       "      <th>8998</th>\n",
       "      <td>0.000961</td>\n",
       "      <td>2.136639e-08</td>\n",
       "      <td>9.495136e-13</td>\n",
       "      <td>9.816790e-12</td>\n",
       "      <td>-1.877307e-23</td>\n",
       "      <td>-1.313314e-15</td>\n",
       "      <td>-2.336338e-23</td>\n",
       "      <td>yu</td>\n",
       "    </tr>\n",
       "    <tr>\n",
       "      <th>8999</th>\n",
       "      <td>0.000964</td>\n",
       "      <td>9.939017e-09</td>\n",
       "      <td>1.726681e-12</td>\n",
       "      <td>9.091085e-12</td>\n",
       "      <td>3.600807e-23</td>\n",
       "      <td>-7.639137e-16</td>\n",
       "      <td>-8.805233e-25</td>\n",
       "      <td>yu</td>\n",
       "    </tr>\n",
       "  </tbody>\n",
       "</table>\n",
       "<p>9000 rows × 8 columns</p>\n",
       "</div>"
      ],
      "text/plain": [
       "            M1            M2            M3            M4            M5  \\\n",
       "0     0.000811  3.754003e-09  1.012610e-13  3.743107e-13  7.259493e-26   \n",
       "1     0.000775  2.039180e-09  1.341664e-13  2.927303e-13 -4.693105e-26   \n",
       "2     0.000740  9.906478e-10  1.631860e-14  2.249429e-13  1.352651e-26   \n",
       "3     0.000792  1.942616e-09  1.251477e-13  8.969757e-14 -7.816695e-27   \n",
       "4     0.000777  9.830001e-10  3.430836e-13  3.653126e-13 -7.862973e-27   \n",
       "...        ...           ...           ...           ...           ...   \n",
       "8995  0.000966  1.999966e-08  6.309168e-13  1.047117e-11 -9.475208e-24   \n",
       "8996  0.000946  1.475190e-08  6.610021e-13  7.285443e-12  6.457513e-25   \n",
       "8997  0.000956  1.145065e-08  1.566326e-12  6.950745e-12  2.237815e-23   \n",
       "8998  0.000961  2.136639e-08  9.495136e-13  9.816790e-12 -1.877307e-23   \n",
       "8999  0.000964  9.939017e-09  1.726681e-12  9.091085e-12  3.600807e-23   \n",
       "\n",
       "                M6            M7 label  \n",
       "0     1.615691e-17  6.365473e-27     a  \n",
       "1     1.139503e-17 -3.410212e-26    ba  \n",
       "2     6.312464e-18  1.664667e-27    be  \n",
       "3     3.319659e-18 -5.405118e-27    bi  \n",
       "4     9.189068e-18  1.290901e-25    bo  \n",
       "...            ...           ...   ...  \n",
       "8995 -1.351760e-15 -2.519099e-23    yu  \n",
       "8996 -7.644746e-16 -1.597463e-23    yu  \n",
       "8997 -7.056287e-16 -5.020679e-24    yu  \n",
       "8998 -1.313314e-15 -2.336338e-23    yu  \n",
       "8999 -7.639137e-16 -8.805233e-25    yu  \n",
       "\n",
       "[9000 rows x 8 columns]"
      ]
     },
     "execution_count": 289,
     "metadata": {},
     "output_type": "execute_result"
    }
   ],
   "source": [
    "data_im"
   ]
  },
  {
   "cell_type": "code",
   "execution_count": null,
   "id": "a3a55900-6d7e-4920-94e5-064213dfad59",
   "metadata": {},
   "outputs": [],
   "source": []
  }
 ],
 "metadata": {
  "kernelspec": {
   "display_name": "Python 3",
   "language": "python",
   "name": "python3"
  },
  "language_info": {
   "codemirror_mode": {
    "name": "ipython",
    "version": 3
   },
   "file_extension": ".py",
   "mimetype": "text/x-python",
   "name": "python",
   "nbconvert_exporter": "python",
   "pygments_lexer": "ipython3",
   "version": "3.8.8"
  }
 },
 "nbformat": 4,
 "nbformat_minor": 5
}
