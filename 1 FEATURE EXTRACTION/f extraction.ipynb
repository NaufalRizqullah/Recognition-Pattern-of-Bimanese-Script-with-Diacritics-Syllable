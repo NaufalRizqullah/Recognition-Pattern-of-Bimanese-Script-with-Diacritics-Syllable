{
 "cells": [
  {
   "cell_type": "code",
   "execution_count": 1,
   "metadata": {},
   "outputs": [],
   "source": [
    "import cv2\n",
    "from PIL import Image\n",
    "import numpy as np \n",
    "from matplotlib import pyplot as plt\n",
    "import os\n",
    "import pandas as pd\n",
    "from datetime import datetime\n",
    "from sklearn.preprocessing import OneHotEncoder\n",
    "from tensorflow.keras.preprocessing.image import ImageDataGenerator\n",
    "\n",
    "# https://scikit-image.org/docs/dev/auto_examples/edges/plot_skeleton.html\n",
    "from skimage.morphology import skeletonize"
   ]
  },
  {
   "cell_type": "markdown",
   "metadata": {},
   "source": [
    "### Buat fungsi untuk rename file berdasarkan nama file"
   ]
  },
  {
   "cell_type": "code",
   "execution_count": 2,
   "metadata": {},
   "outputs": [],
   "source": [
    "# rename, berdasarkan nama, untuk dibuat class nya\n",
    "def split_rename(imgString, separator = '_', indexSplit = 2):\n",
    "    sp = imgString.split(separator)\n",
    "    return sp[indexSplit]"
   ]
  },
  {
   "cell_type": "markdown",
   "metadata": {},
   "source": [
    "### fungsi ROI untuk crop image"
   ]
  },
  {
   "cell_type": "code",
   "execution_count": 3,
   "metadata": {},
   "outputs": [],
   "source": [
    "def slice_roi(img):\n",
    "    # convert 0 to 1 , 1 to 0 to find border\n",
    "    img2 = np.where(img==0, 255, 0)\n",
    "    \n",
    "    #axis=0 refer to column, axis=1 refer to row\n",
    "    \n",
    "    #find column with value >0 to find left/right border\n",
    "    img2_col = np.sum(img2, axis = 0)\n",
    "    col_with_value = np.where(img2_col > 0)[0]\n",
    "    \n",
    "    #find row with value >0 to find top/bottom border\n",
    "    img2_row = np.sum(img2, axis = 1)\n",
    "    row_with_value = np.where(img2_row > 0)[0]\n",
    "    \n",
    "    #get left/right border\n",
    "    start_col = min(col_with_value)\n",
    "    end_col = max(col_with_value)\n",
    "    \n",
    "    #get top/bottom border\n",
    "    start_row = min(row_with_value)\n",
    "    end_row = max(row_with_value)\n",
    "    \n",
    "    #get ROI width & height\n",
    "    roi_width = end_col - start_col\n",
    "    roi_height = end_row - start_row\n",
    "    \n",
    "    #get ROI area\n",
    "    img = img[start_row:end_row, start_col:end_col]\n",
    "    \n",
    "    if roi_width > roi_height:\n",
    "        diff = roi_width - roi_height\n",
    "        extra_pad = int(diff/2)\n",
    "        img = np.pad(img, ((extra_pad, extra_pad), (0,0)), 'maximum')\n",
    "    else:\n",
    "        diff = roi_height - roi_width\n",
    "        extra_pad = int(diff/2)\n",
    "        img = np.pad(img, ((0,0), (extra_pad, extra_pad)), 'maximum')\n",
    "        \n",
    "    return img"
   ]
  },
  {
   "cell_type": "markdown",
   "metadata": {},
   "source": [
    "### Fungsi rotasi image"
   ]
  },
  {
   "cell_type": "code",
   "execution_count": 4,
   "metadata": {},
   "outputs": [],
   "source": [
    "def rotate_image(mat, angle):\n",
    "    \"\"\"\n",
    "    Rotates an image (angle in degrees) and expands image to avoid cropping\n",
    "    \"\"\"\n",
    "\n",
    "    # height, width = mat.shape[:2] # image shape has 3 dimensions\n",
    "    height, width = mat.shape # image shape has 2 dimensions\n",
    "    image_center = (width/2, height/2) # getRotationMatrix2D needs coordinates in reverse order (width, height) compared to shape\n",
    "\n",
    "    rotation_mat = cv2.getRotationMatrix2D(image_center, angle, 1.)\n",
    "\n",
    "    # rotation calculates the cos and sin, taking absolutes of those.\n",
    "    abs_cos = abs(rotation_mat[0,0]) \n",
    "    abs_sin = abs(rotation_mat[0,1])\n",
    "\n",
    "    # find the new width and height bounds\n",
    "    bound_w = int(height * abs_sin + width * abs_cos)\n",
    "    bound_h = int(height * abs_cos + width * abs_sin)\n",
    "\n",
    "    # subtract old image center (bringing image back to origo) and adding the new image center coordinates\n",
    "    rotation_mat[0, 2] += bound_w/2 - image_center[0]\n",
    "    rotation_mat[1, 2] += bound_h/2 - image_center[1]\n",
    "\n",
    "    # rotate image with the new bounds and translated rotation matrix\n",
    "    rotated_mat = cv2.warpAffine(mat, rotation_mat, (bound_w, bound_h))\n",
    "    return rotated_mat"
   ]
  },
  {
   "cell_type": "markdown",
   "metadata": {},
   "source": [
    "### Fungsi thinning image (entah kenapa tidak work)"
   ]
  },
  {
   "cell_type": "code",
   "execution_count": 5,
   "metadata": {},
   "outputs": [],
   "source": [
    "# https://medium.com/analytics-vidhya/skeletonization-in-python-using-opencv-b7fa16867331\n",
    "def thinning(img):\n",
    "    \n",
    "    # Threshold the image\n",
    "    ret, img = cv2.threshold(img, 127, 255, 0)\n",
    "    \n",
    "    # Step 1: Create an empty skeleton\n",
    "    size = np.size(img)\n",
    "    skel = np.zeros(img.shape, np.uint8)\n",
    "    \n",
    "    # Get a Cross Shaped Kernel\n",
    "    element = cv2.getStructuringElement(cv2.MORPH_CROSS, (3,3))\n",
    "    \n",
    "    # Repeat steps 2-4\n",
    "    while True:\n",
    "        #Step 2: Open the image\n",
    "        open = cv2.morphologyEx(img, cv2.MORPH_OPEN, element)\n",
    "        \n",
    "        #Step 3: Substract open from the original image\n",
    "        temp = cv2.subtract(img, open)\n",
    "        \n",
    "        #Step 4: Erode the original image and refine the skeleton\n",
    "        eroded = cv2.erode(img, element)\n",
    "        skel = cv2.bitwise_or(skel,temp)\n",
    "        img = eroded.copy()\n",
    "        \n",
    "        # Step 5: If there are no white pixels left ie.. the image has been completely eroded, quit the loop\n",
    "        if cv2.countNonZero(img)==0:\n",
    "            break\n",
    "        \n",
    "        return skel\n",
    "    "
   ]
  },
  {
   "cell_type": "markdown",
   "metadata": {},
   "source": [
    "### Own Augmentation "
   ]
  },
  {
   "cell_type": "code",
   "execution_count": 1,
   "metadata": {},
   "outputs": [],
   "source": [
    "def own_augment(img_array, label, rotation, bordervalue=(255,255,255), scale=None):\n",
    "    img_augs = []\n",
    "    labels = []\n",
    "    \n",
    "    for index, img in enumerate(img_array):\n",
    "        img_augs.append(img) # add original image\n",
    "        labels.append(label[index]) # add label\n",
    "        for rot in rotation:\n",
    "            h, w = img.shape\n",
    "            cX, cY = (w // 2, h // 2)\n",
    "            \n",
    "            M = cv2.getRotationMatrix2D((cX, cY), rot, 1.0)\n",
    "            rotated = cv2.warpAffine(img, M, (w, h), borderValue=bordervalue)\n",
    "            img_augs.append(rotated) # add augmentation image\n",
    "            labels.append(label[index]) # add label\n",
    "        if scale:\n",
    "            for zoom in scale:\n",
    "                # procces zooming image\n",
    "                h, w = img.shape\n",
    "                scaleX, scaleY = zoom, zoom\n",
    "                \n",
    "                img_zoom = cv2.resize(img, (h, w), fx=scaleX, fy=scaleY)\n",
    "                img_augs.append(img_zoom)\n",
    "                labels.append(label[index])\n",
    "    return np.array(img_augs), np.array(labels)"
   ]
  },
  {
   "cell_type": "code",
   "execution_count": 7,
   "metadata": {},
   "outputs": [],
   "source": [
    "def own_augment_v2(datagen, img_array, label, limit_augs=3, binary=False):\n",
    "    dataset = []\n",
    "    labels = []\n",
    "    for index, img in enumerate(img_array):        \n",
    "        x = img.reshape( (1, ) + img.shape + (1,))\n",
    "        \n",
    "        dataset.append(x)\n",
    "        labels.append(label[index])\n",
    "        \n",
    "        i = 0\n",
    "        for batch in datagen.flow(x,batch_size=3):\n",
    "            if binary:\n",
    "                mean_batch = np.mean(batch)\n",
    "                batch = np.where(batch > mean_batch, 1, 0)\n",
    "            dataset.append(batch)\n",
    "            labels.append(label[index])\n",
    "            i += 1\n",
    "            if i >= limit_augs:\n",
    "                break\n",
    "    data = np.array(dataset)\n",
    "    return np.squeeze(data), np.array(labels)"
   ]
  },
  {
   "cell_type": "markdown",
   "metadata": {},
   "source": [
    "### Load Image"
   ]
  },
  {
   "cell_type": "code",
   "execution_count": 8,
   "metadata": {},
   "outputs": [],
   "source": [
    "def loadImage(folder, imgType = ['.jpeg', '.jpg'], IMGSIZE = 64, rotasi=0, scale=1.0, binarization=False):\n",
    "    images = []\n",
    "    label = []\n",
    "    # traverse root directory, and list directories as dirs and files as files\n",
    "    for root, dirs, files in os.walk(folder):\n",
    "        for filename in os.listdir(root):\n",
    "            if any([filename.endswith(x) for x in imgType]):\n",
    "                \n",
    "                # baca image dan ubah ke grayscale\n",
    "                img_gray = cv2.imread(os.path.join(root, filename), cv2.IMREAD_GRAYSCALE)\n",
    "                \n",
    "#                 # norm image\n",
    "#                 norm_image = cv2.normalize(img_gray, None, alpha=0, beta=1, norm_type=cv2.NORM_MINMAX, dtype=cv2.CV_32F)\n",
    "                                \n",
    "                # gunakan ROI untuk crop\n",
    "                img_roi = slice_roi(img_gray)\n",
    "                \n",
    "                # rotate\n",
    "                img_rotated = rotate_image(img_roi, rotasi)\n",
    "                \n",
    "                # Skeletonize\n",
    "#                 img_rotated = skeletonize(img_rotated)\n",
    "                \n",
    "                # Normalisasi (binarization image)\n",
    "                if binarization:\n",
    "                    ret, img_rotated = cv2.threshold(img_rotated, 128, 1, cv2.THRESH_BINARY) # batasnya 128, yg dimana diatas 128 dikasi nilai 1 \n",
    "                \n",
    "                # Resize ukuran citra\n",
    "                img = cv2.resize(img_rotated, (IMGSIZE, IMGSIZE))\n",
    "                \n",
    "                \n",
    "                # jika real image\n",
    "                if img is not None:\n",
    "                    # adding image\n",
    "                    images.append(img)\n",
    "                    # adding label\n",
    "                    label.append(split_rename(filename))\n",
    "    \n",
    "    return np.array(images, dtype=np.uint8), np.array(label) # blum coba untuk typenya antara np.uint8 / np.int32 yg bisa dipakai untuk moment invariant (atau mungkin keduanya)"
   ]
  },
  {
   "cell_type": "markdown",
   "metadata": {},
   "source": [
    "# Preprocessing"
   ]
  },
  {
   "cell_type": "code",
   "execution_count": 9,
   "metadata": {},
   "outputs": [],
   "source": [
    "IMAGE_PATH = './Dataset'\n",
    "# IMAGE_PATH = 'C:\\\\Users\\Mereska\\\\AnacondaProjects\\\\TA\\\\Dataset'\n",
    "img_extension = ['.jpeg', '.jpg']"
   ]
  },
  {
   "cell_type": "code",
   "execution_count": 10,
   "metadata": {},
   "outputs": [],
   "source": [
    "img_extract, label_extract = loadImage(IMAGE_PATH, rotasi=0, binarization=False)"
   ]
  },
  {
   "cell_type": "code",
   "execution_count": 16,
   "metadata": {},
   "outputs": [],
   "source": [
    "# own augment\n",
    "\n",
    "# img, label = own_augment(img_extract, label_extract, rotation=[-45, 45], bordervalue=(1, 1, 1), scale=[0.9, 0.8]) #binarization image True\n",
    "\n",
    "img, label = own_augment(img_extract, label_extract, rotation=[-45, -30, 30, 45], bordervalue=(255, 255, 255), scale=[0.9, 0.8]) #binarization image False"
   ]
  },
  {
   "cell_type": "code",
   "execution_count": 17,
   "metadata": {},
   "outputs": [],
   "source": [
    "# own augment v2\n",
    "\n",
    "cVAL = 255 # 1 if binary, non binary 255\n",
    "datagen = ImageDataGenerator(\n",
    "    rotation_range= 45,\n",
    "    zoom_range=[0.9, 0.8],\n",
    "    fill_mode='constant',\n",
    "    cval=cVAL\n",
    ")\n",
    "\n",
    "#img, label = own_augment_v2(datagen, img_extract, label_extract, limit_augs=3, binary=True) #binarization image True\n",
    "\n",
    "\n",
    "# img, label = own_augment_v2(datagen, img_extract, label_extract, limit_augs=3, binary=False) #binarization image False"
   ]
  },
  {
   "cell_type": "code",
   "execution_count": 18,
   "metadata": {},
   "outputs": [
    {
     "name": "stdout",
     "output_type": "stream",
     "text": [
      "(8100, 64, 64)\n",
      "(8100,)\n"
     ]
    }
   ],
   "source": [
    "print(img.shape)\n",
    "print(label.shape)"
   ]
  },
  {
   "cell_type": "code",
   "execution_count": 19,
   "metadata": {},
   "outputs": [],
   "source": [
    "# img[0]\n",
    "# plt.imshow(img[0], cmap='gray')"
   ]
  },
  {
   "cell_type": "code",
   "execution_count": 20,
   "metadata": {},
   "outputs": [],
   "source": [
    "# import matplotlib.image as mpimg\n",
    "# mpimg.imsave('a.jpg',img[0], cmap='gray')"
   ]
  },
  {
   "cell_type": "markdown",
   "metadata": {},
   "source": [
    "## Tampilkan data"
   ]
  },
  {
   "cell_type": "code",
   "execution_count": 21,
   "metadata": {},
   "outputs": [],
   "source": [
    "# fungsi untuk menampilkan semua gambar\n",
    "\n",
    "def showImage(images, rows, cols, limit = 0):\n",
    "    for i in range(0, len(images) if limit == 0 else limit, cols):\n",
    "        fig = plt.figure(figsize=(16,9))\n",
    "        for j in range(0, cols if limit == 0 else limit):\n",
    "            fig.add_subplot(rows, cols, j+1)\n",
    "            plt.imshow(images[i+j], cmap='gray')\n",
    "        plt.show()"
   ]
  },
  {
   "cell_type": "code",
   "execution_count": 22,
   "metadata": {},
   "outputs": [
    {
     "data": {
      "image/png": "[encoded data removed]",
      "text/plain": [
       "<Figure size 1152x648 with 7 Axes>"
      ]
     },
     "metadata": {
      "needs_background": "light"
     },
     "output_type": "display_data"
    }
   ],
   "source": [
    "showImage(img, 10, 10, limit = 7)"
   ]
  },
  {
   "cell_type": "markdown",
   "metadata": {},
   "source": [
    "# Ekstraksi feature hog"
   ]
  },
  {
   "cell_type": "code",
   "execution_count": 61,
   "metadata": {},
   "outputs": [],
   "source": [
    "from features_extr import hog_feature_extraction, all_glcm_properties, glcm_df"
   ]
  },
  {
   "cell_type": "code",
   "execution_count": 62,
   "metadata": {},
   "outputs": [],
   "source": [
    "feature_hog = np.array(hog_feature_extraction(img))"
   ]
  },
  {
   "cell_type": "code",
   "execution_count": 63,
   "metadata": {},
   "outputs": [
    {
     "data": {
      "text/plain": [
       "(3780, 2916)"
      ]
     },
     "execution_count": 63,
     "metadata": {},
     "output_type": "execute_result"
    }
   ],
   "source": [
    "feature_hog.shape"
   ]
  },
  {
   "cell_type": "code",
   "execution_count": 64,
   "metadata": {},
   "outputs": [
    {
     "data": {
      "text/plain": [
       "(2916,)"
      ]
     },
     "execution_count": 64,
     "metadata": {},
     "output_type": "execute_result"
    }
   ],
   "source": [
    "feature_hog[0].shape"
   ]
  },
  {
   "cell_type": "markdown",
   "metadata": {},
   "source": [
    "# Ekstraksi feature glcm"
   ]
  },
  {
   "cell_type": "code",
   "execution_count": 65,
   "metadata": {},
   "outputs": [],
   "source": [
    "feature_glcm, column = all_glcm_properties(img, label)"
   ]
  },
  {
   "cell_type": "code",
   "execution_count": 66,
   "metadata": {},
   "outputs": [
    {
     "data": {
      "text/plain": [
       "(3780, 25)"
      ]
     },
     "execution_count": 66,
     "metadata": {},
     "output_type": "execute_result"
    }
   ],
   "source": [
    "np.array(feature_glcm).shape"
   ]
  },
  {
   "cell_type": "code",
   "execution_count": 67,
   "metadata": {},
   "outputs": [],
   "source": [
    "df_glcm = glcm_df(feature_glcm, column)"
   ]
  },
  {
   "cell_type": "code",
   "execution_count": 68,
   "metadata": {},
   "outputs": [
    {
     "data": {
      "text/html": [
       "<div>\n",
       "<style scoped>\n",
       "    .dataframe tbody tr th:only-of-type {\n",
       "        vertical-align: middle;\n",
       "    }\n",
       "\n",
       "    .dataframe tbody tr th {\n",
       "        vertical-align: top;\n",
       "    }\n",
       "\n",
       "    .dataframe thead th {\n",
       "        text-align: right;\n",
       "    }\n",
       "</style>\n",
       "<table border=\"1\" class=\"dataframe\">\n",
       "  <thead>\n",
       "    <tr style=\"text-align: right;\">\n",
       "      <th></th>\n",
       "      <th>dissimilarity_0</th>\n",
       "      <th>dissimilarity_45</th>\n",
       "      <th>dissimilarity_90</th>\n",
       "      <th>dissimilarity_135</th>\n",
       "      <th>correlation_0</th>\n",
       "      <th>correlation_45</th>\n",
       "      <th>correlation_90</th>\n",
       "      <th>correlation_135</th>\n",
       "      <th>homogeneity_0</th>\n",
       "      <th>homogeneity_45</th>\n",
       "      <th>...</th>\n",
       "      <th>contrast_135</th>\n",
       "      <th>ASM_0</th>\n",
       "      <th>ASM_45</th>\n",
       "      <th>ASM_90</th>\n",
       "      <th>ASM_135</th>\n",
       "      <th>energy_0</th>\n",
       "      <th>energy_45</th>\n",
       "      <th>energy_90</th>\n",
       "      <th>energy_135</th>\n",
       "      <th>label</th>\n",
       "    </tr>\n",
       "  </thead>\n",
       "  <tbody>\n",
       "    <tr>\n",
       "      <th>0</th>\n",
       "      <td>0.164195</td>\n",
       "      <td>0.245000</td>\n",
       "      <td>0.197564</td>\n",
       "      <td>0.139444</td>\n",
       "      <td>0.311969</td>\n",
       "      <td>0.036274</td>\n",
       "      <td>0.252784</td>\n",
       "      <td>0.451485</td>\n",
       "      <td>0.917903</td>\n",
       "      <td>0.877500</td>\n",
       "      <td>...</td>\n",
       "      <td>0.139444</td>\n",
       "      <td>0.624120</td>\n",
       "      <td>0.560803</td>\n",
       "      <td>0.577068</td>\n",
       "      <td>0.625779</td>\n",
       "      <td>0.790013</td>\n",
       "      <td>0.748868</td>\n",
       "      <td>0.759650</td>\n",
       "      <td>0.791062</td>\n",
       "      <td>a</td>\n",
       "    </tr>\n",
       "    <tr>\n",
       "      <th>1</th>\n",
       "      <td>0.128178</td>\n",
       "      <td>0.213889</td>\n",
       "      <td>0.243644</td>\n",
       "      <td>0.210556</td>\n",
       "      <td>0.488832</td>\n",
       "      <td>0.190564</td>\n",
       "      <td>0.068218</td>\n",
       "      <td>0.203179</td>\n",
       "      <td>0.935911</td>\n",
       "      <td>0.893056</td>\n",
       "      <td>...</td>\n",
       "      <td>0.210556</td>\n",
       "      <td>0.637497</td>\n",
       "      <td>0.567615</td>\n",
       "      <td>0.554236</td>\n",
       "      <td>0.569534</td>\n",
       "      <td>0.798434</td>\n",
       "      <td>0.753402</td>\n",
       "      <td>0.744471</td>\n",
       "      <td>0.754675</td>\n",
       "      <td>a</td>\n",
       "    </tr>\n",
       "    <tr>\n",
       "      <th>2</th>\n",
       "      <td>0.242585</td>\n",
       "      <td>0.211667</td>\n",
       "      <td>0.130297</td>\n",
       "      <td>0.214444</td>\n",
       "      <td>0.069665</td>\n",
       "      <td>0.200128</td>\n",
       "      <td>0.481927</td>\n",
       "      <td>0.189631</td>\n",
       "      <td>0.878708</td>\n",
       "      <td>0.894167</td>\n",
       "      <td>...</td>\n",
       "      <td>0.214444</td>\n",
       "      <td>0.555513</td>\n",
       "      <td>0.568510</td>\n",
       "      <td>0.635178</td>\n",
       "      <td>0.566916</td>\n",
       "      <td>0.745327</td>\n",
       "      <td>0.753996</td>\n",
       "      <td>0.796981</td>\n",
       "      <td>0.752938</td>\n",
       "      <td>a</td>\n",
       "    </tr>\n",
       "    <tr>\n",
       "      <th>3</th>\n",
       "      <td>0.108581</td>\n",
       "      <td>0.193056</td>\n",
       "      <td>0.184322</td>\n",
       "      <td>0.131389</td>\n",
       "      <td>0.471597</td>\n",
       "      <td>0.111530</td>\n",
       "      <td>0.152764</td>\n",
       "      <td>0.395329</td>\n",
       "      <td>0.945710</td>\n",
       "      <td>0.903472</td>\n",
       "      <td>...</td>\n",
       "      <td>0.131389</td>\n",
       "      <td>0.697721</td>\n",
       "      <td>0.626925</td>\n",
       "      <td>0.632096</td>\n",
       "      <td>0.668584</td>\n",
       "      <td>0.835297</td>\n",
       "      <td>0.791786</td>\n",
       "      <td>0.795044</td>\n",
       "      <td>0.817670</td>\n",
       "      <td>ba</td>\n",
       "    </tr>\n",
       "    <tr>\n",
       "      <th>4</th>\n",
       "      <td>0.109110</td>\n",
       "      <td>0.124444</td>\n",
       "      <td>0.165254</td>\n",
       "      <td>0.190556</td>\n",
       "      <td>0.445831</td>\n",
       "      <td>0.399942</td>\n",
       "      <td>0.194202</td>\n",
       "      <td>0.081162</td>\n",
       "      <td>0.945445</td>\n",
       "      <td>0.937778</td>\n",
       "      <td>...</td>\n",
       "      <td>0.190556</td>\n",
       "      <td>0.705905</td>\n",
       "      <td>0.683654</td>\n",
       "      <td>0.656973</td>\n",
       "      <td>0.638368</td>\n",
       "      <td>0.840182</td>\n",
       "      <td>0.826834</td>\n",
       "      <td>0.810539</td>\n",
       "      <td>0.798980</td>\n",
       "      <td>ba</td>\n",
       "    </tr>\n",
       "    <tr>\n",
       "      <th>...</th>\n",
       "      <td>...</td>\n",
       "      <td>...</td>\n",
       "      <td>...</td>\n",
       "      <td>...</td>\n",
       "      <td>...</td>\n",
       "      <td>...</td>\n",
       "      <td>...</td>\n",
       "      <td>...</td>\n",
       "      <td>...</td>\n",
       "      <td>...</td>\n",
       "      <td>...</td>\n",
       "      <td>...</td>\n",
       "      <td>...</td>\n",
       "      <td>...</td>\n",
       "      <td>...</td>\n",
       "      <td>...</td>\n",
       "      <td>...</td>\n",
       "      <td>...</td>\n",
       "      <td>...</td>\n",
       "      <td>...</td>\n",
       "      <td>...</td>\n",
       "    </tr>\n",
       "    <tr>\n",
       "      <th>3775</th>\n",
       "      <td>0.181939</td>\n",
       "      <td>0.196389</td>\n",
       "      <td>0.145127</td>\n",
       "      <td>0.234167</td>\n",
       "      <td>0.401240</td>\n",
       "      <td>0.363737</td>\n",
       "      <td>0.515201</td>\n",
       "      <td>0.241345</td>\n",
       "      <td>0.909031</td>\n",
       "      <td>0.901806</td>\n",
       "      <td>...</td>\n",
       "      <td>0.234167</td>\n",
       "      <td>0.547304</td>\n",
       "      <td>0.533520</td>\n",
       "      <td>0.576580</td>\n",
       "      <td>0.512007</td>\n",
       "      <td>0.739800</td>\n",
       "      <td>0.730424</td>\n",
       "      <td>0.759329</td>\n",
       "      <td>0.715547</td>\n",
       "      <td>yo</td>\n",
       "    </tr>\n",
       "    <tr>\n",
       "      <th>3776</th>\n",
       "      <td>0.143008</td>\n",
       "      <td>0.231667</td>\n",
       "      <td>0.181144</td>\n",
       "      <td>0.194444</td>\n",
       "      <td>0.520123</td>\n",
       "      <td>0.244808</td>\n",
       "      <td>0.400245</td>\n",
       "      <td>0.366146</td>\n",
       "      <td>0.928496</td>\n",
       "      <td>0.884167</td>\n",
       "      <td>...</td>\n",
       "      <td>0.194444</td>\n",
       "      <td>0.579432</td>\n",
       "      <td>0.515237</td>\n",
       "      <td>0.549639</td>\n",
       "      <td>0.536599</td>\n",
       "      <td>0.761205</td>\n",
       "      <td>0.717800</td>\n",
       "      <td>0.741376</td>\n",
       "      <td>0.732529</td>\n",
       "      <td>yo</td>\n",
       "    </tr>\n",
       "    <tr>\n",
       "      <th>3777</th>\n",
       "      <td>0.207097</td>\n",
       "      <td>0.205833</td>\n",
       "      <td>0.193061</td>\n",
       "      <td>0.187500</td>\n",
       "      <td>0.450063</td>\n",
       "      <td>0.452528</td>\n",
       "      <td>0.462686</td>\n",
       "      <td>0.501290</td>\n",
       "      <td>0.896451</td>\n",
       "      <td>0.897083</td>\n",
       "      <td>...</td>\n",
       "      <td>0.187500</td>\n",
       "      <td>0.459208</td>\n",
       "      <td>0.460564</td>\n",
       "      <td>0.484903</td>\n",
       "      <td>0.471686</td>\n",
       "      <td>0.677649</td>\n",
       "      <td>0.678648</td>\n",
       "      <td>0.696350</td>\n",
       "      <td>0.686794</td>\n",
       "      <td>yu</td>\n",
       "    </tr>\n",
       "    <tr>\n",
       "      <th>3778</th>\n",
       "      <td>0.145127</td>\n",
       "      <td>0.188611</td>\n",
       "      <td>0.150953</td>\n",
       "      <td>0.204167</td>\n",
       "      <td>0.565430</td>\n",
       "      <td>0.450185</td>\n",
       "      <td>0.557194</td>\n",
       "      <td>0.404839</td>\n",
       "      <td>0.927436</td>\n",
       "      <td>0.905694</td>\n",
       "      <td>...</td>\n",
       "      <td>0.204167</td>\n",
       "      <td>0.541979</td>\n",
       "      <td>0.503919</td>\n",
       "      <td>0.530932</td>\n",
       "      <td>0.494473</td>\n",
       "      <td>0.736192</td>\n",
       "      <td>0.709872</td>\n",
       "      <td>0.728651</td>\n",
       "      <td>0.703188</td>\n",
       "      <td>yu</td>\n",
       "    </tr>\n",
       "    <tr>\n",
       "      <th>3779</th>\n",
       "      <td>0.150953</td>\n",
       "      <td>0.203611</td>\n",
       "      <td>0.144597</td>\n",
       "      <td>0.189167</td>\n",
       "      <td>0.557194</td>\n",
       "      <td>0.406996</td>\n",
       "      <td>0.567411</td>\n",
       "      <td>0.449065</td>\n",
       "      <td>0.924523</td>\n",
       "      <td>0.898194</td>\n",
       "      <td>...</td>\n",
       "      <td>0.189167</td>\n",
       "      <td>0.530932</td>\n",
       "      <td>0.494491</td>\n",
       "      <td>0.542050</td>\n",
       "      <td>0.503262</td>\n",
       "      <td>0.728651</td>\n",
       "      <td>0.703200</td>\n",
       "      <td>0.736241</td>\n",
       "      <td>0.709410</td>\n",
       "      <td>yu</td>\n",
       "    </tr>\n",
       "  </tbody>\n",
       "</table>\n",
       "<p>3780 rows × 25 columns</p>\n",
       "</div>"
      ],
      "text/plain": [
       "      dissimilarity_0  dissimilarity_45  dissimilarity_90  dissimilarity_135  \\\n",
       "0            0.164195          0.245000          0.197564           0.139444   \n",
       "1            0.128178          0.213889          0.243644           0.210556   \n",
       "2            0.242585          0.211667          0.130297           0.214444   \n",
       "3            0.108581          0.193056          0.184322           0.131389   \n",
       "4            0.109110          0.124444          0.165254           0.190556   \n",
       "...               ...               ...               ...                ...   \n",
       "3775         0.181939          0.196389          0.145127           0.234167   \n",
       "3776         0.143008          0.231667          0.181144           0.194444   \n",
       "3777         0.207097          0.205833          0.193061           0.187500   \n",
       "3778         0.145127          0.188611          0.150953           0.204167   \n",
       "3779         0.150953          0.203611          0.144597           0.189167   \n",
       "\n",
       "      correlation_0  correlation_45  correlation_90  correlation_135  \\\n",
       "0          0.311969        0.036274        0.252784         0.451485   \n",
       "1          0.488832        0.190564        0.068218         0.203179   \n",
       "2          0.069665        0.200128        0.481927         0.189631   \n",
       "3          0.471597        0.111530        0.152764         0.395329   \n",
       "4          0.445831        0.399942        0.194202         0.081162   \n",
       "...             ...             ...             ...              ...   \n",
       "3775       0.401240        0.363737        0.515201         0.241345   \n",
       "3776       0.520123        0.244808        0.400245         0.366146   \n",
       "3777       0.450063        0.452528        0.462686         0.501290   \n",
       "3778       0.565430        0.450185        0.557194         0.404839   \n",
       "3779       0.557194        0.406996        0.567411         0.449065   \n",
       "\n",
       "      homogeneity_0  homogeneity_45  ...  contrast_135     ASM_0    ASM_45  \\\n",
       "0          0.917903        0.877500  ...      0.139444  0.624120  0.560803   \n",
       "1          0.935911        0.893056  ...      0.210556  0.637497  0.567615   \n",
       "2          0.878708        0.894167  ...      0.214444  0.555513  0.568510   \n",
       "3          0.945710        0.903472  ...      0.131389  0.697721  0.626925   \n",
       "4          0.945445        0.937778  ...      0.190556  0.705905  0.683654   \n",
       "...             ...             ...  ...           ...       ...       ...   \n",
       "3775       0.909031        0.901806  ...      0.234167  0.547304  0.533520   \n",
       "3776       0.928496        0.884167  ...      0.194444  0.579432  0.515237   \n",
       "3777       0.896451        0.897083  ...      0.187500  0.459208  0.460564   \n",
       "3778       0.927436        0.905694  ...      0.204167  0.541979  0.503919   \n",
       "3779       0.924523        0.898194  ...      0.189167  0.530932  0.494491   \n",
       "\n",
       "        ASM_90   ASM_135  energy_0  energy_45  energy_90  energy_135  label  \n",
       "0     0.577068  0.625779  0.790013   0.748868   0.759650    0.791062      a  \n",
       "1     0.554236  0.569534  0.798434   0.753402   0.744471    0.754675      a  \n",
       "2     0.635178  0.566916  0.745327   0.753996   0.796981    0.752938      a  \n",
       "3     0.632096  0.668584  0.835297   0.791786   0.795044    0.817670     ba  \n",
       "4     0.656973  0.638368  0.840182   0.826834   0.810539    0.798980     ba  \n",
       "...        ...       ...       ...        ...        ...         ...    ...  \n",
       "3775  0.576580  0.512007  0.739800   0.730424   0.759329    0.715547     yo  \n",
       "3776  0.549639  0.536599  0.761205   0.717800   0.741376    0.732529     yo  \n",
       "3777  0.484903  0.471686  0.677649   0.678648   0.696350    0.686794     yu  \n",
       "3778  0.530932  0.494473  0.736192   0.709872   0.728651    0.703188     yu  \n",
       "3779  0.542050  0.503262  0.728651   0.703200   0.736241    0.709410     yu  \n",
       "\n",
       "[3780 rows x 25 columns]"
      ]
     },
     "execution_count": 68,
     "metadata": {},
     "output_type": "execute_result"
    }
   ],
   "source": [
    "df_glcm"
   ]
  },
  {
   "cell_type": "markdown",
   "metadata": {},
   "source": [
    "# Ekstraksi feature (moment invariant)"
   ]
  },
  {
   "cell_type": "code",
   "execution_count": 23,
   "metadata": {},
   "outputs": [],
   "source": [
    "#moment inv\n",
    "def momentInvariantFeature(img):\n",
    "    moments = cv2.moments(img)\n",
    "    huMoment = cv2.HuMoments(moments)\n",
    "    \n",
    "    return huMoment.flatten().tolist()"
   ]
  },
  {
   "cell_type": "code",
   "execution_count": 24,
   "metadata": {},
   "outputs": [],
   "source": [
    "# looping for entire image\n",
    "def feature_extraction(img_array):\n",
    "    feature = []\n",
    "    for i in range(len(img_array)):\n",
    "        feature.append(momentInvariantFeature(img_array[i]))\n",
    "    return feature"
   ]
  },
  {
   "cell_type": "code",
   "execution_count": 25,
   "metadata": {},
   "outputs": [],
   "source": [
    "feature_im = np.array(feature_extraction(img.astype(np.float32)))"
   ]
  },
  {
   "cell_type": "markdown",
   "metadata": {},
   "source": [
    "# save to csv (feature with label)"
   ]
  },
  {
   "cell_type": "code",
   "execution_count": 26,
   "metadata": {},
   "outputs": [],
   "source": [
    "# Create function to concate another feature\n",
    "def concatenate_feature(df1, df2, axis=0, rename_index=True):\n",
    "    # 0 vertical (menurun)\n",
    "    # 1 horizonal (kesamping)\n",
    "    return pd.concat([df1, df2], axis=axis, ignore_index=rename_index)"
   ]
  },
  {
   "cell_type": "code",
   "execution_count": 27,
   "metadata": {},
   "outputs": [],
   "source": [
    "def oneHotEncoder(label):\n",
    "    # label with one hot encoding\n",
    "    label = np.array(label).reshape(-1,1) # ubah ke bentuk (-1,1) sesuai yang diinginkan oleh onehotencoder\n",
    "    onehot_encoder = OneHotEncoder()\n",
    "    y = onehot_encoder.fit_transform(label).toarray()\n",
    "    # onehot_encoder.categories_\n",
    "    df_label = pd.DataFrame(data=y, columns=[str(onehot_encoder.categories_[0][i]) for i in range(np.array(y).shape[1])])\n",
    "    \n",
    "    return df_label"
   ]
  },
  {
   "cell_type": "code",
   "execution_count": 28,
   "metadata": {},
   "outputs": [],
   "source": [
    "# add label in end of feature\n",
    "def mInvariant_mixin_feature_and_label(feature, label, encoder=False):\n",
    "    # feaature\n",
    "    dt = pd.DataFrame(data=feature, columns=[\"M\"+str(i+1) for i in range(np.array(feature).shape[1])], dtype=np.float64)\n",
    "    if(encoder == False):\n",
    "        dt['label'] = label\n",
    "        return dt\n",
    "    else:\n",
    "        df_label = oneHotEncoder(label)\n",
    "        # gabungin dataframenya\n",
    "        df = pd.concat([dt, df_label], axis=1)\n",
    "        return df"
   ]
  },
  {
   "cell_type": "code",
   "execution_count": 29,
   "metadata": {},
   "outputs": [],
   "source": [
    "# function feature to csv with label\n",
    "def save_to_csv(data):\n",
    "    now = datetime.now()\n",
    "    dt_string = now.strftime(\"%d-%m-%Y_%H-%M-%S\") + \"_feature.csv\"\n",
    "    data.to_csv(dt_string, header=True, index = False)"
   ]
  },
  {
   "cell_type": "code",
   "execution_count": 30,
   "metadata": {},
   "outputs": [],
   "source": [
    "# moment invariant\n",
    "data_im = mInvariant_mixin_feature_and_label(feature_im, label, encoder=False)"
   ]
  },
  {
   "cell_type": "code",
   "execution_count": null,
   "metadata": {},
   "outputs": [],
   "source": [
    "# glcm combine im\n",
    "data_glcm = df_glcm.drop(columns=[\"label\"])\n",
    "data2 = concatenate_feature(data_glcm, data_im, axis=1, rename_index=False)"
   ]
  },
  {
   "cell_type": "code",
   "execution_count": 33,
   "metadata": {},
   "outputs": [],
   "source": [
    "# save_to_csv(data_im)"
   ]
  },
  {
   "cell_type": "code",
   "execution_count": 31,
   "metadata": {},
   "outputs": [
    {
     "data": {
      "text/html": [
       "<div>\n",
       "<style scoped>\n",
       "    .dataframe tbody tr th:only-of-type {\n",
       "        vertical-align: middle;\n",
       "    }\n",
       "\n",
       "    .dataframe tbody tr th {\n",
       "        vertical-align: top;\n",
       "    }\n",
       "\n",
       "    .dataframe thead th {\n",
       "        text-align: right;\n",
       "    }\n",
       "</style>\n",
       "<table border=\"1\" class=\"dataframe\">\n",
       "  <thead>\n",
       "    <tr style=\"text-align: right;\">\n",
       "      <th></th>\n",
       "      <th>M1</th>\n",
       "      <th>M2</th>\n",
       "      <th>M3</th>\n",
       "      <th>M4</th>\n",
       "      <th>M5</th>\n",
       "      <th>M6</th>\n",
       "      <th>M7</th>\n",
       "      <th>label</th>\n",
       "    </tr>\n",
       "  </thead>\n",
       "  <tbody>\n",
       "    <tr>\n",
       "      <th>0</th>\n",
       "      <td>0.000811</td>\n",
       "      <td>3.754003e-09</td>\n",
       "      <td>1.012610e-13</td>\n",
       "      <td>3.743107e-13</td>\n",
       "      <td>7.259493e-26</td>\n",
       "      <td>1.615691e-17</td>\n",
       "      <td>6.365473e-27</td>\n",
       "      <td>a</td>\n",
       "    </tr>\n",
       "    <tr>\n",
       "      <th>1</th>\n",
       "      <td>0.000810</td>\n",
       "      <td>3.718497e-09</td>\n",
       "      <td>1.876618e-13</td>\n",
       "      <td>4.889818e-13</td>\n",
       "      <td>1.481005e-25</td>\n",
       "      <td>2.189295e-17</td>\n",
       "      <td>-2.668590e-27</td>\n",
       "      <td>a</td>\n",
       "    </tr>\n",
       "    <tr>\n",
       "      <th>2</th>\n",
       "      <td>0.000809</td>\n",
       "      <td>3.140893e-09</td>\n",
       "      <td>2.104193e-13</td>\n",
       "      <td>4.520823e-13</td>\n",
       "      <td>1.391068e-25</td>\n",
       "      <td>1.800322e-17</td>\n",
       "      <td>-9.548787e-27</td>\n",
       "      <td>a</td>\n",
       "    </tr>\n",
       "    <tr>\n",
       "      <th>3</th>\n",
       "      <td>0.000812</td>\n",
       "      <td>3.727553e-09</td>\n",
       "      <td>5.493144e-14</td>\n",
       "      <td>3.434100e-13</td>\n",
       "      <td>4.680824e-26</td>\n",
       "      <td>1.518252e-17</td>\n",
       "      <td>5.799136e-27</td>\n",
       "      <td>a</td>\n",
       "    </tr>\n",
       "    <tr>\n",
       "      <th>4</th>\n",
       "      <td>0.000812</td>\n",
       "      <td>3.561092e-09</td>\n",
       "      <td>6.282719e-14</td>\n",
       "      <td>3.487532e-13</td>\n",
       "      <td>5.162372e-26</td>\n",
       "      <td>1.523749e-17</td>\n",
       "      <td>1.493970e-28</td>\n",
       "      <td>a</td>\n",
       "    </tr>\n",
       "    <tr>\n",
       "      <th>...</th>\n",
       "      <td>...</td>\n",
       "      <td>...</td>\n",
       "      <td>...</td>\n",
       "      <td>...</td>\n",
       "      <td>...</td>\n",
       "      <td>...</td>\n",
       "      <td>...</td>\n",
       "      <td>...</td>\n",
       "    </tr>\n",
       "    <tr>\n",
       "      <th>8095</th>\n",
       "      <td>0.000915</td>\n",
       "      <td>7.192533e-09</td>\n",
       "      <td>8.602930e-13</td>\n",
       "      <td>7.110001e-12</td>\n",
       "      <td>-4.376506e-24</td>\n",
       "      <td>-5.213533e-16</td>\n",
       "      <td>1.703108e-23</td>\n",
       "      <td>yu</td>\n",
       "    </tr>\n",
       "    <tr>\n",
       "      <th>8096</th>\n",
       "      <td>0.000903</td>\n",
       "      <td>2.168113e-09</td>\n",
       "      <td>7.538334e-13</td>\n",
       "      <td>6.727534e-12</td>\n",
       "      <td>-2.044912e-24</td>\n",
       "      <td>-3.064958e-16</td>\n",
       "      <td>1.501167e-23</td>\n",
       "      <td>yu</td>\n",
       "    </tr>\n",
       "    <tr>\n",
       "      <th>8097</th>\n",
       "      <td>0.000908</td>\n",
       "      <td>4.187452e-09</td>\n",
       "      <td>4.997341e-13</td>\n",
       "      <td>6.580165e-12</td>\n",
       "      <td>-3.122308e-24</td>\n",
       "      <td>-3.883052e-16</td>\n",
       "      <td>1.151657e-23</td>\n",
       "      <td>yu</td>\n",
       "    </tr>\n",
       "    <tr>\n",
       "      <th>8098</th>\n",
       "      <td>0.000906</td>\n",
       "      <td>1.464943e-09</td>\n",
       "      <td>9.064897e-13</td>\n",
       "      <td>6.908521e-12</td>\n",
       "      <td>-9.933016e-25</td>\n",
       "      <td>-2.642237e-16</td>\n",
       "      <td>1.726001e-23</td>\n",
       "      <td>yu</td>\n",
       "    </tr>\n",
       "    <tr>\n",
       "      <th>8099</th>\n",
       "      <td>0.000906</td>\n",
       "      <td>1.718099e-09</td>\n",
       "      <td>5.726032e-13</td>\n",
       "      <td>6.540551e-12</td>\n",
       "      <td>-3.147791e-24</td>\n",
       "      <td>-2.623818e-16</td>\n",
       "      <td>1.225985e-23</td>\n",
       "      <td>yu</td>\n",
       "    </tr>\n",
       "  </tbody>\n",
       "</table>\n",
       "<p>8100 rows × 8 columns</p>\n",
       "</div>"
      ],
      "text/plain": [
       "            M1            M2            M3            M4            M5  \\\n",
       "0     0.000811  3.754003e-09  1.012610e-13  3.743107e-13  7.259493e-26   \n",
       "1     0.000810  3.718497e-09  1.876618e-13  4.889818e-13  1.481005e-25   \n",
       "2     0.000809  3.140893e-09  2.104193e-13  4.520823e-13  1.391068e-25   \n",
       "3     0.000812  3.727553e-09  5.493144e-14  3.434100e-13  4.680824e-26   \n",
       "4     0.000812  3.561092e-09  6.282719e-14  3.487532e-13  5.162372e-26   \n",
       "...        ...           ...           ...           ...           ...   \n",
       "8095  0.000915  7.192533e-09  8.602930e-13  7.110001e-12 -4.376506e-24   \n",
       "8096  0.000903  2.168113e-09  7.538334e-13  6.727534e-12 -2.044912e-24   \n",
       "8097  0.000908  4.187452e-09  4.997341e-13  6.580165e-12 -3.122308e-24   \n",
       "8098  0.000906  1.464943e-09  9.064897e-13  6.908521e-12 -9.933016e-25   \n",
       "8099  0.000906  1.718099e-09  5.726032e-13  6.540551e-12 -3.147791e-24   \n",
       "\n",
       "                M6            M7 label  \n",
       "0     1.615691e-17  6.365473e-27     a  \n",
       "1     2.189295e-17 -2.668590e-27     a  \n",
       "2     1.800322e-17 -9.548787e-27     a  \n",
       "3     1.518252e-17  5.799136e-27     a  \n",
       "4     1.523749e-17  1.493970e-28     a  \n",
       "...            ...           ...   ...  \n",
       "8095 -5.213533e-16  1.703108e-23    yu  \n",
       "8096 -3.064958e-16  1.501167e-23    yu  \n",
       "8097 -3.883052e-16  1.151657e-23    yu  \n",
       "8098 -2.642237e-16  1.726001e-23    yu  \n",
       "8099 -2.623818e-16  1.225985e-23    yu  \n",
       "\n",
       "[8100 rows x 8 columns]"
      ]
     },
     "execution_count": 31,
     "metadata": {},
     "output_type": "execute_result"
    }
   ],
   "source": [
    "data_im"
   ]
  },
  {
   "cell_type": "code",
   "execution_count": null,
   "metadata": {},
   "outputs": [],
   "source": []
  },
  {
   "cell_type": "code",
   "execution_count": null,
   "metadata": {},
   "outputs": [],
   "source": []
  },
  {
   "cell_type": "code",
   "execution_count": null,
   "metadata": {},
   "outputs": [],
   "source": []
  }
 ],
 "metadata": {
  "kernelspec": {
   "display_name": "Python 3",
   "language": "python",
   "name": "python3"
  },
  "language_info": {
   "codemirror_mode": {
    "name": "ipython",
    "version": 3
   },
   "file_extension": ".py",
   "mimetype": "text/x-python",
   "name": "python",
   "nbconvert_exporter": "python",
   "pygments_lexer": "ipython3",
   "version": "3.8.8"
  }
 },
 "nbformat": 4,
 "nbformat_minor": 4
}
